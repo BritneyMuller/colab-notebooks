{
  "nbformat": 4,
  "nbformat_minor": 0,
  "metadata": {
    "accelerator": "GPU",
    "colab": {
      "name": "Automate GSC Insights - Seerfest 2020",
      "provenance": [],
      "collapsed_sections": [],
      "include_colab_link": true
    },
    "kernelspec": {
      "display_name": "Python 3",
      "name": "python3"
    }
  },
  "cells": [
    {
      "cell_type": "markdown",
      "metadata": {
        "id": "view-in-github",
        "colab_type": "text"
      },
      "source": [
        "<a href=\"https://colab.research.google.com/github/BritneyMuller/colab-notebooks/blob/master/Seerfest%202020%20-%20Automating%20Insights.ipynb\" target=\"_parent\"><img src=\"https://colab.research.google.com/assets/colab-badge.svg\" alt=\"Open In Colab\"/></a>"
      ]
    },
    {
      "cell_type": "code",
      "metadata": {
        "cellView": "form",
        "id": "dOGPtWU6fAKR"
      },
      "source": [
        "#@title Import Libraries\n",
        "variable_name = \"\"\n",
        "#@Import Libraries\n",
        "import csv\n",
        "import json\n",
        "import requests\n",
        "import pandas as pd\n",
        "import numpy as np\n",
        "import seaborn as sns\n",
        "import matplotlib.pyplot as plt\n",
        "plt.style.use(\"ggplot\")\n",
        "import re\n",
        "from IPython.display import display"
      ],
      "execution_count": null,
      "outputs": []
    },
    {
      "cell_type": "code",
      "metadata": {
        "cellView": "form",
        "id": "TSOQ1M2kO1F_",
        "outputId": "a7e36072-ea90-4751-90a3-ec6e1dab0df2",
        "colab": {
          "resources": {
            "http://localhost:8080/nbextensions/google.colab/files.js": {
              "data": "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",
              "headers": [
                [
                  "content-type",
                  "application/javascript"
                ]
              ],
              "ok": true,
              "status": 200,
              "status_text": ""
            }
          },
          "base_uri": "https://localhost:8080/",
          "height": 38
        }
      },
      "source": [
        "#@title Upload GSC File\n",
        "#@test\n",
        "#@Upload GSC File\n",
        "from google.colab import files\n",
        "uploaded = files.upload()"
      ],
      "execution_count": null,
      "outputs": [
        {
          "output_type": "display_data",
          "data": {
            "text/html": [
              "\n",
              "     <input type=\"file\" id=\"files-1db1b13f-619b-4092-8094-d5778b234696\" name=\"files[]\" multiple disabled\n",
              "        style=\"border:none\" />\n",
              "     <output id=\"result-1db1b13f-619b-4092-8094-d5778b234696\">\n",
              "      Upload widget is only available when the cell has been executed in the\n",
              "      current browser session. Please rerun this cell to enable.\n",
              "      </output>\n",
              "      <script src=\"/nbextensions/google.colab/files.js\"></script> "
            ],
            "text/plain": [
              "<IPython.core.display.HTML object>"
            ]
          },
          "metadata": {
            "tags": []
          }
        }
      ]
    },
    {
      "cell_type": "markdown",
      "metadata": {
        "id": "DvhbitJsgn3A"
      },
      "source": [
        "#Upload data as \"df\" (dataframe)"
      ]
    },
    {
      "cell_type": "code",
      "metadata": {
        "id": "5bwFFew5O4_y"
      },
      "source": [
        "df = pd.read_csv(\"your-csv-name.csv\")"
      ],
      "execution_count": null,
      "outputs": []
    },
    {
      "cell_type": "markdown",
      "metadata": {
        "id": "B1d2HJG0gt4P"
      },
      "source": [
        "#Look at the first 5 lines (this includes the header)\n"
      ]
    },
    {
      "cell_type": "code",
      "metadata": {
        "id": "PAuO2kzLe5QU",
        "outputId": "4dd5e9dc-0b61-49cc-e344-6ae510f4382e",
        "colab": {
          "base_uri": "https://localhost:8080/",
          "height": 204
        }
      },
      "source": [
        "df.head()"
      ],
      "execution_count": null,
      "outputs": [
        {
          "output_type": "execute_result",
          "data": {
            "text/html": [
              "<div>\n",
              "<style scoped>\n",
              "    .dataframe tbody tr th:only-of-type {\n",
              "        vertical-align: middle;\n",
              "    }\n",
              "\n",
              "    .dataframe tbody tr th {\n",
              "        vertical-align: top;\n",
              "    }\n",
              "\n",
              "    .dataframe thead th {\n",
              "        text-align: right;\n",
              "    }\n",
              "</style>\n",
              "<table border=\"1\" class=\"dataframe\">\n",
              "  <thead>\n",
              "    <tr style=\"text-align: right;\">\n",
              "      <th></th>\n",
              "      <th>Query</th>\n",
              "      <th>Clicks</th>\n",
              "      <th>Average Position</th>\n",
              "      <th>Site CTR</th>\n",
              "      <th>Impressions</th>\n",
              "    </tr>\n",
              "  </thead>\n",
              "  <tbody>\n",
              "    <tr>\n",
              "      <th>0</th>\n",
              "      <td>seer interactive</td>\n",
              "      <td>3444</td>\n",
              "      <td>1.407144</td>\n",
              "      <td>0.597191</td>\n",
              "      <td>5767</td>\n",
              "    </tr>\n",
              "    <tr>\n",
              "      <th>1</th>\n",
              "      <td>google data studio</td>\n",
              "      <td>1352</td>\n",
              "      <td>8.237460</td>\n",
              "      <td>0.003478</td>\n",
              "      <td>388735</td>\n",
              "    </tr>\n",
              "    <tr>\n",
              "      <th>2</th>\n",
              "      <td>johari window exercise</td>\n",
              "      <td>992</td>\n",
              "      <td>1.128184</td>\n",
              "      <td>0.414196</td>\n",
              "      <td>2395</td>\n",
              "    </tr>\n",
              "    <tr>\n",
              "      <th>3</th>\n",
              "      <td>keywords everywhere</td>\n",
              "      <td>985</td>\n",
              "      <td>6.454694</td>\n",
              "      <td>0.006399</td>\n",
              "      <td>153930</td>\n",
              "    </tr>\n",
              "    <tr>\n",
              "      <th>4</th>\n",
              "      <td>google discovery</td>\n",
              "      <td>910</td>\n",
              "      <td>3.242859</td>\n",
              "      <td>0.060449</td>\n",
              "      <td>15054</td>\n",
              "    </tr>\n",
              "  </tbody>\n",
              "</table>\n",
              "</div>"
            ],
            "text/plain": [
              "                    Query  Clicks  Average Position  Site CTR  Impressions\n",
              "0        seer interactive    3444          1.407144  0.597191         5767\n",
              "1      google data studio    1352          8.237460  0.003478       388735\n",
              "2  johari window exercise     992          1.128184  0.414196         2395\n",
              "3     keywords everywhere     985          6.454694  0.006399       153930\n",
              "4        google discovery     910          3.242859  0.060449        15054"
            ]
          },
          "metadata": {
            "tags": []
          },
          "execution_count": 4
        }
      ]
    },
    {
      "cell_type": "markdown",
      "metadata": {
        "id": "EUNZpQBtXdN8"
      },
      "source": [
        "#Look at the last 5 lines (this also includes the header)"
      ]
    },
    {
      "cell_type": "code",
      "metadata": {
        "id": "sum4dPoukwW4",
        "outputId": "ca544bc3-67c1-4e97-a48c-760fb71758db",
        "colab": {
          "base_uri": "https://localhost:8080/",
          "height": 204
        }
      },
      "source": [
        "df.tail()"
      ],
      "execution_count": null,
      "outputs": [
        {
          "output_type": "execute_result",
          "data": {
            "text/html": [
              "<div>\n",
              "<style scoped>\n",
              "    .dataframe tbody tr th:only-of-type {\n",
              "        vertical-align: middle;\n",
              "    }\n",
              "\n",
              "    .dataframe tbody tr th {\n",
              "        vertical-align: top;\n",
              "    }\n",
              "\n",
              "    .dataframe thead th {\n",
              "        text-align: right;\n",
              "    }\n",
              "</style>\n",
              "<table border=\"1\" class=\"dataframe\">\n",
              "  <thead>\n",
              "    <tr style=\"text-align: right;\">\n",
              "      <th></th>\n",
              "      <th>Query</th>\n",
              "      <th>Clicks</th>\n",
              "      <th>Average Position</th>\n",
              "      <th>Site CTR</th>\n",
              "      <th>Impressions</th>\n",
              "    </tr>\n",
              "  </thead>\n",
              "  <tbody>\n",
              "    <tr>\n",
              "      <th>27900</th>\n",
              "      <td>url crawl</td>\n",
              "      <td>0</td>\n",
              "      <td>26.597458</td>\n",
              "      <td>0.0</td>\n",
              "      <td>236</td>\n",
              "    </tr>\n",
              "    <tr>\n",
              "      <th>27901</th>\n",
              "      <td>how to do outreach</td>\n",
              "      <td>0</td>\n",
              "      <td>78.058824</td>\n",
              "      <td>0.0</td>\n",
              "      <td>17</td>\n",
              "    </tr>\n",
              "    <tr>\n",
              "      <th>27902</th>\n",
              "      <td>keyword search terms</td>\n",
              "      <td>0</td>\n",
              "      <td>80.666667</td>\n",
              "      <td>0.0</td>\n",
              "      <td>6</td>\n",
              "    </tr>\n",
              "    <tr>\n",
              "      <th>27903</th>\n",
              "      <td>native adv</td>\n",
              "      <td>0</td>\n",
              "      <td>4.375000</td>\n",
              "      <td>0.0</td>\n",
              "      <td>8</td>\n",
              "    </tr>\n",
              "    <tr>\n",
              "      <th>27904</th>\n",
              "      <td>power bi query editor remove duplicates</td>\n",
              "      <td>0</td>\n",
              "      <td>5.800000</td>\n",
              "      <td>0.0</td>\n",
              "      <td>5</td>\n",
              "    </tr>\n",
              "  </tbody>\n",
              "</table>\n",
              "</div>"
            ],
            "text/plain": [
              "                                         Query  Clicks  ...  Site CTR  Impressions\n",
              "27900                                url crawl       0  ...       0.0          236\n",
              "27901                       how to do outreach       0  ...       0.0           17\n",
              "27902                     keyword search terms       0  ...       0.0            6\n",
              "27903                               native adv       0  ...       0.0            8\n",
              "27904  power bi query editor remove duplicates       0  ...       0.0            5\n",
              "\n",
              "[5 rows x 5 columns]"
            ]
          },
          "metadata": {
            "tags": []
          },
          "execution_count": 5
        }
      ]
    },
    {
      "cell_type": "markdown",
      "metadata": {
        "id": "9M-wgv-vwKqM"
      },
      "source": [
        "#Load Filter-able Data Table"
      ]
    },
    {
      "cell_type": "code",
      "metadata": {
        "id": "VnQX_Xs5o7uX"
      },
      "source": [
        " %load_ext google.colab.data_table\n",
        " df"
      ],
      "execution_count": null,
      "outputs": []
    },
    {
      "cell_type": "markdown",
      "metadata": {
        "id": "rAQcVHFCw8IC"
      },
      "source": [
        "A few interesting features of the data table display:\n",
        "\n",
        "- Clicking the <button>Filter</button> button in the upper right allows you to search for terms or values in any particular column.\n",
        "- Clicking on any column title lets you sort the results according to that column's value.\n",
        "- The table displays only a subset of the data at a time. You can navigate through pages of data using the controls on the lower right.\n"
      ]
    },
    {
      "cell_type": "markdown",
      "metadata": {
        "id": "jR9LZnwr8VZr"
      },
      "source": [
        "#Generate Histogram of Impressions"
      ]
    },
    {
      "cell_type": "code",
      "metadata": {
        "id": "DWJaso6f8tFQ",
        "outputId": "dbab1223-8cfb-40ba-8ae4-58480d610113",
        "colab": {
          "base_uri": "https://localhost:8080/",
          "height": 354
        }
      },
      "source": [
        "sns.distplot(df['Impressions'])"
      ],
      "execution_count": null,
      "outputs": [
        {
          "output_type": "stream",
          "text": [
            "/usr/local/lib/python3.6/dist-packages/seaborn/distributions.py:2551: FutureWarning: `distplot` is a deprecated function and will be removed in a future version. Please adapt your code to use either `displot` (a figure-level function with similar flexibility) or `histplot` (an axes-level function for histograms).\n",
            "  warnings.warn(msg, FutureWarning)\n"
          ],
          "name": "stderr"
        },
        {
          "output_type": "execute_result",
          "data": {
            "text/plain": [
              "<matplotlib.axes._subplots.AxesSubplot at 0x7f49b3164080>"
            ]
          },
          "metadata": {
            "tags": []
          },
          "execution_count": 33
        },
        {
          "output_type": "display_data",
          "data": {
            "image/png": "[encoded data removed]",
            "text/plain": [
              "<Figure size 432x288 with 1 Axes>"
            ]
          },
          "metadata": {
            "tags": []
          }
        }
      ]
    },
    {
      "cell_type": "markdown",
      "metadata": {
        "id": "xjSv8iZd5nW3"
      },
      "source": [
        "\n",
        "#Describe the Dataset"
      ]
    },
    {
      "cell_type": "code",
      "metadata": {
        "id": "XSWb5R955MgE",
        "outputId": "6f639701-c082-4b72-d1e3-374bc66f8431",
        "colab": {
          "base_uri": "https://localhost:8080/",
          "height": 390
        }
      },
      "source": [
        "df.describe(include='all')"
      ],
      "execution_count": null,
      "outputs": [
        {
          "output_type": "execute_result",
          "data": {
            "text/html": [
              "<div>\n",
              "<style scoped>\n",
              "    .dataframe tbody tr th:only-of-type {\n",
              "        vertical-align: middle;\n",
              "    }\n",
              "\n",
              "    .dataframe tbody tr th {\n",
              "        vertical-align: top;\n",
              "    }\n",
              "\n",
              "    .dataframe thead th {\n",
              "        text-align: right;\n",
              "    }\n",
              "</style>\n",
              "<table border=\"1\" class=\"dataframe\">\n",
              "  <thead>\n",
              "    <tr style=\"text-align: right;\">\n",
              "      <th></th>\n",
              "      <th>Query</th>\n",
              "      <th>Clicks</th>\n",
              "      <th>Average Position</th>\n",
              "      <th>Site CTR</th>\n",
              "      <th>Impressions</th>\n",
              "    </tr>\n",
              "  </thead>\n",
              "  <tbody>\n",
              "    <tr>\n",
              "      <th>count</th>\n",
              "      <td>27905</td>\n",
              "      <td>27905.000000</td>\n",
              "      <td>27905.000000</td>\n",
              "      <td>27905.000000</td>\n",
              "      <td>27905.000000</td>\n",
              "    </tr>\n",
              "    <tr>\n",
              "      <th>unique</th>\n",
              "      <td>27905</td>\n",
              "      <td>NaN</td>\n",
              "      <td>NaN</td>\n",
              "      <td>NaN</td>\n",
              "      <td>NaN</td>\n",
              "    </tr>\n",
              "    <tr>\n",
              "      <th>top</th>\n",
              "      <td>seo for mobile apps</td>\n",
              "      <td>NaN</td>\n",
              "      <td>NaN</td>\n",
              "      <td>NaN</td>\n",
              "      <td>NaN</td>\n",
              "    </tr>\n",
              "    <tr>\n",
              "      <th>freq</th>\n",
              "      <td>1</td>\n",
              "      <td>NaN</td>\n",
              "      <td>NaN</td>\n",
              "      <td>NaN</td>\n",
              "      <td>NaN</td>\n",
              "    </tr>\n",
              "    <tr>\n",
              "      <th>mean</th>\n",
              "      <td>NaN</td>\n",
              "      <td>2.523455</td>\n",
              "      <td>38.792771</td>\n",
              "      <td>0.139390</td>\n",
              "      <td>314.065114</td>\n",
              "    </tr>\n",
              "    <tr>\n",
              "      <th>std</th>\n",
              "      <td>NaN</td>\n",
              "      <td>28.043182</td>\n",
              "      <td>35.250051</td>\n",
              "      <td>0.291771</td>\n",
              "      <td>4075.845007</td>\n",
              "    </tr>\n",
              "    <tr>\n",
              "      <th>min</th>\n",
              "      <td>NaN</td>\n",
              "      <td>0.000000</td>\n",
              "      <td>1.000000</td>\n",
              "      <td>0.000000</td>\n",
              "      <td>1.000000</td>\n",
              "    </tr>\n",
              "    <tr>\n",
              "      <th>25%</th>\n",
              "      <td>NaN</td>\n",
              "      <td>0.000000</td>\n",
              "      <td>8.080000</td>\n",
              "      <td>0.000000</td>\n",
              "      <td>6.000000</td>\n",
              "    </tr>\n",
              "    <tr>\n",
              "      <th>50%</th>\n",
              "      <td>NaN</td>\n",
              "      <td>0.000000</td>\n",
              "      <td>28.968750</td>\n",
              "      <td>0.000000</td>\n",
              "      <td>17.000000</td>\n",
              "    </tr>\n",
              "    <tr>\n",
              "      <th>75%</th>\n",
              "      <td>NaN</td>\n",
              "      <td>1.000000</td>\n",
              "      <td>66.750000</td>\n",
              "      <td>0.058824</td>\n",
              "      <td>104.000000</td>\n",
              "    </tr>\n",
              "    <tr>\n",
              "      <th>max</th>\n",
              "      <td>NaN</td>\n",
              "      <td>3444.000000</td>\n",
              "      <td>319.300000</td>\n",
              "      <td>1.000000</td>\n",
              "      <td>388735.000000</td>\n",
              "    </tr>\n",
              "  </tbody>\n",
              "</table>\n",
              "</div>"
            ],
            "text/plain": [
              "                      Query        Clicks  ...      Site CTR    Impressions\n",
              "count                 27905  27905.000000  ...  27905.000000   27905.000000\n",
              "unique                27905           NaN  ...           NaN            NaN\n",
              "top     seo for mobile apps           NaN  ...           NaN            NaN\n",
              "freq                      1           NaN  ...           NaN            NaN\n",
              "mean                    NaN      2.523455  ...      0.139390     314.065114\n",
              "std                     NaN     28.043182  ...      0.291771    4075.845007\n",
              "min                     NaN      0.000000  ...      0.000000       1.000000\n",
              "25%                     NaN      0.000000  ...      0.000000       6.000000\n",
              "50%                     NaN      0.000000  ...      0.000000      17.000000\n",
              "75%                     NaN      1.000000  ...      0.058824     104.000000\n",
              "max                     NaN   3444.000000  ...      1.000000  388735.000000\n",
              "\n",
              "[11 rows x 5 columns]"
            ]
          },
          "metadata": {
            "tags": []
          },
          "execution_count": 5
        }
      ]
    },
    {
      "cell_type": "markdown",
      "metadata": {
        "id": "srvoYLNjwSzT"
      },
      "source": [
        "#Drop all rows with Impressions < 17"
      ]
    },
    {
      "cell_type": "code",
      "metadata": {
        "id": "nWKKwMxMwXBC"
      },
      "source": [
        "df.drop(df.loc[df['Impressions']<17].index, inplace=True)"
      ],
      "execution_count": null,
      "outputs": []
    },
    {
      "cell_type": "markdown",
      "metadata": {
        "id": "lEDVulKqw6nW"
      },
      "source": [
        "#Reevaluate Distribution:"
      ]
    },
    {
      "cell_type": "code",
      "metadata": {
        "id": "oCk-xfKLw9hS"
      },
      "source": [
        "sns.distplot(df['Impressions'])"
      ],
      "execution_count": null,
      "outputs": []
    },
    {
      "cell_type": "code",
      "metadata": {
        "id": "zF3S7tlGxCgg"
      },
      "source": [
        "df.describe(include='all')"
      ],
      "execution_count": null,
      "outputs": []
    },
    {
      "cell_type": "markdown",
      "metadata": {
        "id": "z9GaE8SJi89u"
      },
      "source": [
        "##Find all Queries that include 'power bi'\n"
      ]
    },
    {
      "cell_type": "code",
      "metadata": {
        "id": "LbuhQAbvhk_P",
        "outputId": "877bbf11-743d-4e06-87ed-fd487031f88e",
        "colab": {
          "base_uri": "https://localhost:8080/",
          "height": 419
        }
      },
      "source": [
        "df_filtered = df[(df['Query'].str.contains(\"power bi\", regex=True)==True)]\n",
        "df_filtered.head(100)"
      ],
      "execution_count": null,
      "outputs": [
        {
          "output_type": "execute_result",
          "data": {
            "text/html": [
              "<div>\n",
              "<style scoped>\n",
              "    .dataframe tbody tr th:only-of-type {\n",
              "        vertical-align: middle;\n",
              "    }\n",
              "\n",
              "    .dataframe tbody tr th {\n",
              "        vertical-align: top;\n",
              "    }\n",
              "\n",
              "    .dataframe thead th {\n",
              "        text-align: right;\n",
              "    }\n",
              "</style>\n",
              "<table border=\"1\" class=\"dataframe\">\n",
              "  <thead>\n",
              "    <tr style=\"text-align: right;\">\n",
              "      <th></th>\n",
              "      <th>Query</th>\n",
              "      <th>Clicks</th>\n",
              "      <th>Average Position</th>\n",
              "      <th>Site CTR</th>\n",
              "      <th>Impressions</th>\n",
              "    </tr>\n",
              "  </thead>\n",
              "  <tbody>\n",
              "    <tr>\n",
              "      <th>10</th>\n",
              "      <td>power bi sort legend</td>\n",
              "      <td>430</td>\n",
              "      <td>1.017974</td>\n",
              "      <td>0.702614</td>\n",
              "      <td>612</td>\n",
              "    </tr>\n",
              "    <tr>\n",
              "      <th>28</th>\n",
              "      <td>sort legend power bi</td>\n",
              "      <td>201</td>\n",
              "      <td>1.013072</td>\n",
              "      <td>0.656863</td>\n",
              "      <td>306</td>\n",
              "    </tr>\n",
              "    <tr>\n",
              "      <th>36</th>\n",
              "      <td>power bi legend order</td>\n",
              "      <td>181</td>\n",
              "      <td>1.229236</td>\n",
              "      <td>0.601329</td>\n",
              "      <td>301</td>\n",
              "    </tr>\n",
              "    <tr>\n",
              "      <th>40</th>\n",
              "      <td>power bi bridge table</td>\n",
              "      <td>172</td>\n",
              "      <td>1.037647</td>\n",
              "      <td>0.404706</td>\n",
              "      <td>425</td>\n",
              "    </tr>\n",
              "    <tr>\n",
              "      <th>44</th>\n",
              "      <td>power bi change order of legend</td>\n",
              "      <td>159</td>\n",
              "      <td>1.068966</td>\n",
              "      <td>0.685345</td>\n",
              "      <td>232</td>\n",
              "    </tr>\n",
              "    <tr>\n",
              "      <th>...</th>\n",
              "      <td>...</td>\n",
              "      <td>...</td>\n",
              "      <td>...</td>\n",
              "      <td>...</td>\n",
              "      <td>...</td>\n",
              "    </tr>\n",
              "    <tr>\n",
              "      <th>1089</th>\n",
              "      <td>power bi - custom sort</td>\n",
              "      <td>11</td>\n",
              "      <td>1.500000</td>\n",
              "      <td>0.500000</td>\n",
              "      <td>22</td>\n",
              "    </tr>\n",
              "    <tr>\n",
              "      <th>1093</th>\n",
              "      <td>power bi order legend by value</td>\n",
              "      <td>11</td>\n",
              "      <td>1.076923</td>\n",
              "      <td>0.846154</td>\n",
              "      <td>13</td>\n",
              "    </tr>\n",
              "    <tr>\n",
              "      <th>1099</th>\n",
              "      <td>how to create power bi template</td>\n",
              "      <td>11</td>\n",
              "      <td>2.833333</td>\n",
              "      <td>0.611111</td>\n",
              "      <td>18</td>\n",
              "    </tr>\n",
              "    <tr>\n",
              "      <th>1100</th>\n",
              "      <td>many to many in power bi</td>\n",
              "      <td>11</td>\n",
              "      <td>2.000000</td>\n",
              "      <td>0.846154</td>\n",
              "      <td>13</td>\n",
              "    </tr>\n",
              "    <tr>\n",
              "      <th>1115</th>\n",
              "      <td>power bi pie chart legend order</td>\n",
              "      <td>11</td>\n",
              "      <td>1.466667</td>\n",
              "      <td>0.733333</td>\n",
              "      <td>15</td>\n",
              "    </tr>\n",
              "  </tbody>\n",
              "</table>\n",
              "<p>100 rows × 5 columns</p>\n",
              "</div>"
            ],
            "text/plain": [
              "                                Query  Clicks  ...  Site CTR  Impressions\n",
              "10               power bi sort legend     430  ...  0.702614          612\n",
              "28               sort legend power bi     201  ...  0.656863          306\n",
              "36              power bi legend order     181  ...  0.601329          301\n",
              "40              power bi bridge table     172  ...  0.404706          425\n",
              "44    power bi change order of legend     159  ...  0.685345          232\n",
              "...                               ...     ...  ...       ...          ...\n",
              "1089           power bi - custom sort      11  ...  0.500000           22\n",
              "1093   power bi order legend by value      11  ...  0.846154           13\n",
              "1099  how to create power bi template      11  ...  0.611111           18\n",
              "1100         many to many in power bi      11  ...  0.846154           13\n",
              "1115  power bi pie chart legend order      11  ...  0.733333           15\n",
              "\n",
              "[100 rows x 5 columns]"
            ]
          },
          "metadata": {
            "tags": []
          },
          "execution_count": 7
        }
      ]
    },
    {
      "cell_type": "markdown",
      "metadata": {
        "id": "mRxd3HcGRkK4"
      },
      "source": [
        "#Rename Column Headers\n",
        "\n",
        "The following column names below changed to:\n",
        "\n",
        "Query_column=\"Keyword\"\n",
        "Position_column=\"Rank\"\n",
        "CTR_column=\"CTR\"\n",
        "\n",
        "You can change these to whatever you'd like but make sure to modify any correlating code below."
      ]
    },
    {
      "cell_type": "code",
      "metadata": {
        "id": "1636hMVkQ43k"
      },
      "source": [
        "\n",
        "df=df.rename(columns={'Query':'Keyword','Average Position':'Rank', 'Site CTR':'CTR'})\n"
      ],
      "execution_count": null,
      "outputs": []
    },
    {
      "cell_type": "code",
      "metadata": {
        "id": "XZ6pKRNlRuyD",
        "outputId": "e6617d64-0928-4136-ca73-1421941cd4a0",
        "colab": {
          "base_uri": "https://localhost:8080/",
          "height": 419
        }
      },
      "source": [
        "df"
      ],
      "execution_count": null,
      "outputs": [
        {
          "output_type": "execute_result",
          "data": {
            "text/html": [
              "<div>\n",
              "<style scoped>\n",
              "    .dataframe tbody tr th:only-of-type {\n",
              "        vertical-align: middle;\n",
              "    }\n",
              "\n",
              "    .dataframe tbody tr th {\n",
              "        vertical-align: top;\n",
              "    }\n",
              "\n",
              "    .dataframe thead th {\n",
              "        text-align: right;\n",
              "    }\n",
              "</style>\n",
              "<table border=\"1\" class=\"dataframe\">\n",
              "  <thead>\n",
              "    <tr style=\"text-align: right;\">\n",
              "      <th></th>\n",
              "      <th>Query</th>\n",
              "      <th>Clicks</th>\n",
              "      <th>Average Position</th>\n",
              "      <th>Site CTR</th>\n",
              "      <th>Impressions</th>\n",
              "    </tr>\n",
              "  </thead>\n",
              "  <tbody>\n",
              "    <tr>\n",
              "      <th>0</th>\n",
              "      <td>seer interactive</td>\n",
              "      <td>3444</td>\n",
              "      <td>1.407144</td>\n",
              "      <td>0.597191</td>\n",
              "      <td>5767</td>\n",
              "    </tr>\n",
              "    <tr>\n",
              "      <th>1</th>\n",
              "      <td>google data studio</td>\n",
              "      <td>1352</td>\n",
              "      <td>8.237460</td>\n",
              "      <td>0.003478</td>\n",
              "      <td>388735</td>\n",
              "    </tr>\n",
              "    <tr>\n",
              "      <th>2</th>\n",
              "      <td>johari window exercise</td>\n",
              "      <td>992</td>\n",
              "      <td>1.128184</td>\n",
              "      <td>0.414196</td>\n",
              "      <td>2395</td>\n",
              "    </tr>\n",
              "    <tr>\n",
              "      <th>3</th>\n",
              "      <td>keywords everywhere</td>\n",
              "      <td>985</td>\n",
              "      <td>6.454694</td>\n",
              "      <td>0.006399</td>\n",
              "      <td>153930</td>\n",
              "    </tr>\n",
              "    <tr>\n",
              "      <th>4</th>\n",
              "      <td>google discovery</td>\n",
              "      <td>910</td>\n",
              "      <td>3.242859</td>\n",
              "      <td>0.060449</td>\n",
              "      <td>15054</td>\n",
              "    </tr>\n",
              "    <tr>\n",
              "      <th>...</th>\n",
              "      <td>...</td>\n",
              "      <td>...</td>\n",
              "      <td>...</td>\n",
              "      <td>...</td>\n",
              "      <td>...</td>\n",
              "    </tr>\n",
              "    <tr>\n",
              "      <th>27900</th>\n",
              "      <td>url crawl</td>\n",
              "      <td>0</td>\n",
              "      <td>26.597458</td>\n",
              "      <td>0.000000</td>\n",
              "      <td>236</td>\n",
              "    </tr>\n",
              "    <tr>\n",
              "      <th>27901</th>\n",
              "      <td>how to do outreach</td>\n",
              "      <td>0</td>\n",
              "      <td>78.058824</td>\n",
              "      <td>0.000000</td>\n",
              "      <td>17</td>\n",
              "    </tr>\n",
              "    <tr>\n",
              "      <th>27902</th>\n",
              "      <td>keyword search terms</td>\n",
              "      <td>0</td>\n",
              "      <td>80.666667</td>\n",
              "      <td>0.000000</td>\n",
              "      <td>6</td>\n",
              "    </tr>\n",
              "    <tr>\n",
              "      <th>27903</th>\n",
              "      <td>native adv</td>\n",
              "      <td>0</td>\n",
              "      <td>4.375000</td>\n",
              "      <td>0.000000</td>\n",
              "      <td>8</td>\n",
              "    </tr>\n",
              "    <tr>\n",
              "      <th>27904</th>\n",
              "      <td>power bi query editor remove duplicates</td>\n",
              "      <td>0</td>\n",
              "      <td>5.800000</td>\n",
              "      <td>0.000000</td>\n",
              "      <td>5</td>\n",
              "    </tr>\n",
              "  </tbody>\n",
              "</table>\n",
              "<p>27905 rows × 5 columns</p>\n",
              "</div>"
            ],
            "text/plain": [
              "                                         Query  Clicks  ...  Site CTR  Impressions\n",
              "0                             seer interactive    3444  ...  0.597191         5767\n",
              "1                           google data studio    1352  ...  0.003478       388735\n",
              "2                       johari window exercise     992  ...  0.414196         2395\n",
              "3                          keywords everywhere     985  ...  0.006399       153930\n",
              "4                             google discovery     910  ...  0.060449        15054\n",
              "...                                        ...     ...  ...       ...          ...\n",
              "27900                                url crawl       0  ...  0.000000          236\n",
              "27901                       how to do outreach       0  ...  0.000000           17\n",
              "27902                     keyword search terms       0  ...  0.000000            6\n",
              "27903                               native adv       0  ...  0.000000            8\n",
              "27904  power bi query editor remove duplicates       0  ...  0.000000            5\n",
              "\n",
              "[27905 rows x 5 columns]"
            ]
          },
          "metadata": {
            "tags": []
          },
          "execution_count": 18
        }
      ]
    },
    {
      "cell_type": "markdown",
      "metadata": {
        "id": "7dIbFPqaTFXC"
      },
      "source": [
        "#Collect all branded keywords"
      ]
    },
    {
      "cell_type": "code",
      "metadata": {
        "id": "PNBc3qgQTH1Z"
      },
      "source": [
        "df_branded = df[(df['Keyword'].str.contains(\"seer|wil|reynolds\", regex=True)==True)]\n"
      ],
      "execution_count": null,
      "outputs": []
    },
    {
      "cell_type": "code",
      "metadata": {
        "id": "wPRalE3WTQfr",
        "outputId": "e642708e-994b-4244-c566-3d19a34b2186",
        "colab": {
          "base_uri": "https://localhost:8080/",
          "height": 789
        }
      },
      "source": [
        "df_branded"
      ],
      "execution_count": null,
      "outputs": [
        {
          "output_type": "execute_result",
          "data": {
            "application/vnd.google.colaboratory.module+javascript": "\n      import \"https://ssl.gstatic.com/colaboratory/data_table/a6224c040fa35dcf/data_table.js\";\n\n      window.createDataTable({\n        data: [[{\n            'v': 0,\n            'f': \"0\",\n        },\n\"seer interactive\",\n{\n            'v': 3444,\n            'f': \"3444\",\n        },\n{\n            'v': 1.40714409571701,\n            'f': \"1.40714409571701\",\n        },\n{\n            'v': 0.59719091382001,\n            'f': \"0.59719091382001\",\n        },\n{\n            'v': 5767,\n            'f': \"5767\",\n        }],\n [{\n            'v': 45,\n            'f': \"45\",\n        },\n\"seer interactive careers\",\n{\n            'v': 157,\n            'f': \"157\",\n        },\n{\n            'v': 1.00471698113208,\n            'f': \"1.00471698113208\",\n        },\n{\n            'v': 0.740566037735849,\n            'f': \"0.740566037735849\",\n        },\n{\n            'v': 212,\n            'f': \"212\",\n        }],\n [{\n            'v': 59,\n            'f': \"59\",\n        },\n\"seerinteractive\",\n{\n            'v': 129,\n            'f': \"129\",\n        },\n{\n            'v': 1.0,\n            'f': \"1.0\",\n        },\n{\n            'v': 0.763313609467456,\n            'f': \"0.763313609467456\",\n        },\n{\n            'v': 169,\n            'f': \"169\",\n        }],\n [{\n            'v': 60,\n            'f': \"60\",\n        },\n\"wil reynolds\",\n{\n            'v': 129,\n            'f': \"129\",\n        },\n{\n            'v': 1.9896265560166,\n            'f': \"1.9896265560166\",\n        },\n{\n            'v': 0.133817427385892,\n            'f': \"0.133817427385892\",\n        },\n{\n            'v': 964,\n            'f': \"964\",\n        }],\n [{\n            'v': 86,\n            'f': \"86\",\n        },\n\"seer seo\",\n{\n            'v': 100,\n            'f': \"100\",\n        },\n{\n            'v': 1.0,\n            'f': \"1.0\",\n        },\n{\n            'v': 0.709219858156028,\n            'f': \"0.709219858156028\",\n        },\n{\n            'v': 141,\n            'f': \"141\",\n        }],\n [{\n            'v': 87,\n            'f': \"87\",\n        },\n\"seer careers\",\n{\n            'v': 98,\n            'f': \"98\",\n        },\n{\n            'v': 1.32666666666667,\n            'f': \"1.32666666666667\",\n        },\n{\n            'v': 0.653333333333333,\n            'f': \"0.653333333333333\",\n        },\n{\n            'v': 150,\n            'f': \"150\",\n        }],\n [{\n            'v': 97,\n            'f': \"97\",\n        },\n\"seer marketing\",\n{\n            'v': 92,\n            'f': \"92\",\n        },\n{\n            'v': 1.0,\n            'f': \"1.0\",\n        },\n{\n            'v': 0.601307189542484,\n            'f': \"0.601307189542484\",\n        },\n{\n            'v': 153,\n            'f': \"153\",\n        }],\n [{\n            'v': 100,\n            'f': \"100\",\n        },\n\"seer agency\",\n{\n            'v': 89,\n            'f': \"89\",\n        },\n{\n            'v': 1.0,\n            'f': \"1.0\",\n        },\n{\n            'v': 0.735537190082645,\n            'f': \"0.735537190082645\",\n        },\n{\n            'v': 121,\n            'f': \"121\",\n        }],\n [{\n            'v': 128,\n            'f': \"128\",\n        },\n\"seer interactive blog\",\n{\n            'v': 72,\n            'f': \"72\",\n        },\n{\n            'v': 6.25173210161663,\n            'f': \"6.25173210161663\",\n        },\n{\n            'v': 0.166281755196305,\n            'f': \"0.166281755196305\",\n        },\n{\n            'v': 433,\n            'f': \"433\",\n        }],\n [{\n            'v': 133,\n            'f': \"133\",\n        },\n\"seer blog\",\n{\n            'v': 68,\n            'f': \"68\",\n        },\n{\n            'v': 1.00480769230769,\n            'f': \"1.00480769230769\",\n        },\n{\n            'v': 0.326923076923077,\n            'f': \"0.326923076923077\",\n        },\n{\n            'v': 208,\n            'f': \"208\",\n        }],\n [{\n            'v': 189,\n            'f': \"189\",\n        },\n\"seer philadelphia\",\n{\n            'v': 51,\n            'f': \"51\",\n        },\n{\n            'v': 2.32978723404255,\n            'f': \"2.32978723404255\",\n        },\n{\n            'v': 0.542553191489362,\n            'f': \"0.542553191489362\",\n        },\n{\n            'v': 94,\n            'f': \"94\",\n        }],\n [{\n            'v': 193,\n            'f': \"193\",\n        },\n\"seer interactive san diego\",\n{\n            'v': 50,\n            'f': \"50\",\n        },\n{\n            'v': 1.65420560747664,\n            'f': \"1.65420560747664\",\n        },\n{\n            'v': 0.467289719626168,\n            'f': \"0.467289719626168\",\n        },\n{\n            'v': 107,\n            'f': \"107\",\n        }],\n [{\n            'v': 195,\n            'f': \"195\",\n        },\n\"seer interactive philadelphia\",\n{\n            'v': 49,\n            'f': \"49\",\n        },\n{\n            'v': 1.93103448275862,\n            'f': \"1.93103448275862\",\n        },\n{\n            'v': 0.563218390804598,\n            'f': \"0.563218390804598\",\n        },\n{\n            'v': 87,\n            'f': \"87\",\n        }],\n [{\n            'v': 210,\n            'f': \"210\",\n        },\n\"seer digital marketing\",\n{\n            'v': 47,\n            'f': \"47\",\n        },\n{\n            'v': 1.0,\n            'f': \"1.0\",\n        },\n{\n            'v': 0.854545454545455,\n            'f': \"0.854545454545455\",\n        },\n{\n            'v': 55,\n            'f': \"55\",\n        }],\n [{\n            'v': 251,\n            'f': \"251\",\n        },\n\"seer interactive jobs\",\n{\n            'v': 41,\n            'f': \"41\",\n        },\n{\n            'v': 1.1830985915493,\n            'f': \"1.1830985915493\",\n        },\n{\n            'v': 0.577464788732394,\n            'f': \"0.577464788732394\",\n        },\n{\n            'v': 71,\n            'f': \"71\",\n        }],\n [{\n            'v': 301,\n            'f': \"301\",\n        },\n\"seer interactive internship\",\n{\n            'v': 35,\n            'f': \"35\",\n        },\n{\n            'v': 1.125,\n            'f': \"1.125\",\n        },\n{\n            'v': 0.729166666666667,\n            'f': \"0.729166666666667\",\n        },\n{\n            'v': 48,\n            'f': \"48\",\n        }],\n [{\n            'v': 353,\n            'f': \"353\",\n        },\n\"seer san diego\",\n{\n            'v': 31,\n            'f': \"31\",\n        },\n{\n            'v': 2.4583333333333304,\n            'f': \"2.4583333333333304\",\n        },\n{\n            'v': 0.645833333333333,\n            'f': \"0.645833333333333\",\n        },\n{\n            'v': 48,\n            'f': \"48\",\n        }],\n [{\n            'v': 386,\n            'f': \"386\",\n        },\n\"will reynolds\",\n{\n            'v': 29,\n            'f': \"29\",\n        },\n{\n            'v': 6.55757026291931,\n            'f': \"6.55757026291931\",\n        },\n{\n            'v': 0.0262919310970082,\n            'f': \"0.0262919310970082\",\n        },\n{\n            'v': 1103,\n            'f': \"1103\",\n        }],\n [{\n            'v': 402,\n            'f': \"402\",\n        },\n\"seer team\",\n{\n            'v': 28,\n            'f': \"28\",\n        },\n{\n            'v': 1.24242424242424,\n            'f': \"1.24242424242424\",\n        },\n{\n            'v': 0.848484848484849,\n            'f': \"0.848484848484849\",\n        },\n{\n            'v': 33,\n            'f': \"33\",\n        }],\n [{\n            'v': 439,\n            'f': \"439\",\n        },\n\"seer interactive screaming frog\",\n{\n            'v': 26,\n            'f': \"26\",\n        },\n{\n            'v': 1.0,\n            'f': \"1.0\",\n        },\n{\n            'v': 0.962962962962963,\n            'f': \"0.962962962962963\",\n        },\n{\n            'v': 27,\n            'f': \"27\",\n        }],\n [{\n            'v': 444,\n            'f': \"444\",\n        },\n\"will reynolds seer\",\n{\n            'v': 26,\n            'f': \"26\",\n        },\n{\n            'v': 1.00591715976331,\n            'f': \"1.00591715976331\",\n        },\n{\n            'v': 0.153846153846154,\n            'f': \"0.153846153846154\",\n        },\n{\n            'v': 169,\n            'f': \"169\",\n        }],\n [{\n            'v': 496,\n            'f': \"496\",\n        },\n\"seer jobs\",\n{\n            'v': 24,\n            'f': \"24\",\n        },\n{\n            'v': 1.7179487179487198,\n            'f': \"1.7179487179487198\",\n        },\n{\n            'v': 0.615384615384615,\n            'f': \"0.615384615384615\",\n        },\n{\n            'v': 39,\n            'f': \"39\",\n        }],\n [{\n            'v': 603,\n            'f': \"603\",\n        },\n\"wil reynolds seer\",\n{\n            'v': 20,\n            'f': \"20\",\n        },\n{\n            'v': 1.0,\n            'f': \"1.0\",\n        },\n{\n            'v': 0.117647058823529,\n            'f': \"0.117647058823529\",\n        },\n{\n            'v': 170,\n            'f': \"170\",\n        }],\n [{\n            'v': 690,\n            'f': \"690\",\n        },\n\"seer media\",\n{\n            'v': 17,\n            'f': \"17\",\n        },\n{\n            'v': 1.48387096774194,\n            'f': \"1.48387096774194\",\n        },\n{\n            'v': 0.548387096774194,\n            'f': \"0.548387096774194\",\n        },\n{\n            'v': 31,\n            'f': \"31\",\n        }],\n [{\n            'v': 752,\n            'f': \"752\",\n        },\n\"will reynolds seo\",\n{\n            'v': 16,\n            'f': \"16\",\n        },\n{\n            'v': 1.05333333333333,\n            'f': \"1.05333333333333\",\n        },\n{\n            'v': 0.0711111111111111,\n            'f': \"0.0711111111111111\",\n        },\n{\n            'v': 225,\n            'f': \"225\",\n        }],\n [{\n            'v': 753,\n            'f': \"753\",\n        },\n\"wil reynolds seer interactive\",\n{\n            'v': 16,\n            'f': \"16\",\n        },\n{\n            'v': 1.01369863013699,\n            'f': \"1.01369863013699\",\n        },\n{\n            'v': 0.10958904109589,\n            'f': \"0.10958904109589\",\n        },\n{\n            'v': 146,\n            'f': \"146\",\n        }],\n [{\n            'v': 1026,\n            'f': \"1026\",\n        },\n\"seer interactive ceo\",\n{\n            'v': 12,\n            'f': \"12\",\n        },\n{\n            'v': 1.9882352941176498,\n            'f': \"1.9882352941176498\",\n        },\n{\n            'v': 0.0705882352941177,\n            'f': \"0.0705882352941177\",\n        },\n{\n            'v': 170,\n            'f': \"170\",\n        }],\n [{\n            'v': 1091,\n            'f': \"1091\",\n        },\n\"seerinteractive.com\",\n{\n            'v': 11,\n            'f': \"11\",\n        },\n{\n            'v': 1.0,\n            'f': \"1.0\",\n        },\n{\n            'v': 0.647058823529412,\n            'f': \"0.647058823529412\",\n        },\n{\n            'v': 17,\n            'f': \"17\",\n        }],\n [{\n            'v': 1153,\n            'f': \"1153\",\n        },\n\"wil reynolds seo\",\n{\n            'v': 10,\n            'f': \"10\",\n        },\n{\n            'v': 1.1875,\n            'f': \"1.1875\",\n        },\n{\n            'v': 0.625,\n            'f': \"0.625\",\n        },\n{\n            'v': 16,\n            'f': \"16\",\n        }],\n [{\n            'v': 1302,\n            'f': \"1302\",\n        },\n\"seer media group\",\n{\n            'v': 9,\n            'f': \"9\",\n        },\n{\n            'v': 2.1,\n            'f': \"2.1\",\n        },\n{\n            'v': 0.45,\n            'f': \"0.45\",\n        },\n{\n            'v': 20,\n            'f': \"20\",\n        }],\n [{\n            'v': 1366,\n            'f': \"1366\",\n        },\n\"when will be the changes in google ads from accelerated delivery to standard delivery takes place\",\n{\n            'v': 8,\n            'f': \"8\",\n        },\n{\n            'v': 3.95402298850575,\n            'f': \"3.95402298850575\",\n        },\n{\n            'v': 0.0919540229885058,\n            'f': \"0.0919540229885058\",\n        },\n{\n            'v': 87,\n            'f': \"87\",\n        }],\n [{\n            'v': 1513,\n            'f': \"1513\",\n        },\n\"seer.com\",\n{\n            'v': 7,\n            'f': \"7\",\n        },\n{\n            'v': 3.5,\n            'f': \"3.5\",\n        },\n{\n            'v': 0.116666666666667,\n            'f': \"0.116666666666667\",\n        },\n{\n            'v': 60,\n            'f': \"60\",\n        }],\n [{\n            'v': 1603,\n            'f': \"1603\",\n        },\n\"larissa williams\",\n{\n            'v': 7,\n            'f': \"7\",\n        },\n{\n            'v': 7.4041450777202105,\n            'f': \"7.4041450777202105\",\n        },\n{\n            'v': 0.0362694300518135,\n            'f': \"0.0362694300518135\",\n        },\n{\n            'v': 193,\n            'f': \"193\",\n        }],\n [{\n            'v': 1605,\n            'f': \"1605\",\n        },\n\"seer analytics\",\n{\n            'v': 7,\n            'f': \"7\",\n        },\n{\n            'v': 3.97959183673469,\n            'f': \"3.97959183673469\",\n        },\n{\n            'v': 0.0714285714285714,\n            'f': \"0.0714285714285714\",\n        },\n{\n            'v': 98,\n            'f': \"98\",\n        }],\n [{\n            'v': 2068,\n            'f': \"2068\",\n        },\n\"seer interactive salary\",\n{\n            'v': 5,\n            'f': \"5\",\n        },\n{\n            'v': 4.2222222222222205,\n            'f': \"4.2222222222222205\",\n        },\n{\n            'v': 0.555555555555556,\n            'f': \"0.555555555555556\",\n        },\n{\n            'v': 9,\n            'f': \"9\",\n        }],\n [{\n            'v': 3334,\n            'f': \"3334\",\n        },\n\"seer company\",\n{\n            'v': 3,\n            'f': \"3\",\n        },\n{\n            'v': 7.7952380952380995,\n            'f': \"7.7952380952380995\",\n        },\n{\n            'v': 0.007142857142857141,\n            'f': \"0.007142857142857141\",\n        },\n{\n            'v': 420,\n            'f': \"420\",\n        }],\n [{\n            'v': 3881,\n            'f': \"3881\",\n        },\n\"william bravo\",\n{\n            'v': 2,\n            'f': \"2\",\n        },\n{\n            'v': 4.72413793103448,\n            'f': \"4.72413793103448\",\n        },\n{\n            'v': 0.0689655172413793,\n            'f': \"0.0689655172413793\",\n        },\n{\n            'v': 29,\n            'f': \"29\",\n        }],\n [{\n            'v': 3979,\n            'f': \"3979\",\n        },\n\"seer design\",\n{\n            'v': 2,\n            'f': \"2\",\n        },\n{\n            'v': 10.125,\n            'f': \"10.125\",\n        },\n{\n            'v': 0.25,\n            'f': \"0.25\",\n        },\n{\n            'v': 8,\n            'f': \"8\",\n        }],\n [{\n            'v': 4330,\n            'f': \"4330\",\n        },\n\"wil reynolds model\",\n{\n            'v': 2,\n            'f': \"2\",\n        },\n{\n            'v': 2.0,\n            'f': \"2.0\",\n        },\n{\n            'v': 0.666666666666667,\n            'f': \"0.666666666666667\",\n        },\n{\n            'v': 3,\n            'f': \"3\",\n        }],\n [{\n            'v': 4423,\n            'f': \"4423\",\n        },\n\"wil reynolds net worth\",\n{\n            'v': 2,\n            'f': \"2\",\n        },\n{\n            'v': 4.10489510489511,\n            'f': \"4.10489510489511\",\n        },\n{\n            'v': 0.013986013986014,\n            'f': \"0.013986013986014\",\n        },\n{\n            'v': 143,\n            'f': \"143\",\n        }],\n [{\n            'v': 4498,\n            'f': \"4498\",\n        },\n\"seer video\",\n{\n            'v': 2,\n            'f': \"2\",\n        },\n{\n            'v': 4.0,\n            'f': \"4.0\",\n        },\n{\n            'v': 0.5,\n            'f': \"0.5\",\n        },\n{\n            'v': 4,\n            'f': \"4\",\n        }],\n [{\n            'v': 4569,\n            'f': \"4569\",\n        },\n\"wil\",\n{\n            'v': 2,\n            'f': \"2\",\n        },\n{\n            'v': 52.3855088495575,\n            'f': \"52.3855088495575\",\n        },\n{\n            'v': 0.00110619469026549,\n            'f': \"0.00110619469026549\",\n        },\n{\n            'v': 1808,\n            'f': \"1808\",\n        }],\n [{\n            'v': 4811,\n            'f': \"4811\",\n        },\n\"ali wilson\",\n{\n            'v': 2,\n            'f': \"2\",\n        },\n{\n            'v': 12.4285714285714,\n            'f': \"12.4285714285714\",\n        },\n{\n            'v': 0.142857142857143,\n            'f': \"0.142857142857143\",\n        },\n{\n            'v': 14,\n            'f': \"14\",\n        }],\n [{\n            'v': 4969,\n            'f': \"4969\",\n        },\n\"seer inc\",\n{\n            'v': 1,\n            'f': \"1\",\n        },\n{\n            'v': 8.42469135802469,\n            'f': \"8.42469135802469\",\n        },\n{\n            'v': 0.0024691358024691397,\n            'f': \"0.0024691358024691397\",\n        },\n{\n            'v': 405,\n            'f': \"405\",\n        }],\n [{\n            'v': 5263,\n            'f': \"5263\",\n        },\n\"site:seerinteractive.com\",\n{\n            'v': 1,\n            'f': \"1\",\n        },\n{\n            'v': 1.0,\n            'f': \"1.0\",\n        },\n{\n            'v': 0.166666666666667,\n            'f': \"0.166666666666667\",\n        },\n{\n            'v': 6,\n            'f': \"6\",\n        }],\n [{\n            'v': 5465,\n            'f': \"5465\",\n        },\n\"seer interactive glassdoor\",\n{\n            'v': 1,\n            'f': \"1\",\n        },\n{\n            'v': 12.5,\n            'f': \"12.5\",\n        },\n{\n            'v': 0.5,\n            'f': \"0.5\",\n        },\n{\n            'v': 2,\n            'f': \"2\",\n        }],\n [{\n            'v': 5803,\n            'f': \"5803\",\n        },\n\"seer 1\",\n{\n            'v': 1,\n            'f': \"1\",\n        },\n{\n            'v': 46.0,\n            'f': \"46.0\",\n        },\n{\n            'v': 1.0,\n            'f': \"1.0\",\n        },\n{\n            'v': 1,\n            'f': \"1\",\n        }],\n [{\n            'v': 5920,\n            'f': \"5920\",\n        },\n\"seer ceo\",\n{\n            'v': 1,\n            'f': \"1\",\n        },\n{\n            'v': 2.0,\n            'f': \"2.0\",\n        },\n{\n            'v': 1.0,\n            'f': \"1.0\",\n        },\n{\n            'v': 1,\n            'f': \"1\",\n        }],\n [{\n            'v': 6060,\n            'f': \"6060\",\n        },\n\"seer 1 contact number\",\n{\n            'v': 1,\n            'f': \"1\",\n        },\n{\n            'v': 20.0,\n            'f': \"20.0\",\n        },\n{\n            'v': 1.0,\n            'f': \"1.0\",\n        },\n{\n            'v': 1,\n            'f': \"1\",\n        }],\n [{\n            'v': 6079,\n            'f': \"6079\",\n        },\n\"seers digital\",\n{\n            'v': 1,\n            'f': \"1\",\n        },\n{\n            'v': 4.0,\n            'f': \"4.0\",\n        },\n{\n            'v': 0.5,\n            'f': \"0.5\",\n        },\n{\n            'v': 2,\n            'f': \"2\",\n        }],\n [{\n            'v': 6109,\n            'f': \"6109\",\n        },\n\"http www.seerinteractive.com blog website-migration-seo-checklist\",\n{\n            'v': 1,\n            'f': \"1\",\n        },\n{\n            'v': 1.0,\n            'f': \"1.0\",\n        },\n{\n            'v': 0.0357142857142857,\n            'f': \"0.0357142857142857\",\n        },\n{\n            'v': 28,\n            'f': \"28\",\n        }],\n [{\n            'v': 6147,\n            'f': \"6147\",\n        },\n\"seer logo\",\n{\n            'v': 1,\n            'f': \"1\",\n        },\n{\n            'v': 1.54166666666667,\n            'f': \"1.54166666666667\",\n        },\n{\n            'v': 0.0138888888888889,\n            'f': \"0.0138888888888889\",\n        },\n{\n            'v': 72,\n            'f': \"72\",\n        }],\n [{\n            'v': 6214,\n            'f': \"6214\",\n        },\n\"how to get seer\",\n{\n            'v': 1,\n            'f': \"1\",\n        },\n{\n            'v': 8.65,\n            'f': \"8.65\",\n        },\n{\n            'v': 0.025,\n            'f': \"0.025\",\n        },\n{\n            'v': 40,\n            'f': \"40\",\n        }],\n [{\n            'v': 6269,\n            'f': \"6269\",\n        },\n\"ecomwild\",\n{\n            'v': 1,\n            'f': \"1\",\n        },\n{\n            'v': 10.840659340659302,\n            'f': \"10.840659340659302\",\n        },\n{\n            'v': 0.0054945054945055,\n            'f': \"0.0054945054945055\",\n        },\n{\n            'v': 182,\n            'f': \"182\",\n        }],\n [{\n            'v': 6538,\n            'f': \"6538\",\n        },\n\"seer vs psychic\",\n{\n            'v': 1,\n            'f': \"1\",\n        },\n{\n            'v': 12.0,\n            'f': \"12.0\",\n        },\n{\n            'v': 1.0,\n            'f': \"1.0\",\n        },\n{\n            'v': 1,\n            'f': \"1\",\n        }],\n [{\n            'v': 7363,\n            'f': \"7363\",\n        },\n\"www.seer\",\n{\n            'v': 1,\n            'f': \"1\",\n        },\n{\n            'v': 4.0,\n            'f': \"4.0\",\n        },\n{\n            'v': 0.142857142857143,\n            'f': \"0.142857142857143\",\n        },\n{\n            'v': 7,\n            'f': \"7\",\n        }],\n [{\n            'v': 7605,\n            'f': \"7605\",\n        },\n\"\\\"wil reynolds\\\"\",\n{\n            'v': 1,\n            'f': \"1\",\n        },\n{\n            'v': 1.5607476635514,\n            'f': \"1.5607476635514\",\n        },\n{\n            'v': 0.004672897196261679,\n            'f': \"0.004672897196261679\",\n        },\n{\n            'v': 214,\n            'f': \"214\",\n        }],\n [{\n            'v': 7689,\n            'f': \"7689\",\n        },\n\"seer bio\",\n{\n            'v': 1,\n            'f': \"1\",\n        },\n{\n            'v': 32.0,\n            'f': \"32.0\",\n        },\n{\n            'v': 1.0,\n            'f': \"1.0\",\n        },\n{\n            'v': 1,\n            'f': \"1\",\n        }],\n [{\n            'v': 7918,\n            'f': \"7918\",\n        },\n\"signs you are a seer\",\n{\n            'v': 1,\n            'f': \"1\",\n        },\n{\n            'v': 38.0476190476191,\n            'f': \"38.0476190476191\",\n        },\n{\n            'v': 0.0476190476190476,\n            'f': \"0.0476190476190476\",\n        },\n{\n            'v': 21,\n            'f': \"21\",\n        }],\n [{\n            'v': 8000,\n            'f': \"8000\",\n        },\n\"seer interactive logo\",\n{\n            'v': 1,\n            'f': \"1\",\n        },\n{\n            'v': 1.0,\n            'f': \"1.0\",\n        },\n{\n            'v': 0.5,\n            'f': \"0.5\",\n        },\n{\n            'v': 2,\n            'f': \"2\",\n        }],\n [{\n            'v': 8097,\n            'f': \"8097\",\n        },\n\"the seer pdf\",\n{\n            'v': 1,\n            'f': \"1\",\n        },\n{\n            'v': 32.0,\n            'f': \"32.0\",\n        },\n{\n            'v': 1.0,\n            'f': \"1.0\",\n        },\n{\n            'v': 1,\n            'f': \"1\",\n        }],\n [{\n            'v': 8199,\n            'f': \"8199\",\n        },\n\"india reynolds video\",\n{\n            'v': 1,\n            'f': \"1\",\n        },\n{\n            'v': 63.0,\n            'f': \"63.0\",\n        },\n{\n            'v': 1.0,\n            'f': \"1.0\",\n        },\n{\n            'v': 1,\n            'f': \"1\",\n        }],\n [{\n            'v': 8320,\n            'f': \"8320\",\n        },\n\"site:www.seerinteractive.com\",\n{\n            'v': 1,\n            'f': \"1\",\n        },\n{\n            'v': 1.0,\n            'f': \"1.0\",\n        },\n{\n            'v': 0.000231696014828545,\n            'f': \"0.000231696014828545\",\n        },\n{\n            'v': 4316,\n            'f': \"4316\",\n        }],\n [{\n            'v': 8392,\n            'f': \"8392\",\n        },\n\"we were unable to determine how many matches the selection will return\",\n{\n            'v': 1,\n            'f': \"1\",\n        },\n{\n            'v': 7.90909090909091,\n            'f': \"7.90909090909091\",\n        },\n{\n            'v': 0.0909090909090909,\n            'f': \"0.0909090909090909\",\n        },\n{\n            'v': 11,\n            'f': \"11\",\n        }],\n [{\n            'v': 8524,\n            'f': \"8524\",\n        },\n\"seer\",\n{\n            'v': 1,\n            'f': \"1\",\n        },\n{\n            'v': 35.8904953780517,\n            'f': \"35.8904953780517\",\n        },\n{\n            'v': 0.00023702299123014902,\n            'f': \"0.00023702299123014902\",\n        },\n{\n            'v': 4219,\n            'f': \"4219\",\n        }],\n [{\n            'v': 8695,\n            'f': \"8695\",\n        },\n\"if supply for online advertising outweighs demand, the inventory will be less expensive.\",\n{\n            'v': 1,\n            'f': \"1\",\n        },\n{\n            'v': 9.0,\n            'f': \"9.0\",\n        },\n{\n            'v': 1.0,\n            'f': \"1.0\",\n        },\n{\n            'v': 1,\n            'f': \"1\",\n        }],\n [{\n            'v': 8864,\n            'f': \"8864\",\n        },\n\"seer inc.\",\n{\n            'v': 1,\n            'f': \"1\",\n        },\n{\n            'v': 9.0,\n            'f': \"9.0\",\n        },\n{\n            'v': 1.0,\n            'f': \"1.0\",\n        },\n{\n            'v': 1,\n            'f': \"1\",\n        }],\n [{\n            'v': 9025,\n            'f': \"9025\",\n        },\n\"seer data & analytics\",\n{\n            'v': 1,\n            'f': \"1\",\n        },\n{\n            'v': 27.0,\n            'f': \"27.0\",\n        },\n{\n            'v': 1.0,\n            'f': \"1.0\",\n        },\n{\n            'v': 1,\n            'f': \"1\",\n        }],\n [{\n            'v': 9369,\n            'f': \"9369\",\n        },\n\"seer harry potter\",\n{\n            'v': 0,\n            'f': \"0\",\n        },\n{\n            'v': 3.40789473684211,\n            'f': \"3.40789473684211\",\n        },\n{\n            'v': 0.0,\n            'f': \"0.0\",\n        },\n{\n            'v': 76,\n            'f': \"76\",\n        }],\n [{\n            'v': 10083,\n            'f': \"10083\",\n        },\n\"what wil\",\n{\n            'v': 0,\n            'f': \"0\",\n        },\n{\n            'v': 48.6,\n            'f': \"48.6\",\n        },\n{\n            'v': 0.0,\n            'f': \"0.0\",\n        },\n{\n            'v': 5,\n            'f': \"5\",\n        }],\n [{\n            'v': 11326,\n            'f': \"11326\",\n        },\n\"williams interactive\",\n{\n            'v': 0,\n            'f': \"0\",\n        },\n{\n            'v': 45.875,\n            'f': \"45.875\",\n        },\n{\n            'v': 0.0,\n            'f': \"0.0\",\n        },\n{\n            'v': 8,\n            'f': \"8\",\n        }],\n [{\n            'v': 11604,\n            'f': \"11604\",\n        },\n\"team seers\",\n{\n            'v': 0,\n            'f': \"0\",\n        },\n{\n            'v': 6.8,\n            'f': \"6.8\",\n        },\n{\n            'v': 0.0,\n            'f': \"0.0\",\n        },\n{\n            'v': 5,\n            'f': \"5\",\n        }],\n [{\n            'v': 11668,\n            'f': \"11668\",\n        },\n\"seer 2011\",\n{\n            'v': 0,\n            'f': \"0\",\n        },\n{\n            'v': 7.0,\n            'f': \"7.0\",\n        },\n{\n            'v': 0.0,\n            'f': \"0.0\",\n        },\n{\n            'v': 5,\n            'f': \"5\",\n        }],\n [{\n            'v': 11722,\n            'f': \"11722\",\n        },\n\"the seer\",\n{\n            'v': 0,\n            'f': \"0\",\n        },\n{\n            'v': 33.0,\n            'f': \"33.0\",\n        },\n{\n            'v': 0.0,\n            'f': \"0.0\",\n        },\n{\n            'v': 25,\n            'f': \"25\",\n        }],\n [{\n            'v': 12142,\n            'f': \"12142\",\n        },\n\"seer robot\",\n{\n            'v': 0,\n            'f': \"0\",\n        },\n{\n            'v': 33.2857142857143,\n            'f': \"33.2857142857143\",\n        },\n{\n            'v': 0.0,\n            'f': \"0.0\",\n        },\n{\n            'v': 7,\n            'f': \"7\",\n        }],\n [{\n            'v': 12149,\n            'f': \"12149\",\n        },\n\"seer up\",\n{\n            'v': 0,\n            'f': \"0\",\n        },\n{\n            'v': 8.28571428571429,\n            'f': \"8.28571428571429\",\n        },\n{\n            'v': 0.0,\n            'f': \"0.0\",\n        },\n{\n            'v': 7,\n            'f': \"7\",\n        }],\n [{\n            'v': 12445,\n            'f': \"12445\",\n        },\n\"will reynolds and rand fishkin\",\n{\n            'v': 0,\n            'f': \"0\",\n        },\n{\n            'v': 3.2,\n            'f': \"3.2\",\n        },\n{\n            'v': 0.0,\n            'f': \"0.0\",\n        },\n{\n            'v': 5,\n            'f': \"5\",\n        }],\n [{\n            'v': 12676,\n            'f': \"12676\",\n        },\n\"seo wil\",\n{\n            'v': 0,\n            'f': \"0\",\n        },\n{\n            'v': 29.052631578947395,\n            'f': \"29.052631578947395\",\n        },\n{\n            'v': 0.0,\n            'f': \"0.0\",\n        },\n{\n            'v': 418,\n            'f': \"418\",\n        }],\n [{\n            'v': 12942,\n            'f': \"12942\",\n        },\n\"reynolds web solutions email\",\n{\n            'v': 0,\n            'f': \"0\",\n        },\n{\n            'v': 64.5,\n            'f': \"64.5\",\n        },\n{\n            'v': 0.0,\n            'f': \"0.0\",\n        },\n{\n            'v': 6,\n            'f': \"6\",\n        }],\n [{\n            'v': 13326,\n            'f': \"13326\",\n        },\n\"seer characteristics\",\n{\n            'v': 0,\n            'f': \"0\",\n        },\n{\n            'v': 37.3333333333333,\n            'f': \"37.3333333333333\",\n        },\n{\n            'v': 0.0,\n            'f': \"0.0\",\n        },\n{\n            'v': 27,\n            'f': \"27\",\n        }],\n [{\n            'v': 13363,\n            'f': \"13363\",\n        },\n\"when will google analytics be unable to identify sessions from the same user by default?\",\n{\n            'v': 0,\n            'f': \"0\",\n        },\n{\n            'v': 61.3333333333333,\n            'f': \"61.3333333333333\",\n        },\n{\n            'v': 0.0,\n            'f': \"0.0\",\n        },\n{\n            'v': 6,\n            'f': \"6\",\n        }],\n [{\n            'v': 13548,\n            'f': \"13548\",\n        },\n\"seer pdf\",\n{\n            'v': 0,\n            'f': \"0\",\n        },\n{\n            'v': 4.4,\n            'f': \"4.4\",\n        },\n{\n            'v': 0.0,\n            'f': \"0.0\",\n        },\n{\n            'v': 10,\n            'f': \"10\",\n        }],\n [{\n            'v': 14219,\n            'f': \"14219\",\n        },\n\"how can i be a seer\",\n{\n            'v': 0,\n            'f': \"0\",\n        },\n{\n            'v': 37.8571428571429,\n            'f': \"37.8571428571429\",\n        },\n{\n            'v': 0.0,\n            'f': \"0.0\",\n        },\n{\n            'v': 21,\n            'f': \"21\",\n        }],\n [{\n            'v': 15199,\n            'f': \"15199\",\n        },\n\"google ads wil\",\n{\n            'v': 0,\n            'f': \"0\",\n        },\n{\n            'v': 35.6924778761062,\n            'f': \"35.6924778761062\",\n        },\n{\n            'v': 0.0,\n            'f': \"0.0\",\n        },\n{\n            'v': 452,\n            'f': \"452\",\n        }],\n [{\n            'v': 15841,\n            'f': \"15841\",\n        },\n\"google seer\",\n{\n            'v': 0,\n            'f': \"0\",\n        },\n{\n            'v': 4.0,\n            'f': \"4.0\",\n        },\n{\n            'v': 0.0,\n            'f': \"0.0\",\n        },\n{\n            'v': 5,\n            'f': \"5\",\n        }],\n [{\n            'v': 16813,\n            'f': \"16813\",\n        },\n\"which beings are seers\",\n{\n            'v': 0,\n            'f': \"0\",\n        },\n{\n            'v': 10.875,\n            'f': \"10.875\",\n        },\n{\n            'v': 0.0,\n            'f': \"0.0\",\n        },\n{\n            'v': 8,\n            'f': \"8\",\n        }],\n [{\n            'v': 16825,\n            'f': \"16825\",\n        },\n\"the seer television show\",\n{\n            'v': 0,\n            'f': \"0\",\n        },\n{\n            'v': 26.928571428571402,\n            'f': \"26.928571428571402\",\n        },\n{\n            'v': 0.0,\n            'f': \"0.0\",\n        },\n{\n            'v': 154,\n            'f': \"154\",\n        }],\n [{\n            'v': 17012,\n            'f': \"17012\",\n        },\n\"will stevens\",\n{\n            'v': 0,\n            'f': \"0\",\n        },\n{\n            'v': 66.3636363636364,\n            'f': \"66.3636363636364\",\n        },\n{\n            'v': 0.0,\n            'f': \"0.0\",\n        },\n{\n            'v': 11,\n            'f': \"11\",\n        }],\n [{\n            'v': 17637,\n            'f': \"17637\",\n        },\n\"when a new view is created, what data will be included?\",\n{\n            'v': 0,\n            'f': \"0\",\n        },\n{\n            'v': 15.666666666666698,\n            'f': \"15.666666666666698\",\n        },\n{\n            'v': 0.0,\n            'f': \"0.0\",\n        },\n{\n            'v': 9,\n            'f': \"9\",\n        }],\n [{\n            'v': 18393,\n            'f': \"18393\",\n        },\n\"seer data analytics\",\n{\n            'v': 0,\n            'f': \"0\",\n        },\n{\n            'v': 14.75,\n            'f': \"14.75\",\n        },\n{\n            'v': 0.0,\n            'f': \"0.0\",\n        },\n{\n            'v': 4,\n            'f': \"4\",\n        }],\n [{\n            'v': 18926,\n            'f': \"18926\",\n        },\n\"seer gif\",\n{\n            'v': 0,\n            'f': \"0\",\n        },\n{\n            'v': 9.5,\n            'f': \"9.5\",\n        },\n{\n            'v': 0.0,\n            'f': \"0.0\",\n        },\n{\n            'v': 4,\n            'f': \"4\",\n        }],\n [{\n            'v': 18977,\n            'f': \"18977\",\n        },\n\"will wil\",\n{\n            'v': 0,\n            'f': \"0\",\n        },\n{\n            'v': 21.0,\n            'f': \"21.0\",\n        },\n{\n            'v': 0.0,\n            'f': \"0.0\",\n        },\n{\n            'v': 6,\n            'f': \"6\",\n        }],\n [{\n            'v': 19792,\n            'f': \"19792\",\n        },\n\"seer covid\",\n{\n            'v': 0,\n            'f': \"0\",\n        },\n{\n            'v': 5.16666666666667,\n            'f': \"5.16666666666667\",\n        },\n{\n            'v': 0.0,\n            'f': \"0.0\",\n        },\n{\n            'v': 6,\n            'f': \"6\",\n        }],\n [{\n            'v': 19969,\n            'f': \"19969\",\n        },\n\"seer, inc\",\n{\n            'v': 0,\n            'f': \"0\",\n        },\n{\n            'v': 9.125,\n            'f': \"9.125\",\n        },\n{\n            'v': 0.0,\n            'f': \"0.0\",\n        },\n{\n            'v': 8,\n            'f': \"8\",\n        }],\n [{\n            'v': 19979,\n            'f': \"19979\",\n        },\n\"the mistakes will our\",\n{\n            'v': 0,\n            'f': \"0\",\n        },\n{\n            'v': 10.1228070175439,\n            'f': \"10.1228070175439\",\n        },\n{\n            'v': 0.0,\n            'f': \"0.0\",\n        },\n{\n            'v': 57,\n            'f': \"57\",\n        }],\n [{\n            'v': 20599,\n            'f': \"20599\",\n        },\n\"adam seer\",\n{\n            'v': 0,\n            'f': \"0\",\n        },\n{\n            'v': 3.6842105263157903,\n            'f': \"3.6842105263157903\",\n        },\n{\n            'v': 0.0,\n            'f': \"0.0\",\n        },\n{\n            'v': 19,\n            'f': \"19\",\n        }],\n [{\n            'v': 22236,\n            'f': \"22236\",\n        },\n\"when will google maps update in my area\",\n{\n            'v': 0,\n            'f': \"0\",\n        },\n{\n            'v': 67.5,\n            'f': \"67.5\",\n        },\n{\n            'v': 0.0,\n            'f': \"0.0\",\n        },\n{\n            'v': 6,\n            'f': \"6\",\n        }],\n [{\n            'v': 22320,\n            'f': \"22320\",\n        },\n\"what is seer\",\n{\n            'v': 0,\n            'f': \"0\",\n        },\n{\n            'v': 67.8655462184874,\n            'f': \"67.8655462184874\",\n        },\n{\n            'v': 0.0,\n            'f': \"0.0\",\n        },\n{\n            'v': 119,\n            'f': \"119\",\n        }],\n [{\n            'v': 22960,\n            'f': \"22960\",\n        },\n\"seer international\",\n{\n            'v': 0,\n            'f': \"0\",\n        },\n{\n            'v': 11.0,\n            'f': \"11.0\",\n        },\n{\n            'v': 0.0,\n            'f': \"0.0\",\n        },\n{\n            'v': 4,\n            'f': \"4\",\n        }],\n [{\n            'v': 23730,\n            'f': \"23730\",\n        },\n\"india reynolds\",\n{\n            'v': 0,\n            'f': \"0\",\n        },\n{\n            'v': 94.5,\n            'f': \"94.5\",\n        },\n{\n            'v': 0.0,\n            'f': \"0.0\",\n        },\n{\n            'v': 6,\n            'f': \"6\",\n        }],\n [{\n            'v': 24499,\n            'f': \"24499\",\n        },\n\"ecom wild\",\n{\n            'v': 0,\n            'f': \"0\",\n        },\n{\n            'v': 4.927152317880799,\n            'f': \"4.927152317880799\",\n        },\n{\n            'v': 0.0,\n            'f': \"0.0\",\n        },\n{\n            'v': 151,\n            'f': \"151\",\n        }],\n [{\n            'v': 26494,\n            'f': \"26494\",\n        },\n\"seer paragraph\",\n{\n            'v': 0,\n            'f': \"0\",\n        },\n{\n            'v': 6.428571428571429,\n            'f': \"6.428571428571429\",\n        },\n{\n            'v': 0.0,\n            'f': \"0.0\",\n        },\n{\n            'v': 7,\n            'f': \"7\",\n        }],\n [{\n            'v': 27052,\n            'f': \"27052\",\n        },\n\"seer lab\",\n{\n            'v': 0,\n            'f': \"0\",\n        },\n{\n            'v': 10.0,\n            'f': \"10.0\",\n        },\n{\n            'v': 0.0,\n            'f': \"0.0\",\n        },\n{\n            'v': 5,\n            'f': \"5\",\n        }],\n [{\n            'v': 27307,\n            'f': \"27307\",\n        },\n\"seers\",\n{\n            'v': 0,\n            'f': \"0\",\n        },\n{\n            'v': 64.03167420814479,\n            'f': \"64.03167420814479\",\n        },\n{\n            'v': 0.0,\n            'f': \"0.0\",\n        },\n{\n            'v': 221,\n            'f': \"221\",\n        }],\n [{\n            'v': 27399,\n            'f': \"27399\",\n        },\n\"when will i reach number 1 on google?\",\n{\n            'v': 0,\n            'f': \"0\",\n        },\n{\n            'v': 51.9090909090909,\n            'f': \"51.9090909090909\",\n        },\n{\n            'v': 0.0,\n            'f': \"0.0\",\n        },\n{\n            'v': 11,\n            'f': \"11\",\n        }]],\n        columns: [[\"number\", \"index\"], [\"string\", \"Query\"], [\"number\", \"Clicks\"], [\"number\", \"Average Position\"], [\"number\", \"Site CTR\"], [\"number\", \"Impressions\"]],\n        columnOptions: [{\"width\": \"1px\", \"className\": \"index_column\"}],\n        rowsPerPage: 25,\n        helpUrl: \"https://colab.research.google.com/notebooks/data_table.ipynb\",\n        suppressOutputScrolling: true,\n        minimumWidth: undefined,\n      });\n    ",
            "text/html": [
              "<div>\n",
              "<style scoped>\n",
              "    .dataframe tbody tr th:only-of-type {\n",
              "        vertical-align: middle;\n",
              "    }\n",
              "\n",
              "    .dataframe tbody tr th {\n",
              "        vertical-align: top;\n",
              "    }\n",
              "\n",
              "    .dataframe thead th {\n",
              "        text-align: right;\n",
              "    }\n",
              "</style>\n",
              "<table border=\"1\" class=\"dataframe\">\n",
              "  <thead>\n",
              "    <tr style=\"text-align: right;\">\n",
              "      <th></th>\n",
              "      <th>Query</th>\n",
              "      <th>Clicks</th>\n",
              "      <th>Average Position</th>\n",
              "      <th>Site CTR</th>\n",
              "      <th>Impressions</th>\n",
              "    </tr>\n",
              "  </thead>\n",
              "  <tbody>\n",
              "    <tr>\n",
              "      <th>0</th>\n",
              "      <td>seer interactive</td>\n",
              "      <td>3444</td>\n",
              "      <td>1.407144</td>\n",
              "      <td>0.597191</td>\n",
              "      <td>5767</td>\n",
              "    </tr>\n",
              "    <tr>\n",
              "      <th>45</th>\n",
              "      <td>seer interactive careers</td>\n",
              "      <td>157</td>\n",
              "      <td>1.004717</td>\n",
              "      <td>0.740566</td>\n",
              "      <td>212</td>\n",
              "    </tr>\n",
              "    <tr>\n",
              "      <th>59</th>\n",
              "      <td>seerinteractive</td>\n",
              "      <td>129</td>\n",
              "      <td>1.000000</td>\n",
              "      <td>0.763314</td>\n",
              "      <td>169</td>\n",
              "    </tr>\n",
              "    <tr>\n",
              "      <th>60</th>\n",
              "      <td>wil reynolds</td>\n",
              "      <td>129</td>\n",
              "      <td>1.989627</td>\n",
              "      <td>0.133817</td>\n",
              "      <td>964</td>\n",
              "    </tr>\n",
              "    <tr>\n",
              "      <th>86</th>\n",
              "      <td>seer seo</td>\n",
              "      <td>100</td>\n",
              "      <td>1.000000</td>\n",
              "      <td>0.709220</td>\n",
              "      <td>141</td>\n",
              "    </tr>\n",
              "    <tr>\n",
              "      <th>...</th>\n",
              "      <td>...</td>\n",
              "      <td>...</td>\n",
              "      <td>...</td>\n",
              "      <td>...</td>\n",
              "      <td>...</td>\n",
              "    </tr>\n",
              "    <tr>\n",
              "      <th>24499</th>\n",
              "      <td>ecom wild</td>\n",
              "      <td>0</td>\n",
              "      <td>4.927152</td>\n",
              "      <td>0.000000</td>\n",
              "      <td>151</td>\n",
              "    </tr>\n",
              "    <tr>\n",
              "      <th>26494</th>\n",
              "      <td>seer paragraph</td>\n",
              "      <td>0</td>\n",
              "      <td>6.428571</td>\n",
              "      <td>0.000000</td>\n",
              "      <td>7</td>\n",
              "    </tr>\n",
              "    <tr>\n",
              "      <th>27052</th>\n",
              "      <td>seer lab</td>\n",
              "      <td>0</td>\n",
              "      <td>10.000000</td>\n",
              "      <td>0.000000</td>\n",
              "      <td>5</td>\n",
              "    </tr>\n",
              "    <tr>\n",
              "      <th>27307</th>\n",
              "      <td>seers</td>\n",
              "      <td>0</td>\n",
              "      <td>64.031674</td>\n",
              "      <td>0.000000</td>\n",
              "      <td>221</td>\n",
              "    </tr>\n",
              "    <tr>\n",
              "      <th>27399</th>\n",
              "      <td>when will i reach number 1 on google?</td>\n",
              "      <td>0</td>\n",
              "      <td>51.909091</td>\n",
              "      <td>0.000000</td>\n",
              "      <td>11</td>\n",
              "    </tr>\n",
              "  </tbody>\n",
              "</table>\n",
              "<p>105 rows × 5 columns</p>\n",
              "</div>"
            ],
            "text/plain": [
              "                                       Query  Clicks  ...  Site CTR  Impressions\n",
              "0                           seer interactive    3444  ...  0.597191         5767\n",
              "45                  seer interactive careers     157  ...  0.740566          212\n",
              "59                           seerinteractive     129  ...  0.763314          169\n",
              "60                              wil reynolds     129  ...  0.133817          964\n",
              "86                                  seer seo     100  ...  0.709220          141\n",
              "...                                      ...     ...  ...       ...          ...\n",
              "24499                              ecom wild       0  ...  0.000000          151\n",
              "26494                         seer paragraph       0  ...  0.000000            7\n",
              "27052                               seer lab       0  ...  0.000000            5\n",
              "27307                                  seers       0  ...  0.000000          221\n",
              "27399  when will i reach number 1 on google?       0  ...  0.000000           11\n",
              "\n",
              "[105 rows x 5 columns]"
            ]
          },
          "metadata": {
            "tags": []
          },
          "execution_count": 20
        }
      ]
    },
    {
      "cell_type": "markdown",
      "metadata": {
        "id": "sgNymMQtTrjm"
      },
      "source": [
        "#Export Branded Keywords to a CSV\n",
        "\n",
        "--You can find the csv in the left sidebar to download."
      ]
    },
    {
      "cell_type": "code",
      "metadata": {
        "id": "daeit17gTUgA"
      },
      "source": [
        "df_branded.to_csv('branded-keyword-data.csv')"
      ],
      "execution_count": null,
      "outputs": []
    },
    {
      "cell_type": "markdown",
      "metadata": {
        "id": "9Us3CsJoUhKe"
      },
      "source": [
        "#Add a Branded Keyword Column to Original Dataframe"
      ]
    },
    {
      "cell_type": "code",
      "metadata": {
        "id": "k0MlLg8ZULhC",
        "outputId": "24326fa9-4d9f-46cb-9898-e15a4fade9be",
        "colab": {
          "base_uri": "https://localhost:8080/",
          "height": 419
        }
      },
      "source": [
        "df[\"Branded\"]=df.Keyword.str.contains(\"seer|wil|reynolds\")\n",
        "df\n"
      ],
      "execution_count": null,
      "outputs": [
        {
          "output_type": "execute_result",
          "data": {
            "text/html": [
              "<div>\n",
              "<style scoped>\n",
              "    .dataframe tbody tr th:only-of-type {\n",
              "        vertical-align: middle;\n",
              "    }\n",
              "\n",
              "    .dataframe tbody tr th {\n",
              "        vertical-align: top;\n",
              "    }\n",
              "\n",
              "    .dataframe thead th {\n",
              "        text-align: right;\n",
              "    }\n",
              "</style>\n",
              "<table border=\"1\" class=\"dataframe\">\n",
              "  <thead>\n",
              "    <tr style=\"text-align: right;\">\n",
              "      <th></th>\n",
              "      <th>Query</th>\n",
              "      <th>Clicks</th>\n",
              "      <th>Average Position</th>\n",
              "      <th>Site CTR</th>\n",
              "      <th>Impressions</th>\n",
              "      <th>Branded</th>\n",
              "    </tr>\n",
              "  </thead>\n",
              "  <tbody>\n",
              "    <tr>\n",
              "      <th>0</th>\n",
              "      <td>seer interactive</td>\n",
              "      <td>3444</td>\n",
              "      <td>1.407144</td>\n",
              "      <td>0.597191</td>\n",
              "      <td>5767</td>\n",
              "      <td>True</td>\n",
              "    </tr>\n",
              "    <tr>\n",
              "      <th>1</th>\n",
              "      <td>google data studio</td>\n",
              "      <td>1352</td>\n",
              "      <td>8.237460</td>\n",
              "      <td>0.003478</td>\n",
              "      <td>388735</td>\n",
              "      <td>False</td>\n",
              "    </tr>\n",
              "    <tr>\n",
              "      <th>2</th>\n",
              "      <td>johari window exercise</td>\n",
              "      <td>992</td>\n",
              "      <td>1.128184</td>\n",
              "      <td>0.414196</td>\n",
              "      <td>2395</td>\n",
              "      <td>False</td>\n",
              "    </tr>\n",
              "    <tr>\n",
              "      <th>3</th>\n",
              "      <td>keywords everywhere</td>\n",
              "      <td>985</td>\n",
              "      <td>6.454694</td>\n",
              "      <td>0.006399</td>\n",
              "      <td>153930</td>\n",
              "      <td>False</td>\n",
              "    </tr>\n",
              "    <tr>\n",
              "      <th>4</th>\n",
              "      <td>google discovery</td>\n",
              "      <td>910</td>\n",
              "      <td>3.242859</td>\n",
              "      <td>0.060449</td>\n",
              "      <td>15054</td>\n",
              "      <td>False</td>\n",
              "    </tr>\n",
              "    <tr>\n",
              "      <th>...</th>\n",
              "      <td>...</td>\n",
              "      <td>...</td>\n",
              "      <td>...</td>\n",
              "      <td>...</td>\n",
              "      <td>...</td>\n",
              "      <td>...</td>\n",
              "    </tr>\n",
              "    <tr>\n",
              "      <th>27900</th>\n",
              "      <td>url crawl</td>\n",
              "      <td>0</td>\n",
              "      <td>26.597458</td>\n",
              "      <td>0.000000</td>\n",
              "      <td>236</td>\n",
              "      <td>False</td>\n",
              "    </tr>\n",
              "    <tr>\n",
              "      <th>27901</th>\n",
              "      <td>how to do outreach</td>\n",
              "      <td>0</td>\n",
              "      <td>78.058824</td>\n",
              "      <td>0.000000</td>\n",
              "      <td>17</td>\n",
              "      <td>False</td>\n",
              "    </tr>\n",
              "    <tr>\n",
              "      <th>27902</th>\n",
              "      <td>keyword search terms</td>\n",
              "      <td>0</td>\n",
              "      <td>80.666667</td>\n",
              "      <td>0.000000</td>\n",
              "      <td>6</td>\n",
              "      <td>False</td>\n",
              "    </tr>\n",
              "    <tr>\n",
              "      <th>27903</th>\n",
              "      <td>native adv</td>\n",
              "      <td>0</td>\n",
              "      <td>4.375000</td>\n",
              "      <td>0.000000</td>\n",
              "      <td>8</td>\n",
              "      <td>False</td>\n",
              "    </tr>\n",
              "    <tr>\n",
              "      <th>27904</th>\n",
              "      <td>power bi query editor remove duplicates</td>\n",
              "      <td>0</td>\n",
              "      <td>5.800000</td>\n",
              "      <td>0.000000</td>\n",
              "      <td>5</td>\n",
              "      <td>False</td>\n",
              "    </tr>\n",
              "  </tbody>\n",
              "</table>\n",
              "<p>27905 rows × 6 columns</p>\n",
              "</div>"
            ],
            "text/plain": [
              "                                         Query  Clicks  ...  Impressions  Branded\n",
              "0                             seer interactive    3444  ...         5767     True\n",
              "1                           google data studio    1352  ...       388735    False\n",
              "2                       johari window exercise     992  ...         2395    False\n",
              "3                          keywords everywhere     985  ...       153930    False\n",
              "4                             google discovery     910  ...        15054    False\n",
              "...                                        ...     ...  ...          ...      ...\n",
              "27900                                url crawl       0  ...          236    False\n",
              "27901                       how to do outreach       0  ...           17    False\n",
              "27902                     keyword search terms       0  ...            6    False\n",
              "27903                               native adv       0  ...            8    False\n",
              "27904  power bi query editor remove duplicates       0  ...            5    False\n",
              "\n",
              "[27905 rows x 6 columns]"
            ]
          },
          "metadata": {
            "tags": []
          },
          "execution_count": 22
        }
      ]
    },
    {
      "cell_type": "markdown",
      "metadata": {
        "id": "tk4f8HkKurwn"
      },
      "source": [
        "#Create a Non-Branded Keyword Table\n"
      ]
    },
    {
      "cell_type": "code",
      "metadata": {
        "id": "s30fUUGAuu5T"
      },
      "source": [
        "df_non_branded = df[(df['Branded']==False)]\n"
      ],
      "execution_count": null,
      "outputs": []
    },
    {
      "cell_type": "code",
      "metadata": {
        "id": "z7u3Mkzv0hjW",
        "outputId": "b11711b1-91ba-4149-97d2-d165ddd34a84",
        "colab": {
          "base_uri": "https://localhost:8080/",
          "height": 419
        }
      },
      "source": [
        "df_non_branded"
      ],
      "execution_count": null,
      "outputs": [
        {
          "output_type": "execute_result",
          "data": {
            "text/html": [
              "<div>\n",
              "<style scoped>\n",
              "    .dataframe tbody tr th:only-of-type {\n",
              "        vertical-align: middle;\n",
              "    }\n",
              "\n",
              "    .dataframe tbody tr th {\n",
              "        vertical-align: top;\n",
              "    }\n",
              "\n",
              "    .dataframe thead th {\n",
              "        text-align: right;\n",
              "    }\n",
              "</style>\n",
              "<table border=\"1\" class=\"dataframe\">\n",
              "  <thead>\n",
              "    <tr style=\"text-align: right;\">\n",
              "      <th></th>\n",
              "      <th>Query</th>\n",
              "      <th>Clicks</th>\n",
              "      <th>Average Position</th>\n",
              "      <th>Site CTR</th>\n",
              "      <th>Impressions</th>\n",
              "      <th>Branded</th>\n",
              "    </tr>\n",
              "  </thead>\n",
              "  <tbody>\n",
              "    <tr>\n",
              "      <th>1</th>\n",
              "      <td>google data studio</td>\n",
              "      <td>1352</td>\n",
              "      <td>8.237460</td>\n",
              "      <td>0.003478</td>\n",
              "      <td>388735</td>\n",
              "      <td>False</td>\n",
              "    </tr>\n",
              "    <tr>\n",
              "      <th>2</th>\n",
              "      <td>johari window exercise</td>\n",
              "      <td>992</td>\n",
              "      <td>1.128184</td>\n",
              "      <td>0.414196</td>\n",
              "      <td>2395</td>\n",
              "      <td>False</td>\n",
              "    </tr>\n",
              "    <tr>\n",
              "      <th>3</th>\n",
              "      <td>keywords everywhere</td>\n",
              "      <td>985</td>\n",
              "      <td>6.454694</td>\n",
              "      <td>0.006399</td>\n",
              "      <td>153930</td>\n",
              "      <td>False</td>\n",
              "    </tr>\n",
              "    <tr>\n",
              "      <th>4</th>\n",
              "      <td>google discovery</td>\n",
              "      <td>910</td>\n",
              "      <td>3.242859</td>\n",
              "      <td>0.060449</td>\n",
              "      <td>15054</td>\n",
              "      <td>False</td>\n",
              "    </tr>\n",
              "    <tr>\n",
              "      <th>5</th>\n",
              "      <td>johari window test</td>\n",
              "      <td>902</td>\n",
              "      <td>1.767764</td>\n",
              "      <td>0.147001</td>\n",
              "      <td>6136</td>\n",
              "      <td>False</td>\n",
              "    </tr>\n",
              "    <tr>\n",
              "      <th>...</th>\n",
              "      <td>...</td>\n",
              "      <td>...</td>\n",
              "      <td>...</td>\n",
              "      <td>...</td>\n",
              "      <td>...</td>\n",
              "      <td>...</td>\n",
              "    </tr>\n",
              "    <tr>\n",
              "      <th>27900</th>\n",
              "      <td>url crawl</td>\n",
              "      <td>0</td>\n",
              "      <td>26.597458</td>\n",
              "      <td>0.000000</td>\n",
              "      <td>236</td>\n",
              "      <td>False</td>\n",
              "    </tr>\n",
              "    <tr>\n",
              "      <th>27901</th>\n",
              "      <td>how to do outreach</td>\n",
              "      <td>0</td>\n",
              "      <td>78.058824</td>\n",
              "      <td>0.000000</td>\n",
              "      <td>17</td>\n",
              "      <td>False</td>\n",
              "    </tr>\n",
              "    <tr>\n",
              "      <th>27902</th>\n",
              "      <td>keyword search terms</td>\n",
              "      <td>0</td>\n",
              "      <td>80.666667</td>\n",
              "      <td>0.000000</td>\n",
              "      <td>6</td>\n",
              "      <td>False</td>\n",
              "    </tr>\n",
              "    <tr>\n",
              "      <th>27903</th>\n",
              "      <td>native adv</td>\n",
              "      <td>0</td>\n",
              "      <td>4.375000</td>\n",
              "      <td>0.000000</td>\n",
              "      <td>8</td>\n",
              "      <td>False</td>\n",
              "    </tr>\n",
              "    <tr>\n",
              "      <th>27904</th>\n",
              "      <td>power bi query editor remove duplicates</td>\n",
              "      <td>0</td>\n",
              "      <td>5.800000</td>\n",
              "      <td>0.000000</td>\n",
              "      <td>5</td>\n",
              "      <td>False</td>\n",
              "    </tr>\n",
              "  </tbody>\n",
              "</table>\n",
              "<p>27800 rows × 6 columns</p>\n",
              "</div>"
            ],
            "text/plain": [
              "                                         Query  Clicks  ...  Impressions  Branded\n",
              "1                           google data studio    1352  ...       388735    False\n",
              "2                       johari window exercise     992  ...         2395    False\n",
              "3                          keywords everywhere     985  ...       153930    False\n",
              "4                             google discovery     910  ...        15054    False\n",
              "5                           johari window test     902  ...         6136    False\n",
              "...                                        ...     ...  ...          ...      ...\n",
              "27900                                url crawl       0  ...          236    False\n",
              "27901                       how to do outreach       0  ...           17    False\n",
              "27902                     keyword search terms       0  ...            6    False\n",
              "27903                               native adv       0  ...            8    False\n",
              "27904  power bi query editor remove duplicates       0  ...            5    False\n",
              "\n",
              "[27800 rows x 6 columns]"
            ]
          },
          "metadata": {
            "tags": []
          },
          "execution_count": 24
        }
      ]
    },
    {
      "cell_type": "markdown",
      "metadata": {
        "id": "Hrbog3Gy0mtq"
      },
      "source": [
        "#Export All Non Branded Keywords to a CSV\n"
      ]
    },
    {
      "cell_type": "code",
      "metadata": {
        "id": "qu8lmTSd0ptl"
      },
      "source": [
        "df_non_branded.to_csv('non-branded-keyword-data.csv')"
      ],
      "execution_count": null,
      "outputs": []
    },
    {
      "cell_type": "markdown",
      "metadata": {
        "id": "al7NGFqv79Xa"
      },
      "source": [
        "#Quickly Identify % of Branded Clicks\n"
      ]
    },
    {
      "cell_type": "code",
      "metadata": {
        "id": "Po2Zj2DiF9Kb"
      },
      "source": [
        "df.Clicks.sum()"
      ],
      "execution_count": null,
      "outputs": []
    },
    {
      "cell_type": "code",
      "metadata": {
        "id": "U4b_RUPQHaWT"
      },
      "source": [
        "df_branded.Clicks.sum()/df_non_branded.Clicks.sum()"
      ],
      "execution_count": null,
      "outputs": []
    },
    {
      "cell_type": "markdown",
      "metadata": {
        "id": "fXEwdzaE8KhZ"
      },
      "source": [
        "#Evaluate Standard Deviation, Mean & Median"
      ]
    },
    {
      "cell_type": "code",
      "metadata": {
        "id": "ZAwXYK368Jwb",
        "outputId": "3646c03d-f64f-459c-971c-efe4675e6d19",
        "colab": {
          "base_uri": "https://localhost:8080/"
        }
      },
      "source": [
        "df['Rank'].std()"
      ],
      "execution_count": null,
      "outputs": [
        {
          "output_type": "execute_result",
          "data": {
            "text/plain": [
              "35.25005146766555"
            ]
          },
          "metadata": {
            "tags": []
          },
          "execution_count": 30
        }
      ]
    },
    {
      "cell_type": "code",
      "metadata": {
        "id": "7_1ryYr_8pU_",
        "outputId": "b20bf7a1-b7ee-4604-c8c4-3ebd2f963602",
        "colab": {
          "base_uri": "https://localhost:8080/"
        }
      },
      "source": [
        "df['Rank'].mean()"
      ],
      "execution_count": null,
      "outputs": [
        {
          "output_type": "execute_result",
          "data": {
            "text/plain": [
              "38.79277068814318"
            ]
          },
          "metadata": {
            "tags": []
          },
          "execution_count": 31
        }
      ]
    },
    {
      "cell_type": "code",
      "metadata": {
        "id": "iupEEVlNNTXF",
        "outputId": "83fe5a0a-fc29-48c7-dce4-f44d6348973c",
        "colab": {
          "base_uri": "https://localhost:8080/"
        }
      },
      "source": [
        "df['Rank'].median()"
      ],
      "execution_count": null,
      "outputs": [
        {
          "output_type": "execute_result",
          "data": {
            "text/plain": [
              "28.96875"
            ]
          },
          "metadata": {
            "tags": []
          },
          "execution_count": 32
        }
      ]
    },
    {
      "cell_type": "markdown",
      "metadata": {
        "id": "8BuvsQ9e8dTP"
      },
      "source": [
        "#Generate Histograms of Branded Keywords (True = Branded, False = NonBranded) & Their Average Positions"
      ]
    },
    {
      "cell_type": "code",
      "metadata": {
        "id": "bi-Y_Igs8wy3",
        "outputId": "7ae69307-7d3c-4787-bfcf-4824b275dc5c",
        "colab": {
          "base_uri": "https://localhost:8080/",
          "height": 341
        }
      },
      "source": [
        "df.hist(by='Branded', column='Rank')"
      ],
      "execution_count": null,
      "outputs": [
        {
          "output_type": "execute_result",
          "data": {
            "text/plain": [
              "array([<matplotlib.axes._subplots.AxesSubplot object at 0x7f49b03a87b8>,\n",
              "       <matplotlib.axes._subplots.AxesSubplot object at 0x7f49b0356a58>],\n",
              "      dtype=object)"
            ]
          },
          "metadata": {
            "tags": []
          },
          "execution_count": 34
        },
        {
          "output_type": "display_data",
          "data": {
            "image/png": "[encoded data removed]",
            "text/plain": [
              "<Figure size 432x288 with 2 Axes>"
            ]
          },
          "metadata": {
            "tags": []
          }
        }
      ]
    },
    {
      "cell_type": "markdown",
      "metadata": {
        "id": "ElApM6Z8udK8"
      },
      "source": [
        "#Generate Histograms of Branded Keywords (True = Branded, False = NonBranded) & Their CTR"
      ]
    },
    {
      "cell_type": "code",
      "metadata": {
        "id": "XLqH6JD586f9",
        "outputId": "7973e85c-b0ba-4f21-fa96-5474235d8503",
        "colab": {
          "base_uri": "https://localhost:8080/",
          "height": 344
        }
      },
      "source": [
        "df.hist(by='Branded', column='CTR')"
      ],
      "execution_count": null,
      "outputs": [
        {
          "output_type": "execute_result",
          "data": {
            "text/plain": [
              "array([<matplotlib.axes._subplots.AxesSubplot object at 0x7f49b02e1208>,\n",
              "       <matplotlib.axes._subplots.AxesSubplot object at 0x7f49b025ad68>],\n",
              "      dtype=object)"
            ]
          },
          "metadata": {
            "tags": []
          },
          "execution_count": 35
        },
        {
          "output_type": "display_data",
          "data": {
            "image/png": "[encoded data removed]",
            "text/plain": [
              "<Figure size 432x288 with 2 Axes>"
            ]
          },
          "metadata": {
            "tags": []
          }
        }
      ]
    },
    {
      "cell_type": "markdown",
      "metadata": {
        "id": "pFUmVAaqugzD"
      },
      "source": [
        "#Generate Histograms of Branded Keywords (True = Branded, False = NonBranded) & Their Clicks"
      ]
    },
    {
      "cell_type": "code",
      "metadata": {
        "id": "WXR4xat-9J6t",
        "outputId": "2c782fb6-4a0c-42ae-c156-de4f99665652",
        "colab": {
          "base_uri": "https://localhost:8080/",
          "height": 347
        }
      },
      "source": [
        "df.hist(by='Branded', column='Clicks')"
      ],
      "execution_count": null,
      "outputs": [
        {
          "output_type": "execute_result",
          "data": {
            "text/plain": [
              "array([<matplotlib.axes._subplots.AxesSubplot object at 0x7f49b507d160>,\n",
              "       <matplotlib.axes._subplots.AxesSubplot object at 0x7f49b02257f0>],\n",
              "      dtype=object)"
            ]
          },
          "metadata": {
            "tags": []
          },
          "execution_count": 36
        },
        {
          "output_type": "display_data",
          "data": {
            "image/png": "[encoded data removed]",
            "text/plain": [
              "<Figure size 432x288 with 2 Axes>"
            ]
          },
          "metadata": {
            "tags": []
          }
        }
      ]
    },
    {
      "cell_type": "markdown",
      "metadata": {
        "id": "QHfLEPzYukQB"
      },
      "source": [
        "#Generate a Correlation Table"
      ]
    },
    {
      "cell_type": "code",
      "metadata": {
        "id": "JtWqTegB9WuW",
        "outputId": "d33f9265-49b9-4ba8-b853-5394a764be1d",
        "colab": {
          "base_uri": "https://localhost:8080/",
          "height": 194
        }
      },
      "source": [
        "corr = df.corr()\n",
        "corr"
      ],
      "execution_count": null,
      "outputs": [
        {
          "output_type": "execute_result",
          "data": {
            "application/vnd.google.colaboratory.module+javascript": "\n      import \"https://ssl.gstatic.com/colaboratory/data_table/a6224c040fa35dcf/data_table.js\";\n\n      window.createDataTable({\n        data: [[\"Clicks\",\n{\n            'v': 1.0,\n            'f': \"1.0\",\n        },\n{\n            'v': -0.08638808351196885,\n            'f': \"-0.08638808351196885\",\n        },\n{\n            'v': 0.049744269340634945,\n            'f': \"0.049744269340634945\",\n        },\n{\n            'v': 0.34645162231319715,\n            'f': \"0.34645162231319715\",\n        },\n{\n            'v': 0.09887130101921024,\n            'f': \"0.09887130101921024\",\n        }],\n [\"Average Position\",\n{\n            'v': -0.08638808351196885,\n            'f': \"-0.08638808351196885\",\n        },\n{\n            'v': 1.0,\n            'f': \"1.0\",\n        },\n{\n            'v': -0.3880643303054177,\n            'f': \"-0.3880643303054177\",\n        },\n{\n            'v': -0.007916736665097037,\n            'f': \"-0.007916736665097037\",\n        },\n{\n            'v': -0.04113428894762431,\n            'f': \"-0.04113428894762431\",\n        }],\n [\"Site CTR\",\n{\n            'v': 0.049744269340634945,\n            'f': \"0.049744269340634945\",\n        },\n{\n            'v': -0.3880643303054177,\n            'f': \"-0.3880643303054177\",\n        },\n{\n            'v': 1.0,\n            'f': \"1.0\",\n        },\n{\n            'v': -0.034691602757473544,\n            'f': \"-0.034691602757473544\",\n        },\n{\n            'v': 0.030043670562816555,\n            'f': \"0.030043670562816555\",\n        }],\n [\"Impressions\",\n{\n            'v': 0.34645162231319715,\n            'f': \"0.34645162231319715\",\n        },\n{\n            'v': -0.007916736665097037,\n            'f': \"-0.007916736665097037\",\n        },\n{\n            'v': -0.034691602757473544,\n            'f': \"-0.034691602757473544\",\n        },\n{\n            'v': 1.0,\n            'f': \"1.0\",\n        },\n{\n            'v': -0.0011008614179019401,\n            'f': \"-0.0011008614179019401\",\n        }],\n [\"Branded\",\n{\n            'v': 0.09887130101921024,\n            'f': \"0.09887130101921024\",\n        },\n{\n            'v': -0.04113428894762431,\n            'f': \"-0.04113428894762431\",\n        },\n{\n            'v': 0.030043670562816555,\n            'f': \"0.030043670562816555\",\n        },\n{\n            'v': -0.0011008614179019401,\n            'f': \"-0.0011008614179019401\",\n        },\n{\n            'v': 1.0,\n            'f': \"1.0\",\n        }]],\n        columns: [[\"string\", \"index\"], [\"number\", \"Clicks\"], [\"number\", \"Average Position\"], [\"number\", \"Site CTR\"], [\"number\", \"Impressions\"], [\"number\", \"Branded\"]],\n        columnOptions: [{\"width\": \"1px\", \"className\": \"index_column\"}],\n        rowsPerPage: 25,\n        helpUrl: \"https://colab.research.google.com/notebooks/data_table.ipynb\",\n        suppressOutputScrolling: true,\n        minimumWidth: undefined,\n      });\n    ",
            "text/html": [
              "<div>\n",
              "<style scoped>\n",
              "    .dataframe tbody tr th:only-of-type {\n",
              "        vertical-align: middle;\n",
              "    }\n",
              "\n",
              "    .dataframe tbody tr th {\n",
              "        vertical-align: top;\n",
              "    }\n",
              "\n",
              "    .dataframe thead th {\n",
              "        text-align: right;\n",
              "    }\n",
              "</style>\n",
              "<table border=\"1\" class=\"dataframe\">\n",
              "  <thead>\n",
              "    <tr style=\"text-align: right;\">\n",
              "      <th></th>\n",
              "      <th>Clicks</th>\n",
              "      <th>Average Position</th>\n",
              "      <th>Site CTR</th>\n",
              "      <th>Impressions</th>\n",
              "      <th>Branded</th>\n",
              "    </tr>\n",
              "  </thead>\n",
              "  <tbody>\n",
              "    <tr>\n",
              "      <th>Clicks</th>\n",
              "      <td>1.000000</td>\n",
              "      <td>-0.086388</td>\n",
              "      <td>0.049744</td>\n",
              "      <td>0.346452</td>\n",
              "      <td>0.098871</td>\n",
              "    </tr>\n",
              "    <tr>\n",
              "      <th>Average Position</th>\n",
              "      <td>-0.086388</td>\n",
              "      <td>1.000000</td>\n",
              "      <td>-0.388064</td>\n",
              "      <td>-0.007917</td>\n",
              "      <td>-0.041134</td>\n",
              "    </tr>\n",
              "    <tr>\n",
              "      <th>Site CTR</th>\n",
              "      <td>0.049744</td>\n",
              "      <td>-0.388064</td>\n",
              "      <td>1.000000</td>\n",
              "      <td>-0.034692</td>\n",
              "      <td>0.030044</td>\n",
              "    </tr>\n",
              "    <tr>\n",
              "      <th>Impressions</th>\n",
              "      <td>0.346452</td>\n",
              "      <td>-0.007917</td>\n",
              "      <td>-0.034692</td>\n",
              "      <td>1.000000</td>\n",
              "      <td>-0.001101</td>\n",
              "    </tr>\n",
              "    <tr>\n",
              "      <th>Branded</th>\n",
              "      <td>0.098871</td>\n",
              "      <td>-0.041134</td>\n",
              "      <td>0.030044</td>\n",
              "      <td>-0.001101</td>\n",
              "      <td>1.000000</td>\n",
              "    </tr>\n",
              "  </tbody>\n",
              "</table>\n",
              "</div>"
            ],
            "text/plain": [
              "                    Clicks  Average Position  Site CTR  Impressions   Branded\n",
              "Clicks            1.000000         -0.086388  0.049744     0.346452  0.098871\n",
              "Average Position -0.086388          1.000000 -0.388064    -0.007917 -0.041134\n",
              "Site CTR          0.049744         -0.388064  1.000000    -0.034692  0.030044\n",
              "Impressions       0.346452         -0.007917 -0.034692     1.000000 -0.001101\n",
              "Branded           0.098871         -0.041134  0.030044    -0.001101  1.000000"
            ]
          },
          "metadata": {
            "tags": []
          },
          "execution_count": 37
        }
      ]
    },
    {
      "cell_type": "markdown",
      "metadata": {
        "id": "sfCiP1m6uob7"
      },
      "source": [
        "#Correlation Heatmap (add color to make it easier to read):"
      ]
    },
    {
      "cell_type": "code",
      "metadata": {
        "id": "1rDJW32_U2lF",
        "outputId": "3598606d-0e7d-4fe9-a94c-2e18cc95e72a",
        "colab": {
          "base_uri": "https://localhost:8080/",
          "height": 342
        }
      },
      "source": [
        "df_small = df.iloc[:,:6]\n",
        "\n",
        "correlation_mat = df_small.corr()\n",
        "\n",
        "sns.heatmap(correlation_mat, annot = True)\n",
        "\n",
        "plt.show()"
      ],
      "execution_count": null,
      "outputs": [
        {
          "output_type": "display_data",
          "data": {
            "image/png": "[encoded data removed]",
            "text/plain": [
              "<Figure size 432x288 with 2 Axes>"
            ]
          },
          "metadata": {
            "tags": []
          }
        }
      ]
    },
    {
      "cell_type": "markdown",
      "metadata": {
        "id": "SZf73HpeyJjb"
      },
      "source": [
        "#Load Filter-able Data Table"
      ]
    },
    {
      "cell_type": "code",
      "metadata": {
        "id": "ds3cgfzhyJjd"
      },
      "source": [
        " %load_ext google.colab.data_table\n",
        " df"
      ],
      "execution_count": null,
      "outputs": []
    },
    {
      "cell_type": "markdown",
      "metadata": {
        "id": "EajU6RpeyJjg"
      },
      "source": [
        "A few interesting features of the data table display:\n",
        "\n",
        "- Clicking the <button>Filter</button> button in the upper right allows you to search for terms or values in any particular column.\n",
        "- Clicking on any column title lets you sort the results according to that column's value.\n",
        "- The table displays only a subset of the data at a time. You can navigate through pages of data using the controls on the lower right.\n"
      ]
    },
    {
      "cell_type": "code",
      "metadata": {
        "id": "arjvl3027Kwg",
        "colab": {
          "background_save": true
        }
      },
      "source": [
        "df"
      ],
      "execution_count": null,
      "outputs": []
    },
    {
      "cell_type": "markdown",
      "metadata": {
        "id": "ji3aim2NwSZ1"
      },
      "source": [
        "#Disabaling Table View"
      ]
    },
    {
      "cell_type": "code",
      "metadata": {
        "id": "CNS6o4NrwU5S",
        "outputId": "a95a54e0-5455-4c3b-b72d-c96add8bfebe",
        "colab": {
          "base_uri": "https://localhost:8080/",
          "height": 419
        }
      },
      "source": [
        "%unload_ext google.colab.data_table\n",
        "df"
      ],
      "execution_count": null,
      "outputs": [
        {
          "output_type": "execute_result",
          "data": {
            "text/html": [
              "<div>\n",
              "<style scoped>\n",
              "    .dataframe tbody tr th:only-of-type {\n",
              "        vertical-align: middle;\n",
              "    }\n",
              "\n",
              "    .dataframe tbody tr th {\n",
              "        vertical-align: top;\n",
              "    }\n",
              "\n",
              "    .dataframe thead th {\n",
              "        text-align: right;\n",
              "    }\n",
              "</style>\n",
              "<table border=\"1\" class=\"dataframe\">\n",
              "  <thead>\n",
              "    <tr style=\"text-align: right;\">\n",
              "      <th></th>\n",
              "      <th>Query</th>\n",
              "      <th>Clicks</th>\n",
              "      <th>Average Position</th>\n",
              "      <th>Site CTR</th>\n",
              "      <th>Impressions</th>\n",
              "    </tr>\n",
              "  </thead>\n",
              "  <tbody>\n",
              "    <tr>\n",
              "      <th>0</th>\n",
              "      <td>seer interactive</td>\n",
              "      <td>3444</td>\n",
              "      <td>1.407144</td>\n",
              "      <td>0.597191</td>\n",
              "      <td>5767</td>\n",
              "    </tr>\n",
              "    <tr>\n",
              "      <th>1</th>\n",
              "      <td>google data studio</td>\n",
              "      <td>1352</td>\n",
              "      <td>8.237460</td>\n",
              "      <td>0.003478</td>\n",
              "      <td>388735</td>\n",
              "    </tr>\n",
              "    <tr>\n",
              "      <th>2</th>\n",
              "      <td>johari window exercise</td>\n",
              "      <td>992</td>\n",
              "      <td>1.128184</td>\n",
              "      <td>0.414196</td>\n",
              "      <td>2395</td>\n",
              "    </tr>\n",
              "    <tr>\n",
              "      <th>3</th>\n",
              "      <td>keywords everywhere</td>\n",
              "      <td>985</td>\n",
              "      <td>6.454694</td>\n",
              "      <td>0.006399</td>\n",
              "      <td>153930</td>\n",
              "    </tr>\n",
              "    <tr>\n",
              "      <th>4</th>\n",
              "      <td>google discovery</td>\n",
              "      <td>910</td>\n",
              "      <td>3.242859</td>\n",
              "      <td>0.060449</td>\n",
              "      <td>15054</td>\n",
              "    </tr>\n",
              "    <tr>\n",
              "      <th>...</th>\n",
              "      <td>...</td>\n",
              "      <td>...</td>\n",
              "      <td>...</td>\n",
              "      <td>...</td>\n",
              "      <td>...</td>\n",
              "    </tr>\n",
              "    <tr>\n",
              "      <th>27900</th>\n",
              "      <td>url crawl</td>\n",
              "      <td>0</td>\n",
              "      <td>26.597458</td>\n",
              "      <td>0.000000</td>\n",
              "      <td>236</td>\n",
              "    </tr>\n",
              "    <tr>\n",
              "      <th>27901</th>\n",
              "      <td>how to do outreach</td>\n",
              "      <td>0</td>\n",
              "      <td>78.058824</td>\n",
              "      <td>0.000000</td>\n",
              "      <td>17</td>\n",
              "    </tr>\n",
              "    <tr>\n",
              "      <th>27902</th>\n",
              "      <td>keyword search terms</td>\n",
              "      <td>0</td>\n",
              "      <td>80.666667</td>\n",
              "      <td>0.000000</td>\n",
              "      <td>6</td>\n",
              "    </tr>\n",
              "    <tr>\n",
              "      <th>27903</th>\n",
              "      <td>native adv</td>\n",
              "      <td>0</td>\n",
              "      <td>4.375000</td>\n",
              "      <td>0.000000</td>\n",
              "      <td>8</td>\n",
              "    </tr>\n",
              "    <tr>\n",
              "      <th>27904</th>\n",
              "      <td>power bi query editor remove duplicates</td>\n",
              "      <td>0</td>\n",
              "      <td>5.800000</td>\n",
              "      <td>0.000000</td>\n",
              "      <td>5</td>\n",
              "    </tr>\n",
              "  </tbody>\n",
              "</table>\n",
              "<p>27905 rows × 5 columns</p>\n",
              "</div>"
            ],
            "text/plain": [
              "                                         Query  Clicks  ...  Site CTR  Impressions\n",
              "0                             seer interactive    3444  ...  0.597191         5767\n",
              "1                           google data studio    1352  ...  0.003478       388735\n",
              "2                       johari window exercise     992  ...  0.414196         2395\n",
              "3                          keywords everywhere     985  ...  0.006399       153930\n",
              "4                             google discovery     910  ...  0.060449        15054\n",
              "...                                        ...     ...  ...       ...          ...\n",
              "27900                                url crawl       0  ...  0.000000          236\n",
              "27901                       how to do outreach       0  ...  0.000000           17\n",
              "27902                     keyword search terms       0  ...  0.000000            6\n",
              "27903                               native adv       0  ...  0.000000            8\n",
              "27904  power bi query editor remove duplicates       0  ...  0.000000            5\n",
              "\n",
              "[27905 rows x 5 columns]"
            ]
          },
          "metadata": {
            "tags": []
          },
          "execution_count": 13
        }
      ]
    },
    {
      "cell_type": "markdown",
      "metadata": {
        "id": "O98Z0boYM6hb"
      },
      "source": [
        "#Change Branded Boolean Values (True/False) --> Integers (1/0) for a Basic Linear Regression\n"
      ]
    },
    {
      "cell_type": "code",
      "metadata": {
        "id": "NvfEMVGQZvjC"
      },
      "source": [
        "df['Branded'] = df['Branded']*1"
      ],
      "execution_count": null,
      "outputs": []
    },
    {
      "cell_type": "markdown",
      "metadata": {
        "id": "XlDzOYnxu_wH"
      },
      "source": [
        "#Check to make sure the Branded Column is now in an int64 format:"
      ]
    },
    {
      "cell_type": "code",
      "metadata": {
        "id": "wmfXbKH7aCdW",
        "outputId": "85fa5252-1df9-4abb-dadd-680e35323c06",
        "colab": {
          "base_uri": "https://localhost:8080/"
        }
      },
      "source": [
        "df.info()"
      ],
      "execution_count": null,
      "outputs": [
        {
          "output_type": "stream",
          "text": [
            "<class 'pandas.core.frame.DataFrame'>\n",
            "RangeIndex: 27905 entries, 0 to 27904\n",
            "Data columns (total 6 columns):\n",
            " #   Column            Non-Null Count  Dtype  \n",
            "---  ------            --------------  -----  \n",
            " 0   Query             27905 non-null  object \n",
            " 1   Clicks            27905 non-null  int64  \n",
            " 2   Average Position  27905 non-null  float64\n",
            " 3   Site CTR          27905 non-null  float64\n",
            " 4   Impressions       27905 non-null  int64  \n",
            " 5   Branded           27905 non-null  int64  \n",
            "dtypes: float64(2), int64(3), object(1)\n",
            "memory usage: 1.3+ MB\n"
          ],
          "name": "stdout"
        }
      ]
    },
    {
      "cell_type": "markdown",
      "metadata": {
        "id": "FfAmgQJ1vIWn"
      },
      "source": [
        "#If you need to alter any other values for your Linear Regression to an integer format:"
      ]
    },
    {
      "cell_type": "code",
      "metadata": {
        "id": "wIKDJ4dpWgUL",
        "outputId": "b850f7c5-82c7-41fc-ca32-c799fef68502",
        "colab": {
          "base_uri": "https://localhost:8080/"
        }
      },
      "source": [
        "#df['Rank'].astype('int')\n",
        "#df['Rank'] = df['Rank'].astype('int')\n",
        "#df.dtypes"
      ],
      "execution_count": null,
      "outputs": [
        {
          "output_type": "execute_result",
          "data": {
            "text/plain": [
              "Query                object\n",
              "Clicks                int64\n",
              "Average Position      int64\n",
              "Site CTR            float64\n",
              "Impressions           int64\n",
              "Branded                bool\n",
              "dtype: object"
            ]
          },
          "metadata": {
            "tags": []
          },
          "execution_count": 36
        }
      ]
    },
    {
      "cell_type": "markdown",
      "metadata": {
        "id": "hRls8Bq8vRxO"
      },
      "source": [
        "#Check to make sure Branded Column values are showing 1 for Branded Keywords & 0 for non Branded."
      ]
    },
    {
      "cell_type": "code",
      "metadata": {
        "id": "aNDVEimyYIdW",
        "outputId": "630191ad-424b-4365-bc17-400f5870372c",
        "colab": {
          "base_uri": "https://localhost:8080/",
          "height": 419
        }
      },
      "source": [
        "df"
      ],
      "execution_count": null,
      "outputs": [
        {
          "output_type": "execute_result",
          "data": {
            "text/html": [
              "<div>\n",
              "<style scoped>\n",
              "    .dataframe tbody tr th:only-of-type {\n",
              "        vertical-align: middle;\n",
              "    }\n",
              "\n",
              "    .dataframe tbody tr th {\n",
              "        vertical-align: top;\n",
              "    }\n",
              "\n",
              "    .dataframe thead th {\n",
              "        text-align: right;\n",
              "    }\n",
              "</style>\n",
              "<table border=\"1\" class=\"dataframe\">\n",
              "  <thead>\n",
              "    <tr style=\"text-align: right;\">\n",
              "      <th></th>\n",
              "      <th>Query</th>\n",
              "      <th>Clicks</th>\n",
              "      <th>Average Position</th>\n",
              "      <th>Site CTR</th>\n",
              "      <th>Impressions</th>\n",
              "      <th>Branded</th>\n",
              "    </tr>\n",
              "  </thead>\n",
              "  <tbody>\n",
              "    <tr>\n",
              "      <th>0</th>\n",
              "      <td>seer interactive</td>\n",
              "      <td>3444</td>\n",
              "      <td>1.407144</td>\n",
              "      <td>0.597191</td>\n",
              "      <td>5767</td>\n",
              "      <td>1</td>\n",
              "    </tr>\n",
              "    <tr>\n",
              "      <th>1</th>\n",
              "      <td>google data studio</td>\n",
              "      <td>1352</td>\n",
              "      <td>8.237460</td>\n",
              "      <td>0.003478</td>\n",
              "      <td>388735</td>\n",
              "      <td>0</td>\n",
              "    </tr>\n",
              "    <tr>\n",
              "      <th>2</th>\n",
              "      <td>johari window exercise</td>\n",
              "      <td>992</td>\n",
              "      <td>1.128184</td>\n",
              "      <td>0.414196</td>\n",
              "      <td>2395</td>\n",
              "      <td>0</td>\n",
              "    </tr>\n",
              "    <tr>\n",
              "      <th>3</th>\n",
              "      <td>keywords everywhere</td>\n",
              "      <td>985</td>\n",
              "      <td>6.454694</td>\n",
              "      <td>0.006399</td>\n",
              "      <td>153930</td>\n",
              "      <td>0</td>\n",
              "    </tr>\n",
              "    <tr>\n",
              "      <th>4</th>\n",
              "      <td>google discovery</td>\n",
              "      <td>910</td>\n",
              "      <td>3.242859</td>\n",
              "      <td>0.060449</td>\n",
              "      <td>15054</td>\n",
              "      <td>0</td>\n",
              "    </tr>\n",
              "    <tr>\n",
              "      <th>...</th>\n",
              "      <td>...</td>\n",
              "      <td>...</td>\n",
              "      <td>...</td>\n",
              "      <td>...</td>\n",
              "      <td>...</td>\n",
              "      <td>...</td>\n",
              "    </tr>\n",
              "    <tr>\n",
              "      <th>27900</th>\n",
              "      <td>url crawl</td>\n",
              "      <td>0</td>\n",
              "      <td>26.597458</td>\n",
              "      <td>0.000000</td>\n",
              "      <td>236</td>\n",
              "      <td>0</td>\n",
              "    </tr>\n",
              "    <tr>\n",
              "      <th>27901</th>\n",
              "      <td>how to do outreach</td>\n",
              "      <td>0</td>\n",
              "      <td>78.058824</td>\n",
              "      <td>0.000000</td>\n",
              "      <td>17</td>\n",
              "      <td>0</td>\n",
              "    </tr>\n",
              "    <tr>\n",
              "      <th>27902</th>\n",
              "      <td>keyword search terms</td>\n",
              "      <td>0</td>\n",
              "      <td>80.666667</td>\n",
              "      <td>0.000000</td>\n",
              "      <td>6</td>\n",
              "      <td>0</td>\n",
              "    </tr>\n",
              "    <tr>\n",
              "      <th>27903</th>\n",
              "      <td>native adv</td>\n",
              "      <td>0</td>\n",
              "      <td>4.375000</td>\n",
              "      <td>0.000000</td>\n",
              "      <td>8</td>\n",
              "      <td>0</td>\n",
              "    </tr>\n",
              "    <tr>\n",
              "      <th>27904</th>\n",
              "      <td>power bi query editor remove duplicates</td>\n",
              "      <td>0</td>\n",
              "      <td>5.800000</td>\n",
              "      <td>0.000000</td>\n",
              "      <td>5</td>\n",
              "      <td>0</td>\n",
              "    </tr>\n",
              "  </tbody>\n",
              "</table>\n",
              "<p>27905 rows × 6 columns</p>\n",
              "</div>"
            ],
            "text/plain": [
              "                                         Query  Clicks  ...  Impressions  Branded\n",
              "0                             seer interactive    3444  ...         5767        1\n",
              "1                           google data studio    1352  ...       388735        0\n",
              "2                       johari window exercise     992  ...         2395        0\n",
              "3                          keywords everywhere     985  ...       153930        0\n",
              "4                             google discovery     910  ...        15054        0\n",
              "...                                        ...     ...  ...          ...      ...\n",
              "27900                                url crawl       0  ...          236        0\n",
              "27901                       how to do outreach       0  ...           17        0\n",
              "27902                     keyword search terms       0  ...            6        0\n",
              "27903                               native adv       0  ...            8        0\n",
              "27904  power bi query editor remove duplicates       0  ...            5        0\n",
              "\n",
              "[27905 rows x 6 columns]"
            ]
          },
          "metadata": {
            "tags": []
          },
          "execution_count": 42
        }
      ]
    },
    {
      "cell_type": "markdown",
      "metadata": {
        "id": "CeuKXbAhvZLF"
      },
      "source": [
        "#Perform a Simple Linear Regression Model to Better Describe the Data\n",
        "\n",
        "Substitute your values/column names in below if different.\n",
        "\n",
        "Remember, this isn't supposed to be predictive. It's primarily to better describe/understand your data."
      ]
    },
    {
      "cell_type": "code",
      "metadata": {
        "id": "5SIrlYxJ9xkR",
        "outputId": "0517d8ad-435e-4675-9832-8a09fe3b504b",
        "colab": {
          "base_uri": "https://localhost:8080/"
        }
      },
      "source": [
        "# Simple Linear Regression\n",
        "\n",
        "\n",
        "#Load function from sklearn\n",
        "from sklearn import linear_model\n",
        "\n",
        "# Create linear regression object\n",
        "regr = linear_model.LinearRegression()\n",
        "\n",
        "y = df['CTR']\n",
        "x = df[['Rank','Branded']]\n",
        "\n",
        "# Train the model using the training sets\n",
        "regr.fit(x,y)\n"
      ],
      "execution_count": null,
      "outputs": [
        {
          "output_type": "execute_result",
          "data": {
            "text/plain": [
              "LinearRegression(copy_X=True, fit_intercept=True, n_jobs=None, normalize=False)"
            ]
          },
          "metadata": {
            "tags": []
          },
          "execution_count": 43
        }
      ]
    },
    {
      "cell_type": "markdown",
      "metadata": {
        "id": "-TEzlZcbxpwV"
      },
      "source": [
        "The first coeficient # is multiplyed by your first x value above.\n",
        "\n",
        "If you see a second coeficient #, that is multiplied by your second x value above. \n",
        "\n",
        "These two values are then added together + added to the intercept below."
      ]
    },
    {
      "cell_type": "code",
      "metadata": {
        "id": "TjvURPFf-jxC",
        "outputId": "e6070a6a-d49c-4a3f-e004-6d8cc769ac0b",
        "colab": {
          "base_uri": "https://localhost:8080/"
        }
      },
      "source": [
        "regr.coef_"
      ],
      "execution_count": null,
      "outputs": [
        {
          "output_type": "execute_result",
          "data": {
            "text/plain": [
              "array([-0.00320727,  0.06721488])"
            ]
          },
          "metadata": {
            "tags": []
          },
          "execution_count": 44
        }
      ]
    },
    {
      "cell_type": "code",
      "metadata": {
        "id": "kJRfK7rb-llC",
        "outputId": "97e23368-96f5-4e4e-8035-845e77f08ce3",
        "colab": {
          "base_uri": "https://localhost:8080/"
        }
      },
      "source": [
        "regr.intercept_"
      ],
      "execution_count": null,
      "outputs": [
        {
          "output_type": "execute_result",
          "data": {
            "text/plain": [
              "0.2635564810462664"
            ]
          },
          "metadata": {
            "tags": []
          },
          "execution_count": 45
        }
      ]
    },
    {
      "cell_type": "code",
      "metadata": {
        "id": "C4zTXlqS-nes"
      },
      "source": [
        "#Example: Site CTR Predicted = 0.1809 + -0.0109*Average Position + 0.0672*Branded\n",
        "\n",
        "#Example of Described CTR curve:\n",
        "\n",
        "#1 = 17%\n",
        "#2 = 16%\n",
        "#3 = 15%\n",
        "#4 = 14%\n",
        "#5 = 13%\n",
        "#6 = 12%\n",
        "#7 = 10%\n",
        "#8 = 9%\n",
        "#9 = 8%\n",
        "#10 = 7%"
      ],
      "execution_count": null,
      "outputs": []
    }
  ]
}
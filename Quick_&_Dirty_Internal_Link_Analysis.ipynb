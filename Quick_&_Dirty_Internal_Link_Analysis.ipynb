{
  "nbformat": 4,
  "nbformat_minor": 0,
  "metadata": {
    "colab": {
      "name": "Quick & Dirty Internal Link Analysis.ipynb",
      "provenance": [],
      "collapsed_sections": [],
      "toc_visible": true,
      "authorship_tag": "ABX9TyNu7uPxkZOZj8FU92mbBSjO",
      "include_colab_link": true
    },
    "kernelspec": {
      "name": "python3",
      "display_name": "Python 3"
    },
    "accelerator": "GPU",
    "widgets": {
      "application/vnd.jupyter.widget-state+json": {
        "7a54b97f414d4e35a8f66fe701bff757": {
          "model_module": "@jupyter-widgets/controls",
          "model_name": "TextareaModel",
          "state": {
            "_view_name": "TextareaView",
            "style": "IPY_MODEL_1750bd48543043589a80be5171784dbf",
            "rows": null,
            "_dom_classes": [],
            "description": "Internal links:",
            "_model_name": "TextareaModel",
            "placeholder": "Type url here",
            "_view_module": "@jupyter-widgets/controls",
            "_model_module_version": "1.5.0",
            "value": "",
            "_view_count": null,
            "disabled": false,
            "_view_module_version": "1.5.0",
            "continuous_update": true,
            "description_tooltip": null,
            "_model_module": "@jupyter-widgets/controls",
            "layout": "IPY_MODEL_73e828f4d5594887a7ddfaa2da4518bc"
          }
        },
        "1750bd48543043589a80be5171784dbf": {
          "model_module": "@jupyter-widgets/controls",
          "model_name": "DescriptionStyleModel",
          "state": {
            "_view_name": "StyleView",
            "_model_name": "DescriptionStyleModel",
            "description_width": "",
            "_view_module": "@jupyter-widgets/base",
            "_model_module_version": "1.5.0",
            "_view_count": null,
            "_view_module_version": "1.2.0",
            "_model_module": "@jupyter-widgets/controls"
          }
        },
        "73e828f4d5594887a7ddfaa2da4518bc": {
          "model_module": "@jupyter-widgets/base",
          "model_name": "LayoutModel",
          "state": {
            "_view_name": "LayoutView",
            "grid_template_rows": null,
            "right": null,
            "justify_content": null,
            "_view_module": "@jupyter-widgets/base",
            "overflow": null,
            "_model_module_version": "1.2.0",
            "_view_count": null,
            "flex_flow": null,
            "width": null,
            "min_width": null,
            "border": null,
            "align_items": null,
            "bottom": null,
            "_model_module": "@jupyter-widgets/base",
            "top": null,
            "grid_column": null,
            "overflow_y": null,
            "overflow_x": null,
            "grid_auto_flow": null,
            "grid_area": null,
            "grid_template_columns": null,
            "flex": null,
            "_model_name": "LayoutModel",
            "justify_items": null,
            "grid_row": null,
            "max_height": null,
            "align_content": null,
            "visibility": null,
            "align_self": null,
            "height": null,
            "min_height": null,
            "padding": null,
            "grid_auto_rows": null,
            "grid_gap": null,
            "max_width": null,
            "order": null,
            "_view_module_version": "1.2.0",
            "grid_template_areas": null,
            "object_position": null,
            "object_fit": null,
            "grid_auto_columns": null,
            "margin": null,
            "display": null,
            "left": null
          }
        }
      }
    }
  },
  "cells": [
    {
      "cell_type": "markdown",
      "metadata": {
        "id": "view-in-github",
        "colab_type": "text"
      },
      "source": [
        "<a href=\"https://colab.research.google.com/github/BritneyMuller/colab-notebooks/blob/master/Quick_%26_Dirty_Internal_Link_Analysis.ipynb\" target=\"_parent\"><img src=\"https://colab.research.google.com/assets/colab-badge.svg\" alt=\"Open In Colab\"/></a>"
      ]
    },
    {
      "cell_type": "markdown",
      "metadata": {
        "id": "G7y0mSAmOKrV",
        "colab_type": "text"
      },
      "source": [
        "# Internal Link Analysis\n",
        "\n",
        "Made by [![Follow](https://img.shields.io/twitter/follow/BritneyMuller?style=social)](https://twitter.com/BritneyMuller)\n",
        "\n",
        "Please contact britneymuller@gmail.com with Subject [Colab Link Analysis] with any questions.\n",
        "\n",
        "Explore: [github.com/BritneyMuller/colab-notebooks ](github.com/BritneyMuller/colab-notebooks)for more Notebook examples"
      ]
    },
    {
      "cell_type": "markdown",
      "metadata": {
        "id": "Y59nEdqJO7Wg",
        "colab_type": "text"
      },
      "source": [
        "# Upload internal link data via Screaming Frog 🐸\n",
        "\n",
        "\n",
        "![Export internal link csv to your local computer](https://i.ibb.co/5W2crVy/Screen-Shot-2020-02-26-at-12-14-13-AM.png)\n",
        "\n",
        "---\n",
        "Before you start click: \n",
        "\n",
        "> 'Edit' -> 'Notebook Settings' and change 'Hardware Accelerator' to GPU.\n",
        "\n",
        "---\n",
        "\n",
        "\n",
        "\n",
        "Note: [Shift + Return] is the shortcut to run a single cell. \n",
        "\n",
        "Try running the code below by clicking into the cell and doing [Shift + Return].\n"
      ]
    },
    {
      "cell_type": "code",
      "metadata": {
        "id": "dOGPtWU6fAKR",
        "colab_type": "code",
        "colab": {}
      },
      "source": [
        "import csv\n",
        "import json\n",
        "import requests\n",
        "import pandas as pd\n",
        "import numpy as np\n",
        "import re\n",
        "from IPython.display import display"
      ],
      "execution_count": null,
      "outputs": []
    },
    {
      "cell_type": "code",
      "metadata": {
        "id": "TSOQ1M2kO1F_",
        "colab_type": "code",
        "colab": {
          "resources": {
            "http://localhost:8080/nbextensions/google.colab/files.js": {
              "data": "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",
              "ok": true,
              "headers": [
                [
                  "content-type",
                  "application/javascript"
                ]
              ],
              "status": 200,
              "status_text": ""
            }
          },
          "base_uri": "https://localhost:8080/",
          "height": 72
        },
        "outputId": "188af5ac-9f59-4ec3-edc3-39af09377408"
      },
      "source": [
        "from google.colab import files\n",
        "uploaded = files.upload()"
      ],
      "execution_count": null,
      "outputs": [
        {
          "output_type": "display_data",
          "data": {
            "text/html": [
              "\n",
              "     <input type=\"file\" id=\"files-4cd72e8c-212b-4751-baf7-b82a9c4e90bb\" name=\"files[]\" multiple disabled />\n",
              "     <output id=\"result-4cd72e8c-212b-4751-baf7-b82a9c4e90bb\">\n",
              "      Upload widget is only available when the cell has been executed in the\n",
              "      current browser session. Please rerun this cell to enable.\n",
              "      </output>\n",
              "      <script src=\"/nbextensions/google.colab/files.js\"></script> "
            ],
            "text/plain": [
              "<IPython.core.display.HTML object>"
            ]
          },
          "metadata": {
            "tags": []
          }
        },
        {
          "output_type": "stream",
          "text": [
            "Saving berkey-inlinks.csv to berkey-inlinks.csv\n"
          ],
          "name": "stdout"
        }
      ]
    },
    {
      "cell_type": "markdown",
      "metadata": {
        "id": "DvhbitJsgn3A",
        "colab_type": "text"
      },
      "source": [
        "Upload data as \"df\" (dataframe)"
      ]
    },
    {
      "cell_type": "code",
      "metadata": {
        "id": "5bwFFew5O4_y",
        "colab_type": "code",
        "colab": {}
      },
      "source": [
        "df = pd.read_csv(\"lp-inlinks.csv\")"
      ],
      "execution_count": null,
      "outputs": []
    },
    {
      "cell_type": "markdown",
      "metadata": {
        "id": "B1d2HJG0gt4P",
        "colab_type": "text"
      },
      "source": [
        "Look at the first 5 lines (this includes the header)\n"
      ]
    },
    {
      "cell_type": "code",
      "metadata": {
        "id": "PAuO2kzLe5QU",
        "colab_type": "code",
        "colab": {
          "base_uri": "https://localhost:8080/",
          "height": 204
        },
        "outputId": "2efb4615-9a14-4cd1-e26a-60f52d38dfdb"
      },
      "source": [
        "df.head()"
      ],
      "execution_count": null,
      "outputs": [
        {
          "output_type": "execute_result",
          "data": {
            "text/html": [
              "<div>\n",
              "<style scoped>\n",
              "    .dataframe tbody tr th:only-of-type {\n",
              "        vertical-align: middle;\n",
              "    }\n",
              "\n",
              "    .dataframe tbody tr th {\n",
              "        vertical-align: top;\n",
              "    }\n",
              "\n",
              "    .dataframe thead th {\n",
              "        text-align: right;\n",
              "    }\n",
              "</style>\n",
              "<table border=\"1\" class=\"dataframe\">\n",
              "  <thead>\n",
              "    <tr style=\"text-align: right;\">\n",
              "      <th></th>\n",
              "      <th>Type</th>\n",
              "      <th>From</th>\n",
              "      <th>To</th>\n",
              "      <th>Anchor Text</th>\n",
              "      <th>Alt Text</th>\n",
              "      <th>Follow</th>\n",
              "      <th>Link Attributes</th>\n",
              "    </tr>\n",
              "  </thead>\n",
              "  <tbody>\n",
              "    <tr>\n",
              "      <th>0</th>\n",
              "      <td>AHREF</td>\n",
              "      <td>https://www.berkeyfilters.com/</td>\n",
              "      <td>https://www.berkeyfilters.com/</td>\n",
              "      <td>Skip to content</td>\n",
              "      <td>NaN</td>\n",
              "      <td>True</td>\n",
              "      <td>NaN</td>\n",
              "    </tr>\n",
              "    <tr>\n",
              "      <th>1</th>\n",
              "      <td>AHREF</td>\n",
              "      <td>https://www.berkeyfilters.com/</td>\n",
              "      <td>https://www.berkeyfilters.com/</td>\n",
              "      <td>NaN</td>\n",
              "      <td>Berkey Filters Logo</td>\n",
              "      <td>True</td>\n",
              "      <td>NaN</td>\n",
              "    </tr>\n",
              "    <tr>\n",
              "      <th>2</th>\n",
              "      <td>AHREF</td>\n",
              "      <td>https://www.berkeyfilters.com/</td>\n",
              "      <td>https://www.berkeyfilters.com/</td>\n",
              "      <td>NaN</td>\n",
              "      <td>NaN</td>\n",
              "      <td>True</td>\n",
              "      <td>NaN</td>\n",
              "    </tr>\n",
              "    <tr>\n",
              "      <th>3</th>\n",
              "      <td>AHREF</td>\n",
              "      <td>https://www.berkeyfilters.com/</td>\n",
              "      <td>https://www.berkeyfilters.com/</td>\n",
              "      <td>Become a Dealer</td>\n",
              "      <td>NaN</td>\n",
              "      <td>True</td>\n",
              "      <td>NaN</td>\n",
              "    </tr>\n",
              "    <tr>\n",
              "      <th>4</th>\n",
              "      <td>AHREF</td>\n",
              "      <td>https://www.berkeyfilters.com/</td>\n",
              "      <td>https://www.berkeyfilters.com/</td>\n",
              "      <td>Created with Sketch. Watch Our Water Story</td>\n",
              "      <td>NaN</td>\n",
              "      <td>True</td>\n",
              "      <td>NaN</td>\n",
              "    </tr>\n",
              "  </tbody>\n",
              "</table>\n",
              "</div>"
            ],
            "text/plain": [
              "    Type                            From  ... Follow Link Attributes\n",
              "0  AHREF  https://www.berkeyfilters.com/  ...   True             NaN\n",
              "1  AHREF  https://www.berkeyfilters.com/  ...   True             NaN\n",
              "2  AHREF  https://www.berkeyfilters.com/  ...   True             NaN\n",
              "3  AHREF  https://www.berkeyfilters.com/  ...   True             NaN\n",
              "4  AHREF  https://www.berkeyfilters.com/  ...   True             NaN\n",
              "\n",
              "[5 rows x 7 columns]"
            ]
          },
          "metadata": {
            "tags": []
          },
          "execution_count": 4
        }
      ]
    },
    {
      "cell_type": "code",
      "metadata": {
        "id": "sum4dPoukwW4",
        "colab_type": "code",
        "colab": {
          "base_uri": "https://localhost:8080/",
          "height": 204
        },
        "outputId": "256de410-6ccb-4ced-ecda-8061e6f45d61"
      },
      "source": [
        "df.tail()"
      ],
      "execution_count": null,
      "outputs": [
        {
          "output_type": "execute_result",
          "data": {
            "text/html": [
              "<div>\n",
              "<style scoped>\n",
              "    .dataframe tbody tr th:only-of-type {\n",
              "        vertical-align: middle;\n",
              "    }\n",
              "\n",
              "    .dataframe tbody tr th {\n",
              "        vertical-align: top;\n",
              "    }\n",
              "\n",
              "    .dataframe thead th {\n",
              "        text-align: right;\n",
              "    }\n",
              "</style>\n",
              "<table border=\"1\" class=\"dataframe\">\n",
              "  <thead>\n",
              "    <tr style=\"text-align: right;\">\n",
              "      <th></th>\n",
              "      <th>Type</th>\n",
              "      <th>From</th>\n",
              "      <th>To</th>\n",
              "      <th>Anchor Text</th>\n",
              "      <th>Alt Text</th>\n",
              "      <th>Follow</th>\n",
              "      <th>Link Attributes</th>\n",
              "    </tr>\n",
              "  </thead>\n",
              "  <tbody>\n",
              "    <tr>\n",
              "      <th>45604</th>\n",
              "      <td>AHREF</td>\n",
              "      <td>https://www.berkeyfilters.com/blogs/berkey-lif...</td>\n",
              "      <td>https://www.berkeyfilters.com/blogs/berkey-lif...</td>\n",
              "      <td>9</td>\n",
              "      <td>NaN</td>\n",
              "      <td>True</td>\n",
              "      <td>NaN</td>\n",
              "    </tr>\n",
              "    <tr>\n",
              "      <th>45605</th>\n",
              "      <td>AHREF</td>\n",
              "      <td>https://www.berkeyfilters.com/blogs/berkey-lif...</td>\n",
              "      <td>https://www.berkeyfilters.com/blogs/berkey-lif...</td>\n",
              "      <td>Next</td>\n",
              "      <td>NaN</td>\n",
              "      <td>True</td>\n",
              "      <td>NaN</td>\n",
              "    </tr>\n",
              "    <tr>\n",
              "      <th>45606</th>\n",
              "      <td>AHREF</td>\n",
              "      <td>https://www.berkeyfilters.com/blogs/berkey-lif...</td>\n",
              "      <td>https://www.berkeyfilters.com/blogs/berkey-lif...</td>\n",
              "      <td>Previous</td>\n",
              "      <td>NaN</td>\n",
              "      <td>True</td>\n",
              "      <td>NaN</td>\n",
              "    </tr>\n",
              "    <tr>\n",
              "      <th>45607</th>\n",
              "      <td>AHREF</td>\n",
              "      <td>https://www.berkeyfilters.com/blogs/berkey-lif...</td>\n",
              "      <td>https://www.berkeyfilters.com/blogs/berkey-lif...</td>\n",
              "      <td>9</td>\n",
              "      <td>NaN</td>\n",
              "      <td>True</td>\n",
              "      <td>NaN</td>\n",
              "    </tr>\n",
              "    <tr>\n",
              "      <th>45608</th>\n",
              "      <td>AHREF</td>\n",
              "      <td>https://www.berkeyfilters.com/blogs/berkey-lif...</td>\n",
              "      <td>https://www.berkeyfilters.com/blogs/berkey-lif...</td>\n",
              "      <td>Skip to content</td>\n",
              "      <td>NaN</td>\n",
              "      <td>True</td>\n",
              "      <td>NaN</td>\n",
              "    </tr>\n",
              "  </tbody>\n",
              "</table>\n",
              "</div>"
            ],
            "text/plain": [
              "        Type  ... Link Attributes\n",
              "45604  AHREF  ...             NaN\n",
              "45605  AHREF  ...             NaN\n",
              "45606  AHREF  ...             NaN\n",
              "45607  AHREF  ...             NaN\n",
              "45608  AHREF  ...             NaN\n",
              "\n",
              "[5 rows x 7 columns]"
            ]
          },
          "metadata": {
            "tags": []
          },
          "execution_count": 5
        }
      ]
    },
    {
      "cell_type": "markdown",
      "metadata": {
        "id": "ZnAbsqarhROu",
        "colab_type": "text"
      },
      "source": [
        "## Evaluate internal link counts"
      ]
    },
    {
      "cell_type": "code",
      "metadata": {
        "id": "6iJm3AJOi0SH",
        "colab_type": "code",
        "colab": {
          "base_uri": "https://localhost:8080/",
          "height": 233
        },
        "outputId": "60ba0f5b-80a4-4f9a-9ee4-b78bd260e118"
      },
      "source": [
        "df['To'].value_counts()"
      ],
      "execution_count": null,
      "outputs": [
        {
          "output_type": "execute_result",
          "data": {
            "text/plain": [
              "https://www.berkeyfilters.com/products/sport-berkey                                                                           1158\n",
              "https://www.berkeyfilters.com/pages/berkey-water-filter-policies                                                              1143\n",
              "https://www.berkeyfilters.com/collections/berkey-water-filter-systems                                                         1104\n",
              "https://www.berkeyfilters.com/                                                                                                 867\n",
              "https://www.berkeyfilters.com/pages/berkey-answers                                                                             833\n",
              "                                                                                                                              ... \n",
              "https://www.berkeyfilters.com/blogs/berkey-life/www.iheartcats.com/could-tap-water-be-causing-health-issues-in-pets/%20          1\n",
              "https://www.berkeyfilters.com/berkey-water-filters/go-berkey.html                                                                1\n",
              "https://www.berkeyfilters.com/blogs/berkey-life/www.petmd.com/dog/general-health/tap-water-safe-dogs                             1\n",
              "https://www.berkeyfilters.com/pages/berkey-filters-scratch-and-dent                                                              1\n",
              "https://www.berkeyfilters.com/blogs/berkey-life/www.waterforlifeonline.com/blog/pets-love-drinking-water-more-than-humans/       1\n",
              "Name: To, Length: 196, dtype: int64"
            ]
          },
          "metadata": {
            "tags": []
          },
          "execution_count": 6
        }
      ]
    },
    {
      "cell_type": "markdown",
      "metadata": {
        "id": "12BjiBNThlnq",
        "colab_type": "text"
      },
      "source": [
        "# Evaluate internal anchor text count"
      ]
    },
    {
      "cell_type": "code",
      "metadata": {
        "id": "tSVQR2q3hPWo",
        "colab_type": "code",
        "colab": {
          "base_uri": "https://localhost:8080/",
          "height": 233
        },
        "outputId": "29027de6-9444-41d9-8a43-604bb3bc5d1e"
      },
      "source": [
        "df['Anchor Text'].value_counts()"
      ],
      "execution_count": null,
      "outputs": [
        {
          "output_type": "execute_result",
          "data": {
            "text/plain": [
              "Are Your Children Drinking Safe Water?                          588\n",
              "Why Filtered Water Matters                                      588\n",
              "20+ Ways To Use Berkey Water                                    588\n",
              "What is Berkey Livin'?                                          588\n",
              "Pets Need Filtered Water Too!                                   588\n",
              "                                                               ... \n",
              "BUNDLE SALE : Travel Berkey® with Fluoride Filters : 1.5 Gal      1\n",
              "Black Berkey element                                              1\n",
              "Berkey Purification Process                                       1\n",
              "compare the competition                                           1\n",
              "the filtration process                                            1\n",
              "Name: Anchor Text, Length: 578, dtype: int64"
            ]
          },
          "metadata": {
            "tags": []
          },
          "execution_count": 7
        }
      ]
    },
    {
      "cell_type": "markdown",
      "metadata": {
        "id": "z9GaE8SJi89u",
        "colab_type": "text"
      },
      "source": [
        "## Find all links to 'X' Page"
      ]
    },
    {
      "cell_type": "code",
      "metadata": {
        "id": "LbuhQAbvhk_P",
        "colab_type": "code",
        "colab": {
          "base_uri": "https://localhost:8080/",
          "height": 419
        },
        "outputId": "0d97bed8-9c96-4cae-eecf-0f143427519b"
      },
      "source": [
        "df_filtered = df[(df['To'].str.contains(\"/collections/berkey-water-filter-systems\", regex=True)==True)]\n",
        "df_filtered.head(100)\n",
        "#\"From\" URLs use targeted Anchor Text"
      ],
      "execution_count": null,
      "outputs": [
        {
          "output_type": "execute_result",
          "data": {
            "text/html": [
              "<div>\n",
              "<style scoped>\n",
              "    .dataframe tbody tr th:only-of-type {\n",
              "        vertical-align: middle;\n",
              "    }\n",
              "\n",
              "    .dataframe tbody tr th {\n",
              "        vertical-align: top;\n",
              "    }\n",
              "\n",
              "    .dataframe thead th {\n",
              "        text-align: right;\n",
              "    }\n",
              "</style>\n",
              "<table border=\"1\" class=\"dataframe\">\n",
              "  <thead>\n",
              "    <tr style=\"text-align: right;\">\n",
              "      <th></th>\n",
              "      <th>From</th>\n",
              "      <th>To</th>\n",
              "      <th>Anchor Text</th>\n",
              "    </tr>\n",
              "  </thead>\n",
              "  <tbody>\n",
              "    <tr>\n",
              "      <th>16502</th>\n",
              "      <td>https://www.berkeyfilters.com/</td>\n",
              "      <td>https://www.berkeyfilters.com/collections/berk...</td>\n",
              "      <td>Water Filter Systems</td>\n",
              "    </tr>\n",
              "    <tr>\n",
              "      <th>16503</th>\n",
              "      <td>https://www.berkeyfilters.com/</td>\n",
              "      <td>https://www.berkeyfilters.com/collections/berk...</td>\n",
              "      <td>Shop All</td>\n",
              "    </tr>\n",
              "    <tr>\n",
              "      <th>16504</th>\n",
              "      <td>https://www.berkeyfilters.com/</td>\n",
              "      <td>https://www.berkeyfilters.com/collections/berk...</td>\n",
              "      <td>Shop All</td>\n",
              "    </tr>\n",
              "    <tr>\n",
              "      <th>16505</th>\n",
              "      <td>https://www.berkeyfilters.com/</td>\n",
              "      <td>https://www.berkeyfilters.com/collections/berk...</td>\n",
              "      <td>NaN</td>\n",
              "    </tr>\n",
              "    <tr>\n",
              "      <th>16506</th>\n",
              "      <td>https://www.berkeyfilters.com/</td>\n",
              "      <td>https://www.berkeyfilters.com/collections/berk...</td>\n",
              "      <td>Choose your Berkey</td>\n",
              "    </tr>\n",
              "    <tr>\n",
              "      <th>...</th>\n",
              "      <td>...</td>\n",
              "      <td>...</td>\n",
              "      <td>...</td>\n",
              "    </tr>\n",
              "    <tr>\n",
              "      <th>16597</th>\n",
              "      <td>https://www.berkeyfilters.com/products/crown-b...</td>\n",
              "      <td>https://www.berkeyfilters.com/collections/berk...</td>\n",
              "      <td>Water Filter Systems</td>\n",
              "    </tr>\n",
              "    <tr>\n",
              "      <th>16598</th>\n",
              "      <td>https://www.berkeyfilters.com/products/crown-b...</td>\n",
              "      <td>https://www.berkeyfilters.com/collections/berk...</td>\n",
              "      <td>Shop Water Filters</td>\n",
              "    </tr>\n",
              "    <tr>\n",
              "      <th>16599</th>\n",
              "      <td>https://www.berkeyfilters.com/products/crown-b...</td>\n",
              "      <td>https://www.berkeyfilters.com/collections/berk...</td>\n",
              "      <td>Water Filter Systems</td>\n",
              "    </tr>\n",
              "    <tr>\n",
              "      <th>16600</th>\n",
              "      <td>https://www.berkeyfilters.com/products/berkey-...</td>\n",
              "      <td>https://www.berkeyfilters.com/collections/berk...</td>\n",
              "      <td>Water Filter Systems</td>\n",
              "    </tr>\n",
              "    <tr>\n",
              "      <th>16601</th>\n",
              "      <td>https://www.berkeyfilters.com/products/berkey-...</td>\n",
              "      <td>https://www.berkeyfilters.com/collections/berk...</td>\n",
              "      <td>Shop All</td>\n",
              "    </tr>\n",
              "  </tbody>\n",
              "</table>\n",
              "<p>100 rows × 3 columns</p>\n",
              "</div>"
            ],
            "text/plain": [
              "                                                    From                                                 To           Anchor Text\n",
              "16502                     https://www.berkeyfilters.com/  https://www.berkeyfilters.com/collections/berk...  Water Filter Systems\n",
              "16503                     https://www.berkeyfilters.com/  https://www.berkeyfilters.com/collections/berk...              Shop All\n",
              "16504                     https://www.berkeyfilters.com/  https://www.berkeyfilters.com/collections/berk...              Shop All\n",
              "16505                     https://www.berkeyfilters.com/  https://www.berkeyfilters.com/collections/berk...                   NaN\n",
              "16506                     https://www.berkeyfilters.com/  https://www.berkeyfilters.com/collections/berk...    Choose your Berkey\n",
              "...                                                  ...                                                ...                   ...\n",
              "16597  https://www.berkeyfilters.com/products/crown-b...  https://www.berkeyfilters.com/collections/berk...  Water Filter Systems\n",
              "16598  https://www.berkeyfilters.com/products/crown-b...  https://www.berkeyfilters.com/collections/berk...    Shop Water Filters\n",
              "16599  https://www.berkeyfilters.com/products/crown-b...  https://www.berkeyfilters.com/collections/berk...  Water Filter Systems\n",
              "16600  https://www.berkeyfilters.com/products/berkey-...  https://www.berkeyfilters.com/collections/berk...  Water Filter Systems\n",
              "16601  https://www.berkeyfilters.com/products/berkey-...  https://www.berkeyfilters.com/collections/berk...              Shop All\n",
              "\n",
              "[100 rows x 3 columns]"
            ]
          },
          "metadata": {
            "tags": []
          },
          "execution_count": 42
        }
      ]
    },
    {
      "cell_type": "code",
      "metadata": {
        "id": "i-9_xrdIDBOB",
        "colab_type": "code",
        "colab": {}
      },
      "source": [
        "df_filtered = df[df[\"To\"]=='https://www.berkeyfilters.com/collections/berkey-water-filter-systems']"
      ],
      "execution_count": null,
      "outputs": []
    },
    {
      "cell_type": "code",
      "metadata": {
        "id": "1FZfkiZsDKAV",
        "colab_type": "code",
        "colab": {
          "base_uri": "https://localhost:8080/",
          "height": 979
        },
        "outputId": "b833cd84-9ada-44ec-a874-f92a1931dbad"
      },
      "source": [
        "df_filtered.head()"
      ],
      "execution_count": null,
      "outputs": [
        {
          "output_type": "execute_result",
          "data": {
            "text/html": [
              "<div>\n",
              "<style scoped>\n",
              "    .dataframe tbody tr th:only-of-type {\n",
              "        vertical-align: middle;\n",
              "    }\n",
              "\n",
              "    .dataframe tbody tr th {\n",
              "        vertical-align: top;\n",
              "    }\n",
              "\n",
              "    .dataframe thead th {\n",
              "        text-align: right;\n",
              "    }\n",
              "</style>\n",
              "<table border=\"1\" class=\"dataframe\">\n",
              "  <thead>\n",
              "    <tr style=\"text-align: right;\">\n",
              "      <th></th>\n",
              "      <th>From</th>\n",
              "      <th>To</th>\n",
              "      <th>Anchor Text</th>\n",
              "    </tr>\n",
              "  </thead>\n",
              "  <tbody>\n",
              "    <tr>\n",
              "      <th>16502</th>\n",
              "      <td>https://www.berkeyfilters.com/</td>\n",
              "      <td>https://www.berkeyfilters.com/collections/berk...</td>\n",
              "      <td>Water Filter Systems</td>\n",
              "    </tr>\n",
              "    <tr>\n",
              "      <th>16503</th>\n",
              "      <td>https://www.berkeyfilters.com/</td>\n",
              "      <td>https://www.berkeyfilters.com/collections/berk...</td>\n",
              "      <td>Shop All</td>\n",
              "    </tr>\n",
              "    <tr>\n",
              "      <th>16504</th>\n",
              "      <td>https://www.berkeyfilters.com/</td>\n",
              "      <td>https://www.berkeyfilters.com/collections/berk...</td>\n",
              "      <td>Shop All</td>\n",
              "    </tr>\n",
              "    <tr>\n",
              "      <th>16505</th>\n",
              "      <td>https://www.berkeyfilters.com/</td>\n",
              "      <td>https://www.berkeyfilters.com/collections/berk...</td>\n",
              "      <td>NaN</td>\n",
              "    </tr>\n",
              "    <tr>\n",
              "      <th>16506</th>\n",
              "      <td>https://www.berkeyfilters.com/</td>\n",
              "      <td>https://www.berkeyfilters.com/collections/berk...</td>\n",
              "      <td>Choose your Berkey</td>\n",
              "    </tr>\n",
              "    <tr>\n",
              "      <th>16507</th>\n",
              "      <td>https://www.berkeyfilters.com/</td>\n",
              "      <td>https://www.berkeyfilters.com/collections/berk...</td>\n",
              "      <td>The Berkey water filter system</td>\n",
              "    </tr>\n",
              "    <tr>\n",
              "      <th>16508</th>\n",
              "      <td>https://www.berkeyfilters.com/</td>\n",
              "      <td>https://www.berkeyfilters.com/collections/berk...</td>\n",
              "      <td>Berkey water filters</td>\n",
              "    </tr>\n",
              "    <tr>\n",
              "      <th>16509</th>\n",
              "      <td>https://www.berkeyfilters.com/</td>\n",
              "      <td>https://www.berkeyfilters.com/collections/berk...</td>\n",
              "      <td>Shop Water Filters</td>\n",
              "    </tr>\n",
              "    <tr>\n",
              "      <th>16510</th>\n",
              "      <td>https://www.berkeyfilters.com/</td>\n",
              "      <td>https://www.berkeyfilters.com/collections/berk...</td>\n",
              "      <td>Water Filter Systems</td>\n",
              "    </tr>\n",
              "    <tr>\n",
              "      <th>16511</th>\n",
              "      <td>https://www.berkeyfilters.com/pages/reverse-os...</td>\n",
              "      <td>https://www.berkeyfilters.com/collections/berk...</td>\n",
              "      <td>Water Filter Systems</td>\n",
              "    </tr>\n",
              "    <tr>\n",
              "      <th>16512</th>\n",
              "      <td>https://www.berkeyfilters.com/pages/reverse-os...</td>\n",
              "      <td>https://www.berkeyfilters.com/collections/berk...</td>\n",
              "      <td>Shop All</td>\n",
              "    </tr>\n",
              "    <tr>\n",
              "      <th>16513</th>\n",
              "      <td>https://www.berkeyfilters.com/pages/reverse-os...</td>\n",
              "      <td>https://www.berkeyfilters.com/collections/berk...</td>\n",
              "      <td>Shop All</td>\n",
              "    </tr>\n",
              "    <tr>\n",
              "      <th>16514</th>\n",
              "      <td>https://www.berkeyfilters.com/pages/reverse-os...</td>\n",
              "      <td>https://www.berkeyfilters.com/collections/berk...</td>\n",
              "      <td>FIND YOUR BERKEY</td>\n",
              "    </tr>\n",
              "    <tr>\n",
              "      <th>16515</th>\n",
              "      <td>https://www.berkeyfilters.com/pages/reverse-os...</td>\n",
              "      <td>https://www.berkeyfilters.com/collections/berk...</td>\n",
              "      <td>NaN</td>\n",
              "    </tr>\n",
              "    <tr>\n",
              "      <th>16516</th>\n",
              "      <td>https://www.berkeyfilters.com/pages/reverse-os...</td>\n",
              "      <td>https://www.berkeyfilters.com/collections/berk...</td>\n",
              "      <td>Shop Water Filters</td>\n",
              "    </tr>\n",
              "    <tr>\n",
              "      <th>16517</th>\n",
              "      <td>https://www.berkeyfilters.com/pages/reverse-os...</td>\n",
              "      <td>https://www.berkeyfilters.com/collections/berk...</td>\n",
              "      <td>Water Filter Systems</td>\n",
              "    </tr>\n",
              "    <tr>\n",
              "      <th>16518</th>\n",
              "      <td>https://www.berkeyfilters.com/products/thinksp...</td>\n",
              "      <td>https://www.berkeyfilters.com/collections/berk...</td>\n",
              "      <td>Water Filter Systems</td>\n",
              "    </tr>\n",
              "    <tr>\n",
              "      <th>16519</th>\n",
              "      <td>https://www.berkeyfilters.com/products/thinksp...</td>\n",
              "      <td>https://www.berkeyfilters.com/collections/berk...</td>\n",
              "      <td>Shop All</td>\n",
              "    </tr>\n",
              "    <tr>\n",
              "      <th>16520</th>\n",
              "      <td>https://www.berkeyfilters.com/products/thinksp...</td>\n",
              "      <td>https://www.berkeyfilters.com/collections/berk...</td>\n",
              "      <td>Shop All</td>\n",
              "    </tr>\n",
              "    <tr>\n",
              "      <th>16521</th>\n",
              "      <td>https://www.berkeyfilters.com/products/thinksp...</td>\n",
              "      <td>https://www.berkeyfilters.com/collections/berk...</td>\n",
              "      <td>Water Filter Systems</td>\n",
              "    </tr>\n",
              "    <tr>\n",
              "      <th>16522</th>\n",
              "      <td>https://www.berkeyfilters.com/products/thinksp...</td>\n",
              "      <td>https://www.berkeyfilters.com/collections/berk...</td>\n",
              "      <td>Shop Water Filters</td>\n",
              "    </tr>\n",
              "    <tr>\n",
              "      <th>16523</th>\n",
              "      <td>https://www.berkeyfilters.com/products/thinksp...</td>\n",
              "      <td>https://www.berkeyfilters.com/collections/berk...</td>\n",
              "      <td>Water Filter Systems</td>\n",
              "    </tr>\n",
              "    <tr>\n",
              "      <th>16524</th>\n",
              "      <td>https://www.berkeyfilters.com/blogs/berkey-lif...</td>\n",
              "      <td>https://www.berkeyfilters.com/collections/berk...</td>\n",
              "      <td>Water Filter Systems</td>\n",
              "    </tr>\n",
              "    <tr>\n",
              "      <th>16525</th>\n",
              "      <td>https://www.berkeyfilters.com/blogs/berkey-lif...</td>\n",
              "      <td>https://www.berkeyfilters.com/collections/berk...</td>\n",
              "      <td>Shop All</td>\n",
              "    </tr>\n",
              "    <tr>\n",
              "      <th>16526</th>\n",
              "      <td>https://www.berkeyfilters.com/blogs/berkey-lif...</td>\n",
              "      <td>https://www.berkeyfilters.com/collections/berk...</td>\n",
              "      <td>Shop All</td>\n",
              "    </tr>\n",
              "    <tr>\n",
              "      <th>16527</th>\n",
              "      <td>https://www.berkeyfilters.com/blogs/berkey-lif...</td>\n",
              "      <td>https://www.berkeyfilters.com/collections/berk...</td>\n",
              "      <td>Shop Water Filters</td>\n",
              "    </tr>\n",
              "    <tr>\n",
              "      <th>16528</th>\n",
              "      <td>https://www.berkeyfilters.com/blogs/berkey-lif...</td>\n",
              "      <td>https://www.berkeyfilters.com/collections/berk...</td>\n",
              "      <td>Water Filter Systems</td>\n",
              "    </tr>\n",
              "    <tr>\n",
              "      <th>16529</th>\n",
              "      <td>https://www.berkeyfilters.com/pages/prime-fluo...</td>\n",
              "      <td>https://www.berkeyfilters.com/collections/berk...</td>\n",
              "      <td>Water Filter Systems</td>\n",
              "    </tr>\n",
              "    <tr>\n",
              "      <th>16530</th>\n",
              "      <td>https://www.berkeyfilters.com/pages/prime-fluo...</td>\n",
              "      <td>https://www.berkeyfilters.com/collections/berk...</td>\n",
              "      <td>Shop All</td>\n",
              "    </tr>\n",
              "    <tr>\n",
              "      <th>16531</th>\n",
              "      <td>https://www.berkeyfilters.com/pages/prime-fluo...</td>\n",
              "      <td>https://www.berkeyfilters.com/collections/berk...</td>\n",
              "      <td>Shop All</td>\n",
              "    </tr>\n",
              "  </tbody>\n",
              "</table>\n",
              "</div>"
            ],
            "text/plain": [
              "                                                    From                                                 To                     Anchor Text\n",
              "16502                     https://www.berkeyfilters.com/  https://www.berkeyfilters.com/collections/berk...            Water Filter Systems\n",
              "16503                     https://www.berkeyfilters.com/  https://www.berkeyfilters.com/collections/berk...                        Shop All\n",
              "16504                     https://www.berkeyfilters.com/  https://www.berkeyfilters.com/collections/berk...                        Shop All\n",
              "16505                     https://www.berkeyfilters.com/  https://www.berkeyfilters.com/collections/berk...                             NaN\n",
              "16506                     https://www.berkeyfilters.com/  https://www.berkeyfilters.com/collections/berk...              Choose your Berkey\n",
              "16507                     https://www.berkeyfilters.com/  https://www.berkeyfilters.com/collections/berk...  The Berkey water filter system\n",
              "16508                     https://www.berkeyfilters.com/  https://www.berkeyfilters.com/collections/berk...            Berkey water filters\n",
              "16509                     https://www.berkeyfilters.com/  https://www.berkeyfilters.com/collections/berk...              Shop Water Filters\n",
              "16510                     https://www.berkeyfilters.com/  https://www.berkeyfilters.com/collections/berk...            Water Filter Systems\n",
              "16511  https://www.berkeyfilters.com/pages/reverse-os...  https://www.berkeyfilters.com/collections/berk...            Water Filter Systems\n",
              "16512  https://www.berkeyfilters.com/pages/reverse-os...  https://www.berkeyfilters.com/collections/berk...                        Shop All\n",
              "16513  https://www.berkeyfilters.com/pages/reverse-os...  https://www.berkeyfilters.com/collections/berk...                        Shop All\n",
              "16514  https://www.berkeyfilters.com/pages/reverse-os...  https://www.berkeyfilters.com/collections/berk...                FIND YOUR BERKEY\n",
              "16515  https://www.berkeyfilters.com/pages/reverse-os...  https://www.berkeyfilters.com/collections/berk...                             NaN\n",
              "16516  https://www.berkeyfilters.com/pages/reverse-os...  https://www.berkeyfilters.com/collections/berk...              Shop Water Filters\n",
              "16517  https://www.berkeyfilters.com/pages/reverse-os...  https://www.berkeyfilters.com/collections/berk...            Water Filter Systems\n",
              "16518  https://www.berkeyfilters.com/products/thinksp...  https://www.berkeyfilters.com/collections/berk...            Water Filter Systems\n",
              "16519  https://www.berkeyfilters.com/products/thinksp...  https://www.berkeyfilters.com/collections/berk...                        Shop All\n",
              "16520  https://www.berkeyfilters.com/products/thinksp...  https://www.berkeyfilters.com/collections/berk...                        Shop All\n",
              "16521  https://www.berkeyfilters.com/products/thinksp...  https://www.berkeyfilters.com/collections/berk...            Water Filter Systems\n",
              "16522  https://www.berkeyfilters.com/products/thinksp...  https://www.berkeyfilters.com/collections/berk...              Shop Water Filters\n",
              "16523  https://www.berkeyfilters.com/products/thinksp...  https://www.berkeyfilters.com/collections/berk...            Water Filter Systems\n",
              "16524  https://www.berkeyfilters.com/blogs/berkey-lif...  https://www.berkeyfilters.com/collections/berk...            Water Filter Systems\n",
              "16525  https://www.berkeyfilters.com/blogs/berkey-lif...  https://www.berkeyfilters.com/collections/berk...                        Shop All\n",
              "16526  https://www.berkeyfilters.com/blogs/berkey-lif...  https://www.berkeyfilters.com/collections/berk...                        Shop All\n",
              "16527  https://www.berkeyfilters.com/blogs/berkey-lif...  https://www.berkeyfilters.com/collections/berk...              Shop Water Filters\n",
              "16528  https://www.berkeyfilters.com/blogs/berkey-lif...  https://www.berkeyfilters.com/collections/berk...            Water Filter Systems\n",
              "16529  https://www.berkeyfilters.com/pages/prime-fluo...  https://www.berkeyfilters.com/collections/berk...            Water Filter Systems\n",
              "16530  https://www.berkeyfilters.com/pages/prime-fluo...  https://www.berkeyfilters.com/collections/berk...                        Shop All\n",
              "16531  https://www.berkeyfilters.com/pages/prime-fluo...  https://www.berkeyfilters.com/collections/berk...                        Shop All"
            ]
          },
          "metadata": {
            "tags": []
          },
          "execution_count": 46
        }
      ]
    },
    {
      "cell_type": "code",
      "metadata": {
        "id": "2Otqyb6UqW6I",
        "colab_type": "code",
        "colab": {
          "base_uri": "https://localhost:8080/",
          "height": 161
        },
        "outputId": "1d2c8615-06f7-43eb-aeec-e33356bb5703"
      },
      "source": [
        "print(df.dtypes)"
      ],
      "execution_count": null,
      "outputs": [
        {
          "output_type": "stream",
          "text": [
            "Type                object\n",
            "From                object\n",
            "To                  object\n",
            "Anchor Text         object\n",
            "Alt Text            object\n",
            "Follow                bool\n",
            "Link Attributes    float64\n",
            "dtype: object\n"
          ],
          "name": "stdout"
        }
      ]
    },
    {
      "cell_type": "code",
      "metadata": {
        "id": "nLABz36ktsGf",
        "colab_type": "code",
        "colab": {}
      },
      "source": [
        "#data cleanup\n",
        "#drop extra columns\n",
        "df = df[['From', 'To', 'Anchor Text']]"
      ],
      "execution_count": null,
      "outputs": []
    },
    {
      "cell_type": "code",
      "metadata": {
        "id": "kDnPRxwyt3y8",
        "colab_type": "code",
        "colab": {
          "base_uri": "https://localhost:8080/",
          "height": 204
        },
        "outputId": "55474565-bb76-4174-e379-06e74387690c"
      },
      "source": [
        "df.head()"
      ],
      "execution_count": null,
      "outputs": [
        {
          "output_type": "execute_result",
          "data": {
            "text/html": [
              "<div>\n",
              "<style scoped>\n",
              "    .dataframe tbody tr th:only-of-type {\n",
              "        vertical-align: middle;\n",
              "    }\n",
              "\n",
              "    .dataframe tbody tr th {\n",
              "        vertical-align: top;\n",
              "    }\n",
              "\n",
              "    .dataframe thead th {\n",
              "        text-align: right;\n",
              "    }\n",
              "</style>\n",
              "<table border=\"1\" class=\"dataframe\">\n",
              "  <thead>\n",
              "    <tr style=\"text-align: right;\">\n",
              "      <th></th>\n",
              "      <th>From</th>\n",
              "      <th>To</th>\n",
              "      <th>Anchor Text</th>\n",
              "    </tr>\n",
              "  </thead>\n",
              "  <tbody>\n",
              "    <tr>\n",
              "      <th>0</th>\n",
              "      <td>https://www.berkeyfilters.com/</td>\n",
              "      <td>https://www.berkeyfilters.com/</td>\n",
              "      <td>Skip to content</td>\n",
              "    </tr>\n",
              "    <tr>\n",
              "      <th>1</th>\n",
              "      <td>https://www.berkeyfilters.com/</td>\n",
              "      <td>https://www.berkeyfilters.com/</td>\n",
              "      <td>NaN</td>\n",
              "    </tr>\n",
              "    <tr>\n",
              "      <th>2</th>\n",
              "      <td>https://www.berkeyfilters.com/</td>\n",
              "      <td>https://www.berkeyfilters.com/</td>\n",
              "      <td>NaN</td>\n",
              "    </tr>\n",
              "    <tr>\n",
              "      <th>3</th>\n",
              "      <td>https://www.berkeyfilters.com/</td>\n",
              "      <td>https://www.berkeyfilters.com/</td>\n",
              "      <td>Become a Dealer</td>\n",
              "    </tr>\n",
              "    <tr>\n",
              "      <th>4</th>\n",
              "      <td>https://www.berkeyfilters.com/</td>\n",
              "      <td>https://www.berkeyfilters.com/</td>\n",
              "      <td>Created with Sketch. Watch Our Water Story</td>\n",
              "    </tr>\n",
              "  </tbody>\n",
              "</table>\n",
              "</div>"
            ],
            "text/plain": [
              "                             From  ...                                 Anchor Text\n",
              "0  https://www.berkeyfilters.com/  ...                             Skip to content\n",
              "1  https://www.berkeyfilters.com/  ...                                         NaN\n",
              "2  https://www.berkeyfilters.com/  ...                                         NaN\n",
              "3  https://www.berkeyfilters.com/  ...                             Become a Dealer\n",
              "4  https://www.berkeyfilters.com/  ...  Created with Sketch. Watch Our Water Story\n",
              "\n",
              "[5 rows x 3 columns]"
            ]
          },
          "metadata": {
            "tags": []
          },
          "execution_count": 11
        }
      ]
    },
    {
      "cell_type": "markdown",
      "metadata": {
        "id": "_bDte04yt7kh",
        "colab_type": "text"
      },
      "source": [
        "#Now that we have your internal links cleaned and organized within a dataframe, let's bring in your keyword data!\n",
        "\n",
        "The following example uses Moz's Ranking Keywords for Domain (berkeyfilters.com) export. \n",
        "\n",
        "You could also use or pull in GSC data (additional db cleanup might be required) "
      ]
    },
    {
      "cell_type": "code",
      "metadata": {
        "id": "K4w4wVl5uFFT",
        "colab_type": "code",
        "colab": {
          "resources": {
            "http://localhost:8080/nbextensions/google.colab/files.js": {
              "data": "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",
              "ok": true,
              "headers": [
                [
                  "content-type",
                  "application/javascript"
                ]
              ],
              "status": 200,
              "status_text": ""
            }
          },
          "base_uri": "https://localhost:8080/",
          "height": 72
        },
        "outputId": "12e1e8de-710c-4827-e500-a62449094b94"
      },
      "source": [
        "from google.colab import files\n",
        "uploaded = files.upload()"
      ],
      "execution_count": null,
      "outputs": [
        {
          "output_type": "display_data",
          "data": {
            "text/html": [
              "\n",
              "     <input type=\"file\" id=\"files-928f2837-5d86-4345-b45b-8a99bb935641\" name=\"files[]\" multiple disabled />\n",
              "     <output id=\"result-928f2837-5d86-4345-b45b-8a99bb935641\">\n",
              "      Upload widget is only available when the cell has been executed in the\n",
              "      current browser session. Please rerun this cell to enable.\n",
              "      </output>\n",
              "      <script src=\"/nbextensions/google.colab/files.js\"></script> "
            ],
            "text/plain": [
              "<IPython.core.display.HTML object>"
            ]
          },
          "metadata": {
            "tags": []
          }
        },
        {
          "output_type": "stream",
          "text": [
            "Saving berkey-cannibalization.csv to berkey-cannibalization.csv\n"
          ],
          "name": "stdout"
        }
      ]
    },
    {
      "cell_type": "code",
      "metadata": {
        "id": "ZMHZMbARu-Tk",
        "colab_type": "code",
        "colab": {}
      },
      "source": [
        "df2 = pd.read_csv(\"berkey-cannibalization.csv\")"
      ],
      "execution_count": null,
      "outputs": []
    },
    {
      "cell_type": "code",
      "metadata": {
        "id": "AhbF0bR8vL5x",
        "colab_type": "code",
        "colab": {
          "base_uri": "https://localhost:8080/",
          "height": 204
        },
        "outputId": "df0a3e87-53db-4309-9094-00b23a0a1636"
      },
      "source": [
        "df2.head()"
      ],
      "execution_count": null,
      "outputs": [
        {
          "output_type": "execute_result",
          "data": {
            "text/html": [
              "<div>\n",
              "<style scoped>\n",
              "    .dataframe tbody tr th:only-of-type {\n",
              "        vertical-align: middle;\n",
              "    }\n",
              "\n",
              "    .dataframe tbody tr th {\n",
              "        vertical-align: top;\n",
              "    }\n",
              "\n",
              "    .dataframe thead th {\n",
              "        text-align: right;\n",
              "    }\n",
              "</style>\n",
              "<table border=\"1\" class=\"dataframe\">\n",
              "  <thead>\n",
              "    <tr style=\"text-align: right;\">\n",
              "      <th></th>\n",
              "      <th>Keyword</th>\n",
              "      <th>Position</th>\n",
              "      <th>Volume</th>\n",
              "      <th>URL</th>\n",
              "      <th>Cannibalization</th>\n",
              "    </tr>\n",
              "  </thead>\n",
              "  <tbody>\n",
              "    <tr>\n",
              "      <th>0</th>\n",
              "      <td>alexapure vs berkey</td>\n",
              "      <td>12</td>\n",
              "      <td>250</td>\n",
              "      <td>https://www.berkeyfilters.com/pages/berkey-vs-...</td>\n",
              "      <td>na</td>\n",
              "    </tr>\n",
              "    <tr>\n",
              "      <th>1</th>\n",
              "      <td>aquatru vs berkey</td>\n",
              "      <td>2</td>\n",
              "      <td>90</td>\n",
              "      <td>https://www.berkeyfilters.com/pages/berkey-vs-...</td>\n",
              "      <td>na</td>\n",
              "    </tr>\n",
              "    <tr>\n",
              "      <th>2</th>\n",
              "      <td>barkley water filter</td>\n",
              "      <td>9</td>\n",
              "      <td>10</td>\n",
              "      <td>https://www.berkeyfilters.com/</td>\n",
              "      <td>na</td>\n",
              "    </tr>\n",
              "    <tr>\n",
              "      <th>3</th>\n",
              "      <td>berke water filter</td>\n",
              "      <td>1</td>\n",
              "      <td>80</td>\n",
              "      <td>https://www.berkeyfilters.com/</td>\n",
              "      <td>na</td>\n",
              "    </tr>\n",
              "    <tr>\n",
              "      <th>4</th>\n",
              "      <td>berke water filter</td>\n",
              "      <td>1</td>\n",
              "      <td>80</td>\n",
              "      <td>https://www.berkeyfilters.com/collections/berk...</td>\n",
              "      <td>na</td>\n",
              "    </tr>\n",
              "  </tbody>\n",
              "</table>\n",
              "</div>"
            ],
            "text/plain": [
              "                Keyword  ...  Cannibalization\n",
              "0   alexapure vs berkey  ...               na\n",
              "1     aquatru vs berkey  ...               na\n",
              "2  barkley water filter  ...               na\n",
              "3    berke water filter  ...               na\n",
              "4    berke water filter  ...               na\n",
              "\n",
              "[5 rows x 5 columns]"
            ]
          },
          "metadata": {
            "tags": []
          },
          "execution_count": 30
        }
      ]
    },
    {
      "cell_type": "code",
      "metadata": {
        "id": "j8DPUeWMvbf9",
        "colab_type": "code",
        "colab": {}
      },
      "source": [
        "#data cleanup\n",
        "#drop extra columns\n",
        "df2 = df2[['Keyword', 'Position', 'Volume', 'URL']]"
      ],
      "execution_count": null,
      "outputs": []
    },
    {
      "cell_type": "code",
      "metadata": {
        "id": "xWPDMb8Xvlos",
        "colab_type": "code",
        "colab": {
          "base_uri": "https://localhost:8080/",
          "height": 287
        },
        "outputId": "102a25c3-e9a4-4a34-a12f-c40eb879fc66"
      },
      "source": [
        "# Select all duplicate rows based on one column\n",
        "duplicateRowsDF = df2[df2.duplicated(['Keyword'])]\n",
        " \n",
        "print(\"Duplicate Keywords based on a single column are:\", duplicateRowsDF, sep='\\n')"
      ],
      "execution_count": null,
      "outputs": [
        {
          "output_type": "stream",
          "text": [
            "Duplicate Keywords based on a single column are:\n",
            "                               Keyword  ...                                                URL\n",
            "4                   berke water filter  ...  https://www.berkeyfilters.com/collections/berk...\n",
            "5                   berke water filter  ...  https://www.berkeyfilters.com/products/big-berkey\n",
            "7                  berkee water filter  ...  https://www.berkeyfilters.com/pages/bundle-and...\n",
            "8                  berkee water filter  ...  https://www.berkeyfilters.com/berkey-water-fil...\n",
            "9                  berkee water filter  ...  https://www.berkeyfilters.com/collections/berk...\n",
            "...                                ...  ...                                                ...\n",
            "1074  what is in a berkey water filter  ...  https://www.berkeyfilters.com/collections/berk...\n",
            "1075  what is in a berkey water filter  ...  https://www.berkeyfilters.com/products/big-berkey\n",
            "1077     when to replace berkey filter  ...  https://www.berkeyfilters.com/pages/black-berk...\n",
            "1078     when to replace berkey filter  ...  https://www.berkeyfilters.com/pages/sport-berk...\n",
            "1079     when to replace berkey filter  ...  https://www.berkeyfilters.com/pages/berkey-flu...\n",
            "\n",
            "[704 rows x 4 columns]\n"
          ],
          "name": "stdout"
        }
      ]
    },
    {
      "cell_type": "markdown",
      "metadata": {
        "id": "3b1IgQ4_1YLI",
        "colab_type": "text"
      },
      "source": [
        "#All Cannibiliazion Keywords HERE:\n",
        "\n",
        "---\n",
        "\n"
      ]
    },
    {
      "cell_type": "code",
      "metadata": {
        "id": "paBo_3WjyJe6",
        "colab_type": "code",
        "colab": {
          "base_uri": "https://localhost:8080/",
          "height": 979
        },
        "outputId": "276f4adf-b11b-4507-eed6-1be10c010bf2"
      },
      "source": [
        "duplicateRowsDF.head(30)"
      ],
      "execution_count": null,
      "outputs": [
        {
          "output_type": "execute_result",
          "data": {
            "text/html": [
              "<div>\n",
              "<style scoped>\n",
              "    .dataframe tbody tr th:only-of-type {\n",
              "        vertical-align: middle;\n",
              "    }\n",
              "\n",
              "    .dataframe tbody tr th {\n",
              "        vertical-align: top;\n",
              "    }\n",
              "\n",
              "    .dataframe thead th {\n",
              "        text-align: right;\n",
              "    }\n",
              "</style>\n",
              "<table border=\"1\" class=\"dataframe\">\n",
              "  <thead>\n",
              "    <tr style=\"text-align: right;\">\n",
              "      <th></th>\n",
              "      <th>Keyword</th>\n",
              "      <th>Position</th>\n",
              "      <th>Volume</th>\n",
              "      <th>URL</th>\n",
              "    </tr>\n",
              "  </thead>\n",
              "  <tbody>\n",
              "    <tr>\n",
              "      <th>4</th>\n",
              "      <td>berke water filter</td>\n",
              "      <td>1</td>\n",
              "      <td>80</td>\n",
              "      <td>https://www.berkeyfilters.com/collections/berk...</td>\n",
              "    </tr>\n",
              "    <tr>\n",
              "      <th>5</th>\n",
              "      <td>berke water filter</td>\n",
              "      <td>1</td>\n",
              "      <td>80</td>\n",
              "      <td>https://www.berkeyfilters.com/products/big-berkey</td>\n",
              "    </tr>\n",
              "    <tr>\n",
              "      <th>7</th>\n",
              "      <td>berkee water filter</td>\n",
              "      <td>1</td>\n",
              "      <td>80</td>\n",
              "      <td>https://www.berkeyfilters.com/pages/bundle-and...</td>\n",
              "    </tr>\n",
              "    <tr>\n",
              "      <th>8</th>\n",
              "      <td>berkee water filter</td>\n",
              "      <td>1</td>\n",
              "      <td>80</td>\n",
              "      <td>https://www.berkeyfilters.com/berkey-water-fil...</td>\n",
              "    </tr>\n",
              "    <tr>\n",
              "      <th>9</th>\n",
              "      <td>berkee water filter</td>\n",
              "      <td>1</td>\n",
              "      <td>80</td>\n",
              "      <td>https://www.berkeyfilters.com/collections/berk...</td>\n",
              "    </tr>\n",
              "    <tr>\n",
              "      <th>10</th>\n",
              "      <td>berkee water filter</td>\n",
              "      <td>1</td>\n",
              "      <td>80</td>\n",
              "      <td>https://www.berkeyfilters.com/products/big-berkey</td>\n",
              "    </tr>\n",
              "    <tr>\n",
              "      <th>11</th>\n",
              "      <td>berkee water filter</td>\n",
              "      <td>1</td>\n",
              "      <td>80</td>\n",
              "      <td>https://www.berkeyfilters.com/products/royal-b...</td>\n",
              "    </tr>\n",
              "    <tr>\n",
              "      <th>12</th>\n",
              "      <td>berkee water filter</td>\n",
              "      <td>1</td>\n",
              "      <td>80</td>\n",
              "      <td>https://www.berkeyfilters.com/products/travel-...</td>\n",
              "    </tr>\n",
              "    <tr>\n",
              "      <th>14</th>\n",
              "      <td>berkeley filter</td>\n",
              "      <td>1</td>\n",
              "      <td>80</td>\n",
              "      <td>https://www.berkeyfilters.com/products/big-berkey</td>\n",
              "    </tr>\n",
              "    <tr>\n",
              "      <th>15</th>\n",
              "      <td>berkeley filter</td>\n",
              "      <td>1</td>\n",
              "      <td>80</td>\n",
              "      <td>https://www.berkeyfilters.com/berkey-water-fil...</td>\n",
              "    </tr>\n",
              "    <tr>\n",
              "      <th>16</th>\n",
              "      <td>berkeley filter</td>\n",
              "      <td>1</td>\n",
              "      <td>80</td>\n",
              "      <td>https://www.berkeyfilters.com/collections/berk...</td>\n",
              "    </tr>\n",
              "    <tr>\n",
              "      <th>17</th>\n",
              "      <td>berkeley filter</td>\n",
              "      <td>1</td>\n",
              "      <td>80</td>\n",
              "      <td>https://www.berkeyfilters.com/pages/bundle-and...</td>\n",
              "    </tr>\n",
              "    <tr>\n",
              "      <th>19</th>\n",
              "      <td>berkeley water filter</td>\n",
              "      <td>1</td>\n",
              "      <td>150</td>\n",
              "      <td>https://www.berkeyfilters.com/products/travel-...</td>\n",
              "    </tr>\n",
              "    <tr>\n",
              "      <th>20</th>\n",
              "      <td>berkeley water filter</td>\n",
              "      <td>1</td>\n",
              "      <td>150</td>\n",
              "      <td>https://www.berkeyfilters.com/collections/berk...</td>\n",
              "    </tr>\n",
              "    <tr>\n",
              "      <th>21</th>\n",
              "      <td>berkeley water filter</td>\n",
              "      <td>1</td>\n",
              "      <td>150</td>\n",
              "      <td>https://www.berkeyfilters.com/products/royal-b...</td>\n",
              "    </tr>\n",
              "    <tr>\n",
              "      <th>22</th>\n",
              "      <td>berkeley water filter</td>\n",
              "      <td>1</td>\n",
              "      <td>150</td>\n",
              "      <td>https://www.berkeyfilters.com/products/big-berkey</td>\n",
              "    </tr>\n",
              "    <tr>\n",
              "      <th>24</th>\n",
              "      <td>berkeley water filters</td>\n",
              "      <td>3</td>\n",
              "      <td>50</td>\n",
              "      <td>https://www.berkeyfilters.com/collections/berk...</td>\n",
              "    </tr>\n",
              "    <tr>\n",
              "      <th>25</th>\n",
              "      <td>berkeley water filters</td>\n",
              "      <td>1</td>\n",
              "      <td>50</td>\n",
              "      <td>https://www.berkeyfilters.com/collections/berk...</td>\n",
              "    </tr>\n",
              "    <tr>\n",
              "      <th>26</th>\n",
              "      <td>berkeley water filters</td>\n",
              "      <td>1</td>\n",
              "      <td>50</td>\n",
              "      <td>https://www.berkeyfilters.com/collections/berk...</td>\n",
              "    </tr>\n",
              "    <tr>\n",
              "      <th>27</th>\n",
              "      <td>berkeley water filters</td>\n",
              "      <td>1</td>\n",
              "      <td>50</td>\n",
              "      <td>https://www.berkeyfilters.com/pages/berkey-vs-...</td>\n",
              "    </tr>\n",
              "    <tr>\n",
              "      <th>28</th>\n",
              "      <td>berkeley water filters</td>\n",
              "      <td>1</td>\n",
              "      <td>50</td>\n",
              "      <td>https://www.berkeyfilters.com/products/big-berkey</td>\n",
              "    </tr>\n",
              "    <tr>\n",
              "      <th>29</th>\n",
              "      <td>berkeley water filters</td>\n",
              "      <td>3</td>\n",
              "      <td>50</td>\n",
              "      <td>https://www.berkeyfilters.com/products/royal-b...</td>\n",
              "    </tr>\n",
              "    <tr>\n",
              "      <th>30</th>\n",
              "      <td>berkeley water filters</td>\n",
              "      <td>3</td>\n",
              "      <td>50</td>\n",
              "      <td>https://www.berkeyfilters.com/products/berkey-...</td>\n",
              "    </tr>\n",
              "    <tr>\n",
              "      <th>31</th>\n",
              "      <td>berkeley water filters</td>\n",
              "      <td>3</td>\n",
              "      <td>50</td>\n",
              "      <td>https://www.berkeyfilters.com/products/travel-...</td>\n",
              "    </tr>\n",
              "    <tr>\n",
              "      <th>33</th>\n",
              "      <td>berkeley water filtration system</td>\n",
              "      <td>3</td>\n",
              "      <td>50</td>\n",
              "      <td>https://www.berkeyfilters.com/collections/berk...</td>\n",
              "    </tr>\n",
              "    <tr>\n",
              "      <th>34</th>\n",
              "      <td>berkeley water filtration system</td>\n",
              "      <td>5</td>\n",
              "      <td>50</td>\n",
              "      <td>https://www.berkeyfilters.com/berkey-water-fil...</td>\n",
              "    </tr>\n",
              "    <tr>\n",
              "      <th>35</th>\n",
              "      <td>berkeley water filtration system</td>\n",
              "      <td>6</td>\n",
              "      <td>50</td>\n",
              "      <td>https://www.berkeyfilters.com/products/big-berkey</td>\n",
              "    </tr>\n",
              "    <tr>\n",
              "      <th>36</th>\n",
              "      <td>berkeley water filtration system</td>\n",
              "      <td>1</td>\n",
              "      <td>50</td>\n",
              "      <td>https://www.berkeyfilters.com/collections/berk...</td>\n",
              "    </tr>\n",
              "    <tr>\n",
              "      <th>37</th>\n",
              "      <td>berkeley water filtration system</td>\n",
              "      <td>1</td>\n",
              "      <td>50</td>\n",
              "      <td>https://www.berkeyfilters.com/collections/berk...</td>\n",
              "    </tr>\n",
              "    <tr>\n",
              "      <th>38</th>\n",
              "      <td>berkeley water filtration system</td>\n",
              "      <td>1</td>\n",
              "      <td>50</td>\n",
              "      <td>https://www.berkeyfilters.com/products/travel-...</td>\n",
              "    </tr>\n",
              "  </tbody>\n",
              "</table>\n",
              "</div>"
            ],
            "text/plain": [
              "                             Keyword  ...                                                URL\n",
              "4                 berke water filter  ...  https://www.berkeyfilters.com/collections/berk...\n",
              "5                 berke water filter  ...  https://www.berkeyfilters.com/products/big-berkey\n",
              "7                berkee water filter  ...  https://www.berkeyfilters.com/pages/bundle-and...\n",
              "8                berkee water filter  ...  https://www.berkeyfilters.com/berkey-water-fil...\n",
              "9                berkee water filter  ...  https://www.berkeyfilters.com/collections/berk...\n",
              "10               berkee water filter  ...  https://www.berkeyfilters.com/products/big-berkey\n",
              "11               berkee water filter  ...  https://www.berkeyfilters.com/products/royal-b...\n",
              "12               berkee water filter  ...  https://www.berkeyfilters.com/products/travel-...\n",
              "14                   berkeley filter  ...  https://www.berkeyfilters.com/products/big-berkey\n",
              "15                   berkeley filter  ...  https://www.berkeyfilters.com/berkey-water-fil...\n",
              "16                   berkeley filter  ...  https://www.berkeyfilters.com/collections/berk...\n",
              "17                   berkeley filter  ...  https://www.berkeyfilters.com/pages/bundle-and...\n",
              "19             berkeley water filter  ...  https://www.berkeyfilters.com/products/travel-...\n",
              "20             berkeley water filter  ...  https://www.berkeyfilters.com/collections/berk...\n",
              "21             berkeley water filter  ...  https://www.berkeyfilters.com/products/royal-b...\n",
              "22             berkeley water filter  ...  https://www.berkeyfilters.com/products/big-berkey\n",
              "24            berkeley water filters  ...  https://www.berkeyfilters.com/collections/berk...\n",
              "25            berkeley water filters  ...  https://www.berkeyfilters.com/collections/berk...\n",
              "26            berkeley water filters  ...  https://www.berkeyfilters.com/collections/berk...\n",
              "27            berkeley water filters  ...  https://www.berkeyfilters.com/pages/berkey-vs-...\n",
              "28            berkeley water filters  ...  https://www.berkeyfilters.com/products/big-berkey\n",
              "29            berkeley water filters  ...  https://www.berkeyfilters.com/products/royal-b...\n",
              "30            berkeley water filters  ...  https://www.berkeyfilters.com/products/berkey-...\n",
              "31            berkeley water filters  ...  https://www.berkeyfilters.com/products/travel-...\n",
              "33  berkeley water filtration system  ...  https://www.berkeyfilters.com/collections/berk...\n",
              "34  berkeley water filtration system  ...  https://www.berkeyfilters.com/berkey-water-fil...\n",
              "35  berkeley water filtration system  ...  https://www.berkeyfilters.com/products/big-berkey\n",
              "36  berkeley water filtration system  ...  https://www.berkeyfilters.com/collections/berk...\n",
              "37  berkeley water filtration system  ...  https://www.berkeyfilters.com/collections/berk...\n",
              "38  berkeley water filtration system  ...  https://www.berkeyfilters.com/products/travel-...\n",
              "\n",
              "[30 rows x 4 columns]"
            ]
          },
          "metadata": {
            "tags": []
          },
          "execution_count": 34
        }
      ]
    },
    {
      "cell_type": "code",
      "metadata": {
        "id": "Rqklas0x3QWw",
        "colab_type": "code",
        "colab": {
          "base_uri": "https://localhost:8080/",
          "height": 107
        },
        "outputId": "aaf05429-626c-4a28-e255-4ccbd9d2d808"
      },
      "source": [
        "duplicateRowsDF.count()"
      ],
      "execution_count": null,
      "outputs": [
        {
          "output_type": "execute_result",
          "data": {
            "text/plain": [
              "Keyword     704\n",
              "Position    704\n",
              "Volume      704\n",
              "URL         704\n",
              "dtype: int64"
            ]
          },
          "metadata": {
            "tags": []
          },
          "execution_count": 40
        }
      ]
    },
    {
      "cell_type": "markdown",
      "metadata": {
        "id": "B0knzLyZEQex",
        "colab_type": "text"
      },
      "source": [
        "# Download Dataframe to CSV:\n"
      ]
    },
    {
      "cell_type": "code",
      "metadata": {
        "id": "DOayoVD6aR02",
        "colab_type": "code",
        "colab": {}
      },
      "source": [
        "df.to_csv('data-output/my-data.csv')"
      ],
      "execution_count": null,
      "outputs": []
    },
    {
      "cell_type": "markdown",
      "metadata": {
        "id": "XHShzVsP1mpU",
        "colab_type": "text"
      },
      "source": [
        "Join internal link data"
      ]
    },
    {
      "cell_type": "code",
      "metadata": {
        "id": "CZV84gAB3kX9",
        "colab_type": "code",
        "colab": {}
      },
      "source": [
        "#working on how to do this. Hamlet Batista, where you at? :) Can't get any fancy melts or joins to do this + asked a dozen people about this. {shrug}"
      ],
      "execution_count": null,
      "outputs": []
    },
    {
      "cell_type": "markdown",
      "metadata": {
        "id": "BOOtxuE3lzhB",
        "colab_type": "text"
      },
      "source": [
        "\n",
        "\n",
        "---\n",
        "\n",
        "##Trying to vizualize the internal link graph a bit...(bare with me)\n",
        "\n",
        "---\n",
        "\n"
      ]
    },
    {
      "cell_type": "code",
      "metadata": {
        "id": "BQsifxITjBEx",
        "colab_type": "code",
        "colab": {}
      },
      "source": [
        "import matplotlib.pyplot as plt\n",
        "plt.style.use('classic')\n",
        "%matplotlib inline\n",
        "import numpy as np\n",
        "import pandas as pd"
      ],
      "execution_count": null,
      "outputs": []
    },
    {
      "cell_type": "code",
      "metadata": {
        "id": "UM5ReN_YmvPD",
        "colab_type": "code",
        "colab": {}
      },
      "source": [
        "import seaborn as sns\n",
        "sns.set()"
      ],
      "execution_count": null,
      "outputs": []
    },
    {
      "cell_type": "code",
      "metadata": {
        "id": "xj65pdHloZ6J",
        "colab_type": "code",
        "colab": {
          "base_uri": "https://localhost:8080/",
          "height": 421
        },
        "outputId": "a40d5ed1-3e02-4e2b-f5ff-3c295583ab3f"
      },
      "source": [
        "with sns.axes_style('white'):\n",
        "    g = sns.factorplot(\"To\", data=df, aspect=2,\n",
        "                       kind=\"count\", color='steelblue')\n",
        "    g.set_xticklabels(step=5)"
      ],
      "execution_count": null,
      "outputs": [
        {
          "output_type": "stream",
          "text": [
            "/usr/local/lib/python3.6/dist-packages/seaborn/categorical.py:3669: UserWarning: The `factorplot` function has been renamed to `catplot`. The original name will be removed in a future release. Please update your code. Note that the default `kind` in `factorplot` (`'point'`) has changed `'strip'` in `catplot`.\n",
            "  warnings.warn(msg)\n"
          ],
          "name": "stderr"
        },
        {
          "output_type": "display_data",
          "data": {
            "image/png": "[encoded data removed]",
            "text/plain": [
              "<Figure size 720x360 with 1 Axes>"
            ]
          },
          "metadata": {
            "tags": []
          }
        }
      ]
    },
    {
      "cell_type": "code",
      "metadata": {
        "id": "EgbZWth7ow1m",
        "colab_type": "code",
        "colab": {
          "base_uri": "https://localhost:8080/",
          "height": 365
        },
        "outputId": "4047d682-e95b-433b-bf52-fa9a0f0b3ce4"
      },
      "source": [
        "with sns.axes_style('white'):\n",
        "    g = sns.catplot(\"Anchor Text\", data=df, aspect=2,\n",
        "                       kind=\"count\", color='steelblue')\n",
        "    g.set_xticklabels(step=5)"
      ],
      "execution_count": null,
      "outputs": [
        {
          "output_type": "display_data",
          "data": {
            "image/png": "[encoded data removed]",
            "text/plain": [
              "<Figure size 720x360 with 1 Axes>"
            ]
          },
          "metadata": {
            "tags": []
          }
        }
      ]
    },
    {
      "cell_type": "code",
      "metadata": {
        "id": "s6ZrnbZ4l31z",
        "colab_type": "code",
        "colab": {
          "base_uri": "https://localhost:8080/",
          "height": 760
        },
        "outputId": "17e00160-1cf8-4528-c06f-916608ee5039"
      },
      "source": [
        "with sns.axes_style('dark'):\n",
        "    sns.jointplot(\"From\", \"Anchor Text\", data=df, kind='hex')"
      ],
      "execution_count": null,
      "outputs": [
        {
          "output_type": "error",
          "ename": "TypeError",
          "evalue": "ignored",
          "traceback": [
            "\u001b[0;31m---------------------------------------------------------------------------\u001b[0m",
            "\u001b[0;31mTypeError\u001b[0m                                 Traceback (most recent call last)",
            "\u001b[0;32m<ipython-input-37-c3f3ddb28bb5>\u001b[0m in \u001b[0;36m<module>\u001b[0;34m()\u001b[0m\n\u001b[1;32m      1\u001b[0m \u001b[0;32mwith\u001b[0m \u001b[0msns\u001b[0m\u001b[0;34m.\u001b[0m\u001b[0maxes_style\u001b[0m\u001b[0;34m(\u001b[0m\u001b[0;34m'dark'\u001b[0m\u001b[0;34m)\u001b[0m\u001b[0;34m:\u001b[0m\u001b[0;34m\u001b[0m\u001b[0;34m\u001b[0m\u001b[0m\n\u001b[0;32m----> 2\u001b[0;31m     \u001b[0msns\u001b[0m\u001b[0;34m.\u001b[0m\u001b[0mjointplot\u001b[0m\u001b[0;34m(\u001b[0m\u001b[0;34m\"From\"\u001b[0m\u001b[0;34m,\u001b[0m \u001b[0;34m\"Anchor Text\"\u001b[0m\u001b[0;34m,\u001b[0m \u001b[0mdata\u001b[0m\u001b[0;34m=\u001b[0m\u001b[0mdf\u001b[0m\u001b[0;34m,\u001b[0m \u001b[0mkind\u001b[0m\u001b[0;34m=\u001b[0m\u001b[0;34m'hex'\u001b[0m\u001b[0;34m)\u001b[0m\u001b[0;34m\u001b[0m\u001b[0;34m\u001b[0m\u001b[0m\n\u001b[0m",
            "\u001b[0;32m/usr/local/lib/python3.6/dist-packages/seaborn/axisgrid.py\u001b[0m in \u001b[0;36mjointplot\u001b[0;34m(x, y, data, kind, stat_func, color, height, ratio, space, dropna, xlim, ylim, joint_kws, marginal_kws, annot_kws, **kwargs)\u001b[0m\n\u001b[1;32m   2303\u001b[0m     \u001b[0;32melif\u001b[0m \u001b[0mkind\u001b[0m\u001b[0;34m.\u001b[0m\u001b[0mstartswith\u001b[0m\u001b[0;34m(\u001b[0m\u001b[0;34m\"hex\"\u001b[0m\u001b[0;34m)\u001b[0m\u001b[0;34m:\u001b[0m\u001b[0;34m\u001b[0m\u001b[0;34m\u001b[0m\u001b[0m\n\u001b[1;32m   2304\u001b[0m \u001b[0;34m\u001b[0m\u001b[0m\n\u001b[0;32m-> 2305\u001b[0;31m         \u001b[0mx_bins\u001b[0m \u001b[0;34m=\u001b[0m \u001b[0mmin\u001b[0m\u001b[0;34m(\u001b[0m\u001b[0m_freedman_diaconis_bins\u001b[0m\u001b[0;34m(\u001b[0m\u001b[0mgrid\u001b[0m\u001b[0;34m.\u001b[0m\u001b[0mx\u001b[0m\u001b[0;34m)\u001b[0m\u001b[0;34m,\u001b[0m \u001b[0;36m50\u001b[0m\u001b[0;34m)\u001b[0m\u001b[0;34m\u001b[0m\u001b[0;34m\u001b[0m\u001b[0m\n\u001b[0m\u001b[1;32m   2306\u001b[0m         \u001b[0my_bins\u001b[0m \u001b[0;34m=\u001b[0m \u001b[0mmin\u001b[0m\u001b[0;34m(\u001b[0m\u001b[0m_freedman_diaconis_bins\u001b[0m\u001b[0;34m(\u001b[0m\u001b[0mgrid\u001b[0m\u001b[0;34m.\u001b[0m\u001b[0my\u001b[0m\u001b[0;34m)\u001b[0m\u001b[0;34m,\u001b[0m \u001b[0;36m50\u001b[0m\u001b[0;34m)\u001b[0m\u001b[0;34m\u001b[0m\u001b[0;34m\u001b[0m\u001b[0m\n\u001b[1;32m   2307\u001b[0m         \u001b[0mgridsize\u001b[0m \u001b[0;34m=\u001b[0m \u001b[0mint\u001b[0m\u001b[0;34m(\u001b[0m\u001b[0mnp\u001b[0m\u001b[0;34m.\u001b[0m\u001b[0mmean\u001b[0m\u001b[0;34m(\u001b[0m\u001b[0;34m[\u001b[0m\u001b[0mx_bins\u001b[0m\u001b[0;34m,\u001b[0m \u001b[0my_bins\u001b[0m\u001b[0;34m]\u001b[0m\u001b[0;34m)\u001b[0m\u001b[0;34m)\u001b[0m\u001b[0;34m\u001b[0m\u001b[0;34m\u001b[0m\u001b[0m\n",
            "\u001b[0;32m/usr/local/lib/python3.6/dist-packages/seaborn/distributions.py\u001b[0m in \u001b[0;36m_freedman_diaconis_bins\u001b[0;34m(a)\u001b[0m\n\u001b[1;32m     30\u001b[0m     \u001b[0;32mif\u001b[0m \u001b[0mlen\u001b[0m\u001b[0;34m(\u001b[0m\u001b[0ma\u001b[0m\u001b[0;34m)\u001b[0m \u001b[0;34m<\u001b[0m \u001b[0;36m2\u001b[0m\u001b[0;34m:\u001b[0m\u001b[0;34m\u001b[0m\u001b[0;34m\u001b[0m\u001b[0m\n\u001b[1;32m     31\u001b[0m         \u001b[0;32mreturn\u001b[0m \u001b[0;36m1\u001b[0m\u001b[0;34m\u001b[0m\u001b[0;34m\u001b[0m\u001b[0m\n\u001b[0;32m---> 32\u001b[0;31m     \u001b[0mh\u001b[0m \u001b[0;34m=\u001b[0m \u001b[0;36m2\u001b[0m \u001b[0;34m*\u001b[0m \u001b[0miqr\u001b[0m\u001b[0;34m(\u001b[0m\u001b[0ma\u001b[0m\u001b[0;34m)\u001b[0m \u001b[0;34m/\u001b[0m \u001b[0;34m(\u001b[0m\u001b[0mlen\u001b[0m\u001b[0;34m(\u001b[0m\u001b[0ma\u001b[0m\u001b[0;34m)\u001b[0m \u001b[0;34m**\u001b[0m \u001b[0;34m(\u001b[0m\u001b[0;36m1\u001b[0m \u001b[0;34m/\u001b[0m \u001b[0;36m3\u001b[0m\u001b[0;34m)\u001b[0m\u001b[0;34m)\u001b[0m\u001b[0;34m\u001b[0m\u001b[0;34m\u001b[0m\u001b[0m\n\u001b[0m\u001b[1;32m     33\u001b[0m     \u001b[0;31m# fall back to sqrt(a) bins if iqr is 0\u001b[0m\u001b[0;34m\u001b[0m\u001b[0;34m\u001b[0m\u001b[0;34m\u001b[0m\u001b[0m\n\u001b[1;32m     34\u001b[0m     \u001b[0;32mif\u001b[0m \u001b[0mh\u001b[0m \u001b[0;34m==\u001b[0m \u001b[0;36m0\u001b[0m\u001b[0;34m:\u001b[0m\u001b[0;34m\u001b[0m\u001b[0;34m\u001b[0m\u001b[0m\n",
            "\u001b[0;32m/usr/local/lib/python3.6/dist-packages/seaborn/utils.py\u001b[0m in \u001b[0;36miqr\u001b[0;34m(a)\u001b[0m\n\u001b[1;32m    372\u001b[0m     \u001b[0;34m\"\"\"Calculate the IQR for an array of numbers.\"\"\"\u001b[0m\u001b[0;34m\u001b[0m\u001b[0;34m\u001b[0m\u001b[0m\n\u001b[1;32m    373\u001b[0m     \u001b[0ma\u001b[0m \u001b[0;34m=\u001b[0m \u001b[0mnp\u001b[0m\u001b[0;34m.\u001b[0m\u001b[0masarray\u001b[0m\u001b[0;34m(\u001b[0m\u001b[0ma\u001b[0m\u001b[0;34m)\u001b[0m\u001b[0;34m\u001b[0m\u001b[0;34m\u001b[0m\u001b[0m\n\u001b[0;32m--> 374\u001b[0;31m     \u001b[0mq1\u001b[0m \u001b[0;34m=\u001b[0m \u001b[0mstats\u001b[0m\u001b[0;34m.\u001b[0m\u001b[0mscoreatpercentile\u001b[0m\u001b[0;34m(\u001b[0m\u001b[0ma\u001b[0m\u001b[0;34m,\u001b[0m \u001b[0;36m25\u001b[0m\u001b[0;34m)\u001b[0m\u001b[0;34m\u001b[0m\u001b[0;34m\u001b[0m\u001b[0m\n\u001b[0m\u001b[1;32m    375\u001b[0m     \u001b[0mq3\u001b[0m \u001b[0;34m=\u001b[0m \u001b[0mstats\u001b[0m\u001b[0;34m.\u001b[0m\u001b[0mscoreatpercentile\u001b[0m\u001b[0;34m(\u001b[0m\u001b[0ma\u001b[0m\u001b[0;34m,\u001b[0m \u001b[0;36m75\u001b[0m\u001b[0;34m)\u001b[0m\u001b[0;34m\u001b[0m\u001b[0;34m\u001b[0m\u001b[0m\n\u001b[1;32m    376\u001b[0m     \u001b[0;32mreturn\u001b[0m \u001b[0mq3\u001b[0m \u001b[0;34m-\u001b[0m \u001b[0mq1\u001b[0m\u001b[0;34m\u001b[0m\u001b[0;34m\u001b[0m\u001b[0m\n",
            "\u001b[0;32m/usr/local/lib/python3.6/dist-packages/scipy/stats/stats.py\u001b[0m in \u001b[0;36mscoreatpercentile\u001b[0;34m(a, per, limit, interpolation_method, axis)\u001b[0m\n\u001b[1;32m   1818\u001b[0m         \u001b[0maxis\u001b[0m \u001b[0;34m=\u001b[0m \u001b[0;36m0\u001b[0m\u001b[0;34m\u001b[0m\u001b[0;34m\u001b[0m\u001b[0m\n\u001b[1;32m   1819\u001b[0m \u001b[0;34m\u001b[0m\u001b[0m\n\u001b[0;32m-> 1820\u001b[0;31m     \u001b[0;32mreturn\u001b[0m \u001b[0m_compute_qth_percentile\u001b[0m\u001b[0;34m(\u001b[0m\u001b[0msorted_\u001b[0m\u001b[0;34m,\u001b[0m \u001b[0mper\u001b[0m\u001b[0;34m,\u001b[0m \u001b[0minterpolation_method\u001b[0m\u001b[0;34m,\u001b[0m \u001b[0maxis\u001b[0m\u001b[0;34m)\u001b[0m\u001b[0;34m\u001b[0m\u001b[0;34m\u001b[0m\u001b[0m\n\u001b[0m\u001b[1;32m   1821\u001b[0m \u001b[0;34m\u001b[0m\u001b[0m\n\u001b[1;32m   1822\u001b[0m \u001b[0;34m\u001b[0m\u001b[0m\n",
            "\u001b[0;32m/usr/local/lib/python3.6/dist-packages/scipy/stats/stats.py\u001b[0m in \u001b[0;36m_compute_qth_percentile\u001b[0;34m(sorted_, per, interpolation_method, axis)\u001b[0m\n\u001b[1;32m   1862\u001b[0m \u001b[0;34m\u001b[0m\u001b[0m\n\u001b[1;32m   1863\u001b[0m     \u001b[0;31m# Use np.add.reduce (== np.sum but a little faster) to coerce data type\u001b[0m\u001b[0;34m\u001b[0m\u001b[0;34m\u001b[0m\u001b[0;34m\u001b[0m\u001b[0m\n\u001b[0;32m-> 1864\u001b[0;31m     \u001b[0;32mreturn\u001b[0m \u001b[0mnp\u001b[0m\u001b[0;34m.\u001b[0m\u001b[0madd\u001b[0m\u001b[0;34m.\u001b[0m\u001b[0mreduce\u001b[0m\u001b[0;34m(\u001b[0m\u001b[0msorted_\u001b[0m\u001b[0;34m[\u001b[0m\u001b[0mtuple\u001b[0m\u001b[0;34m(\u001b[0m\u001b[0mindexer\u001b[0m\u001b[0;34m)\u001b[0m\u001b[0;34m]\u001b[0m \u001b[0;34m*\u001b[0m \u001b[0mweights\u001b[0m\u001b[0;34m,\u001b[0m \u001b[0maxis\u001b[0m\u001b[0;34m=\u001b[0m\u001b[0maxis\u001b[0m\u001b[0;34m)\u001b[0m \u001b[0;34m/\u001b[0m \u001b[0msumval\u001b[0m\u001b[0;34m\u001b[0m\u001b[0;34m\u001b[0m\u001b[0m\n\u001b[0m\u001b[1;32m   1865\u001b[0m \u001b[0;34m\u001b[0m\u001b[0m\n\u001b[1;32m   1866\u001b[0m \u001b[0;34m\u001b[0m\u001b[0m\n",
            "\u001b[0;31mTypeError\u001b[0m: unsupported operand type(s) for /: 'str' and 'float'"
          ]
        },
        {
          "output_type": "display_data",
          "data": {
            "image/png": "[encoded data removed]",
            "text/plain": [
              "<Figure size 432x432 with 3 Axes>"
            ]
          },
          "metadata": {
            "tags": []
          }
        }
      ]
    },
    {
      "cell_type": "code",
      "metadata": {
        "id": "X7lQNvEEqq2t",
        "colab_type": "code",
        "colab": {}
      },
      "source": [
        "import ipywidgets as widgets\n"
      ],
      "execution_count": null,
      "outputs": []
    },
    {
      "cell_type": "code",
      "metadata": {
        "id": "Zs2tAl7gokPP",
        "colab_type": "code",
        "colab": {
          "base_uri": "https://localhost:8080/",
          "height": 64,
          "referenced_widgets": [
            "7a54b97f414d4e35a8f66fe701bff757",
            "1750bd48543043589a80be5171784dbf",
            "73e828f4d5594887a7ddfaa2da4518bc"
          ]
        },
        "outputId": "3d74598b-13cb-4d0d-e1a0-7628a0ee7b19"
      },
      "source": [
        "widgets.Textarea(\n",
        "    value='',\n",
        "    placeholder='Type url here',\n",
        "    description='Internal links:',\n",
        "    disabled=False\n",
        ")"
      ],
      "execution_count": null,
      "outputs": [
        {
          "output_type": "display_data",
          "data": {
            "application/vnd.jupyter.widget-view+json": {
              "model_id": "7a54b97f414d4e35a8f66fe701bff757",
              "version_minor": 0,
              "version_major": 2
            },
            "text/plain": [
              "Textarea(value='', description='Internal links:', placeholder='Type url here')"
            ]
          },
          "metadata": {
            "tags": []
          }
        }
      ]
    },
    {
      "cell_type": "code",
      "metadata": {
        "id": "l3vuxEqVq95d",
        "colab_type": "code",
        "colab": {
          "base_uri": "https://localhost:8080/",
          "height": 340
        },
        "outputId": "d5759286-1b07-48eb-e580-cdf8f6816ae7"
      },
      "source": [
        "df_filtered = df[(df['To'].str.contains(widgets.Textarea, regex=True)==True)]\n",
        "df_filtered.head(15)"
      ],
      "execution_count": null,
      "outputs": [
        {
          "output_type": "error",
          "ename": "TypeError",
          "evalue": "ignored",
          "traceback": [
            "\u001b[0;31m---------------------------------------------------------------------------\u001b[0m",
            "\u001b[0;31mTypeError\u001b[0m                                 Traceback (most recent call last)",
            "\u001b[0;32m<ipython-input-62-3e4ef9ca2704>\u001b[0m in \u001b[0;36m<module>\u001b[0;34m()\u001b[0m\n\u001b[0;32m----> 1\u001b[0;31m \u001b[0mdf_filtered\u001b[0m \u001b[0;34m=\u001b[0m \u001b[0mdf\u001b[0m\u001b[0;34m[\u001b[0m\u001b[0;34m(\u001b[0m\u001b[0mdf\u001b[0m\u001b[0;34m[\u001b[0m\u001b[0;34m'To'\u001b[0m\u001b[0;34m]\u001b[0m\u001b[0;34m.\u001b[0m\u001b[0mstr\u001b[0m\u001b[0;34m.\u001b[0m\u001b[0mcontains\u001b[0m\u001b[0;34m(\u001b[0m\u001b[0mwidgets\u001b[0m\u001b[0;34m.\u001b[0m\u001b[0mTextarea\u001b[0m\u001b[0;34m,\u001b[0m \u001b[0mregex\u001b[0m\u001b[0;34m=\u001b[0m\u001b[0;32mTrue\u001b[0m\u001b[0;34m)\u001b[0m\u001b[0;34m==\u001b[0m\u001b[0;32mTrue\u001b[0m\u001b[0;34m)\u001b[0m\u001b[0;34m]\u001b[0m\u001b[0;34m\u001b[0m\u001b[0;34m\u001b[0m\u001b[0m\n\u001b[0m\u001b[1;32m      2\u001b[0m \u001b[0mdf_filtered\u001b[0m\u001b[0;34m.\u001b[0m\u001b[0mhead\u001b[0m\u001b[0;34m(\u001b[0m\u001b[0;36m15\u001b[0m\u001b[0;34m)\u001b[0m\u001b[0;34m\u001b[0m\u001b[0;34m\u001b[0m\u001b[0m\n",
            "\u001b[0;32m/usr/local/lib/python3.6/dist-packages/pandas/core/strings.py\u001b[0m in \u001b[0;36mwrapper\u001b[0;34m(self, *args, **kwargs)\u001b[0m\n\u001b[1;32m   1841\u001b[0m                 )\n\u001b[1;32m   1842\u001b[0m                 \u001b[0;32mraise\u001b[0m \u001b[0mTypeError\u001b[0m\u001b[0;34m(\u001b[0m\u001b[0mmsg\u001b[0m\u001b[0;34m)\u001b[0m\u001b[0;34m\u001b[0m\u001b[0;34m\u001b[0m\u001b[0m\n\u001b[0;32m-> 1843\u001b[0;31m             \u001b[0;32mreturn\u001b[0m \u001b[0mfunc\u001b[0m\u001b[0;34m(\u001b[0m\u001b[0mself\u001b[0m\u001b[0;34m,\u001b[0m \u001b[0;34m*\u001b[0m\u001b[0margs\u001b[0m\u001b[0;34m,\u001b[0m \u001b[0;34m**\u001b[0m\u001b[0mkwargs\u001b[0m\u001b[0;34m)\u001b[0m\u001b[0;34m\u001b[0m\u001b[0;34m\u001b[0m\u001b[0m\n\u001b[0m\u001b[1;32m   1844\u001b[0m \u001b[0;34m\u001b[0m\u001b[0m\n\u001b[1;32m   1845\u001b[0m         \u001b[0mwrapper\u001b[0m\u001b[0;34m.\u001b[0m\u001b[0m__name__\u001b[0m \u001b[0;34m=\u001b[0m \u001b[0mfunc_name\u001b[0m\u001b[0;34m\u001b[0m\u001b[0;34m\u001b[0m\u001b[0m\n",
            "\u001b[0;32m/usr/local/lib/python3.6/dist-packages/pandas/core/strings.py\u001b[0m in \u001b[0;36mcontains\u001b[0;34m(self, pat, case, flags, na, regex)\u001b[0m\n\u001b[1;32m   2700\u001b[0m     \u001b[0;32mdef\u001b[0m \u001b[0mcontains\u001b[0m\u001b[0;34m(\u001b[0m\u001b[0mself\u001b[0m\u001b[0;34m,\u001b[0m \u001b[0mpat\u001b[0m\u001b[0;34m,\u001b[0m \u001b[0mcase\u001b[0m\u001b[0;34m=\u001b[0m\u001b[0;32mTrue\u001b[0m\u001b[0;34m,\u001b[0m \u001b[0mflags\u001b[0m\u001b[0;34m=\u001b[0m\u001b[0;36m0\u001b[0m\u001b[0;34m,\u001b[0m \u001b[0mna\u001b[0m\u001b[0;34m=\u001b[0m\u001b[0mnp\u001b[0m\u001b[0;34m.\u001b[0m\u001b[0mnan\u001b[0m\u001b[0;34m,\u001b[0m \u001b[0mregex\u001b[0m\u001b[0;34m=\u001b[0m\u001b[0;32mTrue\u001b[0m\u001b[0;34m)\u001b[0m\u001b[0;34m:\u001b[0m\u001b[0;34m\u001b[0m\u001b[0;34m\u001b[0m\u001b[0m\n\u001b[1;32m   2701\u001b[0m         result = str_contains(\n\u001b[0;32m-> 2702\u001b[0;31m             \u001b[0mself\u001b[0m\u001b[0;34m.\u001b[0m\u001b[0m_parent\u001b[0m\u001b[0;34m,\u001b[0m \u001b[0mpat\u001b[0m\u001b[0;34m,\u001b[0m \u001b[0mcase\u001b[0m\u001b[0;34m=\u001b[0m\u001b[0mcase\u001b[0m\u001b[0;34m,\u001b[0m \u001b[0mflags\u001b[0m\u001b[0;34m=\u001b[0m\u001b[0mflags\u001b[0m\u001b[0;34m,\u001b[0m \u001b[0mna\u001b[0m\u001b[0;34m=\u001b[0m\u001b[0mna\u001b[0m\u001b[0;34m,\u001b[0m \u001b[0mregex\u001b[0m\u001b[0;34m=\u001b[0m\u001b[0mregex\u001b[0m\u001b[0;34m\u001b[0m\u001b[0;34m\u001b[0m\u001b[0m\n\u001b[0m\u001b[1;32m   2703\u001b[0m         )\n\u001b[1;32m   2704\u001b[0m         \u001b[0;32mreturn\u001b[0m \u001b[0mself\u001b[0m\u001b[0;34m.\u001b[0m\u001b[0m_wrap_result\u001b[0m\u001b[0;34m(\u001b[0m\u001b[0mresult\u001b[0m\u001b[0;34m,\u001b[0m \u001b[0mfill_value\u001b[0m\u001b[0;34m=\u001b[0m\u001b[0mna\u001b[0m\u001b[0;34m)\u001b[0m\u001b[0;34m\u001b[0m\u001b[0;34m\u001b[0m\u001b[0m\n",
            "\u001b[0;32m/usr/local/lib/python3.6/dist-packages/pandas/core/strings.py\u001b[0m in \u001b[0;36mstr_contains\u001b[0;34m(arr, pat, case, flags, na, regex)\u001b[0m\n\u001b[1;32m    342\u001b[0m             \u001b[0mflags\u001b[0m \u001b[0;34m|=\u001b[0m \u001b[0mre\u001b[0m\u001b[0;34m.\u001b[0m\u001b[0mIGNORECASE\u001b[0m\u001b[0;34m\u001b[0m\u001b[0;34m\u001b[0m\u001b[0m\n\u001b[1;32m    343\u001b[0m \u001b[0;34m\u001b[0m\u001b[0m\n\u001b[0;32m--> 344\u001b[0;31m         \u001b[0mregex\u001b[0m \u001b[0;34m=\u001b[0m \u001b[0mre\u001b[0m\u001b[0;34m.\u001b[0m\u001b[0mcompile\u001b[0m\u001b[0;34m(\u001b[0m\u001b[0mpat\u001b[0m\u001b[0;34m,\u001b[0m \u001b[0mflags\u001b[0m\u001b[0;34m=\u001b[0m\u001b[0mflags\u001b[0m\u001b[0;34m)\u001b[0m\u001b[0;34m\u001b[0m\u001b[0;34m\u001b[0m\u001b[0m\n\u001b[0m\u001b[1;32m    345\u001b[0m \u001b[0;34m\u001b[0m\u001b[0m\n\u001b[1;32m    346\u001b[0m         \u001b[0;32mif\u001b[0m \u001b[0mregex\u001b[0m\u001b[0;34m.\u001b[0m\u001b[0mgroups\u001b[0m \u001b[0;34m>\u001b[0m \u001b[0;36m0\u001b[0m\u001b[0;34m:\u001b[0m\u001b[0;34m\u001b[0m\u001b[0;34m\u001b[0m\u001b[0m\n",
            "\u001b[0;32m/usr/lib/python3.6/re.py\u001b[0m in \u001b[0;36mcompile\u001b[0;34m(pattern, flags)\u001b[0m\n\u001b[1;32m    231\u001b[0m \u001b[0;32mdef\u001b[0m \u001b[0mcompile\u001b[0m\u001b[0;34m(\u001b[0m\u001b[0mpattern\u001b[0m\u001b[0;34m,\u001b[0m \u001b[0mflags\u001b[0m\u001b[0;34m=\u001b[0m\u001b[0;36m0\u001b[0m\u001b[0;34m)\u001b[0m\u001b[0;34m:\u001b[0m\u001b[0;34m\u001b[0m\u001b[0;34m\u001b[0m\u001b[0m\n\u001b[1;32m    232\u001b[0m     \u001b[0;34m\"Compile a regular expression pattern, returning a pattern object.\"\u001b[0m\u001b[0;34m\u001b[0m\u001b[0;34m\u001b[0m\u001b[0m\n\u001b[0;32m--> 233\u001b[0;31m     \u001b[0;32mreturn\u001b[0m \u001b[0m_compile\u001b[0m\u001b[0;34m(\u001b[0m\u001b[0mpattern\u001b[0m\u001b[0;34m,\u001b[0m \u001b[0mflags\u001b[0m\u001b[0;34m)\u001b[0m\u001b[0;34m\u001b[0m\u001b[0;34m\u001b[0m\u001b[0m\n\u001b[0m\u001b[1;32m    234\u001b[0m \u001b[0;34m\u001b[0m\u001b[0m\n\u001b[1;32m    235\u001b[0m \u001b[0;32mdef\u001b[0m \u001b[0mpurge\u001b[0m\u001b[0;34m(\u001b[0m\u001b[0;34m)\u001b[0m\u001b[0;34m:\u001b[0m\u001b[0;34m\u001b[0m\u001b[0;34m\u001b[0m\u001b[0m\n",
            "\u001b[0;32m/usr/lib/python3.6/re.py\u001b[0m in \u001b[0;36m_compile\u001b[0;34m(pattern, flags)\u001b[0m\n\u001b[1;32m    298\u001b[0m         \u001b[0;32mreturn\u001b[0m \u001b[0mpattern\u001b[0m\u001b[0;34m\u001b[0m\u001b[0;34m\u001b[0m\u001b[0m\n\u001b[1;32m    299\u001b[0m     \u001b[0;32mif\u001b[0m \u001b[0;32mnot\u001b[0m \u001b[0msre_compile\u001b[0m\u001b[0;34m.\u001b[0m\u001b[0misstring\u001b[0m\u001b[0;34m(\u001b[0m\u001b[0mpattern\u001b[0m\u001b[0;34m)\u001b[0m\u001b[0;34m:\u001b[0m\u001b[0;34m\u001b[0m\u001b[0;34m\u001b[0m\u001b[0m\n\u001b[0;32m--> 300\u001b[0;31m         \u001b[0;32mraise\u001b[0m \u001b[0mTypeError\u001b[0m\u001b[0;34m(\u001b[0m\u001b[0;34m\"first argument must be string or compiled pattern\"\u001b[0m\u001b[0;34m)\u001b[0m\u001b[0;34m\u001b[0m\u001b[0;34m\u001b[0m\u001b[0m\n\u001b[0m\u001b[1;32m    301\u001b[0m     \u001b[0mp\u001b[0m \u001b[0;34m=\u001b[0m \u001b[0msre_compile\u001b[0m\u001b[0;34m.\u001b[0m\u001b[0mcompile\u001b[0m\u001b[0;34m(\u001b[0m\u001b[0mpattern\u001b[0m\u001b[0;34m,\u001b[0m \u001b[0mflags\u001b[0m\u001b[0;34m)\u001b[0m\u001b[0;34m\u001b[0m\u001b[0;34m\u001b[0m\u001b[0m\n\u001b[1;32m    302\u001b[0m     \u001b[0;32mif\u001b[0m \u001b[0;32mnot\u001b[0m \u001b[0;34m(\u001b[0m\u001b[0mflags\u001b[0m \u001b[0;34m&\u001b[0m \u001b[0mDEBUG\u001b[0m\u001b[0;34m)\u001b[0m\u001b[0;34m:\u001b[0m\u001b[0;34m\u001b[0m\u001b[0;34m\u001b[0m\u001b[0m\n",
            "\u001b[0;31mTypeError\u001b[0m: first argument must be string or compiled pattern"
          ]
        }
      ]
    },
    {
      "cell_type": "code",
      "metadata": {
        "id": "x7cf5AWCr3GH",
        "colab_type": "code",
        "colab": {
          "base_uri": "https://localhost:8080/",
          "height": 107
        },
        "outputId": "7db09f2c-9685-4fc6-ea8f-aa0d6cfa577b"
      },
      "source": [
        "!pip install requests"
      ],
      "execution_count": null,
      "outputs": [
        {
          "output_type": "stream",
          "text": [
            "Requirement already satisfied: requests in /usr/local/lib/python3.6/dist-packages (2.21.0)\n",
            "Requirement already satisfied: certifi>=2017.4.17 in /usr/local/lib/python3.6/dist-packages (from requests) (2019.11.28)\n",
            "Requirement already satisfied: urllib3<1.25,>=1.21.1 in /usr/local/lib/python3.6/dist-packages (from requests) (1.24.3)\n",
            "Requirement already satisfied: chardet<3.1.0,>=3.0.2 in /usr/local/lib/python3.6/dist-packages (from requests) (3.0.4)\n",
            "Requirement already satisfied: idna<2.9,>=2.5 in /usr/local/lib/python3.6/dist-packages (from requests) (2.8)\n"
          ],
          "name": "stdout"
        }
      ]
    }
  ]
}
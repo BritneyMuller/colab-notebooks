{
  "nbformat": 4,
  "nbformat_minor": 0,
  "metadata": {
    "colab": {
      "name": "Quick & Dirty Internal Link Analysis.ipynb",
      "provenance": [],
      "collapsed_sections": [],
      "toc_visible": true,
      "authorship_tag": "ABX9TyM1z7iWKgz9W8P5/tW2pMUN",
      "include_colab_link": true
    },
    "kernelspec": {
      "name": "python3",
      "display_name": "Python 3"
    },
    "accelerator": "GPU"
  },
  "cells": [
    {
      "cell_type": "markdown",
      "metadata": {
        "id": "view-in-github",
        "colab_type": "text"
      },
      "source": [
        "<a href=\"https://colab.research.google.com/github/BritneyMuller/colab-notebooks/blob/master/Quick_%26_Dirty_Internal_Link_Analysis.ipynb\" target=\"_parent\"><img src=\"https://colab.research.google.com/assets/colab-badge.svg\" alt=\"Open In Colab\"/></a>"
      ]
    },
    {
      "cell_type": "markdown",
      "metadata": {
        "id": "G7y0mSAmOKrV"
      },
      "source": [
        "# Internal Link Analysis\n",
        "\n",
        "Made by [![Follow](https://img.shields.io/twitter/follow/BritneyMuller?style=social)](https://twitter.com/BritneyMuller)\n",
        "\n",
        "Please contact britneymuller@gmail.com with Subject [Colab Link Analysis] with any questions.\n",
        "\n",
        "Explore: [github.com/BritneyMuller/colab-notebooks ](github.com/BritneyMuller/colab-notebooks)for more Notebook examples"
      ]
    },
    {
      "cell_type": "markdown",
      "metadata": {
        "id": "Y59nEdqJO7Wg"
      },
      "source": [
        "# Upload internal link data via Screaming Frog 🐸\n",
        "\n",
        "\n",
        "![Export internal link csv to your local computer](https://i.ibb.co/5W2crVy/Screen-Shot-2020-02-26-at-12-14-13-AM.png)\n",
        "\n",
        "---\n",
        "Before you start click: \n",
        "\n",
        "> 'Edit' -> 'Notebook Settings' and change 'Hardware Accelerator' to GPU.\n",
        "\n",
        "---\n",
        "\n",
        "\n",
        "\n",
        "Note: [Shift + Return] is the shortcut to run a single cell. \n",
        "\n",
        "Try running the code below by clicking into the cell and doing [Shift + Return].\n"
      ]
    },
    {
      "cell_type": "code",
      "metadata": {
        "id": "dOGPtWU6fAKR"
      },
      "source": [
        "import csv\n",
        "import json\n",
        "import requests\n",
        "import pandas as pd\n",
        "import numpy as np\n",
        "import re\n",
        "from IPython.display import display"
      ],
      "execution_count": 1,
      "outputs": []
    },
    {
      "cell_type": "code",
      "metadata": {
        "id": "TSOQ1M2kO1F_",
        "colab": {
          "resources": {
            "http://localhost:8080/nbextensions/google.colab/files.js": {
              "data": "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",
              "ok": true,
              "headers": [
                [
                  "content-type",
                  "application/javascript"
                ]
              ],
              "status": 200,
              "status_text": ""
            }
          },
          "base_uri": "https://localhost:8080/",
          "height": 72
        },
        "outputId": "17f009e8-24fa-45c2-96ca-e4b7d37e5288"
      },
      "source": [
        "from google.colab import files\n",
        "uploaded = files.upload()"
      ],
      "execution_count": 2,
      "outputs": [
        {
          "output_type": "display_data",
          "data": {
            "text/html": [
              "\n",
              "     <input type=\"file\" id=\"files-1eec192f-20d6-40e8-8c38-4c84775c96d1\" name=\"files[]\" multiple disabled\n",
              "        style=\"border:none\" />\n",
              "     <output id=\"result-1eec192f-20d6-40e8-8c38-4c84775c96d1\">\n",
              "      Upload widget is only available when the cell has been executed in the\n",
              "      current browser session. Please rerun this cell to enable.\n",
              "      </output>\n",
              "      <script src=\"/nbextensions/google.colab/files.js\"></script> "
            ],
            "text/plain": [
              "<IPython.core.display.HTML object>"
            ]
          },
          "metadata": {
            "tags": []
          }
        },
        {
          "output_type": "stream",
          "text": [
            "Saving lp-inlinks.csv to lp-inlinks (1).csv\n"
          ],
          "name": "stdout"
        }
      ]
    },
    {
      "cell_type": "markdown",
      "metadata": {
        "id": "DvhbitJsgn3A"
      },
      "source": [
        "Upload data as \"df\" (dataframe)"
      ]
    },
    {
      "cell_type": "code",
      "metadata": {
        "id": "5bwFFew5O4_y"
      },
      "source": [
        "df = pd.read_csv(\"lp-inlinks (1).csv\")"
      ],
      "execution_count": 3,
      "outputs": []
    },
    {
      "cell_type": "markdown",
      "metadata": {
        "id": "B1d2HJG0gt4P"
      },
      "source": [
        "Look at the first 5 lines (this includes the header)\n"
      ]
    },
    {
      "cell_type": "code",
      "metadata": {
        "id": "PAuO2kzLe5QU",
        "colab": {
          "base_uri": "https://localhost:8080/",
          "height": 203
        },
        "outputId": "979c0107-98e7-412f-9727-ce895e09842d"
      },
      "source": [
        "df.head()"
      ],
      "execution_count": 4,
      "outputs": [
        {
          "output_type": "execute_result",
          "data": {
            "text/html": [
              "<div>\n",
              "<style scoped>\n",
              "    .dataframe tbody tr th:only-of-type {\n",
              "        vertical-align: middle;\n",
              "    }\n",
              "\n",
              "    .dataframe tbody tr th {\n",
              "        vertical-align: top;\n",
              "    }\n",
              "\n",
              "    .dataframe thead th {\n",
              "        text-align: right;\n",
              "    }\n",
              "</style>\n",
              "<table border=\"1\" class=\"dataframe\">\n",
              "  <thead>\n",
              "    <tr style=\"text-align: right;\">\n",
              "      <th></th>\n",
              "      <th>Type</th>\n",
              "      <th>From</th>\n",
              "      <th>To</th>\n",
              "      <th>Anchor Text</th>\n",
              "      <th>Alt Text</th>\n",
              "      <th>Follow</th>\n",
              "      <th>Link Attributes</th>\n",
              "    </tr>\n",
              "  </thead>\n",
              "  <tbody>\n",
              "    <tr>\n",
              "      <th>0</th>\n",
              "      <td>HTTP Redirect</td>\n",
              "      <td>http://launchpadbemidji.com/</td>\n",
              "      <td>https://launchpadbemidji.com/</td>\n",
              "      <td>NaN</td>\n",
              "      <td>NaN</td>\n",
              "      <td>True</td>\n",
              "      <td>NaN</td>\n",
              "    </tr>\n",
              "    <tr>\n",
              "      <th>1</th>\n",
              "      <td>AHREF</td>\n",
              "      <td>https://launchpadbemidji.com/</td>\n",
              "      <td>https://launchpadbemidji.com/</td>\n",
              "      <td>NaN</td>\n",
              "      <td>LaunchPad</td>\n",
              "      <td>True</td>\n",
              "      <td>NaN</td>\n",
              "    </tr>\n",
              "    <tr>\n",
              "      <th>2</th>\n",
              "      <td>AHREF</td>\n",
              "      <td>https://launchpadbemidji.com/</td>\n",
              "      <td>https://launchpadbemidji.com/</td>\n",
              "      <td>Home</td>\n",
              "      <td>NaN</td>\n",
              "      <td>True</td>\n",
              "      <td>NaN</td>\n",
              "    </tr>\n",
              "    <tr>\n",
              "      <th>3</th>\n",
              "      <td>AHREF</td>\n",
              "      <td>https://launchpadbemidji.com/</td>\n",
              "      <td>https://launchpadbemidji.com/</td>\n",
              "      <td>Home</td>\n",
              "      <td>NaN</td>\n",
              "      <td>True</td>\n",
              "      <td>NaN</td>\n",
              "    </tr>\n",
              "    <tr>\n",
              "      <th>4</th>\n",
              "      <td>AHREF</td>\n",
              "      <td>https://launchpadbemidji.com/</td>\n",
              "      <td>https://launchpadbemidji.com/</td>\n",
              "      <td>Home</td>\n",
              "      <td>NaN</td>\n",
              "      <td>True</td>\n",
              "      <td>NaN</td>\n",
              "    </tr>\n",
              "  </tbody>\n",
              "</table>\n",
              "</div>"
            ],
            "text/plain": [
              "            Type                           From  ... Follow Link Attributes\n",
              "0  HTTP Redirect   http://launchpadbemidji.com/  ...   True             NaN\n",
              "1          AHREF  https://launchpadbemidji.com/  ...   True             NaN\n",
              "2          AHREF  https://launchpadbemidji.com/  ...   True             NaN\n",
              "3          AHREF  https://launchpadbemidji.com/  ...   True             NaN\n",
              "4          AHREF  https://launchpadbemidji.com/  ...   True             NaN\n",
              "\n",
              "[5 rows x 7 columns]"
            ]
          },
          "metadata": {
            "tags": []
          },
          "execution_count": 4
        }
      ]
    },
    {
      "cell_type": "code",
      "metadata": {
        "id": "sum4dPoukwW4",
        "colab": {
          "base_uri": "https://localhost:8080/",
          "height": 306
        },
        "outputId": "7c6616bd-9115-458d-f9b0-8309d0141937"
      },
      "source": [
        "df.tail()"
      ],
      "execution_count": 5,
      "outputs": [
        {
          "output_type": "execute_result",
          "data": {
            "text/html": [
              "<div>\n",
              "<style scoped>\n",
              "    .dataframe tbody tr th:only-of-type {\n",
              "        vertical-align: middle;\n",
              "    }\n",
              "\n",
              "    .dataframe tbody tr th {\n",
              "        vertical-align: top;\n",
              "    }\n",
              "\n",
              "    .dataframe thead th {\n",
              "        text-align: right;\n",
              "    }\n",
              "</style>\n",
              "<table border=\"1\" class=\"dataframe\">\n",
              "  <thead>\n",
              "    <tr style=\"text-align: right;\">\n",
              "      <th></th>\n",
              "      <th>Type</th>\n",
              "      <th>From</th>\n",
              "      <th>To</th>\n",
              "      <th>Anchor Text</th>\n",
              "      <th>Alt Text</th>\n",
              "      <th>Follow</th>\n",
              "      <th>Link Attributes</th>\n",
              "    </tr>\n",
              "  </thead>\n",
              "  <tbody>\n",
              "    <tr>\n",
              "      <th>992</th>\n",
              "      <td>AHREF</td>\n",
              "      <td>https://launchpadbemidji.com/photo-galleries/</td>\n",
              "      <td>https://launchpadbemidji.com/wp-content/upload...</td>\n",
              "      <td>NaN</td>\n",
              "      <td>NaN</td>\n",
              "      <td>True</td>\n",
              "      <td>NaN</td>\n",
              "    </tr>\n",
              "    <tr>\n",
              "      <th>993</th>\n",
              "      <td>AHREF</td>\n",
              "      <td>https://launchpadbemidji.com/photo-galleries/</td>\n",
              "      <td>https://launchpadbemidji.com/wp-content/upload...</td>\n",
              "      <td>NaN</td>\n",
              "      <td>NaN</td>\n",
              "      <td>True</td>\n",
              "      <td>NaN</td>\n",
              "    </tr>\n",
              "    <tr>\n",
              "      <th>994</th>\n",
              "      <td>AHREF</td>\n",
              "      <td>https://launchpadbemidji.com/photo-galleries/</td>\n",
              "      <td>https://launchpadbemidji.com/wp-content/upload...</td>\n",
              "      <td>NaN</td>\n",
              "      <td>NaN</td>\n",
              "      <td>True</td>\n",
              "      <td>NaN</td>\n",
              "    </tr>\n",
              "    <tr>\n",
              "      <th>995</th>\n",
              "      <td>AHREF</td>\n",
              "      <td>https://launchpadbemidji.com/photo-galleries/</td>\n",
              "      <td>https://launchpadbemidji.com/wp-content/upload...</td>\n",
              "      <td>NaN</td>\n",
              "      <td>NaN</td>\n",
              "      <td>True</td>\n",
              "      <td>NaN</td>\n",
              "    </tr>\n",
              "    <tr>\n",
              "      <th>996</th>\n",
              "      <td>AHREF</td>\n",
              "      <td>https://launchpadbemidji.com/photo-galleries/</td>\n",
              "      <td>https://launchpadbemidji.com/wp-content/upload...</td>\n",
              "      <td>NaN</td>\n",
              "      <td>NaN</td>\n",
              "      <td>True</td>\n",
              "      <td>NaN</td>\n",
              "    </tr>\n",
              "  </tbody>\n",
              "</table>\n",
              "</div>"
            ],
            "text/plain": [
              "      Type  ... Link Attributes\n",
              "992  AHREF  ...             NaN\n",
              "993  AHREF  ...             NaN\n",
              "994  AHREF  ...             NaN\n",
              "995  AHREF  ...             NaN\n",
              "996  AHREF  ...             NaN\n",
              "\n",
              "[5 rows x 7 columns]"
            ]
          },
          "metadata": {
            "tags": []
          },
          "execution_count": 5
        }
      ]
    },
    {
      "cell_type": "markdown",
      "metadata": {
        "id": "ZnAbsqarhROu"
      },
      "source": [
        "## Evaluate internal link counts"
      ]
    },
    {
      "cell_type": "code",
      "metadata": {
        "id": "6iJm3AJOi0SH",
        "colab": {
          "base_uri": "https://localhost:8080/"
        },
        "outputId": "a321acc2-b03a-4717-9c34-2d0510f615d2"
      },
      "source": [
        "df['To'].value_counts()"
      ],
      "execution_count": 6,
      "outputs": [
        {
          "output_type": "execute_result",
          "data": {
            "text/plain": [
              "https://launchpadbemidji.com/                                                       46\n",
              "https://launchpadbemidji.com/wp-content/themes/amax/img/e.gif                       43\n",
              "https://launchpadbemidji.com/entrepreneur-meet-up/                                  35\n",
              "https://launchpadbemidji.com/membership/                                            35\n",
              "https://launchpadbemidji.com/about-us/                                              35\n",
              "                                                                                    ..\n",
              "https://launchpadbemidji.com/wp-content/uploads/2017/02/3.jpg                        1\n",
              "https://launchpadbemidji.com/wp-content/uploads/2019/06/1-2-3-Start-Up-Guide.pdf     1\n",
              "https://launchpadbemidji.com/wp-content/uploads/2016/03/8.jpg                        1\n",
              "https://launchpadbemidji.com/wp-content/uploads/2017/04/IMG_1308.jpg                 1\n",
              "https://launchpadbemidji.com/wp-content/uploads/2019/04/den.jpg                      1\n",
              "Name: To, Length: 116, dtype: int64"
            ]
          },
          "metadata": {
            "tags": []
          },
          "execution_count": 6
        }
      ]
    },
    {
      "cell_type": "markdown",
      "metadata": {
        "id": "12BjiBNThlnq"
      },
      "source": [
        "# Evaluate internal anchor text count"
      ]
    },
    {
      "cell_type": "code",
      "metadata": {
        "id": "tSVQR2q3hPWo",
        "colab": {
          "base_uri": "https://localhost:8080/"
        },
        "outputId": "9d40e1a7-f492-4e54-892f-9d9f65201603"
      },
      "source": [
        "df['Anchor Text'].value_counts()"
      ],
      "execution_count": 7,
      "outputs": [
        {
          "output_type": "execute_result",
          "data": {
            "text/plain": [
              "Contact Us                   33\n",
              "LaunchPad Events             33\n",
              "Entrepreneurs Meetup         33\n",
              "LaunchPad Staff              33\n",
              "Membership                   33\n",
              "Current LaunchPad Members    33\n",
              "Videos                       33\n",
              "Resources                    33\n",
              "COVID-19 Updates             33\n",
              "Photo Galleries              33\n",
              "Home                         33\n",
              "About Us                     33\n",
              "MEMBERSHIP                    1\n",
              "ENTREPRENEURS MEETUP          1\n",
              "ABOUT US                      1\n",
              "Name: Anchor Text, dtype: int64"
            ]
          },
          "metadata": {
            "tags": []
          },
          "execution_count": 7
        }
      ]
    },
    {
      "cell_type": "markdown",
      "metadata": {
        "id": "z9GaE8SJi89u"
      },
      "source": [
        "## Find all links to 'X' Page"
      ]
    },
    {
      "cell_type": "code",
      "metadata": {
        "id": "LbuhQAbvhk_P",
        "colab": {
          "base_uri": "https://localhost:8080/",
          "height": 1000
        },
        "outputId": "486f9503-dcb2-4a42-be7c-366eb45422bc"
      },
      "source": [
        "df_filtered = df[(df['To'].str.contains(\"/entrepreneur-meet-up/\", regex=True)==True)]\n",
        "df_filtered.head(100)\n",
        "#\"From\" URLs use targeted Anchor Text"
      ],
      "execution_count": 8,
      "outputs": [
        {
          "output_type": "execute_result",
          "data": {
            "text/html": [
              "<div>\n",
              "<style scoped>\n",
              "    .dataframe tbody tr th:only-of-type {\n",
              "        vertical-align: middle;\n",
              "    }\n",
              "\n",
              "    .dataframe tbody tr th {\n",
              "        vertical-align: top;\n",
              "    }\n",
              "\n",
              "    .dataframe thead th {\n",
              "        text-align: right;\n",
              "    }\n",
              "</style>\n",
              "<table border=\"1\" class=\"dataframe\">\n",
              "  <thead>\n",
              "    <tr style=\"text-align: right;\">\n",
              "      <th></th>\n",
              "      <th>Type</th>\n",
              "      <th>From</th>\n",
              "      <th>To</th>\n",
              "      <th>Anchor Text</th>\n",
              "      <th>Alt Text</th>\n",
              "      <th>Follow</th>\n",
              "      <th>Link Attributes</th>\n",
              "    </tr>\n",
              "  </thead>\n",
              "  <tbody>\n",
              "    <tr>\n",
              "      <th>212</th>\n",
              "      <td>AHREF</td>\n",
              "      <td>https://launchpadbemidji.com/</td>\n",
              "      <td>https://launchpadbemidji.com/entrepreneur-meet...</td>\n",
              "      <td>Entrepreneurs Meetup</td>\n",
              "      <td>NaN</td>\n",
              "      <td>True</td>\n",
              "      <td>NaN</td>\n",
              "    </tr>\n",
              "    <tr>\n",
              "      <th>213</th>\n",
              "      <td>AHREF</td>\n",
              "      <td>https://launchpadbemidji.com/</td>\n",
              "      <td>https://launchpadbemidji.com/entrepreneur-meet...</td>\n",
              "      <td>Entrepreneurs Meetup</td>\n",
              "      <td>NaN</td>\n",
              "      <td>True</td>\n",
              "      <td>NaN</td>\n",
              "    </tr>\n",
              "    <tr>\n",
              "      <th>214</th>\n",
              "      <td>AHREF</td>\n",
              "      <td>https://launchpadbemidji.com/</td>\n",
              "      <td>https://launchpadbemidji.com/entrepreneur-meet...</td>\n",
              "      <td>ENTREPRENEURS MEETUP</td>\n",
              "      <td>NaN</td>\n",
              "      <td>True</td>\n",
              "      <td>NaN</td>\n",
              "    </tr>\n",
              "    <tr>\n",
              "      <th>215</th>\n",
              "      <td>AHREF</td>\n",
              "      <td>https://launchpadbemidji.com/</td>\n",
              "      <td>https://launchpadbemidji.com/entrepreneur-meet...</td>\n",
              "      <td>Entrepreneurs Meetup</td>\n",
              "      <td>NaN</td>\n",
              "      <td>True</td>\n",
              "      <td>NaN</td>\n",
              "    </tr>\n",
              "    <tr>\n",
              "      <th>216</th>\n",
              "      <td>AHREF</td>\n",
              "      <td>https://launchpadbemidji.com/photo-galleries/</td>\n",
              "      <td>https://launchpadbemidji.com/entrepreneur-meet...</td>\n",
              "      <td>Entrepreneurs Meetup</td>\n",
              "      <td>NaN</td>\n",
              "      <td>True</td>\n",
              "      <td>NaN</td>\n",
              "    </tr>\n",
              "    <tr>\n",
              "      <th>217</th>\n",
              "      <td>AHREF</td>\n",
              "      <td>https://launchpadbemidji.com/photo-galleries/</td>\n",
              "      <td>https://launchpadbemidji.com/entrepreneur-meet...</td>\n",
              "      <td>Entrepreneurs Meetup</td>\n",
              "      <td>NaN</td>\n",
              "      <td>True</td>\n",
              "      <td>NaN</td>\n",
              "    </tr>\n",
              "    <tr>\n",
              "      <th>218</th>\n",
              "      <td>AHREF</td>\n",
              "      <td>https://launchpadbemidji.com/photo-galleries/</td>\n",
              "      <td>https://launchpadbemidji.com/entrepreneur-meet...</td>\n",
              "      <td>Entrepreneurs Meetup</td>\n",
              "      <td>NaN</td>\n",
              "      <td>True</td>\n",
              "      <td>NaN</td>\n",
              "    </tr>\n",
              "    <tr>\n",
              "      <th>219</th>\n",
              "      <td>AHREF</td>\n",
              "      <td>https://launchpadbemidji.com/entrepreneur-meet...</td>\n",
              "      <td>https://launchpadbemidji.com/entrepreneur-meet...</td>\n",
              "      <td>Entrepreneurs Meetup</td>\n",
              "      <td>NaN</td>\n",
              "      <td>True</td>\n",
              "      <td>NaN</td>\n",
              "    </tr>\n",
              "    <tr>\n",
              "      <th>220</th>\n",
              "      <td>AHREF</td>\n",
              "      <td>https://launchpadbemidji.com/entrepreneur-meet...</td>\n",
              "      <td>https://launchpadbemidji.com/entrepreneur-meet...</td>\n",
              "      <td>Entrepreneurs Meetup</td>\n",
              "      <td>NaN</td>\n",
              "      <td>True</td>\n",
              "      <td>NaN</td>\n",
              "    </tr>\n",
              "    <tr>\n",
              "      <th>221</th>\n",
              "      <td>AHREF</td>\n",
              "      <td>https://launchpadbemidji.com/entrepreneur-meet...</td>\n",
              "      <td>https://launchpadbemidji.com/entrepreneur-meet...</td>\n",
              "      <td>Entrepreneurs Meetup</td>\n",
              "      <td>NaN</td>\n",
              "      <td>True</td>\n",
              "      <td>NaN</td>\n",
              "    </tr>\n",
              "    <tr>\n",
              "      <th>222</th>\n",
              "      <td>HTML Canonical</td>\n",
              "      <td>https://launchpadbemidji.com/entrepreneur-meet...</td>\n",
              "      <td>https://launchpadbemidji.com/entrepreneur-meet...</td>\n",
              "      <td>NaN</td>\n",
              "      <td>NaN</td>\n",
              "      <td>True</td>\n",
              "      <td>NaN</td>\n",
              "    </tr>\n",
              "    <tr>\n",
              "      <th>223</th>\n",
              "      <td>AHREF</td>\n",
              "      <td>https://launchpadbemidji.com/launchpad-staff/</td>\n",
              "      <td>https://launchpadbemidji.com/entrepreneur-meet...</td>\n",
              "      <td>Entrepreneurs Meetup</td>\n",
              "      <td>NaN</td>\n",
              "      <td>True</td>\n",
              "      <td>NaN</td>\n",
              "    </tr>\n",
              "    <tr>\n",
              "      <th>224</th>\n",
              "      <td>AHREF</td>\n",
              "      <td>https://launchpadbemidji.com/launchpad-staff/</td>\n",
              "      <td>https://launchpadbemidji.com/entrepreneur-meet...</td>\n",
              "      <td>Entrepreneurs Meetup</td>\n",
              "      <td>NaN</td>\n",
              "      <td>True</td>\n",
              "      <td>NaN</td>\n",
              "    </tr>\n",
              "    <tr>\n",
              "      <th>225</th>\n",
              "      <td>AHREF</td>\n",
              "      <td>https://launchpadbemidji.com/launchpad-staff/</td>\n",
              "      <td>https://launchpadbemidji.com/entrepreneur-meet...</td>\n",
              "      <td>Entrepreneurs Meetup</td>\n",
              "      <td>NaN</td>\n",
              "      <td>True</td>\n",
              "      <td>NaN</td>\n",
              "    </tr>\n",
              "    <tr>\n",
              "      <th>226</th>\n",
              "      <td>AHREF</td>\n",
              "      <td>https://launchpadbemidji.com/videos/</td>\n",
              "      <td>https://launchpadbemidji.com/entrepreneur-meet...</td>\n",
              "      <td>Entrepreneurs Meetup</td>\n",
              "      <td>NaN</td>\n",
              "      <td>True</td>\n",
              "      <td>NaN</td>\n",
              "    </tr>\n",
              "    <tr>\n",
              "      <th>227</th>\n",
              "      <td>AHREF</td>\n",
              "      <td>https://launchpadbemidji.com/videos/</td>\n",
              "      <td>https://launchpadbemidji.com/entrepreneur-meet...</td>\n",
              "      <td>Entrepreneurs Meetup</td>\n",
              "      <td>NaN</td>\n",
              "      <td>True</td>\n",
              "      <td>NaN</td>\n",
              "    </tr>\n",
              "    <tr>\n",
              "      <th>228</th>\n",
              "      <td>AHREF</td>\n",
              "      <td>https://launchpadbemidji.com/videos/</td>\n",
              "      <td>https://launchpadbemidji.com/entrepreneur-meet...</td>\n",
              "      <td>Entrepreneurs Meetup</td>\n",
              "      <td>NaN</td>\n",
              "      <td>True</td>\n",
              "      <td>NaN</td>\n",
              "    </tr>\n",
              "    <tr>\n",
              "      <th>229</th>\n",
              "      <td>AHREF</td>\n",
              "      <td>https://launchpadbemidji.com/membership/</td>\n",
              "      <td>https://launchpadbemidji.com/entrepreneur-meet...</td>\n",
              "      <td>Entrepreneurs Meetup</td>\n",
              "      <td>NaN</td>\n",
              "      <td>True</td>\n",
              "      <td>NaN</td>\n",
              "    </tr>\n",
              "    <tr>\n",
              "      <th>230</th>\n",
              "      <td>AHREF</td>\n",
              "      <td>https://launchpadbemidji.com/membership/</td>\n",
              "      <td>https://launchpadbemidji.com/entrepreneur-meet...</td>\n",
              "      <td>Entrepreneurs Meetup</td>\n",
              "      <td>NaN</td>\n",
              "      <td>True</td>\n",
              "      <td>NaN</td>\n",
              "    </tr>\n",
              "    <tr>\n",
              "      <th>231</th>\n",
              "      <td>AHREF</td>\n",
              "      <td>https://launchpadbemidji.com/membership/</td>\n",
              "      <td>https://launchpadbemidji.com/entrepreneur-meet...</td>\n",
              "      <td>Entrepreneurs Meetup</td>\n",
              "      <td>NaN</td>\n",
              "      <td>True</td>\n",
              "      <td>NaN</td>\n",
              "    </tr>\n",
              "    <tr>\n",
              "      <th>232</th>\n",
              "      <td>AHREF</td>\n",
              "      <td>https://launchpadbemidji.com/current-launchpad...</td>\n",
              "      <td>https://launchpadbemidji.com/entrepreneur-meet...</td>\n",
              "      <td>Entrepreneurs Meetup</td>\n",
              "      <td>NaN</td>\n",
              "      <td>True</td>\n",
              "      <td>NaN</td>\n",
              "    </tr>\n",
              "    <tr>\n",
              "      <th>233</th>\n",
              "      <td>AHREF</td>\n",
              "      <td>https://launchpadbemidji.com/current-launchpad...</td>\n",
              "      <td>https://launchpadbemidji.com/entrepreneur-meet...</td>\n",
              "      <td>Entrepreneurs Meetup</td>\n",
              "      <td>NaN</td>\n",
              "      <td>True</td>\n",
              "      <td>NaN</td>\n",
              "    </tr>\n",
              "    <tr>\n",
              "      <th>234</th>\n",
              "      <td>AHREF</td>\n",
              "      <td>https://launchpadbemidji.com/current-launchpad...</td>\n",
              "      <td>https://launchpadbemidji.com/entrepreneur-meet...</td>\n",
              "      <td>Entrepreneurs Meetup</td>\n",
              "      <td>NaN</td>\n",
              "      <td>True</td>\n",
              "      <td>NaN</td>\n",
              "    </tr>\n",
              "    <tr>\n",
              "      <th>235</th>\n",
              "      <td>AHREF</td>\n",
              "      <td>https://launchpadbemidji.com/contact/</td>\n",
              "      <td>https://launchpadbemidji.com/entrepreneur-meet...</td>\n",
              "      <td>Entrepreneurs Meetup</td>\n",
              "      <td>NaN</td>\n",
              "      <td>True</td>\n",
              "      <td>NaN</td>\n",
              "    </tr>\n",
              "    <tr>\n",
              "      <th>236</th>\n",
              "      <td>AHREF</td>\n",
              "      <td>https://launchpadbemidji.com/contact/</td>\n",
              "      <td>https://launchpadbemidji.com/entrepreneur-meet...</td>\n",
              "      <td>Entrepreneurs Meetup</td>\n",
              "      <td>NaN</td>\n",
              "      <td>True</td>\n",
              "      <td>NaN</td>\n",
              "    </tr>\n",
              "    <tr>\n",
              "      <th>237</th>\n",
              "      <td>AHREF</td>\n",
              "      <td>https://launchpadbemidji.com/contact/</td>\n",
              "      <td>https://launchpadbemidji.com/entrepreneur-meet...</td>\n",
              "      <td>Entrepreneurs Meetup</td>\n",
              "      <td>NaN</td>\n",
              "      <td>True</td>\n",
              "      <td>NaN</td>\n",
              "    </tr>\n",
              "    <tr>\n",
              "      <th>238</th>\n",
              "      <td>AHREF</td>\n",
              "      <td>https://launchpadbemidji.com/covid-19-updates/</td>\n",
              "      <td>https://launchpadbemidji.com/entrepreneur-meet...</td>\n",
              "      <td>Entrepreneurs Meetup</td>\n",
              "      <td>NaN</td>\n",
              "      <td>True</td>\n",
              "      <td>NaN</td>\n",
              "    </tr>\n",
              "    <tr>\n",
              "      <th>239</th>\n",
              "      <td>AHREF</td>\n",
              "      <td>https://launchpadbemidji.com/covid-19-updates/</td>\n",
              "      <td>https://launchpadbemidji.com/entrepreneur-meet...</td>\n",
              "      <td>Entrepreneurs Meetup</td>\n",
              "      <td>NaN</td>\n",
              "      <td>True</td>\n",
              "      <td>NaN</td>\n",
              "    </tr>\n",
              "    <tr>\n",
              "      <th>240</th>\n",
              "      <td>AHREF</td>\n",
              "      <td>https://launchpadbemidji.com/covid-19-updates/</td>\n",
              "      <td>https://launchpadbemidji.com/entrepreneur-meet...</td>\n",
              "      <td>Entrepreneurs Meetup</td>\n",
              "      <td>NaN</td>\n",
              "      <td>True</td>\n",
              "      <td>NaN</td>\n",
              "    </tr>\n",
              "    <tr>\n",
              "      <th>241</th>\n",
              "      <td>AHREF</td>\n",
              "      <td>https://launchpadbemidji.com/resources/</td>\n",
              "      <td>https://launchpadbemidji.com/entrepreneur-meet...</td>\n",
              "      <td>Entrepreneurs Meetup</td>\n",
              "      <td>NaN</td>\n",
              "      <td>True</td>\n",
              "      <td>NaN</td>\n",
              "    </tr>\n",
              "    <tr>\n",
              "      <th>242</th>\n",
              "      <td>AHREF</td>\n",
              "      <td>https://launchpadbemidji.com/resources/</td>\n",
              "      <td>https://launchpadbemidji.com/entrepreneur-meet...</td>\n",
              "      <td>Entrepreneurs Meetup</td>\n",
              "      <td>NaN</td>\n",
              "      <td>True</td>\n",
              "      <td>NaN</td>\n",
              "    </tr>\n",
              "    <tr>\n",
              "      <th>243</th>\n",
              "      <td>AHREF</td>\n",
              "      <td>https://launchpadbemidji.com/resources/</td>\n",
              "      <td>https://launchpadbemidji.com/entrepreneur-meet...</td>\n",
              "      <td>Entrepreneurs Meetup</td>\n",
              "      <td>NaN</td>\n",
              "      <td>True</td>\n",
              "      <td>NaN</td>\n",
              "    </tr>\n",
              "    <tr>\n",
              "      <th>244</th>\n",
              "      <td>AHREF</td>\n",
              "      <td>https://launchpadbemidji.com/about-us/</td>\n",
              "      <td>https://launchpadbemidji.com/entrepreneur-meet...</td>\n",
              "      <td>Entrepreneurs Meetup</td>\n",
              "      <td>NaN</td>\n",
              "      <td>True</td>\n",
              "      <td>NaN</td>\n",
              "    </tr>\n",
              "    <tr>\n",
              "      <th>245</th>\n",
              "      <td>AHREF</td>\n",
              "      <td>https://launchpadbemidji.com/about-us/</td>\n",
              "      <td>https://launchpadbemidji.com/entrepreneur-meet...</td>\n",
              "      <td>Entrepreneurs Meetup</td>\n",
              "      <td>NaN</td>\n",
              "      <td>True</td>\n",
              "      <td>NaN</td>\n",
              "    </tr>\n",
              "    <tr>\n",
              "      <th>246</th>\n",
              "      <td>AHREF</td>\n",
              "      <td>https://launchpadbemidji.com/about-us/</td>\n",
              "      <td>https://launchpadbemidji.com/entrepreneur-meet...</td>\n",
              "      <td>Entrepreneurs Meetup</td>\n",
              "      <td>NaN</td>\n",
              "      <td>True</td>\n",
              "      <td>NaN</td>\n",
              "    </tr>\n",
              "  </tbody>\n",
              "</table>\n",
              "</div>"
            ],
            "text/plain": [
              "               Type  ... Link Attributes\n",
              "212           AHREF  ...             NaN\n",
              "213           AHREF  ...             NaN\n",
              "214           AHREF  ...             NaN\n",
              "215           AHREF  ...             NaN\n",
              "216           AHREF  ...             NaN\n",
              "217           AHREF  ...             NaN\n",
              "218           AHREF  ...             NaN\n",
              "219           AHREF  ...             NaN\n",
              "220           AHREF  ...             NaN\n",
              "221           AHREF  ...             NaN\n",
              "222  HTML Canonical  ...             NaN\n",
              "223           AHREF  ...             NaN\n",
              "224           AHREF  ...             NaN\n",
              "225           AHREF  ...             NaN\n",
              "226           AHREF  ...             NaN\n",
              "227           AHREF  ...             NaN\n",
              "228           AHREF  ...             NaN\n",
              "229           AHREF  ...             NaN\n",
              "230           AHREF  ...             NaN\n",
              "231           AHREF  ...             NaN\n",
              "232           AHREF  ...             NaN\n",
              "233           AHREF  ...             NaN\n",
              "234           AHREF  ...             NaN\n",
              "235           AHREF  ...             NaN\n",
              "236           AHREF  ...             NaN\n",
              "237           AHREF  ...             NaN\n",
              "238           AHREF  ...             NaN\n",
              "239           AHREF  ...             NaN\n",
              "240           AHREF  ...             NaN\n",
              "241           AHREF  ...             NaN\n",
              "242           AHREF  ...             NaN\n",
              "243           AHREF  ...             NaN\n",
              "244           AHREF  ...             NaN\n",
              "245           AHREF  ...             NaN\n",
              "246           AHREF  ...             NaN\n",
              "\n",
              "[35 rows x 7 columns]"
            ]
          },
          "metadata": {
            "tags": []
          },
          "execution_count": 8
        }
      ]
    },
    {
      "cell_type": "markdown",
      "metadata": {
        "id": "vkVhgaMcdWLW"
      },
      "source": [
        "#Load Filterable Table"
      ]
    },
    {
      "cell_type": "code",
      "metadata": {
        "id": "Q681mSVcZ2tH",
        "outputId": "aa03d53d-c29c-413f-9ca7-42c922735c2f",
        "colab": {
          "base_uri": "https://localhost:8080/",
          "height": 1710
        }
      },
      "source": [
        "%load_ext google.colab.data_table\n",
        "df"
      ],
      "execution_count": 9,
      "outputs": [
        {
          "output_type": "execute_result",
          "data": {
            "application/vnd.google.colaboratory.module+javascript": "\n      import \"https://ssl.gstatic.com/colaboratory/data_table/a6224c040fa35dcf/data_table.js\";\n\n      window.createDataTable({\n        data: [[{\n            'v': 0,\n            'f': \"0\",\n        },\n\"HTTP Redirect\",\n\"http://launchpadbemidji.com/\",\n\"https://launchpadbemidji.com/\",\nNaN,\nNaN,\ntrue,\n{\n            'v': NaN,\n            'f': \"NaN\",\n        }],\n [{\n            'v': 1,\n            'f': \"1\",\n        },\n\"AHREF\",\n\"https://launchpadbemidji.com/\",\n\"https://launchpadbemidji.com/\",\nNaN,\n\"LaunchPad\",\ntrue,\n{\n            'v': NaN,\n            'f': \"NaN\",\n        }],\n [{\n            'v': 2,\n            'f': \"2\",\n        },\n\"AHREF\",\n\"https://launchpadbemidji.com/\",\n\"https://launchpadbemidji.com/\",\n\"Home\",\nNaN,\ntrue,\n{\n            'v': NaN,\n            'f': \"NaN\",\n        }],\n [{\n            'v': 3,\n            'f': \"3\",\n        },\n\"AHREF\",\n\"https://launchpadbemidji.com/\",\n\"https://launchpadbemidji.com/\",\n\"Home\",\nNaN,\ntrue,\n{\n            'v': NaN,\n            'f': \"NaN\",\n        }],\n [{\n            'v': 4,\n            'f': \"4\",\n        },\n\"AHREF\",\n\"https://launchpadbemidji.com/\",\n\"https://launchpadbemidji.com/\",\n\"Home\",\nNaN,\ntrue,\n{\n            'v': NaN,\n            'f': \"NaN\",\n        }],\n [{\n            'v': 5,\n            'f': \"5\",\n        },\n\"HTML Canonical\",\n\"https://launchpadbemidji.com/\",\n\"https://launchpadbemidji.com/\",\nNaN,\nNaN,\ntrue,\n{\n            'v': NaN,\n            'f': \"NaN\",\n        }],\n [{\n            'v': 6,\n            'f': \"6\",\n        },\n\"AHREF\",\n\"https://launchpadbemidji.com/photo-galleries/\",\n\"https://launchpadbemidji.com/\",\nNaN,\n\"LaunchPad\",\ntrue,\n{\n            'v': NaN,\n            'f': \"NaN\",\n        }],\n [{\n            'v': 7,\n            'f': \"7\",\n        },\n\"AHREF\",\n\"https://launchpadbemidji.com/photo-galleries/\",\n\"https://launchpadbemidji.com/\",\n\"Home\",\nNaN,\ntrue,\n{\n            'v': NaN,\n            'f': \"NaN\",\n        }],\n [{\n            'v': 8,\n            'f': \"8\",\n        },\n\"AHREF\",\n\"https://launchpadbemidji.com/photo-galleries/\",\n\"https://launchpadbemidji.com/\",\n\"Home\",\nNaN,\ntrue,\n{\n            'v': NaN,\n            'f': \"NaN\",\n        }],\n [{\n            'v': 9,\n            'f': \"9\",\n        },\n\"AHREF\",\n\"https://launchpadbemidji.com/photo-galleries/\",\n\"https://launchpadbemidji.com/\",\n\"Home\",\nNaN,\ntrue,\n{\n            'v': NaN,\n            'f': \"NaN\",\n        }],\n [{\n            'v': 10,\n            'f': \"10\",\n        },\n\"AHREF\",\n\"https://launchpadbemidji.com/entrepreneur-meet-up/\",\n\"https://launchpadbemidji.com/\",\nNaN,\n\"LaunchPad\",\ntrue,\n{\n            'v': NaN,\n            'f': \"NaN\",\n        }],\n [{\n            'v': 11,\n            'f': \"11\",\n        },\n\"AHREF\",\n\"https://launchpadbemidji.com/entrepreneur-meet-up/\",\n\"https://launchpadbemidji.com/\",\n\"Home\",\nNaN,\ntrue,\n{\n            'v': NaN,\n            'f': \"NaN\",\n        }],\n [{\n            'v': 12,\n            'f': \"12\",\n        },\n\"AHREF\",\n\"https://launchpadbemidji.com/entrepreneur-meet-up/\",\n\"https://launchpadbemidji.com/\",\n\"Home\",\nNaN,\ntrue,\n{\n            'v': NaN,\n            'f': \"NaN\",\n        }],\n [{\n            'v': 13,\n            'f': \"13\",\n        },\n\"AHREF\",\n\"https://launchpadbemidji.com/entrepreneur-meet-up/\",\n\"https://launchpadbemidji.com/\",\n\"Home\",\nNaN,\ntrue,\n{\n            'v': NaN,\n            'f': \"NaN\",\n        }],\n [{\n            'v': 14,\n            'f': \"14\",\n        },\n\"AHREF\",\n\"https://launchpadbemidji.com/launchpad-staff/\",\n\"https://launchpadbemidji.com/\",\nNaN,\n\"LaunchPad\",\ntrue,\n{\n            'v': NaN,\n            'f': \"NaN\",\n        }],\n [{\n            'v': 15,\n            'f': \"15\",\n        },\n\"AHREF\",\n\"https://launchpadbemidji.com/launchpad-staff/\",\n\"https://launchpadbemidji.com/\",\n\"Home\",\nNaN,\ntrue,\n{\n            'v': NaN,\n            'f': \"NaN\",\n        }],\n [{\n            'v': 16,\n            'f': \"16\",\n        },\n\"AHREF\",\n\"https://launchpadbemidji.com/launchpad-staff/\",\n\"https://launchpadbemidji.com/\",\n\"Home\",\nNaN,\ntrue,\n{\n            'v': NaN,\n            'f': \"NaN\",\n        }],\n [{\n            'v': 17,\n            'f': \"17\",\n        },\n\"AHREF\",\n\"https://launchpadbemidji.com/launchpad-staff/\",\n\"https://launchpadbemidji.com/\",\n\"Home\",\nNaN,\ntrue,\n{\n            'v': NaN,\n            'f': \"NaN\",\n        }],\n [{\n            'v': 18,\n            'f': \"18\",\n        },\n\"AHREF\",\n\"https://launchpadbemidji.com/videos/\",\n\"https://launchpadbemidji.com/\",\nNaN,\n\"LaunchPad\",\ntrue,\n{\n            'v': NaN,\n            'f': \"NaN\",\n        }],\n [{\n            'v': 19,\n            'f': \"19\",\n        },\n\"AHREF\",\n\"https://launchpadbemidji.com/videos/\",\n\"https://launchpadbemidji.com/\",\n\"Home\",\nNaN,\ntrue,\n{\n            'v': NaN,\n            'f': \"NaN\",\n        }],\n [{\n            'v': 20,\n            'f': \"20\",\n        },\n\"AHREF\",\n\"https://launchpadbemidji.com/videos/\",\n\"https://launchpadbemidji.com/\",\n\"Home\",\nNaN,\ntrue,\n{\n            'v': NaN,\n            'f': \"NaN\",\n        }],\n [{\n            'v': 21,\n            'f': \"21\",\n        },\n\"AHREF\",\n\"https://launchpadbemidji.com/videos/\",\n\"https://launchpadbemidji.com/\",\n\"Home\",\nNaN,\ntrue,\n{\n            'v': NaN,\n            'f': \"NaN\",\n        }],\n [{\n            'v': 22,\n            'f': \"22\",\n        },\n\"AHREF\",\n\"https://launchpadbemidji.com/membership/\",\n\"https://launchpadbemidji.com/\",\nNaN,\n\"LaunchPad\",\ntrue,\n{\n            'v': NaN,\n            'f': \"NaN\",\n        }],\n [{\n            'v': 23,\n            'f': \"23\",\n        },\n\"AHREF\",\n\"https://launchpadbemidji.com/membership/\",\n\"https://launchpadbemidji.com/\",\n\"Home\",\nNaN,\ntrue,\n{\n            'v': NaN,\n            'f': \"NaN\",\n        }],\n [{\n            'v': 24,\n            'f': \"24\",\n        },\n\"AHREF\",\n\"https://launchpadbemidji.com/membership/\",\n\"https://launchpadbemidji.com/\",\n\"Home\",\nNaN,\ntrue,\n{\n            'v': NaN,\n            'f': \"NaN\",\n        }],\n [{\n            'v': 25,\n            'f': \"25\",\n        },\n\"AHREF\",\n\"https://launchpadbemidji.com/membership/\",\n\"https://launchpadbemidji.com/\",\n\"Home\",\nNaN,\ntrue,\n{\n            'v': NaN,\n            'f': \"NaN\",\n        }],\n [{\n            'v': 26,\n            'f': \"26\",\n        },\n\"AHREF\",\n\"https://launchpadbemidji.com/current-launchpad-members/\",\n\"https://launchpadbemidji.com/\",\nNaN,\n\"LaunchPad\",\ntrue,\n{\n            'v': NaN,\n            'f': \"NaN\",\n        }],\n [{\n            'v': 27,\n            'f': \"27\",\n        },\n\"AHREF\",\n\"https://launchpadbemidji.com/current-launchpad-members/\",\n\"https://launchpadbemidji.com/\",\n\"Home\",\nNaN,\ntrue,\n{\n            'v': NaN,\n            'f': \"NaN\",\n        }],\n [{\n            'v': 28,\n            'f': \"28\",\n        },\n\"AHREF\",\n\"https://launchpadbemidji.com/current-launchpad-members/\",\n\"https://launchpadbemidji.com/\",\n\"Home\",\nNaN,\ntrue,\n{\n            'v': NaN,\n            'f': \"NaN\",\n        }],\n [{\n            'v': 29,\n            'f': \"29\",\n        },\n\"AHREF\",\n\"https://launchpadbemidji.com/current-launchpad-members/\",\n\"https://launchpadbemidji.com/\",\n\"Home\",\nNaN,\ntrue,\n{\n            'v': NaN,\n            'f': \"NaN\",\n        }],\n [{\n            'v': 30,\n            'f': \"30\",\n        },\n\"AHREF\",\n\"https://launchpadbemidji.com/contact/\",\n\"https://launchpadbemidji.com/\",\nNaN,\n\"LaunchPad\",\ntrue,\n{\n            'v': NaN,\n            'f': \"NaN\",\n        }],\n [{\n            'v': 31,\n            'f': \"31\",\n        },\n\"AHREF\",\n\"https://launchpadbemidji.com/contact/\",\n\"https://launchpadbemidji.com/\",\n\"Home\",\nNaN,\ntrue,\n{\n            'v': NaN,\n            'f': \"NaN\",\n        }],\n [{\n            'v': 32,\n            'f': \"32\",\n        },\n\"AHREF\",\n\"https://launchpadbemidji.com/contact/\",\n\"https://launchpadbemidji.com/\",\n\"Home\",\nNaN,\ntrue,\n{\n            'v': NaN,\n            'f': \"NaN\",\n        }],\n [{\n            'v': 33,\n            'f': \"33\",\n        },\n\"AHREF\",\n\"https://launchpadbemidji.com/contact/\",\n\"https://launchpadbemidji.com/\",\n\"Home\",\nNaN,\ntrue,\n{\n            'v': NaN,\n            'f': \"NaN\",\n        }],\n [{\n            'v': 34,\n            'f': \"34\",\n        },\n\"AHREF\",\n\"https://launchpadbemidji.com/covid-19-updates/\",\n\"https://launchpadbemidji.com/\",\nNaN,\n\"LaunchPad\",\ntrue,\n{\n            'v': NaN,\n            'f': \"NaN\",\n        }],\n [{\n            'v': 35,\n            'f': \"35\",\n        },\n\"AHREF\",\n\"https://launchpadbemidji.com/covid-19-updates/\",\n\"https://launchpadbemidji.com/\",\n\"Home\",\nNaN,\ntrue,\n{\n            'v': NaN,\n            'f': \"NaN\",\n        }],\n [{\n            'v': 36,\n            'f': \"36\",\n        },\n\"AHREF\",\n\"https://launchpadbemidji.com/covid-19-updates/\",\n\"https://launchpadbemidji.com/\",\n\"Home\",\nNaN,\ntrue,\n{\n            'v': NaN,\n            'f': \"NaN\",\n        }],\n [{\n            'v': 37,\n            'f': \"37\",\n        },\n\"AHREF\",\n\"https://launchpadbemidji.com/covid-19-updates/\",\n\"https://launchpadbemidji.com/\",\n\"Home\",\nNaN,\ntrue,\n{\n            'v': NaN,\n            'f': \"NaN\",\n        }],\n [{\n            'v': 38,\n            'f': \"38\",\n        },\n\"AHREF\",\n\"https://launchpadbemidji.com/resources/\",\n\"https://launchpadbemidji.com/\",\nNaN,\n\"LaunchPad\",\ntrue,\n{\n            'v': NaN,\n            'f': \"NaN\",\n        }],\n [{\n            'v': 39,\n            'f': \"39\",\n        },\n\"AHREF\",\n\"https://launchpadbemidji.com/resources/\",\n\"https://launchpadbemidji.com/\",\n\"Home\",\nNaN,\ntrue,\n{\n            'v': NaN,\n            'f': \"NaN\",\n        }],\n [{\n            'v': 40,\n            'f': \"40\",\n        },\n\"AHREF\",\n\"https://launchpadbemidji.com/resources/\",\n\"https://launchpadbemidji.com/\",\n\"Home\",\nNaN,\ntrue,\n{\n            'v': NaN,\n            'f': \"NaN\",\n        }],\n [{\n            'v': 41,\n            'f': \"41\",\n        },\n\"AHREF\",\n\"https://launchpadbemidji.com/resources/\",\n\"https://launchpadbemidji.com/\",\n\"Home\",\nNaN,\ntrue,\n{\n            'v': NaN,\n            'f': \"NaN\",\n        }],\n [{\n            'v': 42,\n            'f': \"42\",\n        },\n\"AHREF\",\n\"https://launchpadbemidji.com/about-us/\",\n\"https://launchpadbemidji.com/\",\nNaN,\n\"LaunchPad\",\ntrue,\n{\n            'v': NaN,\n            'f': \"NaN\",\n        }],\n [{\n            'v': 43,\n            'f': \"43\",\n        },\n\"AHREF\",\n\"https://launchpadbemidji.com/about-us/\",\n\"https://launchpadbemidji.com/\",\n\"Home\",\nNaN,\ntrue,\n{\n            'v': NaN,\n            'f': \"NaN\",\n        }],\n [{\n            'v': 44,\n            'f': \"44\",\n        },\n\"AHREF\",\n\"https://launchpadbemidji.com/about-us/\",\n\"https://launchpadbemidji.com/\",\n\"Home\",\nNaN,\ntrue,\n{\n            'v': NaN,\n            'f': \"NaN\",\n        }],\n [{\n            'v': 45,\n            'f': \"45\",\n        },\n\"AHREF\",\n\"https://launchpadbemidji.com/about-us/\",\n\"https://launchpadbemidji.com/\",\n\"Home\",\nNaN,\ntrue,\n{\n            'v': NaN,\n            'f': \"NaN\",\n        }],\n [{\n            'v': 46,\n            'f': \"46\",\n        },\n\"CSS\",\n\"https://launchpadbemidji.com/\",\n\"https://launchpadbemidji.com/wp-content/themes/launchpadbemidji/style.css?ver=1.1.5\",\nNaN,\nNaN,\ntrue,\n{\n            'v': NaN,\n            'f': \"NaN\",\n        }],\n [{\n            'v': 47,\n            'f': \"47\",\n        },\n\"CSS\",\n\"https://launchpadbemidji.com/photo-galleries/\",\n\"https://launchpadbemidji.com/wp-content/themes/launchpadbemidji/style.css?ver=1.1.5\",\nNaN,\nNaN,\ntrue,\n{\n            'v': NaN,\n            'f': \"NaN\",\n        }],\n [{\n            'v': 48,\n            'f': \"48\",\n        },\n\"CSS\",\n\"https://launchpadbemidji.com/events/\",\n\"https://launchpadbemidji.com/wp-content/themes/launchpadbemidji/style.css?ver=1.1.5\",\nNaN,\nNaN,\ntrue,\n{\n            'v': NaN,\n            'f': \"NaN\",\n        }],\n [{\n            'v': 49,\n            'f': \"49\",\n        },\n\"CSS\",\n\"https://launchpadbemidji.com/entrepreneur-meet-up/\",\n\"https://launchpadbemidji.com/wp-content/themes/launchpadbemidji/style.css?ver=1.1.5\",\nNaN,\nNaN,\ntrue,\n{\n            'v': NaN,\n            'f': \"NaN\",\n        }],\n [{\n            'v': 50,\n            'f': \"50\",\n        },\n\"CSS\",\n\"https://launchpadbemidji.com/launchpad-staff/\",\n\"https://launchpadbemidji.com/wp-content/themes/launchpadbemidji/style.css?ver=1.1.5\",\nNaN,\nNaN,\ntrue,\n{\n            'v': NaN,\n            'f': \"NaN\",\n        }],\n [{\n            'v': 51,\n            'f': \"51\",\n        },\n\"CSS\",\n\"https://launchpadbemidji.com/videos/\",\n\"https://launchpadbemidji.com/wp-content/themes/launchpadbemidji/style.css?ver=1.1.5\",\nNaN,\nNaN,\ntrue,\n{\n            'v': NaN,\n            'f': \"NaN\",\n        }],\n [{\n            'v': 52,\n            'f': \"52\",\n        },\n\"CSS\",\n\"https://launchpadbemidji.com/membership/\",\n\"https://launchpadbemidji.com/wp-content/themes/launchpadbemidji/style.css?ver=1.1.5\",\nNaN,\nNaN,\ntrue,\n{\n            'v': NaN,\n            'f': \"NaN\",\n        }],\n [{\n            'v': 53,\n            'f': \"53\",\n        },\n\"CSS\",\n\"https://launchpadbemidji.com/current-launchpad-members/\",\n\"https://launchpadbemidji.com/wp-content/themes/launchpadbemidji/style.css?ver=1.1.5\",\nNaN,\nNaN,\ntrue,\n{\n            'v': NaN,\n            'f': \"NaN\",\n        }],\n [{\n            'v': 54,\n            'f': \"54\",\n        },\n\"CSS\",\n\"https://launchpadbemidji.com/contact/\",\n\"https://launchpadbemidji.com/wp-content/themes/launchpadbemidji/style.css?ver=1.1.5\",\nNaN,\nNaN,\ntrue,\n{\n            'v': NaN,\n            'f': \"NaN\",\n        }],\n [{\n            'v': 55,\n            'f': \"55\",\n        },\n\"CSS\",\n\"https://launchpadbemidji.com/covid-19-updates/\",\n\"https://launchpadbemidji.com/wp-content/themes/launchpadbemidji/style.css?ver=1.1.5\",\nNaN,\nNaN,\ntrue,\n{\n            'v': NaN,\n            'f': \"NaN\",\n        }],\n [{\n            'v': 56,\n            'f': \"56\",\n        },\n\"CSS\",\n\"https://launchpadbemidji.com/resources/\",\n\"https://launchpadbemidji.com/wp-content/themes/launchpadbemidji/style.css?ver=1.1.5\",\nNaN,\nNaN,\ntrue,\n{\n            'v': NaN,\n            'f': \"NaN\",\n        }],\n [{\n            'v': 57,\n            'f': \"57\",\n        },\n\"CSS\",\n\"https://launchpadbemidji.com/about-us/\",\n\"https://launchpadbemidji.com/wp-content/themes/launchpadbemidji/style.css?ver=1.1.5\",\nNaN,\nNaN,\ntrue,\n{\n            'v': NaN,\n            'f': \"NaN\",\n        }],\n [{\n            'v': 58,\n            'f': \"58\",\n        },\n\"CSS\",\n\"https://launchpadbemidji.com/\",\n\"https://launchpadbemidji.com/wp-content/themes/amax/libraries/omFont/omFont.css?ver=5.4.2\",\nNaN,\nNaN,\ntrue,\n{\n            'v': NaN,\n            'f': \"NaN\",\n        }],\n [{\n            'v': 59,\n            'f': \"59\",\n        },\n\"CSS\",\n\"https://launchpadbemidji.com/photo-galleries/\",\n\"https://launchpadbemidji.com/wp-content/themes/amax/libraries/omFont/omFont.css?ver=5.4.2\",\nNaN,\nNaN,\ntrue,\n{\n            'v': NaN,\n            'f': \"NaN\",\n        }],\n [{\n            'v': 60,\n            'f': \"60\",\n        },\n\"CSS\",\n\"https://launchpadbemidji.com/events/\",\n\"https://launchpadbemidji.com/wp-content/themes/amax/libraries/omFont/omFont.css?ver=5.4.2\",\nNaN,\nNaN,\ntrue,\n{\n            'v': NaN,\n            'f': \"NaN\",\n        }],\n [{\n            'v': 61,\n            'f': \"61\",\n        },\n\"CSS\",\n\"https://launchpadbemidji.com/entrepreneur-meet-up/\",\n\"https://launchpadbemidji.com/wp-content/themes/amax/libraries/omFont/omFont.css?ver=5.4.2\",\nNaN,\nNaN,\ntrue,\n{\n            'v': NaN,\n            'f': \"NaN\",\n        }],\n [{\n            'v': 62,\n            'f': \"62\",\n        },\n\"CSS\",\n\"https://launchpadbemidji.com/launchpad-staff/\",\n\"https://launchpadbemidji.com/wp-content/themes/amax/libraries/omFont/omFont.css?ver=5.4.2\",\nNaN,\nNaN,\ntrue,\n{\n            'v': NaN,\n            'f': \"NaN\",\n        }],\n [{\n            'v': 63,\n            'f': \"63\",\n        },\n\"CSS\",\n\"https://launchpadbemidji.com/videos/\",\n\"https://launchpadbemidji.com/wp-content/themes/amax/libraries/omFont/omFont.css?ver=5.4.2\",\nNaN,\nNaN,\ntrue,\n{\n            'v': NaN,\n            'f': \"NaN\",\n        }],\n [{\n            'v': 64,\n            'f': \"64\",\n        },\n\"CSS\",\n\"https://launchpadbemidji.com/membership/\",\n\"https://launchpadbemidji.com/wp-content/themes/amax/libraries/omFont/omFont.css?ver=5.4.2\",\nNaN,\nNaN,\ntrue,\n{\n            'v': NaN,\n            'f': \"NaN\",\n        }],\n [{\n            'v': 65,\n            'f': \"65\",\n        },\n\"CSS\",\n\"https://launchpadbemidji.com/current-launchpad-members/\",\n\"https://launchpadbemidji.com/wp-content/themes/amax/libraries/omFont/omFont.css?ver=5.4.2\",\nNaN,\nNaN,\ntrue,\n{\n            'v': NaN,\n            'f': \"NaN\",\n        }],\n [{\n            'v': 66,\n            'f': \"66\",\n        },\n\"CSS\",\n\"https://launchpadbemidji.com/contact/\",\n\"https://launchpadbemidji.com/wp-content/themes/amax/libraries/omFont/omFont.css?ver=5.4.2\",\nNaN,\nNaN,\ntrue,\n{\n            'v': NaN,\n            'f': \"NaN\",\n        }],\n [{\n            'v': 67,\n            'f': \"67\",\n        },\n\"CSS\",\n\"https://launchpadbemidji.com/covid-19-updates/\",\n\"https://launchpadbemidji.com/wp-content/themes/amax/libraries/omFont/omFont.css?ver=5.4.2\",\nNaN,\nNaN,\ntrue,\n{\n            'v': NaN,\n            'f': \"NaN\",\n        }],\n [{\n            'v': 68,\n            'f': \"68\",\n        },\n\"CSS\",\n\"https://launchpadbemidji.com/resources/\",\n\"https://launchpadbemidji.com/wp-content/themes/amax/libraries/omFont/omFont.css?ver=5.4.2\",\nNaN,\nNaN,\ntrue,\n{\n            'v': NaN,\n            'f': \"NaN\",\n        }],\n [{\n            'v': 69,\n            'f': \"69\",\n        },\n\"CSS\",\n\"https://launchpadbemidji.com/about-us/\",\n\"https://launchpadbemidji.com/wp-content/themes/amax/libraries/omFont/omFont.css?ver=5.4.2\",\nNaN,\nNaN,\ntrue,\n{\n            'v': NaN,\n            'f': \"NaN\",\n        }],\n [{\n            'v': 70,\n            'f': \"70\",\n        },\n\"JS\",\n\"https://launchpadbemidji.com/\",\n\"https://launchpadbemidji.com/wp-includes/js/jquery/jquery-migrate.min.js?ver=1.4.1\",\nNaN,\nNaN,\ntrue,\n{\n            'v': NaN,\n            'f': \"NaN\",\n        }],\n [{\n            'v': 71,\n            'f': \"71\",\n        },\n\"JS\",\n\"https://launchpadbemidji.com/photo-galleries/\",\n\"https://launchpadbemidji.com/wp-includes/js/jquery/jquery-migrate.min.js?ver=1.4.1\",\nNaN,\nNaN,\ntrue,\n{\n            'v': NaN,\n            'f': \"NaN\",\n        }],\n [{\n            'v': 72,\n            'f': \"72\",\n        },\n\"JS\",\n\"https://launchpadbemidji.com/events/\",\n\"https://launchpadbemidji.com/wp-includes/js/jquery/jquery-migrate.min.js?ver=1.4.1\",\nNaN,\nNaN,\ntrue,\n{\n            'v': NaN,\n            'f': \"NaN\",\n        }],\n [{\n            'v': 73,\n            'f': \"73\",\n        },\n\"JS\",\n\"https://launchpadbemidji.com/entrepreneur-meet-up/\",\n\"https://launchpadbemidji.com/wp-includes/js/jquery/jquery-migrate.min.js?ver=1.4.1\",\nNaN,\nNaN,\ntrue,\n{\n            'v': NaN,\n            'f': \"NaN\",\n        }],\n [{\n            'v': 74,\n            'f': \"74\",\n        },\n\"JS\",\n\"https://launchpadbemidji.com/launchpad-staff/\",\n\"https://launchpadbemidji.com/wp-includes/js/jquery/jquery-migrate.min.js?ver=1.4.1\",\nNaN,\nNaN,\ntrue,\n{\n            'v': NaN,\n            'f': \"NaN\",\n        }],\n [{\n            'v': 75,\n            'f': \"75\",\n        },\n\"JS\",\n\"https://launchpadbemidji.com/videos/\",\n\"https://launchpadbemidji.com/wp-includes/js/jquery/jquery-migrate.min.js?ver=1.4.1\",\nNaN,\nNaN,\ntrue,\n{\n            'v': NaN,\n            'f': \"NaN\",\n        }],\n [{\n            'v': 76,\n            'f': \"76\",\n        },\n\"JS\",\n\"https://launchpadbemidji.com/membership/\",\n\"https://launchpadbemidji.com/wp-includes/js/jquery/jquery-migrate.min.js?ver=1.4.1\",\nNaN,\nNaN,\ntrue,\n{\n            'v': NaN,\n            'f': \"NaN\",\n        }],\n [{\n            'v': 77,\n            'f': \"77\",\n        },\n\"JS\",\n\"https://launchpadbemidji.com/current-launchpad-members/\",\n\"https://launchpadbemidji.com/wp-includes/js/jquery/jquery-migrate.min.js?ver=1.4.1\",\nNaN,\nNaN,\ntrue,\n{\n            'v': NaN,\n            'f': \"NaN\",\n        }],\n [{\n            'v': 78,\n            'f': \"78\",\n        },\n\"JS\",\n\"https://launchpadbemidji.com/contact/\",\n\"https://launchpadbemidji.com/wp-includes/js/jquery/jquery-migrate.min.js?ver=1.4.1\",\nNaN,\nNaN,\ntrue,\n{\n            'v': NaN,\n            'f': \"NaN\",\n        }],\n [{\n            'v': 79,\n            'f': \"79\",\n        },\n\"JS\",\n\"https://launchpadbemidji.com/covid-19-updates/\",\n\"https://launchpadbemidji.com/wp-includes/js/jquery/jquery-migrate.min.js?ver=1.4.1\",\nNaN,\nNaN,\ntrue,\n{\n            'v': NaN,\n            'f': \"NaN\",\n        }],\n [{\n            'v': 80,\n            'f': \"80\",\n        },\n\"JS\",\n\"https://launchpadbemidji.com/resources/\",\n\"https://launchpadbemidji.com/wp-includes/js/jquery/jquery-migrate.min.js?ver=1.4.1\",\nNaN,\nNaN,\ntrue,\n{\n            'v': NaN,\n            'f': \"NaN\",\n        }],\n [{\n            'v': 81,\n            'f': \"81\",\n        },\n\"JS\",\n\"https://launchpadbemidji.com/about-us/\",\n\"https://launchpadbemidji.com/wp-includes/js/jquery/jquery-migrate.min.js?ver=1.4.1\",\nNaN,\nNaN,\ntrue,\n{\n            'v': NaN,\n            'f': \"NaN\",\n        }],\n [{\n            'v': 82,\n            'f': \"82\",\n        },\n\"AHREF\",\n\"https://launchpadbemidji.com/\",\n\"https://launchpadbemidji.com/wp-content/uploads/2019/06/1-2-3-Start-Up-Guide.pdf\",\nNaN,\nNaN,\ntrue,\n{\n            'v': NaN,\n            'f': \"NaN\",\n        }],\n [{\n            'v': 83,\n            'f': \"83\",\n        },\n\"JS\",\n\"https://launchpadbemidji.com/\",\n\"https://launchpadbemidji.com/wp-content/themes/amax/js/jquery.lazyload.min.js?ver=5.4.2\",\nNaN,\nNaN,\ntrue,\n{\n            'v': NaN,\n            'f': \"NaN\",\n        }],\n [{\n            'v': 84,\n            'f': \"84\",\n        },\n\"JS\",\n\"https://launchpadbemidji.com/photo-galleries/\",\n\"https://launchpadbemidji.com/wp-content/themes/amax/js/jquery.lazyload.min.js?ver=5.4.2\",\nNaN,\nNaN,\ntrue,\n{\n            'v': NaN,\n            'f': \"NaN\",\n        }],\n [{\n            'v': 85,\n            'f': \"85\",\n        },\n\"JS\",\n\"https://launchpadbemidji.com/events/\",\n\"https://launchpadbemidji.com/wp-content/themes/amax/js/jquery.lazyload.min.js?ver=5.4.2\",\nNaN,\nNaN,\ntrue,\n{\n            'v': NaN,\n            'f': \"NaN\",\n        }],\n [{\n            'v': 86,\n            'f': \"86\",\n        },\n\"JS\",\n\"https://launchpadbemidji.com/entrepreneur-meet-up/\",\n\"https://launchpadbemidji.com/wp-content/themes/amax/js/jquery.lazyload.min.js?ver=5.4.2\",\nNaN,\nNaN,\ntrue,\n{\n            'v': NaN,\n            'f': \"NaN\",\n        }],\n [{\n            'v': 87,\n            'f': \"87\",\n        },\n\"JS\",\n\"https://launchpadbemidji.com/launchpad-staff/\",\n\"https://launchpadbemidji.com/wp-content/themes/amax/js/jquery.lazyload.min.js?ver=5.4.2\",\nNaN,\nNaN,\ntrue,\n{\n            'v': NaN,\n            'f': \"NaN\",\n        }],\n [{\n            'v': 88,\n            'f': \"88\",\n        },\n\"JS\",\n\"https://launchpadbemidji.com/videos/\",\n\"https://launchpadbemidji.com/wp-content/themes/amax/js/jquery.lazyload.min.js?ver=5.4.2\",\nNaN,\nNaN,\ntrue,\n{\n            'v': NaN,\n            'f': \"NaN\",\n        }],\n [{\n            'v': 89,\n            'f': \"89\",\n        },\n\"JS\",\n\"https://launchpadbemidji.com/membership/\",\n\"https://launchpadbemidji.com/wp-content/themes/amax/js/jquery.lazyload.min.js?ver=5.4.2\",\nNaN,\nNaN,\ntrue,\n{\n            'v': NaN,\n            'f': \"NaN\",\n        }],\n [{\n            'v': 90,\n            'f': \"90\",\n        },\n\"JS\",\n\"https://launchpadbemidji.com/current-launchpad-members/\",\n\"https://launchpadbemidji.com/wp-content/themes/amax/js/jquery.lazyload.min.js?ver=5.4.2\",\nNaN,\nNaN,\ntrue,\n{\n            'v': NaN,\n            'f': \"NaN\",\n        }],\n [{\n            'v': 91,\n            'f': \"91\",\n        },\n\"JS\",\n\"https://launchpadbemidji.com/contact/\",\n\"https://launchpadbemidji.com/wp-content/themes/amax/js/jquery.lazyload.min.js?ver=5.4.2\",\nNaN,\nNaN,\ntrue,\n{\n            'v': NaN,\n            'f': \"NaN\",\n        }],\n [{\n            'v': 92,\n            'f': \"92\",\n        },\n\"JS\",\n\"https://launchpadbemidji.com/covid-19-updates/\",\n\"https://launchpadbemidji.com/wp-content/themes/amax/js/jquery.lazyload.min.js?ver=5.4.2\",\nNaN,\nNaN,\ntrue,\n{\n            'v': NaN,\n            'f': \"NaN\",\n        }],\n [{\n            'v': 93,\n            'f': \"93\",\n        },\n\"JS\",\n\"https://launchpadbemidji.com/resources/\",\n\"https://launchpadbemidji.com/wp-content/themes/amax/js/jquery.lazyload.min.js?ver=5.4.2\",\nNaN,\nNaN,\ntrue,\n{\n            'v': NaN,\n            'f': \"NaN\",\n        }],\n [{\n            'v': 94,\n            'f': \"94\",\n        },\n\"JS\",\n\"https://launchpadbemidji.com/about-us/\",\n\"https://launchpadbemidji.com/wp-content/themes/amax/js/jquery.lazyload.min.js?ver=5.4.2\",\nNaN,\nNaN,\ntrue,\n{\n            'v': NaN,\n            'f': \"NaN\",\n        }],\n [{\n            'v': 95,\n            'f': \"95\",\n        },\n\"JS\",\n\"https://launchpadbemidji.com/\",\n\"https://launchpadbemidji.com/wp-content/plugins/revslider/public/assets/js/jquery.themepunch.revolution.min.js?ver=5.4.6.1\",\nNaN,\nNaN,\ntrue,\n{\n            'v': NaN,\n            'f': \"NaN\",\n        }],\n [{\n            'v': 96,\n            'f': \"96\",\n        },\n\"JS\",\n\"https://launchpadbemidji.com/photo-galleries/\",\n\"https://launchpadbemidji.com/wp-content/plugins/revslider/public/assets/js/jquery.themepunch.revolution.min.js?ver=5.4.6.1\",\nNaN,\nNaN,\ntrue,\n{\n            'v': NaN,\n            'f': \"NaN\",\n        }],\n [{\n            'v': 97,\n            'f': \"97\",\n        },\n\"JS\",\n\"https://launchpadbemidji.com/events/\",\n\"https://launchpadbemidji.com/wp-content/plugins/revslider/public/assets/js/jquery.themepunch.revolution.min.js?ver=5.4.6.1\",\nNaN,\nNaN,\ntrue,\n{\n            'v': NaN,\n            'f': \"NaN\",\n        }],\n [{\n            'v': 98,\n            'f': \"98\",\n        },\n\"JS\",\n\"https://launchpadbemidji.com/entrepreneur-meet-up/\",\n\"https://launchpadbemidji.com/wp-content/plugins/revslider/public/assets/js/jquery.themepunch.revolution.min.js?ver=5.4.6.1\",\nNaN,\nNaN,\ntrue,\n{\n            'v': NaN,\n            'f': \"NaN\",\n        }],\n [{\n            'v': 99,\n            'f': \"99\",\n        },\n\"JS\",\n\"https://launchpadbemidji.com/launchpad-staff/\",\n\"https://launchpadbemidji.com/wp-content/plugins/revslider/public/assets/js/jquery.themepunch.revolution.min.js?ver=5.4.6.1\",\nNaN,\nNaN,\ntrue,\n{\n            'v': NaN,\n            'f': \"NaN\",\n        }],\n [{\n            'v': 100,\n            'f': \"100\",\n        },\n\"JS\",\n\"https://launchpadbemidji.com/videos/\",\n\"https://launchpadbemidji.com/wp-content/plugins/revslider/public/assets/js/jquery.themepunch.revolution.min.js?ver=5.4.6.1\",\nNaN,\nNaN,\ntrue,\n{\n            'v': NaN,\n            'f': \"NaN\",\n        }],\n [{\n            'v': 101,\n            'f': \"101\",\n        },\n\"JS\",\n\"https://launchpadbemidji.com/membership/\",\n\"https://launchpadbemidji.com/wp-content/plugins/revslider/public/assets/js/jquery.themepunch.revolution.min.js?ver=5.4.6.1\",\nNaN,\nNaN,\ntrue,\n{\n            'v': NaN,\n            'f': \"NaN\",\n        }],\n [{\n            'v': 102,\n            'f': \"102\",\n        },\n\"JS\",\n\"https://launchpadbemidji.com/current-launchpad-members/\",\n\"https://launchpadbemidji.com/wp-content/plugins/revslider/public/assets/js/jquery.themepunch.revolution.min.js?ver=5.4.6.1\",\nNaN,\nNaN,\ntrue,\n{\n            'v': NaN,\n            'f': \"NaN\",\n        }],\n [{\n            'v': 103,\n            'f': \"103\",\n        },\n\"JS\",\n\"https://launchpadbemidji.com/contact/\",\n\"https://launchpadbemidji.com/wp-content/plugins/revslider/public/assets/js/jquery.themepunch.revolution.min.js?ver=5.4.6.1\",\nNaN,\nNaN,\ntrue,\n{\n            'v': NaN,\n            'f': \"NaN\",\n        }],\n [{\n            'v': 104,\n            'f': \"104\",\n        },\n\"JS\",\n\"https://launchpadbemidji.com/covid-19-updates/\",\n\"https://launchpadbemidji.com/wp-content/plugins/revslider/public/assets/js/jquery.themepunch.revolution.min.js?ver=5.4.6.1\",\nNaN,\nNaN,\ntrue,\n{\n            'v': NaN,\n            'f': \"NaN\",\n        }],\n [{\n            'v': 105,\n            'f': \"105\",\n        },\n\"JS\",\n\"https://launchpadbemidji.com/resources/\",\n\"https://launchpadbemidji.com/wp-content/plugins/revslider/public/assets/js/jquery.themepunch.revolution.min.js?ver=5.4.6.1\",\nNaN,\nNaN,\ntrue,\n{\n            'v': NaN,\n            'f': \"NaN\",\n        }],\n [{\n            'v': 106,\n            'f': \"106\",\n        },\n\"JS\",\n\"https://launchpadbemidji.com/about-us/\",\n\"https://launchpadbemidji.com/wp-content/plugins/revslider/public/assets/js/jquery.themepunch.revolution.min.js?ver=5.4.6.1\",\nNaN,\nNaN,\ntrue,\n{\n            'v': NaN,\n            'f': \"NaN\",\n        }],\n [{\n            'v': 107,\n            'f': \"107\",\n        },\n\"IMG\",\n\"https://launchpadbemidji.com/\",\n\"https://launchpadbemidji.com/wp-content/uploads/2019/06/1-2-3-Start-Up-Guide-1.png\",\nNaN,\nNaN,\ntrue,\n{\n            'v': NaN,\n            'f': \"NaN\",\n        }],\n [{\n            'v': 108,\n            'f': \"108\",\n        },\n\"CSS\",\n\"https://launchpadbemidji.com/\",\n\"https://launchpadbemidji.com/wp-content/themes/amax/style-custom.css?rev=85926&ver=5.4.2\",\nNaN,\nNaN,\ntrue,\n{\n            'v': NaN,\n            'f': \"NaN\",\n        }],\n [{\n            'v': 109,\n            'f': \"109\",\n        },\n\"CSS\",\n\"https://launchpadbemidji.com/photo-galleries/\",\n\"https://launchpadbemidji.com/wp-content/themes/amax/style-custom.css?rev=85926&ver=5.4.2\",\nNaN,\nNaN,\ntrue,\n{\n            'v': NaN,\n            'f': \"NaN\",\n        }],\n [{\n            'v': 110,\n            'f': \"110\",\n        },\n\"CSS\",\n\"https://launchpadbemidji.com/events/\",\n\"https://launchpadbemidji.com/wp-content/themes/amax/style-custom.css?rev=85926&ver=5.4.2\",\nNaN,\nNaN,\ntrue,\n{\n            'v': NaN,\n            'f': \"NaN\",\n        }],\n [{\n            'v': 111,\n            'f': \"111\",\n        },\n\"CSS\",\n\"https://launchpadbemidji.com/entrepreneur-meet-up/\",\n\"https://launchpadbemidji.com/wp-content/themes/amax/style-custom.css?rev=85926&ver=5.4.2\",\nNaN,\nNaN,\ntrue,\n{\n            'v': NaN,\n            'f': \"NaN\",\n        }],\n [{\n            'v': 112,\n            'f': \"112\",\n        },\n\"CSS\",\n\"https://launchpadbemidji.com/launchpad-staff/\",\n\"https://launchpadbemidji.com/wp-content/themes/amax/style-custom.css?rev=85926&ver=5.4.2\",\nNaN,\nNaN,\ntrue,\n{\n            'v': NaN,\n            'f': \"NaN\",\n        }],\n [{\n            'v': 113,\n            'f': \"113\",\n        },\n\"CSS\",\n\"https://launchpadbemidji.com/videos/\",\n\"https://launchpadbemidji.com/wp-content/themes/amax/style-custom.css?rev=85926&ver=5.4.2\",\nNaN,\nNaN,\ntrue,\n{\n            'v': NaN,\n            'f': \"NaN\",\n        }],\n [{\n            'v': 114,\n            'f': \"114\",\n        },\n\"CSS\",\n\"https://launchpadbemidji.com/membership/\",\n\"https://launchpadbemidji.com/wp-content/themes/amax/style-custom.css?rev=85926&ver=5.4.2\",\nNaN,\nNaN,\ntrue,\n{\n            'v': NaN,\n            'f': \"NaN\",\n        }],\n [{\n            'v': 115,\n            'f': \"115\",\n        },\n\"CSS\",\n\"https://launchpadbemidji.com/current-launchpad-members/\",\n\"https://launchpadbemidji.com/wp-content/themes/amax/style-custom.css?rev=85926&ver=5.4.2\",\nNaN,\nNaN,\ntrue,\n{\n            'v': NaN,\n            'f': \"NaN\",\n        }],\n [{\n            'v': 116,\n            'f': \"116\",\n        },\n\"CSS\",\n\"https://launchpadbemidji.com/contact/\",\n\"https://launchpadbemidji.com/wp-content/themes/amax/style-custom.css?rev=85926&ver=5.4.2\",\nNaN,\nNaN,\ntrue,\n{\n            'v': NaN,\n            'f': \"NaN\",\n        }],\n [{\n            'v': 117,\n            'f': \"117\",\n        },\n\"CSS\",\n\"https://launchpadbemidji.com/covid-19-updates/\",\n\"https://launchpadbemidji.com/wp-content/themes/amax/style-custom.css?rev=85926&ver=5.4.2\",\nNaN,\nNaN,\ntrue,\n{\n            'v': NaN,\n            'f': \"NaN\",\n        }],\n [{\n            'v': 118,\n            'f': \"118\",\n        },\n\"CSS\",\n\"https://launchpadbemidji.com/resources/\",\n\"https://launchpadbemidji.com/wp-content/themes/amax/style-custom.css?rev=85926&ver=5.4.2\",\nNaN,\nNaN,\ntrue,\n{\n            'v': NaN,\n            'f': \"NaN\",\n        }],\n [{\n            'v': 119,\n            'f': \"119\",\n        },\n\"CSS\",\n\"https://launchpadbemidji.com/about-us/\",\n\"https://launchpadbemidji.com/wp-content/themes/amax/style-custom.css?rev=85926&ver=5.4.2\",\nNaN,\nNaN,\ntrue,\n{\n            'v': NaN,\n            'f': \"NaN\",\n        }],\n [{\n            'v': 120,\n            'f': \"120\",\n        },\n\"AHREF\",\n\"https://launchpadbemidji.com/\",\n\"https://launchpadbemidji.com/photo-galleries/\",\n\"Photo Galleries\",\nNaN,\ntrue,\n{\n            'v': NaN,\n            'f': \"NaN\",\n        }],\n [{\n            'v': 121,\n            'f': \"121\",\n        },\n\"AHREF\",\n\"https://launchpadbemidji.com/\",\n\"https://launchpadbemidji.com/photo-galleries/\",\n\"Photo Galleries\",\nNaN,\ntrue,\n{\n            'v': NaN,\n            'f': \"NaN\",\n        }],\n [{\n            'v': 122,\n            'f': \"122\",\n        },\n\"AHREF\",\n\"https://launchpadbemidji.com/\",\n\"https://launchpadbemidji.com/photo-galleries/\",\n\"Photo Galleries\",\nNaN,\ntrue,\n{\n            'v': NaN,\n            'f': \"NaN\",\n        }],\n [{\n            'v': 123,\n            'f': \"123\",\n        },\n\"AHREF\",\n\"https://launchpadbemidji.com/photo-galleries/\",\n\"https://launchpadbemidji.com/photo-galleries/\",\n\"Photo Galleries\",\nNaN,\ntrue,\n{\n            'v': NaN,\n            'f': \"NaN\",\n        }],\n [{\n            'v': 124,\n            'f': \"124\",\n        },\n\"AHREF\",\n\"https://launchpadbemidji.com/photo-galleries/\",\n\"https://launchpadbemidji.com/photo-galleries/\",\n\"Photo Galleries\",\nNaN,\ntrue,\n{\n            'v': NaN,\n            'f': \"NaN\",\n        }],\n [{\n            'v': 125,\n            'f': \"125\",\n        },\n\"AHREF\",\n\"https://launchpadbemidji.com/photo-galleries/\",\n\"https://launchpadbemidji.com/photo-galleries/\",\n\"Photo Galleries\",\nNaN,\ntrue,\n{\n            'v': NaN,\n            'f': \"NaN\",\n        }],\n [{\n            'v': 126,\n            'f': \"126\",\n        },\n\"HTML Canonical\",\n\"https://launchpadbemidji.com/photo-galleries/\",\n\"https://launchpadbemidji.com/photo-galleries/\",\nNaN,\nNaN,\ntrue,\n{\n            'v': NaN,\n            'f': \"NaN\",\n        }],\n [{\n            'v': 127,\n            'f': \"127\",\n        },\n\"AHREF\",\n\"https://launchpadbemidji.com/entrepreneur-meet-up/\",\n\"https://launchpadbemidji.com/photo-galleries/\",\n\"Photo Galleries\",\nNaN,\ntrue,\n{\n            'v': NaN,\n            'f': \"NaN\",\n        }],\n [{\n            'v': 128,\n            'f': \"128\",\n        },\n\"AHREF\",\n\"https://launchpadbemidji.com/entrepreneur-meet-up/\",\n\"https://launchpadbemidji.com/photo-galleries/\",\n\"Photo Galleries\",\nNaN,\ntrue,\n{\n            'v': NaN,\n            'f': \"NaN\",\n        }],\n [{\n            'v': 129,\n            'f': \"129\",\n        },\n\"AHREF\",\n\"https://launchpadbemidji.com/entrepreneur-meet-up/\",\n\"https://launchpadbemidji.com/photo-galleries/\",\n\"Photo Galleries\",\nNaN,\ntrue,\n{\n            'v': NaN,\n            'f': \"NaN\",\n        }],\n [{\n            'v': 130,\n            'f': \"130\",\n        },\n\"AHREF\",\n\"https://launchpadbemidji.com/launchpad-staff/\",\n\"https://launchpadbemidji.com/photo-galleries/\",\n\"Photo Galleries\",\nNaN,\ntrue,\n{\n            'v': NaN,\n            'f': \"NaN\",\n        }],\n [{\n            'v': 131,\n            'f': \"131\",\n        },\n\"AHREF\",\n\"https://launchpadbemidji.com/launchpad-staff/\",\n\"https://launchpadbemidji.com/photo-galleries/\",\n\"Photo Galleries\",\nNaN,\ntrue,\n{\n            'v': NaN,\n            'f': \"NaN\",\n        }],\n [{\n            'v': 132,\n            'f': \"132\",\n        },\n\"AHREF\",\n\"https://launchpadbemidji.com/launchpad-staff/\",\n\"https://launchpadbemidji.com/photo-galleries/\",\n\"Photo Galleries\",\nNaN,\ntrue,\n{\n            'v': NaN,\n            'f': \"NaN\",\n        }],\n [{\n            'v': 133,\n            'f': \"133\",\n        },\n\"AHREF\",\n\"https://launchpadbemidji.com/videos/\",\n\"https://launchpadbemidji.com/photo-galleries/\",\n\"Photo Galleries\",\nNaN,\ntrue,\n{\n            'v': NaN,\n            'f': \"NaN\",\n        }],\n [{\n            'v': 134,\n            'f': \"134\",\n        },\n\"AHREF\",\n\"https://launchpadbemidji.com/videos/\",\n\"https://launchpadbemidji.com/photo-galleries/\",\n\"Photo Galleries\",\nNaN,\ntrue,\n{\n            'v': NaN,\n            'f': \"NaN\",\n        }],\n [{\n            'v': 135,\n            'f': \"135\",\n        },\n\"AHREF\",\n\"https://launchpadbemidji.com/videos/\",\n\"https://launchpadbemidji.com/photo-galleries/\",\n\"Photo Galleries\",\nNaN,\ntrue,\n{\n            'v': NaN,\n            'f': \"NaN\",\n        }],\n [{\n            'v': 136,\n            'f': \"136\",\n        },\n\"AHREF\",\n\"https://launchpadbemidji.com/membership/\",\n\"https://launchpadbemidji.com/photo-galleries/\",\n\"Photo Galleries\",\nNaN,\ntrue,\n{\n            'v': NaN,\n            'f': \"NaN\",\n        }],\n [{\n            'v': 137,\n            'f': \"137\",\n        },\n\"AHREF\",\n\"https://launchpadbemidji.com/membership/\",\n\"https://launchpadbemidji.com/photo-galleries/\",\n\"Photo Galleries\",\nNaN,\ntrue,\n{\n            'v': NaN,\n            'f': \"NaN\",\n        }],\n [{\n            'v': 138,\n            'f': \"138\",\n        },\n\"AHREF\",\n\"https://launchpadbemidji.com/membership/\",\n\"https://launchpadbemidji.com/photo-galleries/\",\n\"Photo Galleries\",\nNaN,\ntrue,\n{\n            'v': NaN,\n            'f': \"NaN\",\n        }],\n [{\n            'v': 139,\n            'f': \"139\",\n        },\n\"AHREF\",\n\"https://launchpadbemidji.com/current-launchpad-members/\",\n\"https://launchpadbemidji.com/photo-galleries/\",\n\"Photo Galleries\",\nNaN,\ntrue,\n{\n            'v': NaN,\n            'f': \"NaN\",\n        }],\n [{\n            'v': 140,\n            'f': \"140\",\n        },\n\"AHREF\",\n\"https://launchpadbemidji.com/current-launchpad-members/\",\n\"https://launchpadbemidji.com/photo-galleries/\",\n\"Photo Galleries\",\nNaN,\ntrue,\n{\n            'v': NaN,\n            'f': \"NaN\",\n        }],\n [{\n            'v': 141,\n            'f': \"141\",\n        },\n\"AHREF\",\n\"https://launchpadbemidji.com/current-launchpad-members/\",\n\"https://launchpadbemidji.com/photo-galleries/\",\n\"Photo Galleries\",\nNaN,\ntrue,\n{\n            'v': NaN,\n            'f': \"NaN\",\n        }],\n [{\n            'v': 142,\n            'f': \"142\",\n        },\n\"AHREF\",\n\"https://launchpadbemidji.com/contact/\",\n\"https://launchpadbemidji.com/photo-galleries/\",\n\"Photo Galleries\",\nNaN,\ntrue,\n{\n            'v': NaN,\n            'f': \"NaN\",\n        }],\n [{\n            'v': 143,\n            'f': \"143\",\n        },\n\"AHREF\",\n\"https://launchpadbemidji.com/contact/\",\n\"https://launchpadbemidji.com/photo-galleries/\",\n\"Photo Galleries\",\nNaN,\ntrue,\n{\n            'v': NaN,\n            'f': \"NaN\",\n        }],\n [{\n            'v': 144,\n            'f': \"144\",\n        },\n\"AHREF\",\n\"https://launchpadbemidji.com/contact/\",\n\"https://launchpadbemidji.com/photo-galleries/\",\n\"Photo Galleries\",\nNaN,\ntrue,\n{\n            'v': NaN,\n            'f': \"NaN\",\n        }],\n [{\n            'v': 145,\n            'f': \"145\",\n        },\n\"AHREF\",\n\"https://launchpadbemidji.com/covid-19-updates/\",\n\"https://launchpadbemidji.com/photo-galleries/\",\n\"Photo Galleries\",\nNaN,\ntrue,\n{\n            'v': NaN,\n            'f': \"NaN\",\n        }],\n [{\n            'v': 146,\n            'f': \"146\",\n        },\n\"AHREF\",\n\"https://launchpadbemidji.com/covid-19-updates/\",\n\"https://launchpadbemidji.com/photo-galleries/\",\n\"Photo Galleries\",\nNaN,\ntrue,\n{\n            'v': NaN,\n            'f': \"NaN\",\n        }],\n [{\n            'v': 147,\n            'f': \"147\",\n        },\n\"AHREF\",\n\"https://launchpadbemidji.com/covid-19-updates/\",\n\"https://launchpadbemidji.com/photo-galleries/\",\n\"Photo Galleries\",\nNaN,\ntrue,\n{\n            'v': NaN,\n            'f': \"NaN\",\n        }],\n [{\n            'v': 148,\n            'f': \"148\",\n        },\n\"AHREF\",\n\"https://launchpadbemidji.com/resources/\",\n\"https://launchpadbemidji.com/photo-galleries/\",\n\"Photo Galleries\",\nNaN,\ntrue,\n{\n            'v': NaN,\n            'f': \"NaN\",\n        }],\n [{\n            'v': 149,\n            'f': \"149\",\n        },\n\"AHREF\",\n\"https://launchpadbemidji.com/resources/\",\n\"https://launchpadbemidji.com/photo-galleries/\",\n\"Photo Galleries\",\nNaN,\ntrue,\n{\n            'v': NaN,\n            'f': \"NaN\",\n        }],\n [{\n            'v': 150,\n            'f': \"150\",\n        },\n\"AHREF\",\n\"https://launchpadbemidji.com/resources/\",\n\"https://launchpadbemidji.com/photo-galleries/\",\n\"Photo Galleries\",\nNaN,\ntrue,\n{\n            'v': NaN,\n            'f': \"NaN\",\n        }],\n [{\n            'v': 151,\n            'f': \"151\",\n        },\n\"AHREF\",\n\"https://launchpadbemidji.com/about-us/\",\n\"https://launchpadbemidji.com/photo-galleries/\",\n\"Photo Galleries\",\nNaN,\ntrue,\n{\n            'v': NaN,\n            'f': \"NaN\",\n        }],\n [{\n            'v': 152,\n            'f': \"152\",\n        },\n\"AHREF\",\n\"https://launchpadbemidji.com/about-us/\",\n\"https://launchpadbemidji.com/photo-galleries/\",\n\"Photo Galleries\",\nNaN,\ntrue,\n{\n            'v': NaN,\n            'f': \"NaN\",\n        }],\n [{\n            'v': 153,\n            'f': \"153\",\n        },\n\"AHREF\",\n\"https://launchpadbemidji.com/about-us/\",\n\"https://launchpadbemidji.com/photo-galleries/\",\n\"Photo Galleries\",\nNaN,\ntrue,\n{\n            'v': NaN,\n            'f': \"NaN\",\n        }],\n [{\n            'v': 154,\n            'f': \"154\",\n        },\n\"CSS\",\n\"https://launchpadbemidji.com/\",\n\"https://launchpadbemidji.com/wp-content/plugins/revslider/public/assets/css/settings.css?ver=5.4.6.1\",\nNaN,\nNaN,\ntrue,\n{\n            'v': NaN,\n            'f': \"NaN\",\n        }],\n [{\n            'v': 155,\n            'f': \"155\",\n        },\n\"CSS\",\n\"https://launchpadbemidji.com/photo-galleries/\",\n\"https://launchpadbemidji.com/wp-content/plugins/revslider/public/assets/css/settings.css?ver=5.4.6.1\",\nNaN,\nNaN,\ntrue,\n{\n            'v': NaN,\n            'f': \"NaN\",\n        }],\n [{\n            'v': 156,\n            'f': \"156\",\n        },\n\"CSS\",\n\"https://launchpadbemidji.com/events/\",\n\"https://launchpadbemidji.com/wp-content/plugins/revslider/public/assets/css/settings.css?ver=5.4.6.1\",\nNaN,\nNaN,\ntrue,\n{\n            'v': NaN,\n            'f': \"NaN\",\n        }],\n [{\n            'v': 157,\n            'f': \"157\",\n        },\n\"CSS\",\n\"https://launchpadbemidji.com/entrepreneur-meet-up/\",\n\"https://launchpadbemidji.com/wp-content/plugins/revslider/public/assets/css/settings.css?ver=5.4.6.1\",\nNaN,\nNaN,\ntrue,\n{\n            'v': NaN,\n            'f': \"NaN\",\n        }],\n [{\n            'v': 158,\n            'f': \"158\",\n        },\n\"CSS\",\n\"https://launchpadbemidji.com/launchpad-staff/\",\n\"https://launchpadbemidji.com/wp-content/plugins/revslider/public/assets/css/settings.css?ver=5.4.6.1\",\nNaN,\nNaN,\ntrue,\n{\n            'v': NaN,\n            'f': \"NaN\",\n        }],\n [{\n            'v': 159,\n            'f': \"159\",\n        },\n\"CSS\",\n\"https://launchpadbemidji.com/videos/\",\n\"https://launchpadbemidji.com/wp-content/plugins/revslider/public/assets/css/settings.css?ver=5.4.6.1\",\nNaN,\nNaN,\ntrue,\n{\n            'v': NaN,\n            'f': \"NaN\",\n        }],\n [{\n            'v': 160,\n            'f': \"160\",\n        },\n\"CSS\",\n\"https://launchpadbemidji.com/membership/\",\n\"https://launchpadbemidji.com/wp-content/plugins/revslider/public/assets/css/settings.css?ver=5.4.6.1\",\nNaN,\nNaN,\ntrue,\n{\n            'v': NaN,\n            'f': \"NaN\",\n        }],\n [{\n            'v': 161,\n            'f': \"161\",\n        },\n\"CSS\",\n\"https://launchpadbemidji.com/current-launchpad-members/\",\n\"https://launchpadbemidji.com/wp-content/plugins/revslider/public/assets/css/settings.css?ver=5.4.6.1\",\nNaN,\nNaN,\ntrue,\n{\n            'v': NaN,\n            'f': \"NaN\",\n        }],\n [{\n            'v': 162,\n            'f': \"162\",\n        },\n\"CSS\",\n\"https://launchpadbemidji.com/contact/\",\n\"https://launchpadbemidji.com/wp-content/plugins/revslider/public/assets/css/settings.css?ver=5.4.6.1\",\nNaN,\nNaN,\ntrue,\n{\n            'v': NaN,\n            'f': \"NaN\",\n        }],\n [{\n            'v': 163,\n            'f': \"163\",\n        },\n\"CSS\",\n\"https://launchpadbemidji.com/covid-19-updates/\",\n\"https://launchpadbemidji.com/wp-content/plugins/revslider/public/assets/css/settings.css?ver=5.4.6.1\",\nNaN,\nNaN,\ntrue,\n{\n            'v': NaN,\n            'f': \"NaN\",\n        }],\n [{\n            'v': 164,\n            'f': \"164\",\n        },\n\"CSS\",\n\"https://launchpadbemidji.com/resources/\",\n\"https://launchpadbemidji.com/wp-content/plugins/revslider/public/assets/css/settings.css?ver=5.4.6.1\",\nNaN,\nNaN,\ntrue,\n{\n            'v': NaN,\n            'f': \"NaN\",\n        }],\n [{\n            'v': 165,\n            'f': \"165\",\n        },\n\"CSS\",\n\"https://launchpadbemidji.com/about-us/\",\n\"https://launchpadbemidji.com/wp-content/plugins/revslider/public/assets/css/settings.css?ver=5.4.6.1\",\nNaN,\nNaN,\ntrue,\n{\n            'v': NaN,\n            'f': \"NaN\",\n        }],\n [{\n            'v': 166,\n            'f': \"166\",\n        },\n\"JS\",\n\"https://launchpadbemidji.com/\",\n\"https://launchpadbemidji.com/wp-content/plugins/js_composer/assets/lib/waypoints/waypoints.min.js?ver=5.7\",\nNaN,\nNaN,\ntrue,\n{\n            'v': NaN,\n            'f': \"NaN\",\n        }],\n [{\n            'v': 167,\n            'f': \"167\",\n        },\n\"JS\",\n\"https://launchpadbemidji.com/photo-galleries/\",\n\"https://launchpadbemidji.com/wp-content/plugins/js_composer/assets/lib/waypoints/waypoints.min.js?ver=5.7\",\nNaN,\nNaN,\ntrue,\n{\n            'v': NaN,\n            'f': \"NaN\",\n        }],\n [{\n            'v': 168,\n            'f': \"168\",\n        },\n\"JS\",\n\"https://launchpadbemidji.com/events/\",\n\"https://launchpadbemidji.com/wp-content/plugins/js_composer/assets/lib/waypoints/waypoints.min.js?ver=5.7\",\nNaN,\nNaN,\ntrue,\n{\n            'v': NaN,\n            'f': \"NaN\",\n        }],\n [{\n            'v': 169,\n            'f': \"169\",\n        },\n\"JS\",\n\"https://launchpadbemidji.com/entrepreneur-meet-up/\",\n\"https://launchpadbemidji.com/wp-content/plugins/js_composer/assets/lib/waypoints/waypoints.min.js?ver=5.7\",\nNaN,\nNaN,\ntrue,\n{\n            'v': NaN,\n            'f': \"NaN\",\n        }],\n [{\n            'v': 170,\n            'f': \"170\",\n        },\n\"JS\",\n\"https://launchpadbemidji.com/launchpad-staff/\",\n\"https://launchpadbemidji.com/wp-content/plugins/js_composer/assets/lib/waypoints/waypoints.min.js?ver=5.7\",\nNaN,\nNaN,\ntrue,\n{\n            'v': NaN,\n            'f': \"NaN\",\n        }],\n [{\n            'v': 171,\n            'f': \"171\",\n        },\n\"JS\",\n\"https://launchpadbemidji.com/videos/\",\n\"https://launchpadbemidji.com/wp-content/plugins/js_composer/assets/lib/waypoints/waypoints.min.js?ver=5.7\",\nNaN,\nNaN,\ntrue,\n{\n            'v': NaN,\n            'f': \"NaN\",\n        }],\n [{\n            'v': 172,\n            'f': \"172\",\n        },\n\"JS\",\n\"https://launchpadbemidji.com/membership/\",\n\"https://launchpadbemidji.com/wp-content/plugins/js_composer/assets/lib/waypoints/waypoints.min.js?ver=5.7\",\nNaN,\nNaN,\ntrue,\n{\n            'v': NaN,\n            'f': \"NaN\",\n        }],\n [{\n            'v': 173,\n            'f': \"173\",\n        },\n\"JS\",\n\"https://launchpadbemidji.com/current-launchpad-members/\",\n\"https://launchpadbemidji.com/wp-content/plugins/js_composer/assets/lib/waypoints/waypoints.min.js?ver=5.7\",\nNaN,\nNaN,\ntrue,\n{\n            'v': NaN,\n            'f': \"NaN\",\n        }],\n [{\n            'v': 174,\n            'f': \"174\",\n        },\n\"JS\",\n\"https://launchpadbemidji.com/contact/\",\n\"https://launchpadbemidji.com/wp-content/plugins/js_composer/assets/lib/waypoints/waypoints.min.js?ver=5.7\",\nNaN,\nNaN,\ntrue,\n{\n            'v': NaN,\n            'f': \"NaN\",\n        }],\n [{\n            'v': 175,\n            'f': \"175\",\n        },\n\"JS\",\n\"https://launchpadbemidji.com/covid-19-updates/\",\n\"https://launchpadbemidji.com/wp-content/plugins/js_composer/assets/lib/waypoints/waypoints.min.js?ver=5.7\",\nNaN,\nNaN,\ntrue,\n{\n            'v': NaN,\n            'f': \"NaN\",\n        }],\n [{\n            'v': 176,\n            'f': \"176\",\n        },\n\"JS\",\n\"https://launchpadbemidji.com/resources/\",\n\"https://launchpadbemidji.com/wp-content/plugins/js_composer/assets/lib/waypoints/waypoints.min.js?ver=5.7\",\nNaN,\nNaN,\ntrue,\n{\n            'v': NaN,\n            'f': \"NaN\",\n        }],\n [{\n            'v': 177,\n            'f': \"177\",\n        },\n\"JS\",\n\"https://launchpadbemidji.com/about-us/\",\n\"https://launchpadbemidji.com/wp-content/plugins/js_composer/assets/lib/waypoints/waypoints.min.js?ver=5.7\",\nNaN,\nNaN,\ntrue,\n{\n            'v': NaN,\n            'f': \"NaN\",\n        }],\n [{\n            'v': 178,\n            'f': \"178\",\n        },\n\"AHREF\",\n\"https://launchpadbemidji.com/\",\n\"https://launchpadbemidji.com/events/\",\n\"LaunchPad Events\",\nNaN,\ntrue,\n{\n            'v': NaN,\n            'f': \"NaN\",\n        }],\n [{\n            'v': 179,\n            'f': \"179\",\n        },\n\"AHREF\",\n\"https://launchpadbemidji.com/\",\n\"https://launchpadbemidji.com/events/\",\n\"LaunchPad Events\",\nNaN,\ntrue,\n{\n            'v': NaN,\n            'f': \"NaN\",\n        }],\n [{\n            'v': 180,\n            'f': \"180\",\n        },\n\"AHREF\",\n\"https://launchpadbemidji.com/\",\n\"https://launchpadbemidji.com/events/\",\n\"LaunchPad Events\",\nNaN,\ntrue,\n{\n            'v': NaN,\n            'f': \"NaN\",\n        }],\n [{\n            'v': 181,\n            'f': \"181\",\n        },\n\"AHREF\",\n\"https://launchpadbemidji.com/photo-galleries/\",\n\"https://launchpadbemidji.com/events/\",\n\"LaunchPad Events\",\nNaN,\ntrue,\n{\n            'v': NaN,\n            'f': \"NaN\",\n        }],\n [{\n            'v': 182,\n            'f': \"182\",\n        },\n\"AHREF\",\n\"https://launchpadbemidji.com/photo-galleries/\",\n\"https://launchpadbemidji.com/events/\",\n\"LaunchPad Events\",\nNaN,\ntrue,\n{\n            'v': NaN,\n            'f': \"NaN\",\n        }],\n [{\n            'v': 183,\n            'f': \"183\",\n        },\n\"AHREF\",\n\"https://launchpadbemidji.com/photo-galleries/\",\n\"https://launchpadbemidji.com/events/\",\n\"LaunchPad Events\",\nNaN,\ntrue,\n{\n            'v': NaN,\n            'f': \"NaN\",\n        }],\n [{\n            'v': 184,\n            'f': \"184\",\n        },\n\"HTML Canonical\",\n\"https://launchpadbemidji.com/events/\",\n\"https://launchpadbemidji.com/events/\",\nNaN,\nNaN,\ntrue,\n{\n            'v': NaN,\n            'f': \"NaN\",\n        }],\n [{\n            'v': 185,\n            'f': \"185\",\n        },\n\"AHREF\",\n\"https://launchpadbemidji.com/entrepreneur-meet-up/\",\n\"https://launchpadbemidji.com/events/\",\n\"LaunchPad Events\",\nNaN,\ntrue,\n{\n            'v': NaN,\n            'f': \"NaN\",\n        }],\n [{\n            'v': 186,\n            'f': \"186\",\n        },\n\"AHREF\",\n\"https://launchpadbemidji.com/entrepreneur-meet-up/\",\n\"https://launchpadbemidji.com/events/\",\n\"LaunchPad Events\",\nNaN,\ntrue,\n{\n            'v': NaN,\n            'f': \"NaN\",\n        }],\n [{\n            'v': 187,\n            'f': \"187\",\n        },\n\"AHREF\",\n\"https://launchpadbemidji.com/entrepreneur-meet-up/\",\n\"https://launchpadbemidji.com/events/\",\n\"LaunchPad Events\",\nNaN,\ntrue,\n{\n            'v': NaN,\n            'f': \"NaN\",\n        }],\n [{\n            'v': 188,\n            'f': \"188\",\n        },\n\"AHREF\",\n\"https://launchpadbemidji.com/launchpad-staff/\",\n\"https://launchpadbemidji.com/events/\",\n\"LaunchPad Events\",\nNaN,\ntrue,\n{\n            'v': NaN,\n            'f': \"NaN\",\n        }],\n [{\n            'v': 189,\n            'f': \"189\",\n        },\n\"AHREF\",\n\"https://launchpadbemidji.com/launchpad-staff/\",\n\"https://launchpadbemidji.com/events/\",\n\"LaunchPad Events\",\nNaN,\ntrue,\n{\n            'v': NaN,\n            'f': \"NaN\",\n        }],\n [{\n            'v': 190,\n            'f': \"190\",\n        },\n\"AHREF\",\n\"https://launchpadbemidji.com/launchpad-staff/\",\n\"https://launchpadbemidji.com/events/\",\n\"LaunchPad Events\",\nNaN,\ntrue,\n{\n            'v': NaN,\n            'f': \"NaN\",\n        }],\n [{\n            'v': 191,\n            'f': \"191\",\n        },\n\"AHREF\",\n\"https://launchpadbemidji.com/videos/\",\n\"https://launchpadbemidji.com/events/\",\n\"LaunchPad Events\",\nNaN,\ntrue,\n{\n            'v': NaN,\n            'f': \"NaN\",\n        }],\n [{\n            'v': 192,\n            'f': \"192\",\n        },\n\"AHREF\",\n\"https://launchpadbemidji.com/videos/\",\n\"https://launchpadbemidji.com/events/\",\n\"LaunchPad Events\",\nNaN,\ntrue,\n{\n            'v': NaN,\n            'f': \"NaN\",\n        }],\n [{\n            'v': 193,\n            'f': \"193\",\n        },\n\"AHREF\",\n\"https://launchpadbemidji.com/videos/\",\n\"https://launchpadbemidji.com/events/\",\n\"LaunchPad Events\",\nNaN,\ntrue,\n{\n            'v': NaN,\n            'f': \"NaN\",\n        }],\n [{\n            'v': 194,\n            'f': \"194\",\n        },\n\"AHREF\",\n\"https://launchpadbemidji.com/membership/\",\n\"https://launchpadbemidji.com/events/\",\n\"LaunchPad Events\",\nNaN,\ntrue,\n{\n            'v': NaN,\n            'f': \"NaN\",\n        }],\n [{\n            'v': 195,\n            'f': \"195\",\n        },\n\"AHREF\",\n\"https://launchpadbemidji.com/membership/\",\n\"https://launchpadbemidji.com/events/\",\n\"LaunchPad Events\",\nNaN,\ntrue,\n{\n            'v': NaN,\n            'f': \"NaN\",\n        }],\n [{\n            'v': 196,\n            'f': \"196\",\n        },\n\"AHREF\",\n\"https://launchpadbemidji.com/membership/\",\n\"https://launchpadbemidji.com/events/\",\n\"LaunchPad Events\",\nNaN,\ntrue,\n{\n            'v': NaN,\n            'f': \"NaN\",\n        }],\n [{\n            'v': 197,\n            'f': \"197\",\n        },\n\"AHREF\",\n\"https://launchpadbemidji.com/current-launchpad-members/\",\n\"https://launchpadbemidji.com/events/\",\n\"LaunchPad Events\",\nNaN,\ntrue,\n{\n            'v': NaN,\n            'f': \"NaN\",\n        }],\n [{\n            'v': 198,\n            'f': \"198\",\n        },\n\"AHREF\",\n\"https://launchpadbemidji.com/current-launchpad-members/\",\n\"https://launchpadbemidji.com/events/\",\n\"LaunchPad Events\",\nNaN,\ntrue,\n{\n            'v': NaN,\n            'f': \"NaN\",\n        }],\n [{\n            'v': 199,\n            'f': \"199\",\n        },\n\"AHREF\",\n\"https://launchpadbemidji.com/current-launchpad-members/\",\n\"https://launchpadbemidji.com/events/\",\n\"LaunchPad Events\",\nNaN,\ntrue,\n{\n            'v': NaN,\n            'f': \"NaN\",\n        }],\n [{\n            'v': 200,\n            'f': \"200\",\n        },\n\"AHREF\",\n\"https://launchpadbemidji.com/contact/\",\n\"https://launchpadbemidji.com/events/\",\n\"LaunchPad Events\",\nNaN,\ntrue,\n{\n            'v': NaN,\n            'f': \"NaN\",\n        }],\n [{\n            'v': 201,\n            'f': \"201\",\n        },\n\"AHREF\",\n\"https://launchpadbemidji.com/contact/\",\n\"https://launchpadbemidji.com/events/\",\n\"LaunchPad Events\",\nNaN,\ntrue,\n{\n            'v': NaN,\n            'f': \"NaN\",\n        }],\n [{\n            'v': 202,\n            'f': \"202\",\n        },\n\"AHREF\",\n\"https://launchpadbemidji.com/contact/\",\n\"https://launchpadbemidji.com/events/\",\n\"LaunchPad Events\",\nNaN,\ntrue,\n{\n            'v': NaN,\n            'f': \"NaN\",\n        }],\n [{\n            'v': 203,\n            'f': \"203\",\n        },\n\"AHREF\",\n\"https://launchpadbemidji.com/covid-19-updates/\",\n\"https://launchpadbemidji.com/events/\",\n\"LaunchPad Events\",\nNaN,\ntrue,\n{\n            'v': NaN,\n            'f': \"NaN\",\n        }],\n [{\n            'v': 204,\n            'f': \"204\",\n        },\n\"AHREF\",\n\"https://launchpadbemidji.com/covid-19-updates/\",\n\"https://launchpadbemidji.com/events/\",\n\"LaunchPad Events\",\nNaN,\ntrue,\n{\n            'v': NaN,\n            'f': \"NaN\",\n        }],\n [{\n            'v': 205,\n            'f': \"205\",\n        },\n\"AHREF\",\n\"https://launchpadbemidji.com/covid-19-updates/\",\n\"https://launchpadbemidji.com/events/\",\n\"LaunchPad Events\",\nNaN,\ntrue,\n{\n            'v': NaN,\n            'f': \"NaN\",\n        }],\n [{\n            'v': 206,\n            'f': \"206\",\n        },\n\"AHREF\",\n\"https://launchpadbemidji.com/resources/\",\n\"https://launchpadbemidji.com/events/\",\n\"LaunchPad Events\",\nNaN,\ntrue,\n{\n            'v': NaN,\n            'f': \"NaN\",\n        }],\n [{\n            'v': 207,\n            'f': \"207\",\n        },\n\"AHREF\",\n\"https://launchpadbemidji.com/resources/\",\n\"https://launchpadbemidji.com/events/\",\n\"LaunchPad Events\",\nNaN,\ntrue,\n{\n            'v': NaN,\n            'f': \"NaN\",\n        }],\n [{\n            'v': 208,\n            'f': \"208\",\n        },\n\"AHREF\",\n\"https://launchpadbemidji.com/resources/\",\n\"https://launchpadbemidji.com/events/\",\n\"LaunchPad Events\",\nNaN,\ntrue,\n{\n            'v': NaN,\n            'f': \"NaN\",\n        }],\n [{\n            'v': 209,\n            'f': \"209\",\n        },\n\"AHREF\",\n\"https://launchpadbemidji.com/about-us/\",\n\"https://launchpadbemidji.com/events/\",\n\"LaunchPad Events\",\nNaN,\ntrue,\n{\n            'v': NaN,\n            'f': \"NaN\",\n        }],\n [{\n            'v': 210,\n            'f': \"210\",\n        },\n\"AHREF\",\n\"https://launchpadbemidji.com/about-us/\",\n\"https://launchpadbemidji.com/events/\",\n\"LaunchPad Events\",\nNaN,\ntrue,\n{\n            'v': NaN,\n            'f': \"NaN\",\n        }],\n [{\n            'v': 211,\n            'f': \"211\",\n        },\n\"AHREF\",\n\"https://launchpadbemidji.com/about-us/\",\n\"https://launchpadbemidji.com/events/\",\n\"LaunchPad Events\",\nNaN,\ntrue,\n{\n            'v': NaN,\n            'f': \"NaN\",\n        }],\n [{\n            'v': 212,\n            'f': \"212\",\n        },\n\"AHREF\",\n\"https://launchpadbemidji.com/\",\n\"https://launchpadbemidji.com/entrepreneur-meet-up/\",\n\"Entrepreneurs Meetup\",\nNaN,\ntrue,\n{\n            'v': NaN,\n            'f': \"NaN\",\n        }],\n [{\n            'v': 213,\n            'f': \"213\",\n        },\n\"AHREF\",\n\"https://launchpadbemidji.com/\",\n\"https://launchpadbemidji.com/entrepreneur-meet-up/\",\n\"Entrepreneurs Meetup\",\nNaN,\ntrue,\n{\n            'v': NaN,\n            'f': \"NaN\",\n        }],\n [{\n            'v': 214,\n            'f': \"214\",\n        },\n\"AHREF\",\n\"https://launchpadbemidji.com/\",\n\"https://launchpadbemidji.com/entrepreneur-meet-up/\",\n\"ENTREPRENEURS MEETUP\",\nNaN,\ntrue,\n{\n            'v': NaN,\n            'f': \"NaN\",\n        }],\n [{\n            'v': 215,\n            'f': \"215\",\n        },\n\"AHREF\",\n\"https://launchpadbemidji.com/\",\n\"https://launchpadbemidji.com/entrepreneur-meet-up/\",\n\"Entrepreneurs Meetup\",\nNaN,\ntrue,\n{\n            'v': NaN,\n            'f': \"NaN\",\n        }],\n [{\n            'v': 216,\n            'f': \"216\",\n        },\n\"AHREF\",\n\"https://launchpadbemidji.com/photo-galleries/\",\n\"https://launchpadbemidji.com/entrepreneur-meet-up/\",\n\"Entrepreneurs Meetup\",\nNaN,\ntrue,\n{\n            'v': NaN,\n            'f': \"NaN\",\n        }],\n [{\n            'v': 217,\n            'f': \"217\",\n        },\n\"AHREF\",\n\"https://launchpadbemidji.com/photo-galleries/\",\n\"https://launchpadbemidji.com/entrepreneur-meet-up/\",\n\"Entrepreneurs Meetup\",\nNaN,\ntrue,\n{\n            'v': NaN,\n            'f': \"NaN\",\n        }],\n [{\n            'v': 218,\n            'f': \"218\",\n        },\n\"AHREF\",\n\"https://launchpadbemidji.com/photo-galleries/\",\n\"https://launchpadbemidji.com/entrepreneur-meet-up/\",\n\"Entrepreneurs Meetup\",\nNaN,\ntrue,\n{\n            'v': NaN,\n            'f': \"NaN\",\n        }],\n [{\n            'v': 219,\n            'f': \"219\",\n        },\n\"AHREF\",\n\"https://launchpadbemidji.com/entrepreneur-meet-up/\",\n\"https://launchpadbemidji.com/entrepreneur-meet-up/\",\n\"Entrepreneurs Meetup\",\nNaN,\ntrue,\n{\n            'v': NaN,\n            'f': \"NaN\",\n        }],\n [{\n            'v': 220,\n            'f': \"220\",\n        },\n\"AHREF\",\n\"https://launchpadbemidji.com/entrepreneur-meet-up/\",\n\"https://launchpadbemidji.com/entrepreneur-meet-up/\",\n\"Entrepreneurs Meetup\",\nNaN,\ntrue,\n{\n            'v': NaN,\n            'f': \"NaN\",\n        }],\n [{\n            'v': 221,\n            'f': \"221\",\n        },\n\"AHREF\",\n\"https://launchpadbemidji.com/entrepreneur-meet-up/\",\n\"https://launchpadbemidji.com/entrepreneur-meet-up/\",\n\"Entrepreneurs Meetup\",\nNaN,\ntrue,\n{\n            'v': NaN,\n            'f': \"NaN\",\n        }],\n [{\n            'v': 222,\n            'f': \"222\",\n        },\n\"HTML Canonical\",\n\"https://launchpadbemidji.com/entrepreneur-meet-up/\",\n\"https://launchpadbemidji.com/entrepreneur-meet-up/\",\nNaN,\nNaN,\ntrue,\n{\n            'v': NaN,\n            'f': \"NaN\",\n        }],\n [{\n            'v': 223,\n            'f': \"223\",\n        },\n\"AHREF\",\n\"https://launchpadbemidji.com/launchpad-staff/\",\n\"https://launchpadbemidji.com/entrepreneur-meet-up/\",\n\"Entrepreneurs Meetup\",\nNaN,\ntrue,\n{\n            'v': NaN,\n            'f': \"NaN\",\n        }],\n [{\n            'v': 224,\n            'f': \"224\",\n        },\n\"AHREF\",\n\"https://launchpadbemidji.com/launchpad-staff/\",\n\"https://launchpadbemidji.com/entrepreneur-meet-up/\",\n\"Entrepreneurs Meetup\",\nNaN,\ntrue,\n{\n            'v': NaN,\n            'f': \"NaN\",\n        }],\n [{\n            'v': 225,\n            'f': \"225\",\n        },\n\"AHREF\",\n\"https://launchpadbemidji.com/launchpad-staff/\",\n\"https://launchpadbemidji.com/entrepreneur-meet-up/\",\n\"Entrepreneurs Meetup\",\nNaN,\ntrue,\n{\n            'v': NaN,\n            'f': \"NaN\",\n        }],\n [{\n            'v': 226,\n            'f': \"226\",\n        },\n\"AHREF\",\n\"https://launchpadbemidji.com/videos/\",\n\"https://launchpadbemidji.com/entrepreneur-meet-up/\",\n\"Entrepreneurs Meetup\",\nNaN,\ntrue,\n{\n            'v': NaN,\n            'f': \"NaN\",\n        }],\n [{\n            'v': 227,\n            'f': \"227\",\n        },\n\"AHREF\",\n\"https://launchpadbemidji.com/videos/\",\n\"https://launchpadbemidji.com/entrepreneur-meet-up/\",\n\"Entrepreneurs Meetup\",\nNaN,\ntrue,\n{\n            'v': NaN,\n            'f': \"NaN\",\n        }],\n [{\n            'v': 228,\n            'f': \"228\",\n        },\n\"AHREF\",\n\"https://launchpadbemidji.com/videos/\",\n\"https://launchpadbemidji.com/entrepreneur-meet-up/\",\n\"Entrepreneurs Meetup\",\nNaN,\ntrue,\n{\n            'v': NaN,\n            'f': \"NaN\",\n        }],\n [{\n            'v': 229,\n            'f': \"229\",\n        },\n\"AHREF\",\n\"https://launchpadbemidji.com/membership/\",\n\"https://launchpadbemidji.com/entrepreneur-meet-up/\",\n\"Entrepreneurs Meetup\",\nNaN,\ntrue,\n{\n            'v': NaN,\n            'f': \"NaN\",\n        }],\n [{\n            'v': 230,\n            'f': \"230\",\n        },\n\"AHREF\",\n\"https://launchpadbemidji.com/membership/\",\n\"https://launchpadbemidji.com/entrepreneur-meet-up/\",\n\"Entrepreneurs Meetup\",\nNaN,\ntrue,\n{\n            'v': NaN,\n            'f': \"NaN\",\n        }],\n [{\n            'v': 231,\n            'f': \"231\",\n        },\n\"AHREF\",\n\"https://launchpadbemidji.com/membership/\",\n\"https://launchpadbemidji.com/entrepreneur-meet-up/\",\n\"Entrepreneurs Meetup\",\nNaN,\ntrue,\n{\n            'v': NaN,\n            'f': \"NaN\",\n        }],\n [{\n            'v': 232,\n            'f': \"232\",\n        },\n\"AHREF\",\n\"https://launchpadbemidji.com/current-launchpad-members/\",\n\"https://launchpadbemidji.com/entrepreneur-meet-up/\",\n\"Entrepreneurs Meetup\",\nNaN,\ntrue,\n{\n            'v': NaN,\n            'f': \"NaN\",\n        }],\n [{\n            'v': 233,\n            'f': \"233\",\n        },\n\"AHREF\",\n\"https://launchpadbemidji.com/current-launchpad-members/\",\n\"https://launchpadbemidji.com/entrepreneur-meet-up/\",\n\"Entrepreneurs Meetup\",\nNaN,\ntrue,\n{\n            'v': NaN,\n            'f': \"NaN\",\n        }],\n [{\n            'v': 234,\n            'f': \"234\",\n        },\n\"AHREF\",\n\"https://launchpadbemidji.com/current-launchpad-members/\",\n\"https://launchpadbemidji.com/entrepreneur-meet-up/\",\n\"Entrepreneurs Meetup\",\nNaN,\ntrue,\n{\n            'v': NaN,\n            'f': \"NaN\",\n        }],\n [{\n            'v': 235,\n            'f': \"235\",\n        },\n\"AHREF\",\n\"https://launchpadbemidji.com/contact/\",\n\"https://launchpadbemidji.com/entrepreneur-meet-up/\",\n\"Entrepreneurs Meetup\",\nNaN,\ntrue,\n{\n            'v': NaN,\n            'f': \"NaN\",\n        }],\n [{\n            'v': 236,\n            'f': \"236\",\n        },\n\"AHREF\",\n\"https://launchpadbemidji.com/contact/\",\n\"https://launchpadbemidji.com/entrepreneur-meet-up/\",\n\"Entrepreneurs Meetup\",\nNaN,\ntrue,\n{\n            'v': NaN,\n            'f': \"NaN\",\n        }],\n [{\n            'v': 237,\n            'f': \"237\",\n        },\n\"AHREF\",\n\"https://launchpadbemidji.com/contact/\",\n\"https://launchpadbemidji.com/entrepreneur-meet-up/\",\n\"Entrepreneurs Meetup\",\nNaN,\ntrue,\n{\n            'v': NaN,\n            'f': \"NaN\",\n        }],\n [{\n            'v': 238,\n            'f': \"238\",\n        },\n\"AHREF\",\n\"https://launchpadbemidji.com/covid-19-updates/\",\n\"https://launchpadbemidji.com/entrepreneur-meet-up/\",\n\"Entrepreneurs Meetup\",\nNaN,\ntrue,\n{\n            'v': NaN,\n            'f': \"NaN\",\n        }],\n [{\n            'v': 239,\n            'f': \"239\",\n        },\n\"AHREF\",\n\"https://launchpadbemidji.com/covid-19-updates/\",\n\"https://launchpadbemidji.com/entrepreneur-meet-up/\",\n\"Entrepreneurs Meetup\",\nNaN,\ntrue,\n{\n            'v': NaN,\n            'f': \"NaN\",\n        }],\n [{\n            'v': 240,\n            'f': \"240\",\n        },\n\"AHREF\",\n\"https://launchpadbemidji.com/covid-19-updates/\",\n\"https://launchpadbemidji.com/entrepreneur-meet-up/\",\n\"Entrepreneurs Meetup\",\nNaN,\ntrue,\n{\n            'v': NaN,\n            'f': \"NaN\",\n        }],\n [{\n            'v': 241,\n            'f': \"241\",\n        },\n\"AHREF\",\n\"https://launchpadbemidji.com/resources/\",\n\"https://launchpadbemidji.com/entrepreneur-meet-up/\",\n\"Entrepreneurs Meetup\",\nNaN,\ntrue,\n{\n            'v': NaN,\n            'f': \"NaN\",\n        }],\n [{\n            'v': 242,\n            'f': \"242\",\n        },\n\"AHREF\",\n\"https://launchpadbemidji.com/resources/\",\n\"https://launchpadbemidji.com/entrepreneur-meet-up/\",\n\"Entrepreneurs Meetup\",\nNaN,\ntrue,\n{\n            'v': NaN,\n            'f': \"NaN\",\n        }],\n [{\n            'v': 243,\n            'f': \"243\",\n        },\n\"AHREF\",\n\"https://launchpadbemidji.com/resources/\",\n\"https://launchpadbemidji.com/entrepreneur-meet-up/\",\n\"Entrepreneurs Meetup\",\nNaN,\ntrue,\n{\n            'v': NaN,\n            'f': \"NaN\",\n        }],\n [{\n            'v': 244,\n            'f': \"244\",\n        },\n\"AHREF\",\n\"https://launchpadbemidji.com/about-us/\",\n\"https://launchpadbemidji.com/entrepreneur-meet-up/\",\n\"Entrepreneurs Meetup\",\nNaN,\ntrue,\n{\n            'v': NaN,\n            'f': \"NaN\",\n        }],\n [{\n            'v': 245,\n            'f': \"245\",\n        },\n\"AHREF\",\n\"https://launchpadbemidji.com/about-us/\",\n\"https://launchpadbemidji.com/entrepreneur-meet-up/\",\n\"Entrepreneurs Meetup\",\nNaN,\ntrue,\n{\n            'v': NaN,\n            'f': \"NaN\",\n        }],\n [{\n            'v': 246,\n            'f': \"246\",\n        },\n\"AHREF\",\n\"https://launchpadbemidji.com/about-us/\",\n\"https://launchpadbemidji.com/entrepreneur-meet-up/\",\n\"Entrepreneurs Meetup\",\nNaN,\ntrue,\n{\n            'v': NaN,\n            'f': \"NaN\",\n        }],\n [{\n            'v': 247,\n            'f': \"247\",\n        },\n\"CSS\",\n\"https://launchpadbemidji.com/\",\n\"https://launchpadbemidji.com/wp-content/plugins/olevmedia-portfolio-2/assets/css/portfolio-mobile.css?ver=2.0.6\",\nNaN,\nNaN,\ntrue,\n{\n            'v': NaN,\n            'f': \"NaN\",\n        }],\n [{\n            'v': 248,\n            'f': \"248\",\n        },\n\"CSS\",\n\"https://launchpadbemidji.com/photo-galleries/\",\n\"https://launchpadbemidji.com/wp-content/plugins/olevmedia-portfolio-2/assets/css/portfolio-mobile.css?ver=2.0.6\",\nNaN,\nNaN,\ntrue,\n{\n            'v': NaN,\n            'f': \"NaN\",\n        }],\n [{\n            'v': 249,\n            'f': \"249\",\n        },\n\"CSS\",\n\"https://launchpadbemidji.com/events/\",\n\"https://launchpadbemidji.com/wp-content/plugins/olevmedia-portfolio-2/assets/css/portfolio-mobile.css?ver=2.0.6\",\nNaN,\nNaN,\ntrue,\n{\n            'v': NaN,\n            'f': \"NaN\",\n        }],\n [{\n            'v': 250,\n            'f': \"250\",\n        },\n\"CSS\",\n\"https://launchpadbemidji.com/entrepreneur-meet-up/\",\n\"https://launchpadbemidji.com/wp-content/plugins/olevmedia-portfolio-2/assets/css/portfolio-mobile.css?ver=2.0.6\",\nNaN,\nNaN,\ntrue,\n{\n            'v': NaN,\n            'f': \"NaN\",\n        }],\n [{\n            'v': 251,\n            'f': \"251\",\n        },\n\"CSS\",\n\"https://launchpadbemidji.com/launchpad-staff/\",\n\"https://launchpadbemidji.com/wp-content/plugins/olevmedia-portfolio-2/assets/css/portfolio-mobile.css?ver=2.0.6\",\nNaN,\nNaN,\ntrue,\n{\n            'v': NaN,\n            'f': \"NaN\",\n        }],\n [{\n            'v': 252,\n            'f': \"252\",\n        },\n\"CSS\",\n\"https://launchpadbemidji.com/videos/\",\n\"https://launchpadbemidji.com/wp-content/plugins/olevmedia-portfolio-2/assets/css/portfolio-mobile.css?ver=2.0.6\",\nNaN,\nNaN,\ntrue,\n{\n            'v': NaN,\n            'f': \"NaN\",\n        }],\n [{\n            'v': 253,\n            'f': \"253\",\n        },\n\"CSS\",\n\"https://launchpadbemidji.com/membership/\",\n\"https://launchpadbemidji.com/wp-content/plugins/olevmedia-portfolio-2/assets/css/portfolio-mobile.css?ver=2.0.6\",\nNaN,\nNaN,\ntrue,\n{\n            'v': NaN,\n            'f': \"NaN\",\n        }],\n [{\n            'v': 254,\n            'f': \"254\",\n        },\n\"CSS\",\n\"https://launchpadbemidji.com/current-launchpad-members/\",\n\"https://launchpadbemidji.com/wp-content/plugins/olevmedia-portfolio-2/assets/css/portfolio-mobile.css?ver=2.0.6\",\nNaN,\nNaN,\ntrue,\n{\n            'v': NaN,\n            'f': \"NaN\",\n        }],\n [{\n            'v': 255,\n            'f': \"255\",\n        },\n\"CSS\",\n\"https://launchpadbemidji.com/contact/\",\n\"https://launchpadbemidji.com/wp-content/plugins/olevmedia-portfolio-2/assets/css/portfolio-mobile.css?ver=2.0.6\",\nNaN,\nNaN,\ntrue,\n{\n            'v': NaN,\n            'f': \"NaN\",\n        }],\n [{\n            'v': 256,\n            'f': \"256\",\n        },\n\"CSS\",\n\"https://launchpadbemidji.com/covid-19-updates/\",\n\"https://launchpadbemidji.com/wp-content/plugins/olevmedia-portfolio-2/assets/css/portfolio-mobile.css?ver=2.0.6\",\nNaN,\nNaN,\ntrue,\n{\n            'v': NaN,\n            'f': \"NaN\",\n        }],\n [{\n            'v': 257,\n            'f': \"257\",\n        },\n\"CSS\",\n\"https://launchpadbemidji.com/resources/\",\n\"https://launchpadbemidji.com/wp-content/plugins/olevmedia-portfolio-2/assets/css/portfolio-mobile.css?ver=2.0.6\",\nNaN,\nNaN,\ntrue,\n{\n            'v': NaN,\n            'f': \"NaN\",\n        }],\n [{\n            'v': 258,\n            'f': \"258\",\n        },\n\"CSS\",\n\"https://launchpadbemidji.com/about-us/\",\n\"https://launchpadbemidji.com/wp-content/plugins/olevmedia-portfolio-2/assets/css/portfolio-mobile.css?ver=2.0.6\",\nNaN,\nNaN,\ntrue,\n{\n            'v': NaN,\n            'f': \"NaN\",\n        }],\n [{\n            'v': 259,\n            'f': \"259\",\n        },\n\"AHREF\",\n\"https://launchpadbemidji.com/\",\n\"https://launchpadbemidji.com/launchpad-staff/\",\n\"LaunchPad Staff\",\nNaN,\ntrue,\n{\n            'v': NaN,\n            'f': \"NaN\",\n        }],\n [{\n            'v': 260,\n            'f': \"260\",\n        },\n\"AHREF\",\n\"https://launchpadbemidji.com/\",\n\"https://launchpadbemidji.com/launchpad-staff/\",\n\"LaunchPad Staff\",\nNaN,\ntrue,\n{\n            'v': NaN,\n            'f': \"NaN\",\n        }],\n [{\n            'v': 261,\n            'f': \"261\",\n        },\n\"AHREF\",\n\"https://launchpadbemidji.com/\",\n\"https://launchpadbemidji.com/launchpad-staff/\",\n\"LaunchPad Staff\",\nNaN,\ntrue,\n{\n            'v': NaN,\n            'f': \"NaN\",\n        }],\n [{\n            'v': 262,\n            'f': \"262\",\n        },\n\"AHREF\",\n\"https://launchpadbemidji.com/photo-galleries/\",\n\"https://launchpadbemidji.com/launchpad-staff/\",\n\"LaunchPad Staff\",\nNaN,\ntrue,\n{\n            'v': NaN,\n            'f': \"NaN\",\n        }],\n [{\n            'v': 263,\n            'f': \"263\",\n        },\n\"AHREF\",\n\"https://launchpadbemidji.com/photo-galleries/\",\n\"https://launchpadbemidji.com/launchpad-staff/\",\n\"LaunchPad Staff\",\nNaN,\ntrue,\n{\n            'v': NaN,\n            'f': \"NaN\",\n        }],\n [{\n            'v': 264,\n            'f': \"264\",\n        },\n\"AHREF\",\n\"https://launchpadbemidji.com/photo-galleries/\",\n\"https://launchpadbemidji.com/launchpad-staff/\",\n\"LaunchPad Staff\",\nNaN,\ntrue,\n{\n            'v': NaN,\n            'f': \"NaN\",\n        }],\n [{\n            'v': 265,\n            'f': \"265\",\n        },\n\"AHREF\",\n\"https://launchpadbemidji.com/entrepreneur-meet-up/\",\n\"https://launchpadbemidji.com/launchpad-staff/\",\n\"LaunchPad Staff\",\nNaN,\ntrue,\n{\n            'v': NaN,\n            'f': \"NaN\",\n        }],\n [{\n            'v': 266,\n            'f': \"266\",\n        },\n\"AHREF\",\n\"https://launchpadbemidji.com/entrepreneur-meet-up/\",\n\"https://launchpadbemidji.com/launchpad-staff/\",\n\"LaunchPad Staff\",\nNaN,\ntrue,\n{\n            'v': NaN,\n            'f': \"NaN\",\n        }],\n [{\n            'v': 267,\n            'f': \"267\",\n        },\n\"AHREF\",\n\"https://launchpadbemidji.com/entrepreneur-meet-up/\",\n\"https://launchpadbemidji.com/launchpad-staff/\",\n\"LaunchPad Staff\",\nNaN,\ntrue,\n{\n            'v': NaN,\n            'f': \"NaN\",\n        }],\n [{\n            'v': 268,\n            'f': \"268\",\n        },\n\"AHREF\",\n\"https://launchpadbemidji.com/launchpad-staff/\",\n\"https://launchpadbemidji.com/launchpad-staff/\",\n\"LaunchPad Staff\",\nNaN,\ntrue,\n{\n            'v': NaN,\n            'f': \"NaN\",\n        }],\n [{\n            'v': 269,\n            'f': \"269\",\n        },\n\"AHREF\",\n\"https://launchpadbemidji.com/launchpad-staff/\",\n\"https://launchpadbemidji.com/launchpad-staff/\",\n\"LaunchPad Staff\",\nNaN,\ntrue,\n{\n            'v': NaN,\n            'f': \"NaN\",\n        }],\n [{\n            'v': 270,\n            'f': \"270\",\n        },\n\"AHREF\",\n\"https://launchpadbemidji.com/launchpad-staff/\",\n\"https://launchpadbemidji.com/launchpad-staff/\",\n\"LaunchPad Staff\",\nNaN,\ntrue,\n{\n            'v': NaN,\n            'f': \"NaN\",\n        }],\n [{\n            'v': 271,\n            'f': \"271\",\n        },\n\"HTML Canonical\",\n\"https://launchpadbemidji.com/launchpad-staff/\",\n\"https://launchpadbemidji.com/launchpad-staff/\",\nNaN,\nNaN,\ntrue,\n{\n            'v': NaN,\n            'f': \"NaN\",\n        }],\n [{\n            'v': 272,\n            'f': \"272\",\n        },\n\"AHREF\",\n\"https://launchpadbemidji.com/videos/\",\n\"https://launchpadbemidji.com/launchpad-staff/\",\n\"LaunchPad Staff\",\nNaN,\ntrue,\n{\n            'v': NaN,\n            'f': \"NaN\",\n        }],\n [{\n            'v': 273,\n            'f': \"273\",\n        },\n\"AHREF\",\n\"https://launchpadbemidji.com/videos/\",\n\"https://launchpadbemidji.com/launchpad-staff/\",\n\"LaunchPad Staff\",\nNaN,\ntrue,\n{\n            'v': NaN,\n            'f': \"NaN\",\n        }],\n [{\n            'v': 274,\n            'f': \"274\",\n        },\n\"AHREF\",\n\"https://launchpadbemidji.com/videos/\",\n\"https://launchpadbemidji.com/launchpad-staff/\",\n\"LaunchPad Staff\",\nNaN,\ntrue,\n{\n            'v': NaN,\n            'f': \"NaN\",\n        }],\n [{\n            'v': 275,\n            'f': \"275\",\n        },\n\"AHREF\",\n\"https://launchpadbemidji.com/membership/\",\n\"https://launchpadbemidji.com/launchpad-staff/\",\n\"LaunchPad Staff\",\nNaN,\ntrue,\n{\n            'v': NaN,\n            'f': \"NaN\",\n        }],\n [{\n            'v': 276,\n            'f': \"276\",\n        },\n\"AHREF\",\n\"https://launchpadbemidji.com/membership/\",\n\"https://launchpadbemidji.com/launchpad-staff/\",\n\"LaunchPad Staff\",\nNaN,\ntrue,\n{\n            'v': NaN,\n            'f': \"NaN\",\n        }],\n [{\n            'v': 277,\n            'f': \"277\",\n        },\n\"AHREF\",\n\"https://launchpadbemidji.com/membership/\",\n\"https://launchpadbemidji.com/launchpad-staff/\",\n\"LaunchPad Staff\",\nNaN,\ntrue,\n{\n            'v': NaN,\n            'f': \"NaN\",\n        }],\n [{\n            'v': 278,\n            'f': \"278\",\n        },\n\"AHREF\",\n\"https://launchpadbemidji.com/current-launchpad-members/\",\n\"https://launchpadbemidji.com/launchpad-staff/\",\n\"LaunchPad Staff\",\nNaN,\ntrue,\n{\n            'v': NaN,\n            'f': \"NaN\",\n        }],\n [{\n            'v': 279,\n            'f': \"279\",\n        },\n\"AHREF\",\n\"https://launchpadbemidji.com/current-launchpad-members/\",\n\"https://launchpadbemidji.com/launchpad-staff/\",\n\"LaunchPad Staff\",\nNaN,\ntrue,\n{\n            'v': NaN,\n            'f': \"NaN\",\n        }],\n [{\n            'v': 280,\n            'f': \"280\",\n        },\n\"AHREF\",\n\"https://launchpadbemidji.com/current-launchpad-members/\",\n\"https://launchpadbemidji.com/launchpad-staff/\",\n\"LaunchPad Staff\",\nNaN,\ntrue,\n{\n            'v': NaN,\n            'f': \"NaN\",\n        }],\n [{\n            'v': 281,\n            'f': \"281\",\n        },\n\"AHREF\",\n\"https://launchpadbemidji.com/contact/\",\n\"https://launchpadbemidji.com/launchpad-staff/\",\n\"LaunchPad Staff\",\nNaN,\ntrue,\n{\n            'v': NaN,\n            'f': \"NaN\",\n        }],\n [{\n            'v': 282,\n            'f': \"282\",\n        },\n\"AHREF\",\n\"https://launchpadbemidji.com/contact/\",\n\"https://launchpadbemidji.com/launchpad-staff/\",\n\"LaunchPad Staff\",\nNaN,\ntrue,\n{\n            'v': NaN,\n            'f': \"NaN\",\n        }],\n [{\n            'v': 283,\n            'f': \"283\",\n        },\n\"AHREF\",\n\"https://launchpadbemidji.com/contact/\",\n\"https://launchpadbemidji.com/launchpad-staff/\",\n\"LaunchPad Staff\",\nNaN,\ntrue,\n{\n            'v': NaN,\n            'f': \"NaN\",\n        }],\n [{\n            'v': 284,\n            'f': \"284\",\n        },\n\"AHREF\",\n\"https://launchpadbemidji.com/covid-19-updates/\",\n\"https://launchpadbemidji.com/launchpad-staff/\",\n\"LaunchPad Staff\",\nNaN,\ntrue,\n{\n            'v': NaN,\n            'f': \"NaN\",\n        }],\n [{\n            'v': 285,\n            'f': \"285\",\n        },\n\"AHREF\",\n\"https://launchpadbemidji.com/covid-19-updates/\",\n\"https://launchpadbemidji.com/launchpad-staff/\",\n\"LaunchPad Staff\",\nNaN,\ntrue,\n{\n            'v': NaN,\n            'f': \"NaN\",\n        }],\n [{\n            'v': 286,\n            'f': \"286\",\n        },\n\"AHREF\",\n\"https://launchpadbemidji.com/covid-19-updates/\",\n\"https://launchpadbemidji.com/launchpad-staff/\",\n\"LaunchPad Staff\",\nNaN,\ntrue,\n{\n            'v': NaN,\n            'f': \"NaN\",\n        }],\n [{\n            'v': 287,\n            'f': \"287\",\n        },\n\"AHREF\",\n\"https://launchpadbemidji.com/resources/\",\n\"https://launchpadbemidji.com/launchpad-staff/\",\n\"LaunchPad Staff\",\nNaN,\ntrue,\n{\n            'v': NaN,\n            'f': \"NaN\",\n        }],\n [{\n            'v': 288,\n            'f': \"288\",\n        },\n\"AHREF\",\n\"https://launchpadbemidji.com/resources/\",\n\"https://launchpadbemidji.com/launchpad-staff/\",\n\"LaunchPad Staff\",\nNaN,\ntrue,\n{\n            'v': NaN,\n            'f': \"NaN\",\n        }],\n [{\n            'v': 289,\n            'f': \"289\",\n        },\n\"AHREF\",\n\"https://launchpadbemidji.com/resources/\",\n\"https://launchpadbemidji.com/launchpad-staff/\",\n\"LaunchPad Staff\",\nNaN,\ntrue,\n{\n            'v': NaN,\n            'f': \"NaN\",\n        }],\n [{\n            'v': 290,\n            'f': \"290\",\n        },\n\"AHREF\",\n\"https://launchpadbemidji.com/about-us/\",\n\"https://launchpadbemidji.com/launchpad-staff/\",\n\"LaunchPad Staff\",\nNaN,\ntrue,\n{\n            'v': NaN,\n            'f': \"NaN\",\n        }],\n [{\n            'v': 291,\n            'f': \"291\",\n        },\n\"AHREF\",\n\"https://launchpadbemidji.com/about-us/\",\n\"https://launchpadbemidji.com/launchpad-staff/\",\n\"LaunchPad Staff\",\nNaN,\ntrue,\n{\n            'v': NaN,\n            'f': \"NaN\",\n        }],\n [{\n            'v': 292,\n            'f': \"292\",\n        },\n\"AHREF\",\n\"https://launchpadbemidji.com/about-us/\",\n\"https://launchpadbemidji.com/launchpad-staff/\",\n\"LaunchPad Staff\",\nNaN,\ntrue,\n{\n            'v': NaN,\n            'f': \"NaN\",\n        }],\n [{\n            'v': 293,\n            'f': \"293\",\n        },\n\"CSS\",\n\"https://launchpadbemidji.com/\",\n\"https://launchpadbemidji.com/wp-content/plugins/olevmedia-portfolio-2/assets/css/portfolio.css?ver=2.0.6\",\nNaN,\nNaN,\ntrue,\n{\n            'v': NaN,\n            'f': \"NaN\",\n        }],\n [{\n            'v': 294,\n            'f': \"294\",\n        },\n\"CSS\",\n\"https://launchpadbemidji.com/photo-galleries/\",\n\"https://launchpadbemidji.com/wp-content/plugins/olevmedia-portfolio-2/assets/css/portfolio.css?ver=2.0.6\",\nNaN,\nNaN,\ntrue,\n{\n            'v': NaN,\n            'f': \"NaN\",\n        }],\n [{\n            'v': 295,\n            'f': \"295\",\n        },\n\"CSS\",\n\"https://launchpadbemidji.com/events/\",\n\"https://launchpadbemidji.com/wp-content/plugins/olevmedia-portfolio-2/assets/css/portfolio.css?ver=2.0.6\",\nNaN,\nNaN,\ntrue,\n{\n            'v': NaN,\n            'f': \"NaN\",\n        }],\n [{\n            'v': 296,\n            'f': \"296\",\n        },\n\"CSS\",\n\"https://launchpadbemidji.com/entrepreneur-meet-up/\",\n\"https://launchpadbemidji.com/wp-content/plugins/olevmedia-portfolio-2/assets/css/portfolio.css?ver=2.0.6\",\nNaN,\nNaN,\ntrue,\n{\n            'v': NaN,\n            'f': \"NaN\",\n        }],\n [{\n            'v': 297,\n            'f': \"297\",\n        },\n\"CSS\",\n\"https://launchpadbemidji.com/launchpad-staff/\",\n\"https://launchpadbemidji.com/wp-content/plugins/olevmedia-portfolio-2/assets/css/portfolio.css?ver=2.0.6\",\nNaN,\nNaN,\ntrue,\n{\n            'v': NaN,\n            'f': \"NaN\",\n        }],\n [{\n            'v': 298,\n            'f': \"298\",\n        },\n\"CSS\",\n\"https://launchpadbemidji.com/videos/\",\n\"https://launchpadbemidji.com/wp-content/plugins/olevmedia-portfolio-2/assets/css/portfolio.css?ver=2.0.6\",\nNaN,\nNaN,\ntrue,\n{\n            'v': NaN,\n            'f': \"NaN\",\n        }],\n [{\n            'v': 299,\n            'f': \"299\",\n        },\n\"CSS\",\n\"https://launchpadbemidji.com/membership/\",\n\"https://launchpadbemidji.com/wp-content/plugins/olevmedia-portfolio-2/assets/css/portfolio.css?ver=2.0.6\",\nNaN,\nNaN,\ntrue,\n{\n            'v': NaN,\n            'f': \"NaN\",\n        }],\n [{\n            'v': 300,\n            'f': \"300\",\n        },\n\"CSS\",\n\"https://launchpadbemidji.com/current-launchpad-members/\",\n\"https://launchpadbemidji.com/wp-content/plugins/olevmedia-portfolio-2/assets/css/portfolio.css?ver=2.0.6\",\nNaN,\nNaN,\ntrue,\n{\n            'v': NaN,\n            'f': \"NaN\",\n        }],\n [{\n            'v': 301,\n            'f': \"301\",\n        },\n\"CSS\",\n\"https://launchpadbemidji.com/contact/\",\n\"https://launchpadbemidji.com/wp-content/plugins/olevmedia-portfolio-2/assets/css/portfolio.css?ver=2.0.6\",\nNaN,\nNaN,\ntrue,\n{\n            'v': NaN,\n            'f': \"NaN\",\n        }],\n [{\n            'v': 302,\n            'f': \"302\",\n        },\n\"CSS\",\n\"https://launchpadbemidji.com/covid-19-updates/\",\n\"https://launchpadbemidji.com/wp-content/plugins/olevmedia-portfolio-2/assets/css/portfolio.css?ver=2.0.6\",\nNaN,\nNaN,\ntrue,\n{\n            'v': NaN,\n            'f': \"NaN\",\n        }],\n [{\n            'v': 303,\n            'f': \"303\",\n        },\n\"CSS\",\n\"https://launchpadbemidji.com/resources/\",\n\"https://launchpadbemidji.com/wp-content/plugins/olevmedia-portfolio-2/assets/css/portfolio.css?ver=2.0.6\",\nNaN,\nNaN,\ntrue,\n{\n            'v': NaN,\n            'f': \"NaN\",\n        }],\n [{\n            'v': 304,\n            'f': \"304\",\n        },\n\"CSS\",\n\"https://launchpadbemidji.com/about-us/\",\n\"https://launchpadbemidji.com/wp-content/plugins/olevmedia-portfolio-2/assets/css/portfolio.css?ver=2.0.6\",\nNaN,\nNaN,\ntrue,\n{\n            'v': NaN,\n            'f': \"NaN\",\n        }],\n [{\n            'v': 305,\n            'f': \"305\",\n        },\n\"CSS\",\n\"https://launchpadbemidji.com/\",\n\"https://launchpadbemidji.com/wp-content/themes/amax/css/responsive-mobile.css?ver=5.4.2\",\nNaN,\nNaN,\ntrue,\n{\n            'v': NaN,\n            'f': \"NaN\",\n        }],\n [{\n            'v': 306,\n            'f': \"306\",\n        },\n\"CSS\",\n\"https://launchpadbemidji.com/photo-galleries/\",\n\"https://launchpadbemidji.com/wp-content/themes/amax/css/responsive-mobile.css?ver=5.4.2\",\nNaN,\nNaN,\ntrue,\n{\n            'v': NaN,\n            'f': \"NaN\",\n        }],\n [{\n            'v': 307,\n            'f': \"307\",\n        },\n\"CSS\",\n\"https://launchpadbemidji.com/events/\",\n\"https://launchpadbemidji.com/wp-content/themes/amax/css/responsive-mobile.css?ver=5.4.2\",\nNaN,\nNaN,\ntrue,\n{\n            'v': NaN,\n            'f': \"NaN\",\n        }],\n [{\n            'v': 308,\n            'f': \"308\",\n        },\n\"CSS\",\n\"https://launchpadbemidji.com/entrepreneur-meet-up/\",\n\"https://launchpadbemidji.com/wp-content/themes/amax/css/responsive-mobile.css?ver=5.4.2\",\nNaN,\nNaN,\ntrue,\n{\n            'v': NaN,\n            'f': \"NaN\",\n        }],\n [{\n            'v': 309,\n            'f': \"309\",\n        },\n\"CSS\",\n\"https://launchpadbemidji.com/launchpad-staff/\",\n\"https://launchpadbemidji.com/wp-content/themes/amax/css/responsive-mobile.css?ver=5.4.2\",\nNaN,\nNaN,\ntrue,\n{\n            'v': NaN,\n            'f': \"NaN\",\n        }],\n [{\n            'v': 310,\n            'f': \"310\",\n        },\n\"CSS\",\n\"https://launchpadbemidji.com/videos/\",\n\"https://launchpadbemidji.com/wp-content/themes/amax/css/responsive-mobile.css?ver=5.4.2\",\nNaN,\nNaN,\ntrue,\n{\n            'v': NaN,\n            'f': \"NaN\",\n        }],\n [{\n            'v': 311,\n            'f': \"311\",\n        },\n\"CSS\",\n\"https://launchpadbemidji.com/membership/\",\n\"https://launchpadbemidji.com/wp-content/themes/amax/css/responsive-mobile.css?ver=5.4.2\",\nNaN,\nNaN,\ntrue,\n{\n            'v': NaN,\n            'f': \"NaN\",\n        }],\n [{\n            'v': 312,\n            'f': \"312\",\n        },\n\"CSS\",\n\"https://launchpadbemidji.com/current-launchpad-members/\",\n\"https://launchpadbemidji.com/wp-content/themes/amax/css/responsive-mobile.css?ver=5.4.2\",\nNaN,\nNaN,\ntrue,\n{\n            'v': NaN,\n            'f': \"NaN\",\n        }],\n [{\n            'v': 313,\n            'f': \"313\",\n        },\n\"CSS\",\n\"https://launchpadbemidji.com/contact/\",\n\"https://launchpadbemidji.com/wp-content/themes/amax/css/responsive-mobile.css?ver=5.4.2\",\nNaN,\nNaN,\ntrue,\n{\n            'v': NaN,\n            'f': \"NaN\",\n        }],\n [{\n            'v': 314,\n            'f': \"314\",\n        },\n\"CSS\",\n\"https://launchpadbemidji.com/covid-19-updates/\",\n\"https://launchpadbemidji.com/wp-content/themes/amax/css/responsive-mobile.css?ver=5.4.2\",\nNaN,\nNaN,\ntrue,\n{\n            'v': NaN,\n            'f': \"NaN\",\n        }],\n [{\n            'v': 315,\n            'f': \"315\",\n        },\n\"CSS\",\n\"https://launchpadbemidji.com/resources/\",\n\"https://launchpadbemidji.com/wp-content/themes/amax/css/responsive-mobile.css?ver=5.4.2\",\nNaN,\nNaN,\ntrue,\n{\n            'v': NaN,\n            'f': \"NaN\",\n        }],\n [{\n            'v': 316,\n            'f': \"316\",\n        },\n\"CSS\",\n\"https://launchpadbemidji.com/about-us/\",\n\"https://launchpadbemidji.com/wp-content/themes/amax/css/responsive-mobile.css?ver=5.4.2\",\nNaN,\nNaN,\ntrue,\n{\n            'v': NaN,\n            'f': \"NaN\",\n        }],\n [{\n            'v': 317,\n            'f': \"317\",\n        },\n\"IMG\",\n\"https://launchpadbemidji.com/\",\n\"https://launchpadbemidji.com/wp-content/uploads/2015/05/IMG_0267.jpg\",\nNaN,\nNaN,\ntrue,\n{\n            'v': NaN,\n            'f': \"NaN\",\n        }],\n [{\n            'v': 318,\n            'f': \"318\",\n        },\n\"IMG\",\n\"https://launchpadbemidji.com/contact/\",\n\"https://launchpadbemidji.com/wp-content/uploads/2015/05/IMG_0267.jpg\",\nNaN,\nNaN,\ntrue,\n{\n            'v': NaN,\n            'f': \"NaN\",\n        }],\n [{\n            'v': 319,\n            'f': \"319\",\n        },\n\"AHREF\",\n\"https://launchpadbemidji.com/\",\n\"https://launchpadbemidji.com/videos/\",\n\"Videos\",\nNaN,\ntrue,\n{\n            'v': NaN,\n            'f': \"NaN\",\n        }],\n [{\n            'v': 320,\n            'f': \"320\",\n        },\n\"AHREF\",\n\"https://launchpadbemidji.com/\",\n\"https://launchpadbemidji.com/videos/\",\n\"Videos\",\nNaN,\ntrue,\n{\n            'v': NaN,\n            'f': \"NaN\",\n        }],\n [{\n            'v': 321,\n            'f': \"321\",\n        },\n\"AHREF\",\n\"https://launchpadbemidji.com/\",\n\"https://launchpadbemidji.com/videos/\",\n\"Videos\",\nNaN,\ntrue,\n{\n            'v': NaN,\n            'f': \"NaN\",\n        }],\n [{\n            'v': 322,\n            'f': \"322\",\n        },\n\"AHREF\",\n\"https://launchpadbemidji.com/photo-galleries/\",\n\"https://launchpadbemidji.com/videos/\",\n\"Videos\",\nNaN,\ntrue,\n{\n            'v': NaN,\n            'f': \"NaN\",\n        }],\n [{\n            'v': 323,\n            'f': \"323\",\n        },\n\"AHREF\",\n\"https://launchpadbemidji.com/photo-galleries/\",\n\"https://launchpadbemidji.com/videos/\",\n\"Videos\",\nNaN,\ntrue,\n{\n            'v': NaN,\n            'f': \"NaN\",\n        }],\n [{\n            'v': 324,\n            'f': \"324\",\n        },\n\"AHREF\",\n\"https://launchpadbemidji.com/photo-galleries/\",\n\"https://launchpadbemidji.com/videos/\",\n\"Videos\",\nNaN,\ntrue,\n{\n            'v': NaN,\n            'f': \"NaN\",\n        }],\n [{\n            'v': 325,\n            'f': \"325\",\n        },\n\"AHREF\",\n\"https://launchpadbemidji.com/entrepreneur-meet-up/\",\n\"https://launchpadbemidji.com/videos/\",\n\"Videos\",\nNaN,\ntrue,\n{\n            'v': NaN,\n            'f': \"NaN\",\n        }],\n [{\n            'v': 326,\n            'f': \"326\",\n        },\n\"AHREF\",\n\"https://launchpadbemidji.com/entrepreneur-meet-up/\",\n\"https://launchpadbemidji.com/videos/\",\n\"Videos\",\nNaN,\ntrue,\n{\n            'v': NaN,\n            'f': \"NaN\",\n        }],\n [{\n            'v': 327,\n            'f': \"327\",\n        },\n\"AHREF\",\n\"https://launchpadbemidji.com/entrepreneur-meet-up/\",\n\"https://launchpadbemidji.com/videos/\",\n\"Videos\",\nNaN,\ntrue,\n{\n            'v': NaN,\n            'f': \"NaN\",\n        }],\n [{\n            'v': 328,\n            'f': \"328\",\n        },\n\"AHREF\",\n\"https://launchpadbemidji.com/launchpad-staff/\",\n\"https://launchpadbemidji.com/videos/\",\n\"Videos\",\nNaN,\ntrue,\n{\n            'v': NaN,\n            'f': \"NaN\",\n        }],\n [{\n            'v': 329,\n            'f': \"329\",\n        },\n\"AHREF\",\n\"https://launchpadbemidji.com/launchpad-staff/\",\n\"https://launchpadbemidji.com/videos/\",\n\"Videos\",\nNaN,\ntrue,\n{\n            'v': NaN,\n            'f': \"NaN\",\n        }],\n [{\n            'v': 330,\n            'f': \"330\",\n        },\n\"AHREF\",\n\"https://launchpadbemidji.com/launchpad-staff/\",\n\"https://launchpadbemidji.com/videos/\",\n\"Videos\",\nNaN,\ntrue,\n{\n            'v': NaN,\n            'f': \"NaN\",\n        }],\n [{\n            'v': 331,\n            'f': \"331\",\n        },\n\"AHREF\",\n\"https://launchpadbemidji.com/videos/\",\n\"https://launchpadbemidji.com/videos/\",\n\"Videos\",\nNaN,\ntrue,\n{\n            'v': NaN,\n            'f': \"NaN\",\n        }],\n [{\n            'v': 332,\n            'f': \"332\",\n        },\n\"AHREF\",\n\"https://launchpadbemidji.com/videos/\",\n\"https://launchpadbemidji.com/videos/\",\n\"Videos\",\nNaN,\ntrue,\n{\n            'v': NaN,\n            'f': \"NaN\",\n        }],\n [{\n            'v': 333,\n            'f': \"333\",\n        },\n\"AHREF\",\n\"https://launchpadbemidji.com/videos/\",\n\"https://launchpadbemidji.com/videos/\",\n\"Videos\",\nNaN,\ntrue,\n{\n            'v': NaN,\n            'f': \"NaN\",\n        }],\n [{\n            'v': 334,\n            'f': \"334\",\n        },\n\"HTML Canonical\",\n\"https://launchpadbemidji.com/videos/\",\n\"https://launchpadbemidji.com/videos/\",\nNaN,\nNaN,\ntrue,\n{\n            'v': NaN,\n            'f': \"NaN\",\n        }],\n [{\n            'v': 335,\n            'f': \"335\",\n        },\n\"AHREF\",\n\"https://launchpadbemidji.com/membership/\",\n\"https://launchpadbemidji.com/videos/\",\n\"Videos\",\nNaN,\ntrue,\n{\n            'v': NaN,\n            'f': \"NaN\",\n        }],\n [{\n            'v': 336,\n            'f': \"336\",\n        },\n\"AHREF\",\n\"https://launchpadbemidji.com/membership/\",\n\"https://launchpadbemidji.com/videos/\",\n\"Videos\",\nNaN,\ntrue,\n{\n            'v': NaN,\n            'f': \"NaN\",\n        }],\n [{\n            'v': 337,\n            'f': \"337\",\n        },\n\"AHREF\",\n\"https://launchpadbemidji.com/membership/\",\n\"https://launchpadbemidji.com/videos/\",\n\"Videos\",\nNaN,\ntrue,\n{\n            'v': NaN,\n            'f': \"NaN\",\n        }],\n [{\n            'v': 338,\n            'f': \"338\",\n        },\n\"AHREF\",\n\"https://launchpadbemidji.com/current-launchpad-members/\",\n\"https://launchpadbemidji.com/videos/\",\n\"Videos\",\nNaN,\ntrue,\n{\n            'v': NaN,\n            'f': \"NaN\",\n        }],\n [{\n            'v': 339,\n            'f': \"339\",\n        },\n\"AHREF\",\n\"https://launchpadbemidji.com/current-launchpad-members/\",\n\"https://launchpadbemidji.com/videos/\",\n\"Videos\",\nNaN,\ntrue,\n{\n            'v': NaN,\n            'f': \"NaN\",\n        }],\n [{\n            'v': 340,\n            'f': \"340\",\n        },\n\"AHREF\",\n\"https://launchpadbemidji.com/current-launchpad-members/\",\n\"https://launchpadbemidji.com/videos/\",\n\"Videos\",\nNaN,\ntrue,\n{\n            'v': NaN,\n            'f': \"NaN\",\n        }],\n [{\n            'v': 341,\n            'f': \"341\",\n        },\n\"AHREF\",\n\"https://launchpadbemidji.com/contact/\",\n\"https://launchpadbemidji.com/videos/\",\n\"Videos\",\nNaN,\ntrue,\n{\n            'v': NaN,\n            'f': \"NaN\",\n        }],\n [{\n            'v': 342,\n            'f': \"342\",\n        },\n\"AHREF\",\n\"https://launchpadbemidji.com/contact/\",\n\"https://launchpadbemidji.com/videos/\",\n\"Videos\",\nNaN,\ntrue,\n{\n            'v': NaN,\n            'f': \"NaN\",\n        }],\n [{\n            'v': 343,\n            'f': \"343\",\n        },\n\"AHREF\",\n\"https://launchpadbemidji.com/contact/\",\n\"https://launchpadbemidji.com/videos/\",\n\"Videos\",\nNaN,\ntrue,\n{\n            'v': NaN,\n            'f': \"NaN\",\n        }],\n [{\n            'v': 344,\n            'f': \"344\",\n        },\n\"AHREF\",\n\"https://launchpadbemidji.com/covid-19-updates/\",\n\"https://launchpadbemidji.com/videos/\",\n\"Videos\",\nNaN,\ntrue,\n{\n            'v': NaN,\n            'f': \"NaN\",\n        }],\n [{\n            'v': 345,\n            'f': \"345\",\n        },\n\"AHREF\",\n\"https://launchpadbemidji.com/covid-19-updates/\",\n\"https://launchpadbemidji.com/videos/\",\n\"Videos\",\nNaN,\ntrue,\n{\n            'v': NaN,\n            'f': \"NaN\",\n        }],\n [{\n            'v': 346,\n            'f': \"346\",\n        },\n\"AHREF\",\n\"https://launchpadbemidji.com/covid-19-updates/\",\n\"https://launchpadbemidji.com/videos/\",\n\"Videos\",\nNaN,\ntrue,\n{\n            'v': NaN,\n            'f': \"NaN\",\n        }],\n [{\n            'v': 347,\n            'f': \"347\",\n        },\n\"AHREF\",\n\"https://launchpadbemidji.com/resources/\",\n\"https://launchpadbemidji.com/videos/\",\n\"Videos\",\nNaN,\ntrue,\n{\n            'v': NaN,\n            'f': \"NaN\",\n        }],\n [{\n            'v': 348,\n            'f': \"348\",\n        },\n\"AHREF\",\n\"https://launchpadbemidji.com/resources/\",\n\"https://launchpadbemidji.com/videos/\",\n\"Videos\",\nNaN,\ntrue,\n{\n            'v': NaN,\n            'f': \"NaN\",\n        }],\n [{\n            'v': 349,\n            'f': \"349\",\n        },\n\"AHREF\",\n\"https://launchpadbemidji.com/resources/\",\n\"https://launchpadbemidji.com/videos/\",\n\"Videos\",\nNaN,\ntrue,\n{\n            'v': NaN,\n            'f': \"NaN\",\n        }],\n [{\n            'v': 350,\n            'f': \"350\",\n        },\n\"AHREF\",\n\"https://launchpadbemidji.com/about-us/\",\n\"https://launchpadbemidji.com/videos/\",\n\"Videos\",\nNaN,\ntrue,\n{\n            'v': NaN,\n            'f': \"NaN\",\n        }],\n [{\n            'v': 351,\n            'f': \"351\",\n        },\n\"AHREF\",\n\"https://launchpadbemidji.com/about-us/\",\n\"https://launchpadbemidji.com/videos/\",\n\"Videos\",\nNaN,\ntrue,\n{\n            'v': NaN,\n            'f': \"NaN\",\n        }],\n [{\n            'v': 352,\n            'f': \"352\",\n        },\n\"AHREF\",\n\"https://launchpadbemidji.com/about-us/\",\n\"https://launchpadbemidji.com/videos/\",\n\"Videos\",\nNaN,\ntrue,\n{\n            'v': NaN,\n            'f': \"NaN\",\n        }],\n [{\n            'v': 353,\n            'f': \"353\",\n        },\n\"JS\",\n\"https://launchpadbemidji.com/\",\n\"https://launchpadbemidji.com/wp-content/themes/amax/js/isotope.pkgd.om.min.js?ver=5.4.2\",\nNaN,\nNaN,\ntrue,\n{\n            'v': NaN,\n            'f': \"NaN\",\n        }],\n [{\n            'v': 354,\n            'f': \"354\",\n        },\n\"JS\",\n\"https://launchpadbemidji.com/photo-galleries/\",\n\"https://launchpadbemidji.com/wp-content/themes/amax/js/isotope.pkgd.om.min.js?ver=5.4.2\",\nNaN,\nNaN,\ntrue,\n{\n            'v': NaN,\n            'f': \"NaN\",\n        }],\n [{\n            'v': 355,\n            'f': \"355\",\n        },\n\"JS\",\n\"https://launchpadbemidji.com/events/\",\n\"https://launchpadbemidji.com/wp-content/themes/amax/js/isotope.pkgd.om.min.js?ver=5.4.2\",\nNaN,\nNaN,\ntrue,\n{\n            'v': NaN,\n            'f': \"NaN\",\n        }],\n [{\n            'v': 356,\n            'f': \"356\",\n        },\n\"JS\",\n\"https://launchpadbemidji.com/entrepreneur-meet-up/\",\n\"https://launchpadbemidji.com/wp-content/themes/amax/js/isotope.pkgd.om.min.js?ver=5.4.2\",\nNaN,\nNaN,\ntrue,\n{\n            'v': NaN,\n            'f': \"NaN\",\n        }],\n [{\n            'v': 357,\n            'f': \"357\",\n        },\n\"JS\",\n\"https://launchpadbemidji.com/launchpad-staff/\",\n\"https://launchpadbemidji.com/wp-content/themes/amax/js/isotope.pkgd.om.min.js?ver=5.4.2\",\nNaN,\nNaN,\ntrue,\n{\n            'v': NaN,\n            'f': \"NaN\",\n        }],\n [{\n            'v': 358,\n            'f': \"358\",\n        },\n\"JS\",\n\"https://launchpadbemidji.com/videos/\",\n\"https://launchpadbemidji.com/wp-content/themes/amax/js/isotope.pkgd.om.min.js?ver=5.4.2\",\nNaN,\nNaN,\ntrue,\n{\n            'v': NaN,\n            'f': \"NaN\",\n        }],\n [{\n            'v': 359,\n            'f': \"359\",\n        },\n\"JS\",\n\"https://launchpadbemidji.com/membership/\",\n\"https://launchpadbemidji.com/wp-content/themes/amax/js/isotope.pkgd.om.min.js?ver=5.4.2\",\nNaN,\nNaN,\ntrue,\n{\n            'v': NaN,\n            'f': \"NaN\",\n        }],\n [{\n            'v': 360,\n            'f': \"360\",\n        },\n\"JS\",\n\"https://launchpadbemidji.com/current-launchpad-members/\",\n\"https://launchpadbemidji.com/wp-content/themes/amax/js/isotope.pkgd.om.min.js?ver=5.4.2\",\nNaN,\nNaN,\ntrue,\n{\n            'v': NaN,\n            'f': \"NaN\",\n        }],\n [{\n            'v': 361,\n            'f': \"361\",\n        },\n\"JS\",\n\"https://launchpadbemidji.com/contact/\",\n\"https://launchpadbemidji.com/wp-content/themes/amax/js/isotope.pkgd.om.min.js?ver=5.4.2\",\nNaN,\nNaN,\ntrue,\n{\n            'v': NaN,\n            'f': \"NaN\",\n        }],\n [{\n            'v': 362,\n            'f': \"362\",\n        },\n\"JS\",\n\"https://launchpadbemidji.com/covid-19-updates/\",\n\"https://launchpadbemidji.com/wp-content/themes/amax/js/isotope.pkgd.om.min.js?ver=5.4.2\",\nNaN,\nNaN,\ntrue,\n{\n            'v': NaN,\n            'f': \"NaN\",\n        }],\n [{\n            'v': 363,\n            'f': \"363\",\n        },\n\"JS\",\n\"https://launchpadbemidji.com/resources/\",\n\"https://launchpadbemidji.com/wp-content/themes/amax/js/isotope.pkgd.om.min.js?ver=5.4.2\",\nNaN,\nNaN,\ntrue,\n{\n            'v': NaN,\n            'f': \"NaN\",\n        }],\n [{\n            'v': 364,\n            'f': \"364\",\n        },\n\"JS\",\n\"https://launchpadbemidji.com/about-us/\",\n\"https://launchpadbemidji.com/wp-content/themes/amax/js/isotope.pkgd.om.min.js?ver=5.4.2\",\nNaN,\nNaN,\ntrue,\n{\n            'v': NaN,\n            'f': \"NaN\",\n        }],\n [{\n            'v': 365,\n            'f': \"365\",\n        },\n\"IMG\",\n\"https://launchpadbemidji.com/\",\n\"https://launchpadbemidji.com/wp-content/uploads/2015/05/IMG_8967.jpg\",\nNaN,\nNaN,\ntrue,\n{\n            'v': NaN,\n            'f': \"NaN\",\n        }],\n [{\n            'v': 366,\n            'f': \"366\",\n        },\n\"CSS\",\n\"https://launchpadbemidji.com/\",\n\"https://launchpadbemidji.com/wp-content/plugins/contact-form-7/includes/css/styles.css?ver=5.1.9\",\nNaN,\nNaN,\ntrue,\n{\n            'v': NaN,\n            'f': \"NaN\",\n        }],\n [{\n            'v': 367,\n            'f': \"367\",\n        },\n\"CSS\",\n\"https://launchpadbemidji.com/photo-galleries/\",\n\"https://launchpadbemidji.com/wp-content/plugins/contact-form-7/includes/css/styles.css?ver=5.1.9\",\nNaN,\nNaN,\ntrue,\n{\n            'v': NaN,\n            'f': \"NaN\",\n        }],\n [{\n            'v': 368,\n            'f': \"368\",\n        },\n\"CSS\",\n\"https://launchpadbemidji.com/events/\",\n\"https://launchpadbemidji.com/wp-content/plugins/contact-form-7/includes/css/styles.css?ver=5.1.9\",\nNaN,\nNaN,\ntrue,\n{\n            'v': NaN,\n            'f': \"NaN\",\n        }],\n [{\n            'v': 369,\n            'f': \"369\",\n        },\n\"CSS\",\n\"https://launchpadbemidji.com/entrepreneur-meet-up/\",\n\"https://launchpadbemidji.com/wp-content/plugins/contact-form-7/includes/css/styles.css?ver=5.1.9\",\nNaN,\nNaN,\ntrue,\n{\n            'v': NaN,\n            'f': \"NaN\",\n        }],\n [{\n            'v': 370,\n            'f': \"370\",\n        },\n\"CSS\",\n\"https://launchpadbemidji.com/launchpad-staff/\",\n\"https://launchpadbemidji.com/wp-content/plugins/contact-form-7/includes/css/styles.css?ver=5.1.9\",\nNaN,\nNaN,\ntrue,\n{\n            'v': NaN,\n            'f': \"NaN\",\n        }],\n [{\n            'v': 371,\n            'f': \"371\",\n        },\n\"CSS\",\n\"https://launchpadbemidji.com/videos/\",\n\"https://launchpadbemidji.com/wp-content/plugins/contact-form-7/includes/css/styles.css?ver=5.1.9\",\nNaN,\nNaN,\ntrue,\n{\n            'v': NaN,\n            'f': \"NaN\",\n        }],\n [{\n            'v': 372,\n            'f': \"372\",\n        },\n\"CSS\",\n\"https://launchpadbemidji.com/membership/\",\n\"https://launchpadbemidji.com/wp-content/plugins/contact-form-7/includes/css/styles.css?ver=5.1.9\",\nNaN,\nNaN,\ntrue,\n{\n            'v': NaN,\n            'f': \"NaN\",\n        }],\n [{\n            'v': 373,\n            'f': \"373\",\n        },\n\"CSS\",\n\"https://launchpadbemidji.com/current-launchpad-members/\",\n\"https://launchpadbemidji.com/wp-content/plugins/contact-form-7/includes/css/styles.css?ver=5.1.9\",\nNaN,\nNaN,\ntrue,\n{\n            'v': NaN,\n            'f': \"NaN\",\n        }],\n [{\n            'v': 374,\n            'f': \"374\",\n        },\n\"CSS\",\n\"https://launchpadbemidji.com/contact/\",\n\"https://launchpadbemidji.com/wp-content/plugins/contact-form-7/includes/css/styles.css?ver=5.1.9\",\nNaN,\nNaN,\ntrue,\n{\n            'v': NaN,\n            'f': \"NaN\",\n        }],\n [{\n            'v': 375,\n            'f': \"375\",\n        },\n\"CSS\",\n\"https://launchpadbemidji.com/covid-19-updates/\",\n\"https://launchpadbemidji.com/wp-content/plugins/contact-form-7/includes/css/styles.css?ver=5.1.9\",\nNaN,\nNaN,\ntrue,\n{\n            'v': NaN,\n            'f': \"NaN\",\n        }],\n [{\n            'v': 376,\n            'f': \"376\",\n        },\n\"CSS\",\n\"https://launchpadbemidji.com/resources/\",\n\"https://launchpadbemidji.com/wp-content/plugins/contact-form-7/includes/css/styles.css?ver=5.1.9\",\nNaN,\nNaN,\ntrue,\n{\n            'v': NaN,\n            'f': \"NaN\",\n        }],\n [{\n            'v': 377,\n            'f': \"377\",\n        },\n\"CSS\",\n\"https://launchpadbemidji.com/about-us/\",\n\"https://launchpadbemidji.com/wp-content/plugins/contact-form-7/includes/css/styles.css?ver=5.1.9\",\nNaN,\nNaN,\ntrue,\n{\n            'v': NaN,\n            'f': \"NaN\",\n        }],\n [{\n            'v': 378,\n            'f': \"378\",\n        },\n\"CSS\",\n\"https://launchpadbemidji.com/\",\n\"https://launchpadbemidji.com/wp-content/plugins/simple-social-icons/css/style.css?ver=3.0.2\",\nNaN,\nNaN,\ntrue,\n{\n            'v': NaN,\n            'f': \"NaN\",\n        }],\n [{\n            'v': 379,\n            'f': \"379\",\n        },\n\"CSS\",\n\"https://launchpadbemidji.com/photo-galleries/\",\n\"https://launchpadbemidji.com/wp-content/plugins/simple-social-icons/css/style.css?ver=3.0.2\",\nNaN,\nNaN,\ntrue,\n{\n            'v': NaN,\n            'f': \"NaN\",\n        }],\n [{\n            'v': 380,\n            'f': \"380\",\n        },\n\"CSS\",\n\"https://launchpadbemidji.com/events/\",\n\"https://launchpadbemidji.com/wp-content/plugins/simple-social-icons/css/style.css?ver=3.0.2\",\nNaN,\nNaN,\ntrue,\n{\n            'v': NaN,\n            'f': \"NaN\",\n        }],\n [{\n            'v': 381,\n            'f': \"381\",\n        },\n\"CSS\",\n\"https://launchpadbemidji.com/entrepreneur-meet-up/\",\n\"https://launchpadbemidji.com/wp-content/plugins/simple-social-icons/css/style.css?ver=3.0.2\",\nNaN,\nNaN,\ntrue,\n{\n            'v': NaN,\n            'f': \"NaN\",\n        }],\n [{\n            'v': 382,\n            'f': \"382\",\n        },\n\"CSS\",\n\"https://launchpadbemidji.com/launchpad-staff/\",\n\"https://launchpadbemidji.com/wp-content/plugins/simple-social-icons/css/style.css?ver=3.0.2\",\nNaN,\nNaN,\ntrue,\n{\n            'v': NaN,\n            'f': \"NaN\",\n        }],\n [{\n            'v': 383,\n            'f': \"383\",\n        },\n\"CSS\",\n\"https://launchpadbemidji.com/videos/\",\n\"https://launchpadbemidji.com/wp-content/plugins/simple-social-icons/css/style.css?ver=3.0.2\",\nNaN,\nNaN,\ntrue,\n{\n            'v': NaN,\n            'f': \"NaN\",\n        }],\n [{\n            'v': 384,\n            'f': \"384\",\n        },\n\"CSS\",\n\"https://launchpadbemidji.com/membership/\",\n\"https://launchpadbemidji.com/wp-content/plugins/simple-social-icons/css/style.css?ver=3.0.2\",\nNaN,\nNaN,\ntrue,\n{\n            'v': NaN,\n            'f': \"NaN\",\n        }],\n [{\n            'v': 385,\n            'f': \"385\",\n        },\n\"CSS\",\n\"https://launchpadbemidji.com/current-launchpad-members/\",\n\"https://launchpadbemidji.com/wp-content/plugins/simple-social-icons/css/style.css?ver=3.0.2\",\nNaN,\nNaN,\ntrue,\n{\n            'v': NaN,\n            'f': \"NaN\",\n        }],\n [{\n            'v': 386,\n            'f': \"386\",\n        },\n\"CSS\",\n\"https://launchpadbemidji.com/contact/\",\n\"https://launchpadbemidji.com/wp-content/plugins/simple-social-icons/css/style.css?ver=3.0.2\",\nNaN,\nNaN,\ntrue,\n{\n            'v': NaN,\n            'f': \"NaN\",\n        }],\n [{\n            'v': 387,\n            'f': \"387\",\n        },\n\"CSS\",\n\"https://launchpadbemidji.com/covid-19-updates/\",\n\"https://launchpadbemidji.com/wp-content/plugins/simple-social-icons/css/style.css?ver=3.0.2\",\nNaN,\nNaN,\ntrue,\n{\n            'v': NaN,\n            'f': \"NaN\",\n        }],\n [{\n            'v': 388,\n            'f': \"388\",\n        },\n\"CSS\",\n\"https://launchpadbemidji.com/resources/\",\n\"https://launchpadbemidji.com/wp-content/plugins/simple-social-icons/css/style.css?ver=3.0.2\",\nNaN,\nNaN,\ntrue,\n{\n            'v': NaN,\n            'f': \"NaN\",\n        }],\n [{\n            'v': 389,\n            'f': \"389\",\n        },\n\"CSS\",\n\"https://launchpadbemidji.com/about-us/\",\n\"https://launchpadbemidji.com/wp-content/plugins/simple-social-icons/css/style.css?ver=3.0.2\",\nNaN,\nNaN,\ntrue,\n{\n            'v': NaN,\n            'f': \"NaN\",\n        }],\n [{\n            'v': 390,\n            'f': \"390\",\n        },\n\"JS\",\n\"https://launchpadbemidji.com/\",\n\"https://launchpadbemidji.com/wp-content/themes/amax/js/jquery.smoothscroll.js?ver=5.4.2\",\nNaN,\nNaN,\ntrue,\n{\n            'v': NaN,\n            'f': \"NaN\",\n        }],\n [{\n            'v': 391,\n            'f': \"391\",\n        },\n\"JS\",\n\"https://launchpadbemidji.com/photo-galleries/\",\n\"https://launchpadbemidji.com/wp-content/themes/amax/js/jquery.smoothscroll.js?ver=5.4.2\",\nNaN,\nNaN,\ntrue,\n{\n            'v': NaN,\n            'f': \"NaN\",\n        }],\n [{\n            'v': 392,\n            'f': \"392\",\n        },\n\"JS\",\n\"https://launchpadbemidji.com/events/\",\n\"https://launchpadbemidji.com/wp-content/themes/amax/js/jquery.smoothscroll.js?ver=5.4.2\",\nNaN,\nNaN,\ntrue,\n{\n            'v': NaN,\n            'f': \"NaN\",\n        }],\n [{\n            'v': 393,\n            'f': \"393\",\n        },\n\"JS\",\n\"https://launchpadbemidji.com/entrepreneur-meet-up/\",\n\"https://launchpadbemidji.com/wp-content/themes/amax/js/jquery.smoothscroll.js?ver=5.4.2\",\nNaN,\nNaN,\ntrue,\n{\n            'v': NaN,\n            'f': \"NaN\",\n        }],\n [{\n            'v': 394,\n            'f': \"394\",\n        },\n\"JS\",\n\"https://launchpadbemidji.com/launchpad-staff/\",\n\"https://launchpadbemidji.com/wp-content/themes/amax/js/jquery.smoothscroll.js?ver=5.4.2\",\nNaN,\nNaN,\ntrue,\n{\n            'v': NaN,\n            'f': \"NaN\",\n        }],\n [{\n            'v': 395,\n            'f': \"395\",\n        },\n\"JS\",\n\"https://launchpadbemidji.com/videos/\",\n\"https://launchpadbemidji.com/wp-content/themes/amax/js/jquery.smoothscroll.js?ver=5.4.2\",\nNaN,\nNaN,\ntrue,\n{\n            'v': NaN,\n            'f': \"NaN\",\n        }],\n [{\n            'v': 396,\n            'f': \"396\",\n        },\n\"JS\",\n\"https://launchpadbemidji.com/membership/\",\n\"https://launchpadbemidji.com/wp-content/themes/amax/js/jquery.smoothscroll.js?ver=5.4.2\",\nNaN,\nNaN,\ntrue,\n{\n            'v': NaN,\n            'f': \"NaN\",\n        }],\n [{\n            'v': 397,\n            'f': \"397\",\n        },\n\"JS\",\n\"https://launchpadbemidji.com/current-launchpad-members/\",\n\"https://launchpadbemidji.com/wp-content/themes/amax/js/jquery.smoothscroll.js?ver=5.4.2\",\nNaN,\nNaN,\ntrue,\n{\n            'v': NaN,\n            'f': \"NaN\",\n        }],\n [{\n            'v': 398,\n            'f': \"398\",\n        },\n\"JS\",\n\"https://launchpadbemidji.com/contact/\",\n\"https://launchpadbemidji.com/wp-content/themes/amax/js/jquery.smoothscroll.js?ver=5.4.2\",\nNaN,\nNaN,\ntrue,\n{\n            'v': NaN,\n            'f': \"NaN\",\n        }],\n [{\n            'v': 399,\n            'f': \"399\",\n        },\n\"JS\",\n\"https://launchpadbemidji.com/covid-19-updates/\",\n\"https://launchpadbemidji.com/wp-content/themes/amax/js/jquery.smoothscroll.js?ver=5.4.2\",\nNaN,\nNaN,\ntrue,\n{\n            'v': NaN,\n            'f': \"NaN\",\n        }],\n [{\n            'v': 400,\n            'f': \"400\",\n        },\n\"JS\",\n\"https://launchpadbemidji.com/resources/\",\n\"https://launchpadbemidji.com/wp-content/themes/amax/js/jquery.smoothscroll.js?ver=5.4.2\",\nNaN,\nNaN,\ntrue,\n{\n            'v': NaN,\n            'f': \"NaN\",\n        }],\n [{\n            'v': 401,\n            'f': \"401\",\n        },\n\"JS\",\n\"https://launchpadbemidji.com/about-us/\",\n\"https://launchpadbemidji.com/wp-content/themes/amax/js/jquery.smoothscroll.js?ver=5.4.2\",\nNaN,\nNaN,\ntrue,\n{\n            'v': NaN,\n            'f': \"NaN\",\n        }],\n [{\n            'v': 402,\n            'f': \"402\",\n        },\n\"CSS\",\n\"https://launchpadbemidji.com/\",\n\"https://launchpadbemidji.com/wp-content/themes/amax/style.css?ver=5.4.2\",\nNaN,\nNaN,\ntrue,\n{\n            'v': NaN,\n            'f': \"NaN\",\n        }],\n [{\n            'v': 403,\n            'f': \"403\",\n        },\n\"CSS\",\n\"https://launchpadbemidji.com/photo-galleries/\",\n\"https://launchpadbemidji.com/wp-content/themes/amax/style.css?ver=5.4.2\",\nNaN,\nNaN,\ntrue,\n{\n            'v': NaN,\n            'f': \"NaN\",\n        }],\n [{\n            'v': 404,\n            'f': \"404\",\n        },\n\"CSS\",\n\"https://launchpadbemidji.com/events/\",\n\"https://launchpadbemidji.com/wp-content/themes/amax/style.css?ver=5.4.2\",\nNaN,\nNaN,\ntrue,\n{\n            'v': NaN,\n            'f': \"NaN\",\n        }],\n [{\n            'v': 405,\n            'f': \"405\",\n        },\n\"CSS\",\n\"https://launchpadbemidji.com/entrepreneur-meet-up/\",\n\"https://launchpadbemidji.com/wp-content/themes/amax/style.css?ver=5.4.2\",\nNaN,\nNaN,\ntrue,\n{\n            'v': NaN,\n            'f': \"NaN\",\n        }],\n [{\n            'v': 406,\n            'f': \"406\",\n        },\n\"CSS\",\n\"https://launchpadbemidji.com/launchpad-staff/\",\n\"https://launchpadbemidji.com/wp-content/themes/amax/style.css?ver=5.4.2\",\nNaN,\nNaN,\ntrue,\n{\n            'v': NaN,\n            'f': \"NaN\",\n        }],\n [{\n            'v': 407,\n            'f': \"407\",\n        },\n\"CSS\",\n\"https://launchpadbemidji.com/videos/\",\n\"https://launchpadbemidji.com/wp-content/themes/amax/style.css?ver=5.4.2\",\nNaN,\nNaN,\ntrue,\n{\n            'v': NaN,\n            'f': \"NaN\",\n        }],\n [{\n            'v': 408,\n            'f': \"408\",\n        },\n\"CSS\",\n\"https://launchpadbemidji.com/membership/\",\n\"https://launchpadbemidji.com/wp-content/themes/amax/style.css?ver=5.4.2\",\nNaN,\nNaN,\ntrue,\n{\n            'v': NaN,\n            'f': \"NaN\",\n        }],\n [{\n            'v': 409,\n            'f': \"409\",\n        },\n\"CSS\",\n\"https://launchpadbemidji.com/current-launchpad-members/\",\n\"https://launchpadbemidji.com/wp-content/themes/amax/style.css?ver=5.4.2\",\nNaN,\nNaN,\ntrue,\n{\n            'v': NaN,\n            'f': \"NaN\",\n        }],\n [{\n            'v': 410,\n            'f': \"410\",\n        },\n\"CSS\",\n\"https://launchpadbemidji.com/contact/\",\n\"https://launchpadbemidji.com/wp-content/themes/amax/style.css?ver=5.4.2\",\nNaN,\nNaN,\ntrue,\n{\n            'v': NaN,\n            'f': \"NaN\",\n        }],\n [{\n            'v': 411,\n            'f': \"411\",\n        },\n\"CSS\",\n\"https://launchpadbemidji.com/covid-19-updates/\",\n\"https://launchpadbemidji.com/wp-content/themes/amax/style.css?ver=5.4.2\",\nNaN,\nNaN,\ntrue,\n{\n            'v': NaN,\n            'f': \"NaN\",\n        }],\n [{\n            'v': 412,\n            'f': \"412\",\n        },\n\"CSS\",\n\"https://launchpadbemidji.com/resources/\",\n\"https://launchpadbemidji.com/wp-content/themes/amax/style.css?ver=5.4.2\",\nNaN,\nNaN,\ntrue,\n{\n            'v': NaN,\n            'f': \"NaN\",\n        }],\n [{\n            'v': 413,\n            'f': \"413\",\n        },\n\"CSS\",\n\"https://launchpadbemidji.com/about-us/\",\n\"https://launchpadbemidji.com/wp-content/themes/amax/style.css?ver=5.4.2\",\nNaN,\nNaN,\ntrue,\n{\n            'v': NaN,\n            'f': \"NaN\",\n        }],\n [{\n            'v': 414,\n            'f': \"414\",\n        },\n\"JS\",\n\"https://launchpadbemidji.com/\",\n\"https://launchpadbemidji.com/wp-content/themes/amax/wpb/assets/js/addon_js_composer_front.js?ver=1.1.5\",\nNaN,\nNaN,\ntrue,\n{\n            'v': NaN,\n            'f': \"NaN\",\n        }],\n [{\n            'v': 415,\n            'f': \"415\",\n        },\n\"JS\",\n\"https://launchpadbemidji.com/photo-galleries/\",\n\"https://launchpadbemidji.com/wp-content/themes/amax/wpb/assets/js/addon_js_composer_front.js?ver=1.1.5\",\nNaN,\nNaN,\ntrue,\n{\n            'v': NaN,\n            'f': \"NaN\",\n        }],\n [{\n            'v': 416,\n            'f': \"416\",\n        },\n\"JS\",\n\"https://launchpadbemidji.com/events/\",\n\"https://launchpadbemidji.com/wp-content/themes/amax/wpb/assets/js/addon_js_composer_front.js?ver=1.1.5\",\nNaN,\nNaN,\ntrue,\n{\n            'v': NaN,\n            'f': \"NaN\",\n        }],\n [{\n            'v': 417,\n            'f': \"417\",\n        },\n\"JS\",\n\"https://launchpadbemidji.com/videos/\",\n\"https://launchpadbemidji.com/wp-content/themes/amax/wpb/assets/js/addon_js_composer_front.js?ver=1.1.5\",\nNaN,\nNaN,\ntrue,\n{\n            'v': NaN,\n            'f': \"NaN\",\n        }],\n [{\n            'v': 418,\n            'f': \"418\",\n        },\n\"JS\",\n\"https://launchpadbemidji.com/membership/\",\n\"https://launchpadbemidji.com/wp-content/themes/amax/wpb/assets/js/addon_js_composer_front.js?ver=1.1.5\",\nNaN,\nNaN,\ntrue,\n{\n            'v': NaN,\n            'f': \"NaN\",\n        }],\n [{\n            'v': 419,\n            'f': \"419\",\n        },\n\"JS\",\n\"https://launchpadbemidji.com/current-launchpad-members/\",\n\"https://launchpadbemidji.com/wp-content/themes/amax/wpb/assets/js/addon_js_composer_front.js?ver=1.1.5\",\nNaN,\nNaN,\ntrue,\n{\n            'v': NaN,\n            'f': \"NaN\",\n        }],\n [{\n            'v': 420,\n            'f': \"420\",\n        },\n\"JS\",\n\"https://launchpadbemidji.com/resources/\",\n\"https://launchpadbemidji.com/wp-content/themes/amax/wpb/assets/js/addon_js_composer_front.js?ver=1.1.5\",\nNaN,\nNaN,\ntrue,\n{\n            'v': NaN,\n            'f': \"NaN\",\n        }],\n [{\n            'v': 421,\n            'f': \"421\",\n        },\n\"IMG\",\n\"https://launchpadbemidji.com/\",\n\"https://launchpadbemidji.com/wp-content/uploads/2017/10/logo_300.png\",\nNaN,\n\"LaunchPad\",\ntrue,\n{\n            'v': NaN,\n            'f': \"NaN\",\n        }],\n [{\n            'v': 422,\n            'f': \"422\",\n        },\n\"IMG\",\n\"https://launchpadbemidji.com/\",\n\"https://launchpadbemidji.com/wp-content/uploads/2017/10/logo_300.png\",\nNaN,\n\"LaunchPad\",\ntrue,\n{\n            'v': NaN,\n            'f': \"NaN\",\n        }],\n [{\n            'v': 423,\n            'f': \"423\",\n        },\n\"IMG\",\n\"https://launchpadbemidji.com/photo-galleries/\",\n\"https://launchpadbemidji.com/wp-content/uploads/2017/10/logo_300.png\",\nNaN,\n\"LaunchPad\",\ntrue,\n{\n            'v': NaN,\n            'f': \"NaN\",\n        }],\n [{\n            'v': 424,\n            'f': \"424\",\n        },\n\"IMG\",\n\"https://launchpadbemidji.com/photo-galleries/\",\n\"https://launchpadbemidji.com/wp-content/uploads/2017/10/logo_300.png\",\nNaN,\n\"LaunchPad\",\ntrue,\n{\n            'v': NaN,\n            'f': \"NaN\",\n        }],\n [{\n            'v': 425,\n            'f': \"425\",\n        },\n\"IMG\",\n\"https://launchpadbemidji.com/entrepreneur-meet-up/\",\n\"https://launchpadbemidji.com/wp-content/uploads/2017/10/logo_300.png\",\nNaN,\n\"LaunchPad\",\ntrue,\n{\n            'v': NaN,\n            'f': \"NaN\",\n        }],\n [{\n            'v': 426,\n            'f': \"426\",\n        },\n\"IMG\",\n\"https://launchpadbemidji.com/entrepreneur-meet-up/\",\n\"https://launchpadbemidji.com/wp-content/uploads/2017/10/logo_300.png\",\nNaN,\n\"LaunchPad\",\ntrue,\n{\n            'v': NaN,\n            'f': \"NaN\",\n        }],\n [{\n            'v': 427,\n            'f': \"427\",\n        },\n\"IMG\",\n\"https://launchpadbemidji.com/launchpad-staff/\",\n\"https://launchpadbemidji.com/wp-content/uploads/2017/10/logo_300.png\",\nNaN,\n\"LaunchPad\",\ntrue,\n{\n            'v': NaN,\n            'f': \"NaN\",\n        }],\n [{\n            'v': 428,\n            'f': \"428\",\n        },\n\"IMG\",\n\"https://launchpadbemidji.com/launchpad-staff/\",\n\"https://launchpadbemidji.com/wp-content/uploads/2017/10/logo_300.png\",\nNaN,\n\"LaunchPad\",\ntrue,\n{\n            'v': NaN,\n            'f': \"NaN\",\n        }],\n [{\n            'v': 429,\n            'f': \"429\",\n        },\n\"IMG\",\n\"https://launchpadbemidji.com/videos/\",\n\"https://launchpadbemidji.com/wp-content/uploads/2017/10/logo_300.png\",\nNaN,\n\"LaunchPad\",\ntrue,\n{\n            'v': NaN,\n            'f': \"NaN\",\n        }],\n [{\n            'v': 430,\n            'f': \"430\",\n        },\n\"IMG\",\n\"https://launchpadbemidji.com/videos/\",\n\"https://launchpadbemidji.com/wp-content/uploads/2017/10/logo_300.png\",\nNaN,\n\"LaunchPad\",\ntrue,\n{\n            'v': NaN,\n            'f': \"NaN\",\n        }],\n [{\n            'v': 431,\n            'f': \"431\",\n        },\n\"IMG\",\n\"https://launchpadbemidji.com/membership/\",\n\"https://launchpadbemidji.com/wp-content/uploads/2017/10/logo_300.png\",\nNaN,\n\"LaunchPad\",\ntrue,\n{\n            'v': NaN,\n            'f': \"NaN\",\n        }],\n [{\n            'v': 432,\n            'f': \"432\",\n        },\n\"IMG\",\n\"https://launchpadbemidji.com/membership/\",\n\"https://launchpadbemidji.com/wp-content/uploads/2017/10/logo_300.png\",\nNaN,\n\"LaunchPad\",\ntrue,\n{\n            'v': NaN,\n            'f': \"NaN\",\n        }],\n [{\n            'v': 433,\n            'f': \"433\",\n        },\n\"IMG\",\n\"https://launchpadbemidji.com/current-launchpad-members/\",\n\"https://launchpadbemidji.com/wp-content/uploads/2017/10/logo_300.png\",\nNaN,\n\"LaunchPad\",\ntrue,\n{\n            'v': NaN,\n            'f': \"NaN\",\n        }],\n [{\n            'v': 434,\n            'f': \"434\",\n        },\n\"IMG\",\n\"https://launchpadbemidji.com/current-launchpad-members/\",\n\"https://launchpadbemidji.com/wp-content/uploads/2017/10/logo_300.png\",\nNaN,\n\"LaunchPad\",\ntrue,\n{\n            'v': NaN,\n            'f': \"NaN\",\n        }],\n [{\n            'v': 435,\n            'f': \"435\",\n        },\n\"IMG\",\n\"https://launchpadbemidji.com/contact/\",\n\"https://launchpadbemidji.com/wp-content/uploads/2017/10/logo_300.png\",\nNaN,\n\"LaunchPad\",\ntrue,\n{\n            'v': NaN,\n            'f': \"NaN\",\n        }],\n [{\n            'v': 436,\n            'f': \"436\",\n        },\n\"IMG\",\n\"https://launchpadbemidji.com/contact/\",\n\"https://launchpadbemidji.com/wp-content/uploads/2017/10/logo_300.png\",\nNaN,\n\"LaunchPad\",\ntrue,\n{\n            'v': NaN,\n            'f': \"NaN\",\n        }],\n [{\n            'v': 437,\n            'f': \"437\",\n        },\n\"IMG\",\n\"https://launchpadbemidji.com/covid-19-updates/\",\n\"https://launchpadbemidji.com/wp-content/uploads/2017/10/logo_300.png\",\nNaN,\n\"LaunchPad\",\ntrue,\n{\n            'v': NaN,\n            'f': \"NaN\",\n        }],\n [{\n            'v': 438,\n            'f': \"438\",\n        },\n\"IMG\",\n\"https://launchpadbemidji.com/covid-19-updates/\",\n\"https://launchpadbemidji.com/wp-content/uploads/2017/10/logo_300.png\",\nNaN,\n\"LaunchPad\",\ntrue,\n{\n            'v': NaN,\n            'f': \"NaN\",\n        }],\n [{\n            'v': 439,\n            'f': \"439\",\n        },\n\"IMG\",\n\"https://launchpadbemidji.com/resources/\",\n\"https://launchpadbemidji.com/wp-content/uploads/2017/10/logo_300.png\",\nNaN,\n\"LaunchPad\",\ntrue,\n{\n            'v': NaN,\n            'f': \"NaN\",\n        }],\n [{\n            'v': 440,\n            'f': \"440\",\n        },\n\"IMG\",\n\"https://launchpadbemidji.com/resources/\",\n\"https://launchpadbemidji.com/wp-content/uploads/2017/10/logo_300.png\",\nNaN,\n\"LaunchPad\",\ntrue,\n{\n            'v': NaN,\n            'f': \"NaN\",\n        }],\n [{\n            'v': 441,\n            'f': \"441\",\n        },\n\"IMG\",\n\"https://launchpadbemidji.com/about-us/\",\n\"https://launchpadbemidji.com/wp-content/uploads/2017/10/logo_300.png\",\nNaN,\n\"LaunchPad\",\ntrue,\n{\n            'v': NaN,\n            'f': \"NaN\",\n        }],\n [{\n            'v': 442,\n            'f': \"442\",\n        },\n\"IMG\",\n\"https://launchpadbemidji.com/about-us/\",\n\"https://launchpadbemidji.com/wp-content/uploads/2017/10/logo_300.png\",\nNaN,\n\"LaunchPad\",\ntrue,\n{\n            'v': NaN,\n            'f': \"NaN\",\n        }],\n [{\n            'v': 443,\n            'f': \"443\",\n        },\n\"JS\",\n\"https://launchpadbemidji.com/\",\n\"https://launchpadbemidji.com/wp-content/plugins/contact-form-7/includes/js/scripts.js?ver=5.1.9\",\nNaN,\nNaN,\ntrue,\n{\n            'v': NaN,\n            'f': \"NaN\",\n        }],\n [{\n            'v': 444,\n            'f': \"444\",\n        },\n\"JS\",\n\"https://launchpadbemidji.com/photo-galleries/\",\n\"https://launchpadbemidji.com/wp-content/plugins/contact-form-7/includes/js/scripts.js?ver=5.1.9\",\nNaN,\nNaN,\ntrue,\n{\n            'v': NaN,\n            'f': \"NaN\",\n        }],\n [{\n            'v': 445,\n            'f': \"445\",\n        },\n\"JS\",\n\"https://launchpadbemidji.com/events/\",\n\"https://launchpadbemidji.com/wp-content/plugins/contact-form-7/includes/js/scripts.js?ver=5.1.9\",\nNaN,\nNaN,\ntrue,\n{\n            'v': NaN,\n            'f': \"NaN\",\n        }],\n [{\n            'v': 446,\n            'f': \"446\",\n        },\n\"JS\",\n\"https://launchpadbemidji.com/entrepreneur-meet-up/\",\n\"https://launchpadbemidji.com/wp-content/plugins/contact-form-7/includes/js/scripts.js?ver=5.1.9\",\nNaN,\nNaN,\ntrue,\n{\n            'v': NaN,\n            'f': \"NaN\",\n        }],\n [{\n            'v': 447,\n            'f': \"447\",\n        },\n\"JS\",\n\"https://launchpadbemidji.com/launchpad-staff/\",\n\"https://launchpadbemidji.com/wp-content/plugins/contact-form-7/includes/js/scripts.js?ver=5.1.9\",\nNaN,\nNaN,\ntrue,\n{\n            'v': NaN,\n            'f': \"NaN\",\n        }],\n [{\n            'v': 448,\n            'f': \"448\",\n        },\n\"JS\",\n\"https://launchpadbemidji.com/videos/\",\n\"https://launchpadbemidji.com/wp-content/plugins/contact-form-7/includes/js/scripts.js?ver=5.1.9\",\nNaN,\nNaN,\ntrue,\n{\n            'v': NaN,\n            'f': \"NaN\",\n        }],\n [{\n            'v': 449,\n            'f': \"449\",\n        },\n\"JS\",\n\"https://launchpadbemidji.com/membership/\",\n\"https://launchpadbemidji.com/wp-content/plugins/contact-form-7/includes/js/scripts.js?ver=5.1.9\",\nNaN,\nNaN,\ntrue,\n{\n            'v': NaN,\n            'f': \"NaN\",\n        }],\n [{\n            'v': 450,\n            'f': \"450\",\n        },\n\"JS\",\n\"https://launchpadbemidji.com/current-launchpad-members/\",\n\"https://launchpadbemidji.com/wp-content/plugins/contact-form-7/includes/js/scripts.js?ver=5.1.9\",\nNaN,\nNaN,\ntrue,\n{\n            'v': NaN,\n            'f': \"NaN\",\n        }],\n [{\n            'v': 451,\n            'f': \"451\",\n        },\n\"JS\",\n\"https://launchpadbemidji.com/contact/\",\n\"https://launchpadbemidji.com/wp-content/plugins/contact-form-7/includes/js/scripts.js?ver=5.1.9\",\nNaN,\nNaN,\ntrue,\n{\n            'v': NaN,\n            'f': \"NaN\",\n        }],\n [{\n            'v': 452,\n            'f': \"452\",\n        },\n\"JS\",\n\"https://launchpadbemidji.com/covid-19-updates/\",\n\"https://launchpadbemidji.com/wp-content/plugins/contact-form-7/includes/js/scripts.js?ver=5.1.9\",\nNaN,\nNaN,\ntrue,\n{\n            'v': NaN,\n            'f': \"NaN\",\n        }],\n [{\n            'v': 453,\n            'f': \"453\",\n        },\n\"JS\",\n\"https://launchpadbemidji.com/resources/\",\n\"https://launchpadbemidji.com/wp-content/plugins/contact-form-7/includes/js/scripts.js?ver=5.1.9\",\nNaN,\nNaN,\ntrue,\n{\n            'v': NaN,\n            'f': \"NaN\",\n        }],\n [{\n            'v': 454,\n            'f': \"454\",\n        },\n\"JS\",\n\"https://launchpadbemidji.com/about-us/\",\n\"https://launchpadbemidji.com/wp-content/plugins/contact-form-7/includes/js/scripts.js?ver=5.1.9\",\nNaN,\nNaN,\ntrue,\n{\n            'v': NaN,\n            'f': \"NaN\",\n        }],\n [{\n            'v': 455,\n            'f': \"455\",\n        },\n\"CSS\",\n\"https://launchpadbemidji.com/\",\n\"https://launchpadbemidji.com/wp-content/plugins/js_composer/assets/css/js_composer.min.css?ver=5.7\",\nNaN,\nNaN,\ntrue,\n{\n            'v': NaN,\n            'f': \"NaN\",\n        }],\n [{\n            'v': 456,\n            'f': \"456\",\n        },\n\"CSS\",\n\"https://launchpadbemidji.com/photo-galleries/\",\n\"https://launchpadbemidji.com/wp-content/plugins/js_composer/assets/css/js_composer.min.css?ver=5.7\",\nNaN,\nNaN,\ntrue,\n{\n            'v': NaN,\n            'f': \"NaN\",\n        }],\n [{\n            'v': 457,\n            'f': \"457\",\n        },\n\"CSS\",\n\"https://launchpadbemidji.com/events/\",\n\"https://launchpadbemidji.com/wp-content/plugins/js_composer/assets/css/js_composer.min.css?ver=5.7\",\nNaN,\nNaN,\ntrue,\n{\n            'v': NaN,\n            'f': \"NaN\",\n        }],\n [{\n            'v': 458,\n            'f': \"458\",\n        },\n\"CSS\",\n\"https://launchpadbemidji.com/videos/\",\n\"https://launchpadbemidji.com/wp-content/plugins/js_composer/assets/css/js_composer.min.css?ver=5.7\",\nNaN,\nNaN,\ntrue,\n{\n            'v': NaN,\n            'f': \"NaN\",\n        }],\n [{\n            'v': 459,\n            'f': \"459\",\n        },\n\"CSS\",\n\"https://launchpadbemidji.com/membership/\",\n\"https://launchpadbemidji.com/wp-content/plugins/js_composer/assets/css/js_composer.min.css?ver=5.7\",\nNaN,\nNaN,\ntrue,\n{\n            'v': NaN,\n            'f': \"NaN\",\n        }],\n [{\n            'v': 460,\n            'f': \"460\",\n        },\n\"CSS\",\n\"https://launchpadbemidji.com/current-launchpad-members/\",\n\"https://launchpadbemidji.com/wp-content/plugins/js_composer/assets/css/js_composer.min.css?ver=5.7\",\nNaN,\nNaN,\ntrue,\n{\n            'v': NaN,\n            'f': \"NaN\",\n        }],\n [{\n            'v': 461,\n            'f': \"461\",\n        },\n\"CSS\",\n\"https://launchpadbemidji.com/resources/\",\n\"https://launchpadbemidji.com/wp-content/plugins/js_composer/assets/css/js_composer.min.css?ver=5.7\",\nNaN,\nNaN,\ntrue,\n{\n            'v': NaN,\n            'f': \"NaN\",\n        }],\n [{\n            'v': 462,\n            'f': \"462\",\n        },\n\"JS\",\n\"https://launchpadbemidji.com/\",\n\"https://launchpadbemidji.com/wp-content/plugins/olevmedia-portfolio-2/assets/js/portfolio.min.js?ver=2.0.6\",\nNaN,\nNaN,\ntrue,\n{\n            'v': NaN,\n            'f': \"NaN\",\n        }],\n [{\n            'v': 463,\n            'f': \"463\",\n        },\n\"JS\",\n\"https://launchpadbemidji.com/photo-galleries/\",\n\"https://launchpadbemidji.com/wp-content/plugins/olevmedia-portfolio-2/assets/js/portfolio.min.js?ver=2.0.6\",\nNaN,\nNaN,\ntrue,\n{\n            'v': NaN,\n            'f': \"NaN\",\n        }],\n [{\n            'v': 464,\n            'f': \"464\",\n        },\n\"JS\",\n\"https://launchpadbemidji.com/events/\",\n\"https://launchpadbemidji.com/wp-content/plugins/olevmedia-portfolio-2/assets/js/portfolio.min.js?ver=2.0.6\",\nNaN,\nNaN,\ntrue,\n{\n            'v': NaN,\n            'f': \"NaN\",\n        }],\n [{\n            'v': 465,\n            'f': \"465\",\n        },\n\"JS\",\n\"https://launchpadbemidji.com/entrepreneur-meet-up/\",\n\"https://launchpadbemidji.com/wp-content/plugins/olevmedia-portfolio-2/assets/js/portfolio.min.js?ver=2.0.6\",\nNaN,\nNaN,\ntrue,\n{\n            'v': NaN,\n            'f': \"NaN\",\n        }],\n [{\n            'v': 466,\n            'f': \"466\",\n        },\n\"JS\",\n\"https://launchpadbemidji.com/launchpad-staff/\",\n\"https://launchpadbemidji.com/wp-content/plugins/olevmedia-portfolio-2/assets/js/portfolio.min.js?ver=2.0.6\",\nNaN,\nNaN,\ntrue,\n{\n            'v': NaN,\n            'f': \"NaN\",\n        }],\n [{\n            'v': 467,\n            'f': \"467\",\n        },\n\"JS\",\n\"https://launchpadbemidji.com/videos/\",\n\"https://launchpadbemidji.com/wp-content/plugins/olevmedia-portfolio-2/assets/js/portfolio.min.js?ver=2.0.6\",\nNaN,\nNaN,\ntrue,\n{\n            'v': NaN,\n            'f': \"NaN\",\n        }],\n [{\n            'v': 468,\n            'f': \"468\",\n        },\n\"JS\",\n\"https://launchpadbemidji.com/membership/\",\n\"https://launchpadbemidji.com/wp-content/plugins/olevmedia-portfolio-2/assets/js/portfolio.min.js?ver=2.0.6\",\nNaN,\nNaN,\ntrue,\n{\n            'v': NaN,\n            'f': \"NaN\",\n        }],\n [{\n            'v': 469,\n            'f': \"469\",\n        },\n\"JS\",\n\"https://launchpadbemidji.com/current-launchpad-members/\",\n\"https://launchpadbemidji.com/wp-content/plugins/olevmedia-portfolio-2/assets/js/portfolio.min.js?ver=2.0.6\",\nNaN,\nNaN,\ntrue,\n{\n            'v': NaN,\n            'f': \"NaN\",\n        }],\n [{\n            'v': 470,\n            'f': \"470\",\n        },\n\"JS\",\n\"https://launchpadbemidji.com/contact/\",\n\"https://launchpadbemidji.com/wp-content/plugins/olevmedia-portfolio-2/assets/js/portfolio.min.js?ver=2.0.6\",\nNaN,\nNaN,\ntrue,\n{\n            'v': NaN,\n            'f': \"NaN\",\n        }],\n [{\n            'v': 471,\n            'f': \"471\",\n        },\n\"JS\",\n\"https://launchpadbemidji.com/covid-19-updates/\",\n\"https://launchpadbemidji.com/wp-content/plugins/olevmedia-portfolio-2/assets/js/portfolio.min.js?ver=2.0.6\",\nNaN,\nNaN,\ntrue,\n{\n            'v': NaN,\n            'f': \"NaN\",\n        }],\n [{\n            'v': 472,\n            'f': \"472\",\n        },\n\"JS\",\n\"https://launchpadbemidji.com/resources/\",\n\"https://launchpadbemidji.com/wp-content/plugins/olevmedia-portfolio-2/assets/js/portfolio.min.js?ver=2.0.6\",\nNaN,\nNaN,\ntrue,\n{\n            'v': NaN,\n            'f': \"NaN\",\n        }],\n [{\n            'v': 473,\n            'f': \"473\",\n        },\n\"JS\",\n\"https://launchpadbemidji.com/about-us/\",\n\"https://launchpadbemidji.com/wp-content/plugins/olevmedia-portfolio-2/assets/js/portfolio.min.js?ver=2.0.6\",\nNaN,\nNaN,\ntrue,\n{\n            'v': NaN,\n            'f': \"NaN\",\n        }],\n [{\n            'v': 474,\n            'f': \"474\",\n        },\n\"JS\",\n\"https://launchpadbemidji.com/\",\n\"https://launchpadbemidji.com/wp-content/plugins/youtube-embed-plus/scripts/fitvids.min.js?ver=13.4\",\nNaN,\nNaN,\ntrue,\n{\n            'v': NaN,\n            'f': \"NaN\",\n        }],\n [{\n            'v': 475,\n            'f': \"475\",\n        },\n\"JS\",\n\"https://launchpadbemidji.com/photo-galleries/\",\n\"https://launchpadbemidji.com/wp-content/plugins/youtube-embed-plus/scripts/fitvids.min.js?ver=13.4\",\nNaN,\nNaN,\ntrue,\n{\n            'v': NaN,\n            'f': \"NaN\",\n        }],\n [{\n            'v': 476,\n            'f': \"476\",\n        },\n\"JS\",\n\"https://launchpadbemidji.com/events/\",\n\"https://launchpadbemidji.com/wp-content/plugins/youtube-embed-plus/scripts/fitvids.min.js?ver=13.4\",\nNaN,\nNaN,\ntrue,\n{\n            'v': NaN,\n            'f': \"NaN\",\n        }],\n [{\n            'v': 477,\n            'f': \"477\",\n        },\n\"JS\",\n\"https://launchpadbemidji.com/entrepreneur-meet-up/\",\n\"https://launchpadbemidji.com/wp-content/plugins/youtube-embed-plus/scripts/fitvids.min.js?ver=13.4\",\nNaN,\nNaN,\ntrue,\n{\n            'v': NaN,\n            'f': \"NaN\",\n        }],\n [{\n            'v': 478,\n            'f': \"478\",\n        },\n\"JS\",\n\"https://launchpadbemidji.com/launchpad-staff/\",\n\"https://launchpadbemidji.com/wp-content/plugins/youtube-embed-plus/scripts/fitvids.min.js?ver=13.4\",\nNaN,\nNaN,\ntrue,\n{\n            'v': NaN,\n            'f': \"NaN\",\n        }],\n [{\n            'v': 479,\n            'f': \"479\",\n        },\n\"JS\",\n\"https://launchpadbemidji.com/videos/\",\n\"https://launchpadbemidji.com/wp-content/plugins/youtube-embed-plus/scripts/fitvids.min.js?ver=13.4\",\nNaN,\nNaN,\ntrue,\n{\n            'v': NaN,\n            'f': \"NaN\",\n        }],\n [{\n            'v': 480,\n            'f': \"480\",\n        },\n\"JS\",\n\"https://launchpadbemidji.com/membership/\",\n\"https://launchpadbemidji.com/wp-content/plugins/youtube-embed-plus/scripts/fitvids.min.js?ver=13.4\",\nNaN,\nNaN,\ntrue,\n{\n            'v': NaN,\n            'f': \"NaN\",\n        }],\n [{\n            'v': 481,\n            'f': \"481\",\n        },\n\"JS\",\n\"https://launchpadbemidji.com/current-launchpad-members/\",\n\"https://launchpadbemidji.com/wp-content/plugins/youtube-embed-plus/scripts/fitvids.min.js?ver=13.4\",\nNaN,\nNaN,\ntrue,\n{\n            'v': NaN,\n            'f': \"NaN\",\n        }],\n [{\n            'v': 482,\n            'f': \"482\",\n        },\n\"JS\",\n\"https://launchpadbemidji.com/contact/\",\n\"https://launchpadbemidji.com/wp-content/plugins/youtube-embed-plus/scripts/fitvids.min.js?ver=13.4\",\nNaN,\nNaN,\ntrue,\n{\n            'v': NaN,\n            'f': \"NaN\",\n        }],\n [{\n            'v': 483,\n            'f': \"483\",\n        },\n\"JS\",\n\"https://launchpadbemidji.com/covid-19-updates/\",\n\"https://launchpadbemidji.com/wp-content/plugins/youtube-embed-plus/scripts/fitvids.min.js?ver=13.4\",\nNaN,\nNaN,\ntrue,\n{\n            'v': NaN,\n            'f': \"NaN\",\n        }],\n [{\n            'v': 484,\n            'f': \"484\",\n        },\n\"JS\",\n\"https://launchpadbemidji.com/resources/\",\n\"https://launchpadbemidji.com/wp-content/plugins/youtube-embed-plus/scripts/fitvids.min.js?ver=13.4\",\nNaN,\nNaN,\ntrue,\n{\n            'v': NaN,\n            'f': \"NaN\",\n        }],\n [{\n            'v': 485,\n            'f': \"485\",\n        },\n\"JS\",\n\"https://launchpadbemidji.com/about-us/\",\n\"https://launchpadbemidji.com/wp-content/plugins/youtube-embed-plus/scripts/fitvids.min.js?ver=13.4\",\nNaN,\nNaN,\ntrue,\n{\n            'v': NaN,\n            'f': \"NaN\",\n        }],\n [{\n            'v': 486,\n            'f': \"486\",\n        },\n\"JS\",\n\"https://launchpadbemidji.com/\",\n\"https://launchpadbemidji.com/wp-content/themes/amax/js/jquery.omslider.min.js?ver=5.4.2\",\nNaN,\nNaN,\ntrue,\n{\n            'v': NaN,\n            'f': \"NaN\",\n        }],\n [{\n            'v': 487,\n            'f': \"487\",\n        },\n\"JS\",\n\"https://launchpadbemidji.com/photo-galleries/\",\n\"https://launchpadbemidji.com/wp-content/themes/amax/js/jquery.omslider.min.js?ver=5.4.2\",\nNaN,\nNaN,\ntrue,\n{\n            'v': NaN,\n            'f': \"NaN\",\n        }],\n [{\n            'v': 488,\n            'f': \"488\",\n        },\n\"JS\",\n\"https://launchpadbemidji.com/events/\",\n\"https://launchpadbemidji.com/wp-content/themes/amax/js/jquery.omslider.min.js?ver=5.4.2\",\nNaN,\nNaN,\ntrue,\n{\n            'v': NaN,\n            'f': \"NaN\",\n        }],\n [{\n            'v': 489,\n            'f': \"489\",\n        },\n\"JS\",\n\"https://launchpadbemidji.com/entrepreneur-meet-up/\",\n\"https://launchpadbemidji.com/wp-content/themes/amax/js/jquery.omslider.min.js?ver=5.4.2\",\nNaN,\nNaN,\ntrue,\n{\n            'v': NaN,\n            'f': \"NaN\",\n        }],\n [{\n            'v': 490,\n            'f': \"490\",\n        },\n\"JS\",\n\"https://launchpadbemidji.com/launchpad-staff/\",\n\"https://launchpadbemidji.com/wp-content/themes/amax/js/jquery.omslider.min.js?ver=5.4.2\",\nNaN,\nNaN,\ntrue,\n{\n            'v': NaN,\n            'f': \"NaN\",\n        }],\n [{\n            'v': 491,\n            'f': \"491\",\n        },\n\"JS\",\n\"https://launchpadbemidji.com/videos/\",\n\"https://launchpadbemidji.com/wp-content/themes/amax/js/jquery.omslider.min.js?ver=5.4.2\",\nNaN,\nNaN,\ntrue,\n{\n            'v': NaN,\n            'f': \"NaN\",\n        }],\n [{\n            'v': 492,\n            'f': \"492\",\n        },\n\"JS\",\n\"https://launchpadbemidji.com/membership/\",\n\"https://launchpadbemidji.com/wp-content/themes/amax/js/jquery.omslider.min.js?ver=5.4.2\",\nNaN,\nNaN,\ntrue,\n{\n            'v': NaN,\n            'f': \"NaN\",\n        }],\n [{\n            'v': 493,\n            'f': \"493\",\n        },\n\"JS\",\n\"https://launchpadbemidji.com/current-launchpad-members/\",\n\"https://launchpadbemidji.com/wp-content/themes/amax/js/jquery.omslider.min.js?ver=5.4.2\",\nNaN,\nNaN,\ntrue,\n{\n            'v': NaN,\n            'f': \"NaN\",\n        }],\n [{\n            'v': 494,\n            'f': \"494\",\n        },\n\"JS\",\n\"https://launchpadbemidji.com/contact/\",\n\"https://launchpadbemidji.com/wp-content/themes/amax/js/jquery.omslider.min.js?ver=5.4.2\",\nNaN,\nNaN,\ntrue,\n{\n            'v': NaN,\n            'f': \"NaN\",\n        }],\n [{\n            'v': 495,\n            'f': \"495\",\n        },\n\"JS\",\n\"https://launchpadbemidji.com/covid-19-updates/\",\n\"https://launchpadbemidji.com/wp-content/themes/amax/js/jquery.omslider.min.js?ver=5.4.2\",\nNaN,\nNaN,\ntrue,\n{\n            'v': NaN,\n            'f': \"NaN\",\n        }],\n [{\n            'v': 496,\n            'f': \"496\",\n        },\n\"JS\",\n\"https://launchpadbemidji.com/resources/\",\n\"https://launchpadbemidji.com/wp-content/themes/amax/js/jquery.omslider.min.js?ver=5.4.2\",\nNaN,\nNaN,\ntrue,\n{\n            'v': NaN,\n            'f': \"NaN\",\n        }],\n [{\n            'v': 497,\n            'f': \"497\",\n        },\n\"JS\",\n\"https://launchpadbemidji.com/about-us/\",\n\"https://launchpadbemidji.com/wp-content/themes/amax/js/jquery.omslider.min.js?ver=5.4.2\",\nNaN,\nNaN,\ntrue,\n{\n            'v': NaN,\n            'f': \"NaN\",\n        }],\n [{\n            'v': 498,\n            'f': \"498\",\n        },\n\"JS\",\n\"https://launchpadbemidji.com/\",\n\"https://launchpadbemidji.com/wp-content/plugins/js_composer/assets/js/dist/js_composer_front.min.js?ver=5.7\",\nNaN,\nNaN,\ntrue,\n{\n            'v': NaN,\n            'f': \"NaN\",\n        }],\n [{\n            'v': 499,\n            'f': \"499\",\n        },\n\"JS\",\n\"https://launchpadbemidji.com/photo-galleries/\",\n\"https://launchpadbemidji.com/wp-content/plugins/js_composer/assets/js/dist/js_composer_front.min.js?ver=5.7\",\nNaN,\nNaN,\ntrue,\n{\n            'v': NaN,\n            'f': \"NaN\",\n        }],\n [{\n            'v': 500,\n            'f': \"500\",\n        },\n\"JS\",\n\"https://launchpadbemidji.com/events/\",\n\"https://launchpadbemidji.com/wp-content/plugins/js_composer/assets/js/dist/js_composer_front.min.js?ver=5.7\",\nNaN,\nNaN,\ntrue,\n{\n            'v': NaN,\n            'f': \"NaN\",\n        }],\n [{\n            'v': 501,\n            'f': \"501\",\n        },\n\"JS\",\n\"https://launchpadbemidji.com/videos/\",\n\"https://launchpadbemidji.com/wp-content/plugins/js_composer/assets/js/dist/js_composer_front.min.js?ver=5.7\",\nNaN,\nNaN,\ntrue,\n{\n            'v': NaN,\n            'f': \"NaN\",\n        }],\n [{\n            'v': 502,\n            'f': \"502\",\n        },\n\"JS\",\n\"https://launchpadbemidji.com/membership/\",\n\"https://launchpadbemidji.com/wp-content/plugins/js_composer/assets/js/dist/js_composer_front.min.js?ver=5.7\",\nNaN,\nNaN,\ntrue,\n{\n            'v': NaN,\n            'f': \"NaN\",\n        }],\n [{\n            'v': 503,\n            'f': \"503\",\n        },\n\"JS\",\n\"https://launchpadbemidji.com/current-launchpad-members/\",\n\"https://launchpadbemidji.com/wp-content/plugins/js_composer/assets/js/dist/js_composer_front.min.js?ver=5.7\",\nNaN,\nNaN,\ntrue,\n{\n            'v': NaN,\n            'f': \"NaN\",\n        }],\n [{\n            'v': 504,\n            'f': \"504\",\n        },\n\"JS\",\n\"https://launchpadbemidji.com/resources/\",\n\"https://launchpadbemidji.com/wp-content/plugins/js_composer/assets/js/dist/js_composer_front.min.js?ver=5.7\",\nNaN,\nNaN,\ntrue,\n{\n            'v': NaN,\n            'f': \"NaN\",\n        }],\n [{\n            'v': 505,\n            'f': \"505\",\n        },\n\"AHREF\",\n\"https://launchpadbemidji.com/\",\n\"https://launchpadbemidji.com/membership/\",\n\"Membership\",\nNaN,\ntrue,\n{\n            'v': NaN,\n            'f': \"NaN\",\n        }],\n [{\n            'v': 506,\n            'f': \"506\",\n        },\n\"AHREF\",\n\"https://launchpadbemidji.com/\",\n\"https://launchpadbemidji.com/membership/\",\n\"Membership\",\nNaN,\ntrue,\n{\n            'v': NaN,\n            'f': \"NaN\",\n        }],\n [{\n            'v': 507,\n            'f': \"507\",\n        },\n\"AHREF\",\n\"https://launchpadbemidji.com/\",\n\"https://launchpadbemidji.com/membership/\",\n\"MEMBERSHIP\",\nNaN,\ntrue,\n{\n            'v': NaN,\n            'f': \"NaN\",\n        }],\n [{\n            'v': 508,\n            'f': \"508\",\n        },\n\"AHREF\",\n\"https://launchpadbemidji.com/\",\n\"https://launchpadbemidji.com/membership/\",\n\"Membership\",\nNaN,\ntrue,\n{\n            'v': NaN,\n            'f': \"NaN\",\n        }],\n [{\n            'v': 509,\n            'f': \"509\",\n        },\n\"AHREF\",\n\"https://launchpadbemidji.com/photo-galleries/\",\n\"https://launchpadbemidji.com/membership/\",\n\"Membership\",\nNaN,\ntrue,\n{\n            'v': NaN,\n            'f': \"NaN\",\n        }],\n [{\n            'v': 510,\n            'f': \"510\",\n        },\n\"AHREF\",\n\"https://launchpadbemidji.com/photo-galleries/\",\n\"https://launchpadbemidji.com/membership/\",\n\"Membership\",\nNaN,\ntrue,\n{\n            'v': NaN,\n            'f': \"NaN\",\n        }],\n [{\n            'v': 511,\n            'f': \"511\",\n        },\n\"AHREF\",\n\"https://launchpadbemidji.com/photo-galleries/\",\n\"https://launchpadbemidji.com/membership/\",\n\"Membership\",\nNaN,\ntrue,\n{\n            'v': NaN,\n            'f': \"NaN\",\n        }],\n [{\n            'v': 512,\n            'f': \"512\",\n        },\n\"AHREF\",\n\"https://launchpadbemidji.com/entrepreneur-meet-up/\",\n\"https://launchpadbemidji.com/membership/\",\n\"Membership\",\nNaN,\ntrue,\n{\n            'v': NaN,\n            'f': \"NaN\",\n        }],\n [{\n            'v': 513,\n            'f': \"513\",\n        },\n\"AHREF\",\n\"https://launchpadbemidji.com/entrepreneur-meet-up/\",\n\"https://launchpadbemidji.com/membership/\",\n\"Membership\",\nNaN,\ntrue,\n{\n            'v': NaN,\n            'f': \"NaN\",\n        }],\n [{\n            'v': 514,\n            'f': \"514\",\n        },\n\"AHREF\",\n\"https://launchpadbemidji.com/entrepreneur-meet-up/\",\n\"https://launchpadbemidji.com/membership/\",\n\"Membership\",\nNaN,\ntrue,\n{\n            'v': NaN,\n            'f': \"NaN\",\n        }],\n [{\n            'v': 515,\n            'f': \"515\",\n        },\n\"AHREF\",\n\"https://launchpadbemidji.com/launchpad-staff/\",\n\"https://launchpadbemidji.com/membership/\",\n\"Membership\",\nNaN,\ntrue,\n{\n            'v': NaN,\n            'f': \"NaN\",\n        }],\n [{\n            'v': 516,\n            'f': \"516\",\n        },\n\"AHREF\",\n\"https://launchpadbemidji.com/launchpad-staff/\",\n\"https://launchpadbemidji.com/membership/\",\n\"Membership\",\nNaN,\ntrue,\n{\n            'v': NaN,\n            'f': \"NaN\",\n        }],\n [{\n            'v': 517,\n            'f': \"517\",\n        },\n\"AHREF\",\n\"https://launchpadbemidji.com/launchpad-staff/\",\n\"https://launchpadbemidji.com/membership/\",\n\"Membership\",\nNaN,\ntrue,\n{\n            'v': NaN,\n            'f': \"NaN\",\n        }],\n [{\n            'v': 518,\n            'f': \"518\",\n        },\n\"AHREF\",\n\"https://launchpadbemidji.com/videos/\",\n\"https://launchpadbemidji.com/membership/\",\n\"Membership\",\nNaN,\ntrue,\n{\n            'v': NaN,\n            'f': \"NaN\",\n        }],\n [{\n            'v': 519,\n            'f': \"519\",\n        },\n\"AHREF\",\n\"https://launchpadbemidji.com/videos/\",\n\"https://launchpadbemidji.com/membership/\",\n\"Membership\",\nNaN,\ntrue,\n{\n            'v': NaN,\n            'f': \"NaN\",\n        }],\n [{\n            'v': 520,\n            'f': \"520\",\n        },\n\"AHREF\",\n\"https://launchpadbemidji.com/videos/\",\n\"https://launchpadbemidji.com/membership/\",\n\"Membership\",\nNaN,\ntrue,\n{\n            'v': NaN,\n            'f': \"NaN\",\n        }],\n [{\n            'v': 521,\n            'f': \"521\",\n        },\n\"AHREF\",\n\"https://launchpadbemidji.com/membership/\",\n\"https://launchpadbemidji.com/membership/\",\n\"Membership\",\nNaN,\ntrue,\n{\n            'v': NaN,\n            'f': \"NaN\",\n        }],\n [{\n            'v': 522,\n            'f': \"522\",\n        },\n\"AHREF\",\n\"https://launchpadbemidji.com/membership/\",\n\"https://launchpadbemidji.com/membership/\",\n\"Membership\",\nNaN,\ntrue,\n{\n            'v': NaN,\n            'f': \"NaN\",\n        }],\n [{\n            'v': 523,\n            'f': \"523\",\n        },\n\"AHREF\",\n\"https://launchpadbemidji.com/membership/\",\n\"https://launchpadbemidji.com/membership/\",\n\"Membership\",\nNaN,\ntrue,\n{\n            'v': NaN,\n            'f': \"NaN\",\n        }],\n [{\n            'v': 524,\n            'f': \"524\",\n        },\n\"HTML Canonical\",\n\"https://launchpadbemidji.com/membership/\",\n\"https://launchpadbemidji.com/membership/\",\nNaN,\nNaN,\ntrue,\n{\n            'v': NaN,\n            'f': \"NaN\",\n        }],\n [{\n            'v': 525,\n            'f': \"525\",\n        },\n\"AHREF\",\n\"https://launchpadbemidji.com/current-launchpad-members/\",\n\"https://launchpadbemidji.com/membership/\",\n\"Membership\",\nNaN,\ntrue,\n{\n            'v': NaN,\n            'f': \"NaN\",\n        }],\n [{\n            'v': 526,\n            'f': \"526\",\n        },\n\"AHREF\",\n\"https://launchpadbemidji.com/current-launchpad-members/\",\n\"https://launchpadbemidji.com/membership/\",\n\"Membership\",\nNaN,\ntrue,\n{\n            'v': NaN,\n            'f': \"NaN\",\n        }],\n [{\n            'v': 527,\n            'f': \"527\",\n        },\n\"AHREF\",\n\"https://launchpadbemidji.com/current-launchpad-members/\",\n\"https://launchpadbemidji.com/membership/\",\n\"Membership\",\nNaN,\ntrue,\n{\n            'v': NaN,\n            'f': \"NaN\",\n        }],\n [{\n            'v': 528,\n            'f': \"528\",\n        },\n\"AHREF\",\n\"https://launchpadbemidji.com/contact/\",\n\"https://launchpadbemidji.com/membership/\",\n\"Membership\",\nNaN,\ntrue,\n{\n            'v': NaN,\n            'f': \"NaN\",\n        }],\n [{\n            'v': 529,\n            'f': \"529\",\n        },\n\"AHREF\",\n\"https://launchpadbemidji.com/contact/\",\n\"https://launchpadbemidji.com/membership/\",\n\"Membership\",\nNaN,\ntrue,\n{\n            'v': NaN,\n            'f': \"NaN\",\n        }],\n [{\n            'v': 530,\n            'f': \"530\",\n        },\n\"AHREF\",\n\"https://launchpadbemidji.com/contact/\",\n\"https://launchpadbemidji.com/membership/\",\n\"Membership\",\nNaN,\ntrue,\n{\n            'v': NaN,\n            'f': \"NaN\",\n        }],\n [{\n            'v': 531,\n            'f': \"531\",\n        },\n\"AHREF\",\n\"https://launchpadbemidji.com/covid-19-updates/\",\n\"https://launchpadbemidji.com/membership/\",\n\"Membership\",\nNaN,\ntrue,\n{\n            'v': NaN,\n            'f': \"NaN\",\n        }],\n [{\n            'v': 532,\n            'f': \"532\",\n        },\n\"AHREF\",\n\"https://launchpadbemidji.com/covid-19-updates/\",\n\"https://launchpadbemidji.com/membership/\",\n\"Membership\",\nNaN,\ntrue,\n{\n            'v': NaN,\n            'f': \"NaN\",\n        }],\n [{\n            'v': 533,\n            'f': \"533\",\n        },\n\"AHREF\",\n\"https://launchpadbemidji.com/covid-19-updates/\",\n\"https://launchpadbemidji.com/membership/\",\n\"Membership\",\nNaN,\ntrue,\n{\n            'v': NaN,\n            'f': \"NaN\",\n        }],\n [{\n            'v': 534,\n            'f': \"534\",\n        },\n\"AHREF\",\n\"https://launchpadbemidji.com/resources/\",\n\"https://launchpadbemidji.com/membership/\",\n\"Membership\",\nNaN,\ntrue,\n{\n            'v': NaN,\n            'f': \"NaN\",\n        }],\n [{\n            'v': 535,\n            'f': \"535\",\n        },\n\"AHREF\",\n\"https://launchpadbemidji.com/resources/\",\n\"https://launchpadbemidji.com/membership/\",\n\"Membership\",\nNaN,\ntrue,\n{\n            'v': NaN,\n            'f': \"NaN\",\n        }],\n [{\n            'v': 536,\n            'f': \"536\",\n        },\n\"AHREF\",\n\"https://launchpadbemidji.com/resources/\",\n\"https://launchpadbemidji.com/membership/\",\n\"Membership\",\nNaN,\ntrue,\n{\n            'v': NaN,\n            'f': \"NaN\",\n        }],\n [{\n            'v': 537,\n            'f': \"537\",\n        },\n\"AHREF\",\n\"https://launchpadbemidji.com/about-us/\",\n\"https://launchpadbemidji.com/membership/\",\n\"Membership\",\nNaN,\ntrue,\n{\n            'v': NaN,\n            'f': \"NaN\",\n        }],\n [{\n            'v': 538,\n            'f': \"538\",\n        },\n\"AHREF\",\n\"https://launchpadbemidji.com/about-us/\",\n\"https://launchpadbemidji.com/membership/\",\n\"Membership\",\nNaN,\ntrue,\n{\n            'v': NaN,\n            'f': \"NaN\",\n        }],\n [{\n            'v': 539,\n            'f': \"539\",\n        },\n\"AHREF\",\n\"https://launchpadbemidji.com/about-us/\",\n\"https://launchpadbemidji.com/membership/\",\n\"Membership\",\nNaN,\ntrue,\n{\n            'v': NaN,\n            'f': \"NaN\",\n        }],\n [{\n            'v': 540,\n            'f': \"540\",\n        },\n\"JS\",\n\"https://launchpadbemidji.com/\",\n\"https://launchpadbemidji.com/wp-content/themes/amax/js/libraries.js?ver=5.4.2\",\nNaN,\nNaN,\ntrue,\n{\n            'v': NaN,\n            'f': \"NaN\",\n        }],\n [{\n            'v': 541,\n            'f': \"541\",\n        },\n\"JS\",\n\"https://launchpadbemidji.com/photo-galleries/\",\n\"https://launchpadbemidji.com/wp-content/themes/amax/js/libraries.js?ver=5.4.2\",\nNaN,\nNaN,\ntrue,\n{\n            'v': NaN,\n            'f': \"NaN\",\n        }],\n [{\n            'v': 542,\n            'f': \"542\",\n        },\n\"JS\",\n\"https://launchpadbemidji.com/events/\",\n\"https://launchpadbemidji.com/wp-content/themes/amax/js/libraries.js?ver=5.4.2\",\nNaN,\nNaN,\ntrue,\n{\n            'v': NaN,\n            'f': \"NaN\",\n        }],\n [{\n            'v': 543,\n            'f': \"543\",\n        },\n\"JS\",\n\"https://launchpadbemidji.com/entrepreneur-meet-up/\",\n\"https://launchpadbemidji.com/wp-content/themes/amax/js/libraries.js?ver=5.4.2\",\nNaN,\nNaN,\ntrue,\n{\n            'v': NaN,\n            'f': \"NaN\",\n        }],\n [{\n            'v': 544,\n            'f': \"544\",\n        },\n\"JS\",\n\"https://launchpadbemidji.com/launchpad-staff/\",\n\"https://launchpadbemidji.com/wp-content/themes/amax/js/libraries.js?ver=5.4.2\",\nNaN,\nNaN,\ntrue,\n{\n            'v': NaN,\n            'f': \"NaN\",\n        }],\n [{\n            'v': 545,\n            'f': \"545\",\n        },\n\"JS\",\n\"https://launchpadbemidji.com/videos/\",\n\"https://launchpadbemidji.com/wp-content/themes/amax/js/libraries.js?ver=5.4.2\",\nNaN,\nNaN,\ntrue,\n{\n            'v': NaN,\n            'f': \"NaN\",\n        }],\n [{\n            'v': 546,\n            'f': \"546\",\n        },\n\"JS\",\n\"https://launchpadbemidji.com/membership/\",\n\"https://launchpadbemidji.com/wp-content/themes/amax/js/libraries.js?ver=5.4.2\",\nNaN,\nNaN,\ntrue,\n{\n            'v': NaN,\n            'f': \"NaN\",\n        }],\n [{\n            'v': 547,\n            'f': \"547\",\n        },\n\"JS\",\n\"https://launchpadbemidji.com/current-launchpad-members/\",\n\"https://launchpadbemidji.com/wp-content/themes/amax/js/libraries.js?ver=5.4.2\",\nNaN,\nNaN,\ntrue,\n{\n            'v': NaN,\n            'f': \"NaN\",\n        }],\n [{\n            'v': 548,\n            'f': \"548\",\n        },\n\"JS\",\n\"https://launchpadbemidji.com/contact/\",\n\"https://launchpadbemidji.com/wp-content/themes/amax/js/libraries.js?ver=5.4.2\",\nNaN,\nNaN,\ntrue,\n{\n            'v': NaN,\n            'f': \"NaN\",\n        }],\n [{\n            'v': 549,\n            'f': \"549\",\n        },\n\"JS\",\n\"https://launchpadbemidji.com/covid-19-updates/\",\n\"https://launchpadbemidji.com/wp-content/themes/amax/js/libraries.js?ver=5.4.2\",\nNaN,\nNaN,\ntrue,\n{\n            'v': NaN,\n            'f': \"NaN\",\n        }],\n [{\n            'v': 550,\n            'f': \"550\",\n        },\n\"JS\",\n\"https://launchpadbemidji.com/resources/\",\n\"https://launchpadbemidji.com/wp-content/themes/amax/js/libraries.js?ver=5.4.2\",\nNaN,\nNaN,\ntrue,\n{\n            'v': NaN,\n            'f': \"NaN\",\n        }],\n [{\n            'v': 551,\n            'f': \"551\",\n        },\n\"JS\",\n\"https://launchpadbemidji.com/about-us/\",\n\"https://launchpadbemidji.com/wp-content/themes/amax/js/libraries.js?ver=5.4.2\",\nNaN,\nNaN,\ntrue,\n{\n            'v': NaN,\n            'f': \"NaN\",\n        }],\n [{\n            'v': 552,\n            'f': \"552\",\n        },\n\"AHREF\",\n\"https://launchpadbemidji.com/\",\n\"https://launchpadbemidji.com/current-launchpad-members/\",\n\"Current LaunchPad Members\",\nNaN,\ntrue,\n{\n            'v': NaN,\n            'f': \"NaN\",\n        }],\n [{\n            'v': 553,\n            'f': \"553\",\n        },\n\"AHREF\",\n\"https://launchpadbemidji.com/\",\n\"https://launchpadbemidji.com/current-launchpad-members/\",\n\"Current LaunchPad Members\",\nNaN,\ntrue,\n{\n            'v': NaN,\n            'f': \"NaN\",\n        }],\n [{\n            'v': 554,\n            'f': \"554\",\n        },\n\"AHREF\",\n\"https://launchpadbemidji.com/\",\n\"https://launchpadbemidji.com/current-launchpad-members/\",\n\"Current LaunchPad Members\",\nNaN,\ntrue,\n{\n            'v': NaN,\n            'f': \"NaN\",\n        }],\n [{\n            'v': 555,\n            'f': \"555\",\n        },\n\"AHREF\",\n\"https://launchpadbemidji.com/photo-galleries/\",\n\"https://launchpadbemidji.com/current-launchpad-members/\",\n\"Current LaunchPad Members\",\nNaN,\ntrue,\n{\n            'v': NaN,\n            'f': \"NaN\",\n        }],\n [{\n            'v': 556,\n            'f': \"556\",\n        },\n\"AHREF\",\n\"https://launchpadbemidji.com/photo-galleries/\",\n\"https://launchpadbemidji.com/current-launchpad-members/\",\n\"Current LaunchPad Members\",\nNaN,\ntrue,\n{\n            'v': NaN,\n            'f': \"NaN\",\n        }],\n [{\n            'v': 557,\n            'f': \"557\",\n        },\n\"AHREF\",\n\"https://launchpadbemidji.com/photo-galleries/\",\n\"https://launchpadbemidji.com/current-launchpad-members/\",\n\"Current LaunchPad Members\",\nNaN,\ntrue,\n{\n            'v': NaN,\n            'f': \"NaN\",\n        }],\n [{\n            'v': 558,\n            'f': \"558\",\n        },\n\"AHREF\",\n\"https://launchpadbemidji.com/entrepreneur-meet-up/\",\n\"https://launchpadbemidji.com/current-launchpad-members/\",\n\"Current LaunchPad Members\",\nNaN,\ntrue,\n{\n            'v': NaN,\n            'f': \"NaN\",\n        }],\n [{\n            'v': 559,\n            'f': \"559\",\n        },\n\"AHREF\",\n\"https://launchpadbemidji.com/entrepreneur-meet-up/\",\n\"https://launchpadbemidji.com/current-launchpad-members/\",\n\"Current LaunchPad Members\",\nNaN,\ntrue,\n{\n            'v': NaN,\n            'f': \"NaN\",\n        }],\n [{\n            'v': 560,\n            'f': \"560\",\n        },\n\"AHREF\",\n\"https://launchpadbemidji.com/entrepreneur-meet-up/\",\n\"https://launchpadbemidji.com/current-launchpad-members/\",\n\"Current LaunchPad Members\",\nNaN,\ntrue,\n{\n            'v': NaN,\n            'f': \"NaN\",\n        }],\n [{\n            'v': 561,\n            'f': \"561\",\n        },\n\"AHREF\",\n\"https://launchpadbemidji.com/launchpad-staff/\",\n\"https://launchpadbemidji.com/current-launchpad-members/\",\n\"Current LaunchPad Members\",\nNaN,\ntrue,\n{\n            'v': NaN,\n            'f': \"NaN\",\n        }],\n [{\n            'v': 562,\n            'f': \"562\",\n        },\n\"AHREF\",\n\"https://launchpadbemidji.com/launchpad-staff/\",\n\"https://launchpadbemidji.com/current-launchpad-members/\",\n\"Current LaunchPad Members\",\nNaN,\ntrue,\n{\n            'v': NaN,\n            'f': \"NaN\",\n        }],\n [{\n            'v': 563,\n            'f': \"563\",\n        },\n\"AHREF\",\n\"https://launchpadbemidji.com/launchpad-staff/\",\n\"https://launchpadbemidji.com/current-launchpad-members/\",\n\"Current LaunchPad Members\",\nNaN,\ntrue,\n{\n            'v': NaN,\n            'f': \"NaN\",\n        }],\n [{\n            'v': 564,\n            'f': \"564\",\n        },\n\"AHREF\",\n\"https://launchpadbemidji.com/videos/\",\n\"https://launchpadbemidji.com/current-launchpad-members/\",\n\"Current LaunchPad Members\",\nNaN,\ntrue,\n{\n            'v': NaN,\n            'f': \"NaN\",\n        }],\n [{\n            'v': 565,\n            'f': \"565\",\n        },\n\"AHREF\",\n\"https://launchpadbemidji.com/videos/\",\n\"https://launchpadbemidji.com/current-launchpad-members/\",\n\"Current LaunchPad Members\",\nNaN,\ntrue,\n{\n            'v': NaN,\n            'f': \"NaN\",\n        }],\n [{\n            'v': 566,\n            'f': \"566\",\n        },\n\"AHREF\",\n\"https://launchpadbemidji.com/videos/\",\n\"https://launchpadbemidji.com/current-launchpad-members/\",\n\"Current LaunchPad Members\",\nNaN,\ntrue,\n{\n            'v': NaN,\n            'f': \"NaN\",\n        }],\n [{\n            'v': 567,\n            'f': \"567\",\n        },\n\"AHREF\",\n\"https://launchpadbemidji.com/membership/\",\n\"https://launchpadbemidji.com/current-launchpad-members/\",\n\"Current LaunchPad Members\",\nNaN,\ntrue,\n{\n            'v': NaN,\n            'f': \"NaN\",\n        }],\n [{\n            'v': 568,\n            'f': \"568\",\n        },\n\"AHREF\",\n\"https://launchpadbemidji.com/membership/\",\n\"https://launchpadbemidji.com/current-launchpad-members/\",\n\"Current LaunchPad Members\",\nNaN,\ntrue,\n{\n            'v': NaN,\n            'f': \"NaN\",\n        }],\n [{\n            'v': 569,\n            'f': \"569\",\n        },\n\"AHREF\",\n\"https://launchpadbemidji.com/membership/\",\n\"https://launchpadbemidji.com/current-launchpad-members/\",\n\"Current LaunchPad Members\",\nNaN,\ntrue,\n{\n            'v': NaN,\n            'f': \"NaN\",\n        }],\n [{\n            'v': 570,\n            'f': \"570\",\n        },\n\"AHREF\",\n\"https://launchpadbemidji.com/current-launchpad-members/\",\n\"https://launchpadbemidji.com/current-launchpad-members/\",\n\"Current LaunchPad Members\",\nNaN,\ntrue,\n{\n            'v': NaN,\n            'f': \"NaN\",\n        }],\n [{\n            'v': 571,\n            'f': \"571\",\n        },\n\"AHREF\",\n\"https://launchpadbemidji.com/current-launchpad-members/\",\n\"https://launchpadbemidji.com/current-launchpad-members/\",\n\"Current LaunchPad Members\",\nNaN,\ntrue,\n{\n            'v': NaN,\n            'f': \"NaN\",\n        }],\n [{\n            'v': 572,\n            'f': \"572\",\n        },\n\"AHREF\",\n\"https://launchpadbemidji.com/current-launchpad-members/\",\n\"https://launchpadbemidji.com/current-launchpad-members/\",\n\"Current LaunchPad Members\",\nNaN,\ntrue,\n{\n            'v': NaN,\n            'f': \"NaN\",\n        }],\n [{\n            'v': 573,\n            'f': \"573\",\n        },\n\"HTML Canonical\",\n\"https://launchpadbemidji.com/current-launchpad-members/\",\n\"https://launchpadbemidji.com/current-launchpad-members/\",\nNaN,\nNaN,\ntrue,\n{\n            'v': NaN,\n            'f': \"NaN\",\n        }],\n [{\n            'v': 574,\n            'f': \"574\",\n        },\n\"AHREF\",\n\"https://launchpadbemidji.com/contact/\",\n\"https://launchpadbemidji.com/current-launchpad-members/\",\n\"Current LaunchPad Members\",\nNaN,\ntrue,\n{\n            'v': NaN,\n            'f': \"NaN\",\n        }],\n [{\n            'v': 575,\n            'f': \"575\",\n        },\n\"AHREF\",\n\"https://launchpadbemidji.com/contact/\",\n\"https://launchpadbemidji.com/current-launchpad-members/\",\n\"Current LaunchPad Members\",\nNaN,\ntrue,\n{\n            'v': NaN,\n            'f': \"NaN\",\n        }],\n [{\n            'v': 576,\n            'f': \"576\",\n        },\n\"AHREF\",\n\"https://launchpadbemidji.com/contact/\",\n\"https://launchpadbemidji.com/current-launchpad-members/\",\n\"Current LaunchPad Members\",\nNaN,\ntrue,\n{\n            'v': NaN,\n            'f': \"NaN\",\n        }],\n [{\n            'v': 577,\n            'f': \"577\",\n        },\n\"AHREF\",\n\"https://launchpadbemidji.com/covid-19-updates/\",\n\"https://launchpadbemidji.com/current-launchpad-members/\",\n\"Current LaunchPad Members\",\nNaN,\ntrue,\n{\n            'v': NaN,\n            'f': \"NaN\",\n        }],\n [{\n            'v': 578,\n            'f': \"578\",\n        },\n\"AHREF\",\n\"https://launchpadbemidji.com/covid-19-updates/\",\n\"https://launchpadbemidji.com/current-launchpad-members/\",\n\"Current LaunchPad Members\",\nNaN,\ntrue,\n{\n            'v': NaN,\n            'f': \"NaN\",\n        }],\n [{\n            'v': 579,\n            'f': \"579\",\n        },\n\"AHREF\",\n\"https://launchpadbemidji.com/covid-19-updates/\",\n\"https://launchpadbemidji.com/current-launchpad-members/\",\n\"Current LaunchPad Members\",\nNaN,\ntrue,\n{\n            'v': NaN,\n            'f': \"NaN\",\n        }],\n [{\n            'v': 580,\n            'f': \"580\",\n        },\n\"AHREF\",\n\"https://launchpadbemidji.com/resources/\",\n\"https://launchpadbemidji.com/current-launchpad-members/\",\n\"Current LaunchPad Members\",\nNaN,\ntrue,\n{\n            'v': NaN,\n            'f': \"NaN\",\n        }],\n [{\n            'v': 581,\n            'f': \"581\",\n        },\n\"AHREF\",\n\"https://launchpadbemidji.com/resources/\",\n\"https://launchpadbemidji.com/current-launchpad-members/\",\n\"Current LaunchPad Members\",\nNaN,\ntrue,\n{\n            'v': NaN,\n            'f': \"NaN\",\n        }],\n [{\n            'v': 582,\n            'f': \"582\",\n        },\n\"AHREF\",\n\"https://launchpadbemidji.com/resources/\",\n\"https://launchpadbemidji.com/current-launchpad-members/\",\n\"Current LaunchPad Members\",\nNaN,\ntrue,\n{\n            'v': NaN,\n            'f': \"NaN\",\n        }],\n [{\n            'v': 583,\n            'f': \"583\",\n        },\n\"AHREF\",\n\"https://launchpadbemidji.com/about-us/\",\n\"https://launchpadbemidji.com/current-launchpad-members/\",\n\"Current LaunchPad Members\",\nNaN,\ntrue,\n{\n            'v': NaN,\n            'f': \"NaN\",\n        }],\n [{\n            'v': 584,\n            'f': \"584\",\n        },\n\"AHREF\",\n\"https://launchpadbemidji.com/about-us/\",\n\"https://launchpadbemidji.com/current-launchpad-members/\",\n\"Current LaunchPad Members\",\nNaN,\ntrue,\n{\n            'v': NaN,\n            'f': \"NaN\",\n        }],\n [{\n            'v': 585,\n            'f': \"585\",\n        },\n\"AHREF\",\n\"https://launchpadbemidji.com/about-us/\",\n\"https://launchpadbemidji.com/current-launchpad-members/\",\n\"Current LaunchPad Members\",\nNaN,\ntrue,\n{\n            'v': NaN,\n            'f': \"NaN\",\n        }],\n [{\n            'v': 586,\n            'f': \"586\",\n        },\n\"JS\",\n\"https://launchpadbemidji.com/\",\n\"https://launchpadbemidji.com/wp-content/plugins/simple-social-icons/svgxuse.js?ver=1.1.21\",\nNaN,\nNaN,\ntrue,\n{\n            'v': NaN,\n            'f': \"NaN\",\n        }],\n [{\n            'v': 587,\n            'f': \"587\",\n        },\n\"JS\",\n\"https://launchpadbemidji.com/photo-galleries/\",\n\"https://launchpadbemidji.com/wp-content/plugins/simple-social-icons/svgxuse.js?ver=1.1.21\",\nNaN,\nNaN,\ntrue,\n{\n            'v': NaN,\n            'f': \"NaN\",\n        }],\n [{\n            'v': 588,\n            'f': \"588\",\n        },\n\"JS\",\n\"https://launchpadbemidji.com/events/\",\n\"https://launchpadbemidji.com/wp-content/plugins/simple-social-icons/svgxuse.js?ver=1.1.21\",\nNaN,\nNaN,\ntrue,\n{\n            'v': NaN,\n            'f': \"NaN\",\n        }],\n [{\n            'v': 589,\n            'f': \"589\",\n        },\n\"JS\",\n\"https://launchpadbemidji.com/entrepreneur-meet-up/\",\n\"https://launchpadbemidji.com/wp-content/plugins/simple-social-icons/svgxuse.js?ver=1.1.21\",\nNaN,\nNaN,\ntrue,\n{\n            'v': NaN,\n            'f': \"NaN\",\n        }],\n [{\n            'v': 590,\n            'f': \"590\",\n        },\n\"JS\",\n\"https://launchpadbemidji.com/launchpad-staff/\",\n\"https://launchpadbemidji.com/wp-content/plugins/simple-social-icons/svgxuse.js?ver=1.1.21\",\nNaN,\nNaN,\ntrue,\n{\n            'v': NaN,\n            'f': \"NaN\",\n        }],\n [{\n            'v': 591,\n            'f': \"591\",\n        },\n\"JS\",\n\"https://launchpadbemidji.com/videos/\",\n\"https://launchpadbemidji.com/wp-content/plugins/simple-social-icons/svgxuse.js?ver=1.1.21\",\nNaN,\nNaN,\ntrue,\n{\n            'v': NaN,\n            'f': \"NaN\",\n        }],\n [{\n            'v': 592,\n            'f': \"592\",\n        },\n\"JS\",\n\"https://launchpadbemidji.com/membership/\",\n\"https://launchpadbemidji.com/wp-content/plugins/simple-social-icons/svgxuse.js?ver=1.1.21\",\nNaN,\nNaN,\ntrue,\n{\n            'v': NaN,\n            'f': \"NaN\",\n        }],\n [{\n            'v': 593,\n            'f': \"593\",\n        },\n\"JS\",\n\"https://launchpadbemidji.com/current-launchpad-members/\",\n\"https://launchpadbemidji.com/wp-content/plugins/simple-social-icons/svgxuse.js?ver=1.1.21\",\nNaN,\nNaN,\ntrue,\n{\n            'v': NaN,\n            'f': \"NaN\",\n        }],\n [{\n            'v': 594,\n            'f': \"594\",\n        },\n\"JS\",\n\"https://launchpadbemidji.com/contact/\",\n\"https://launchpadbemidji.com/wp-content/plugins/simple-social-icons/svgxuse.js?ver=1.1.21\",\nNaN,\nNaN,\ntrue,\n{\n            'v': NaN,\n            'f': \"NaN\",\n        }],\n [{\n            'v': 595,\n            'f': \"595\",\n        },\n\"JS\",\n\"https://launchpadbemidji.com/covid-19-updates/\",\n\"https://launchpadbemidji.com/wp-content/plugins/simple-social-icons/svgxuse.js?ver=1.1.21\",\nNaN,\nNaN,\ntrue,\n{\n            'v': NaN,\n            'f': \"NaN\",\n        }],\n [{\n            'v': 596,\n            'f': \"596\",\n        },\n\"JS\",\n\"https://launchpadbemidji.com/resources/\",\n\"https://launchpadbemidji.com/wp-content/plugins/simple-social-icons/svgxuse.js?ver=1.1.21\",\nNaN,\nNaN,\ntrue,\n{\n            'v': NaN,\n            'f': \"NaN\",\n        }],\n [{\n            'v': 597,\n            'f': \"597\",\n        },\n\"JS\",\n\"https://launchpadbemidji.com/about-us/\",\n\"https://launchpadbemidji.com/wp-content/plugins/simple-social-icons/svgxuse.js?ver=1.1.21\",\nNaN,\nNaN,\ntrue,\n{\n            'v': NaN,\n            'f': \"NaN\",\n        }],\n [{\n            'v': 598,\n            'f': \"598\",\n        },\n\"JS\",\n\"https://launchpadbemidji.com/\",\n\"https://launchpadbemidji.com/wp-content/themes/amax/libraries/prettyphoto/js/jquery.prettyPhoto.custom.min.js?ver=5.4.2\",\nNaN,\nNaN,\ntrue,\n{\n            'v': NaN,\n            'f': \"NaN\",\n        }],\n [{\n            'v': 599,\n            'f': \"599\",\n        },\n\"JS\",\n\"https://launchpadbemidji.com/photo-galleries/\",\n\"https://launchpadbemidji.com/wp-content/themes/amax/libraries/prettyphoto/js/jquery.prettyPhoto.custom.min.js?ver=5.4.2\",\nNaN,\nNaN,\ntrue,\n{\n            'v': NaN,\n            'f': \"NaN\",\n        }],\n [{\n            'v': 600,\n            'f': \"600\",\n        },\n\"JS\",\n\"https://launchpadbemidji.com/events/\",\n\"https://launchpadbemidji.com/wp-content/themes/amax/libraries/prettyphoto/js/jquery.prettyPhoto.custom.min.js?ver=5.4.2\",\nNaN,\nNaN,\ntrue,\n{\n            'v': NaN,\n            'f': \"NaN\",\n        }],\n [{\n            'v': 601,\n            'f': \"601\",\n        },\n\"JS\",\n\"https://launchpadbemidji.com/entrepreneur-meet-up/\",\n\"https://launchpadbemidji.com/wp-content/themes/amax/libraries/prettyphoto/js/jquery.prettyPhoto.custom.min.js?ver=5.4.2\",\nNaN,\nNaN,\ntrue,\n{\n            'v': NaN,\n            'f': \"NaN\",\n        }],\n [{\n            'v': 602,\n            'f': \"602\",\n        },\n\"JS\",\n\"https://launchpadbemidji.com/launchpad-staff/\",\n\"https://launchpadbemidji.com/wp-content/themes/amax/libraries/prettyphoto/js/jquery.prettyPhoto.custom.min.js?ver=5.4.2\",\nNaN,\nNaN,\ntrue,\n{\n            'v': NaN,\n            'f': \"NaN\",\n        }],\n [{\n            'v': 603,\n            'f': \"603\",\n        },\n\"JS\",\n\"https://launchpadbemidji.com/videos/\",\n\"https://launchpadbemidji.com/wp-content/themes/amax/libraries/prettyphoto/js/jquery.prettyPhoto.custom.min.js?ver=5.4.2\",\nNaN,\nNaN,\ntrue,\n{\n            'v': NaN,\n            'f': \"NaN\",\n        }],\n [{\n            'v': 604,\n            'f': \"604\",\n        },\n\"JS\",\n\"https://launchpadbemidji.com/membership/\",\n\"https://launchpadbemidji.com/wp-content/themes/amax/libraries/prettyphoto/js/jquery.prettyPhoto.custom.min.js?ver=5.4.2\",\nNaN,\nNaN,\ntrue,\n{\n            'v': NaN,\n            'f': \"NaN\",\n        }],\n [{\n            'v': 605,\n            'f': \"605\",\n        },\n\"JS\",\n\"https://launchpadbemidji.com/current-launchpad-members/\",\n\"https://launchpadbemidji.com/wp-content/themes/amax/libraries/prettyphoto/js/jquery.prettyPhoto.custom.min.js?ver=5.4.2\",\nNaN,\nNaN,\ntrue,\n{\n            'v': NaN,\n            'f': \"NaN\",\n        }],\n [{\n            'v': 606,\n            'f': \"606\",\n        },\n\"JS\",\n\"https://launchpadbemidji.com/contact/\",\n\"https://launchpadbemidji.com/wp-content/themes/amax/libraries/prettyphoto/js/jquery.prettyPhoto.custom.min.js?ver=5.4.2\",\nNaN,\nNaN,\ntrue,\n{\n            'v': NaN,\n            'f': \"NaN\",\n        }],\n [{\n            'v': 607,\n            'f': \"607\",\n        },\n\"JS\",\n\"https://launchpadbemidji.com/covid-19-updates/\",\n\"https://launchpadbemidji.com/wp-content/themes/amax/libraries/prettyphoto/js/jquery.prettyPhoto.custom.min.js?ver=5.4.2\",\nNaN,\nNaN,\ntrue,\n{\n            'v': NaN,\n            'f': \"NaN\",\n        }],\n [{\n            'v': 608,\n            'f': \"608\",\n        },\n\"JS\",\n\"https://launchpadbemidji.com/resources/\",\n\"https://launchpadbemidji.com/wp-content/themes/amax/libraries/prettyphoto/js/jquery.prettyPhoto.custom.min.js?ver=5.4.2\",\nNaN,\nNaN,\ntrue,\n{\n            'v': NaN,\n            'f': \"NaN\",\n        }],\n [{\n            'v': 609,\n            'f': \"609\",\n        },\n\"JS\",\n\"https://launchpadbemidji.com/about-us/\",\n\"https://launchpadbemidji.com/wp-content/themes/amax/libraries/prettyphoto/js/jquery.prettyPhoto.custom.min.js?ver=5.4.2\",\nNaN,\nNaN,\ntrue,\n{\n            'v': NaN,\n            'f': \"NaN\",\n        }],\n [{\n            'v': 610,\n            'f': \"610\",\n        },\n\"JS\",\n\"https://launchpadbemidji.com/\",\n\"https://launchpadbemidji.com/wp-includes/js/wp-embed.min.js?ver=5.4.2\",\nNaN,\nNaN,\ntrue,\n{\n            'v': NaN,\n            'f': \"NaN\",\n        }],\n [{\n            'v': 611,\n            'f': \"611\",\n        },\n\"JS\",\n\"https://launchpadbemidji.com/photo-galleries/\",\n\"https://launchpadbemidji.com/wp-includes/js/wp-embed.min.js?ver=5.4.2\",\nNaN,\nNaN,\ntrue,\n{\n            'v': NaN,\n            'f': \"NaN\",\n        }],\n [{\n            'v': 612,\n            'f': \"612\",\n        },\n\"JS\",\n\"https://launchpadbemidji.com/events/\",\n\"https://launchpadbemidji.com/wp-includes/js/wp-embed.min.js?ver=5.4.2\",\nNaN,\nNaN,\ntrue,\n{\n            'v': NaN,\n            'f': \"NaN\",\n        }],\n [{\n            'v': 613,\n            'f': \"613\",\n        },\n\"JS\",\n\"https://launchpadbemidji.com/entrepreneur-meet-up/\",\n\"https://launchpadbemidji.com/wp-includes/js/wp-embed.min.js?ver=5.4.2\",\nNaN,\nNaN,\ntrue,\n{\n            'v': NaN,\n            'f': \"NaN\",\n        }],\n [{\n            'v': 614,\n            'f': \"614\",\n        },\n\"JS\",\n\"https://launchpadbemidji.com/launchpad-staff/\",\n\"https://launchpadbemidji.com/wp-includes/js/wp-embed.min.js?ver=5.4.2\",\nNaN,\nNaN,\ntrue,\n{\n            'v': NaN,\n            'f': \"NaN\",\n        }],\n [{\n            'v': 615,\n            'f': \"615\",\n        },\n\"JS\",\n\"https://launchpadbemidji.com/videos/\",\n\"https://launchpadbemidji.com/wp-includes/js/wp-embed.min.js?ver=5.4.2\",\nNaN,\nNaN,\ntrue,\n{\n            'v': NaN,\n            'f': \"NaN\",\n        }],\n [{\n            'v': 616,\n            'f': \"616\",\n        },\n\"JS\",\n\"https://launchpadbemidji.com/membership/\",\n\"https://launchpadbemidji.com/wp-includes/js/wp-embed.min.js?ver=5.4.2\",\nNaN,\nNaN,\ntrue,\n{\n            'v': NaN,\n            'f': \"NaN\",\n        }],\n [{\n            'v': 617,\n            'f': \"617\",\n        },\n\"JS\",\n\"https://launchpadbemidji.com/current-launchpad-members/\",\n\"https://launchpadbemidji.com/wp-includes/js/wp-embed.min.js?ver=5.4.2\",\nNaN,\nNaN,\ntrue,\n{\n            'v': NaN,\n            'f': \"NaN\",\n        }],\n [{\n            'v': 618,\n            'f': \"618\",\n        },\n\"JS\",\n\"https://launchpadbemidji.com/contact/\",\n\"https://launchpadbemidji.com/wp-includes/js/wp-embed.min.js?ver=5.4.2\",\nNaN,\nNaN,\ntrue,\n{\n            'v': NaN,\n            'f': \"NaN\",\n        }],\n [{\n            'v': 619,\n            'f': \"619\",\n        },\n\"JS\",\n\"https://launchpadbemidji.com/covid-19-updates/\",\n\"https://launchpadbemidji.com/wp-includes/js/wp-embed.min.js?ver=5.4.2\",\nNaN,\nNaN,\ntrue,\n{\n            'v': NaN,\n            'f': \"NaN\",\n        }],\n [{\n            'v': 620,\n            'f': \"620\",\n        },\n\"JS\",\n\"https://launchpadbemidji.com/resources/\",\n\"https://launchpadbemidji.com/wp-includes/js/wp-embed.min.js?ver=5.4.2\",\nNaN,\nNaN,\ntrue,\n{\n            'v': NaN,\n            'f': \"NaN\",\n        }],\n [{\n            'v': 621,\n            'f': \"621\",\n        },\n\"JS\",\n\"https://launchpadbemidji.com/about-us/\",\n\"https://launchpadbemidji.com/wp-includes/js/wp-embed.min.js?ver=5.4.2\",\nNaN,\nNaN,\ntrue,\n{\n            'v': NaN,\n            'f': \"NaN\",\n        }],\n [{\n            'v': 622,\n            'f': \"622\",\n        },\n\"IMG\",\n\"https://launchpadbemidji.com/\",\n\"https://launchpadbemidji.com/wp-content/uploads/2015/05/IMG_8969.jpg\",\nNaN,\nNaN,\ntrue,\n{\n            'v': NaN,\n            'f': \"NaN\",\n        }],\n [{\n            'v': 623,\n            'f': \"623\",\n        },\n\"CSS\",\n\"https://launchpadbemidji.com/\",\n\"https://launchpadbemidji.com/wp-content/plugins/youtube-embed-plus/styles/ytprefs.min.css?ver=13.4\",\nNaN,\nNaN,\ntrue,\n{\n            'v': NaN,\n            'f': \"NaN\",\n        }],\n [{\n            'v': 624,\n            'f': \"624\",\n        },\n\"CSS\",\n\"https://launchpadbemidji.com/photo-galleries/\",\n\"https://launchpadbemidji.com/wp-content/plugins/youtube-embed-plus/styles/ytprefs.min.css?ver=13.4\",\nNaN,\nNaN,\ntrue,\n{\n            'v': NaN,\n            'f': \"NaN\",\n        }],\n [{\n            'v': 625,\n            'f': \"625\",\n        },\n\"CSS\",\n\"https://launchpadbemidji.com/events/\",\n\"https://launchpadbemidji.com/wp-content/plugins/youtube-embed-plus/styles/ytprefs.min.css?ver=13.4\",\nNaN,\nNaN,\ntrue,\n{\n            'v': NaN,\n            'f': \"NaN\",\n        }],\n [{\n            'v': 626,\n            'f': \"626\",\n        },\n\"CSS\",\n\"https://launchpadbemidji.com/entrepreneur-meet-up/\",\n\"https://launchpadbemidji.com/wp-content/plugins/youtube-embed-plus/styles/ytprefs.min.css?ver=13.4\",\nNaN,\nNaN,\ntrue,\n{\n            'v': NaN,\n            'f': \"NaN\",\n        }],\n [{\n            'v': 627,\n            'f': \"627\",\n        },\n\"CSS\",\n\"https://launchpadbemidji.com/launchpad-staff/\",\n\"https://launchpadbemidji.com/wp-content/plugins/youtube-embed-plus/styles/ytprefs.min.css?ver=13.4\",\nNaN,\nNaN,\ntrue,\n{\n            'v': NaN,\n            'f': \"NaN\",\n        }],\n [{\n            'v': 628,\n            'f': \"628\",\n        },\n\"CSS\",\n\"https://launchpadbemidji.com/videos/\",\n\"https://launchpadbemidji.com/wp-content/plugins/youtube-embed-plus/styles/ytprefs.min.css?ver=13.4\",\nNaN,\nNaN,\ntrue,\n{\n            'v': NaN,\n            'f': \"NaN\",\n        }],\n [{\n            'v': 629,\n            'f': \"629\",\n        },\n\"CSS\",\n\"https://launchpadbemidji.com/membership/\",\n\"https://launchpadbemidji.com/wp-content/plugins/youtube-embed-plus/styles/ytprefs.min.css?ver=13.4\",\nNaN,\nNaN,\ntrue,\n{\n            'v': NaN,\n            'f': \"NaN\",\n        }],\n [{\n            'v': 630,\n            'f': \"630\",\n        },\n\"CSS\",\n\"https://launchpadbemidji.com/current-launchpad-members/\",\n\"https://launchpadbemidji.com/wp-content/plugins/youtube-embed-plus/styles/ytprefs.min.css?ver=13.4\",\nNaN,\nNaN,\ntrue,\n{\n            'v': NaN,\n            'f': \"NaN\",\n        }],\n [{\n            'v': 631,\n            'f': \"631\",\n        },\n\"CSS\",\n\"https://launchpadbemidji.com/contact/\",\n\"https://launchpadbemidji.com/wp-content/plugins/youtube-embed-plus/styles/ytprefs.min.css?ver=13.4\",\nNaN,\nNaN,\ntrue,\n{\n            'v': NaN,\n            'f': \"NaN\",\n        }],\n [{\n            'v': 632,\n            'f': \"632\",\n        },\n\"CSS\",\n\"https://launchpadbemidji.com/covid-19-updates/\",\n\"https://launchpadbemidji.com/wp-content/plugins/youtube-embed-plus/styles/ytprefs.min.css?ver=13.4\",\nNaN,\nNaN,\ntrue,\n{\n            'v': NaN,\n            'f': \"NaN\",\n        }],\n [{\n            'v': 633,\n            'f': \"633\",\n        },\n\"CSS\",\n\"https://launchpadbemidji.com/resources/\",\n\"https://launchpadbemidji.com/wp-content/plugins/youtube-embed-plus/styles/ytprefs.min.css?ver=13.4\",\nNaN,\nNaN,\ntrue,\n{\n            'v': NaN,\n            'f': \"NaN\",\n        }],\n [{\n            'v': 634,\n            'f': \"634\",\n        },\n\"CSS\",\n\"https://launchpadbemidji.com/about-us/\",\n\"https://launchpadbemidji.com/wp-content/plugins/youtube-embed-plus/styles/ytprefs.min.css?ver=13.4\",\nNaN,\nNaN,\ntrue,\n{\n            'v': NaN,\n            'f': \"NaN\",\n        }],\n [{\n            'v': 635,\n            'f': \"635\",\n        },\n\"JS\",\n\"https://launchpadbemidji.com/\",\n\"https://launchpadbemidji.com/wp-includes/js/jquery/jquery.js?ver=1.12.4-wp\",\nNaN,\nNaN,\ntrue,\n{\n            'v': NaN,\n            'f': \"NaN\",\n        }],\n [{\n            'v': 636,\n            'f': \"636\",\n        },\n\"JS\",\n\"https://launchpadbemidji.com/photo-galleries/\",\n\"https://launchpadbemidji.com/wp-includes/js/jquery/jquery.js?ver=1.12.4-wp\",\nNaN,\nNaN,\ntrue,\n{\n            'v': NaN,\n            'f': \"NaN\",\n        }],\n [{\n            'v': 637,\n            'f': \"637\",\n        },\n\"JS\",\n\"https://launchpadbemidji.com/events/\",\n\"https://launchpadbemidji.com/wp-includes/js/jquery/jquery.js?ver=1.12.4-wp\",\nNaN,\nNaN,\ntrue,\n{\n            'v': NaN,\n            'f': \"NaN\",\n        }],\n [{\n            'v': 638,\n            'f': \"638\",\n        },\n\"JS\",\n\"https://launchpadbemidji.com/entrepreneur-meet-up/\",\n\"https://launchpadbemidji.com/wp-includes/js/jquery/jquery.js?ver=1.12.4-wp\",\nNaN,\nNaN,\ntrue,\n{\n            'v': NaN,\n            'f': \"NaN\",\n        }],\n [{\n            'v': 639,\n            'f': \"639\",\n        },\n\"JS\",\n\"https://launchpadbemidji.com/launchpad-staff/\",\n\"https://launchpadbemidji.com/wp-includes/js/jquery/jquery.js?ver=1.12.4-wp\",\nNaN,\nNaN,\ntrue,\n{\n            'v': NaN,\n            'f': \"NaN\",\n        }],\n [{\n            'v': 640,\n            'f': \"640\",\n        },\n\"JS\",\n\"https://launchpadbemidji.com/videos/\",\n\"https://launchpadbemidji.com/wp-includes/js/jquery/jquery.js?ver=1.12.4-wp\",\nNaN,\nNaN,\ntrue,\n{\n            'v': NaN,\n            'f': \"NaN\",\n        }],\n [{\n            'v': 641,\n            'f': \"641\",\n        },\n\"JS\",\n\"https://launchpadbemidji.com/membership/\",\n\"https://launchpadbemidji.com/wp-includes/js/jquery/jquery.js?ver=1.12.4-wp\",\nNaN,\nNaN,\ntrue,\n{\n            'v': NaN,\n            'f': \"NaN\",\n        }],\n [{\n            'v': 642,\n            'f': \"642\",\n        },\n\"JS\",\n\"https://launchpadbemidji.com/current-launchpad-members/\",\n\"https://launchpadbemidji.com/wp-includes/js/jquery/jquery.js?ver=1.12.4-wp\",\nNaN,\nNaN,\ntrue,\n{\n            'v': NaN,\n            'f': \"NaN\",\n        }],\n [{\n            'v': 643,\n            'f': \"643\",\n        },\n\"JS\",\n\"https://launchpadbemidji.com/contact/\",\n\"https://launchpadbemidji.com/wp-includes/js/jquery/jquery.js?ver=1.12.4-wp\",\nNaN,\nNaN,\ntrue,\n{\n            'v': NaN,\n            'f': \"NaN\",\n        }],\n [{\n            'v': 644,\n            'f': \"644\",\n        },\n\"JS\",\n\"https://launchpadbemidji.com/covid-19-updates/\",\n\"https://launchpadbemidji.com/wp-includes/js/jquery/jquery.js?ver=1.12.4-wp\",\nNaN,\nNaN,\ntrue,\n{\n            'v': NaN,\n            'f': \"NaN\",\n        }],\n [{\n            'v': 645,\n            'f': \"645\",\n        },\n\"JS\",\n\"https://launchpadbemidji.com/resources/\",\n\"https://launchpadbemidji.com/wp-includes/js/jquery/jquery.js?ver=1.12.4-wp\",\nNaN,\nNaN,\ntrue,\n{\n            'v': NaN,\n            'f': \"NaN\",\n        }],\n [{\n            'v': 646,\n            'f': \"646\",\n        },\n\"JS\",\n\"https://launchpadbemidji.com/about-us/\",\n\"https://launchpadbemidji.com/wp-includes/js/jquery/jquery.js?ver=1.12.4-wp\",\nNaN,\nNaN,\ntrue,\n{\n            'v': NaN,\n            'f': \"NaN\",\n        }],\n [{\n            'v': 647,\n            'f': \"647\",\n        },\n\"JS\",\n\"https://launchpadbemidji.com/\",\n\"https://launchpadbemidji.com/wp-content/plugins/youtube-embed-plus/scripts/ytprefs.min.js?ver=13.4\",\nNaN,\nNaN,\ntrue,\n{\n            'v': NaN,\n            'f': \"NaN\",\n        }],\n [{\n            'v': 648,\n            'f': \"648\",\n        },\n\"JS\",\n\"https://launchpadbemidji.com/photo-galleries/\",\n\"https://launchpadbemidji.com/wp-content/plugins/youtube-embed-plus/scripts/ytprefs.min.js?ver=13.4\",\nNaN,\nNaN,\ntrue,\n{\n            'v': NaN,\n            'f': \"NaN\",\n        }],\n [{\n            'v': 649,\n            'f': \"649\",\n        },\n\"JS\",\n\"https://launchpadbemidji.com/events/\",\n\"https://launchpadbemidji.com/wp-content/plugins/youtube-embed-plus/scripts/ytprefs.min.js?ver=13.4\",\nNaN,\nNaN,\ntrue,\n{\n            'v': NaN,\n            'f': \"NaN\",\n        }],\n [{\n            'v': 650,\n            'f': \"650\",\n        },\n\"JS\",\n\"https://launchpadbemidji.com/entrepreneur-meet-up/\",\n\"https://launchpadbemidji.com/wp-content/plugins/youtube-embed-plus/scripts/ytprefs.min.js?ver=13.4\",\nNaN,\nNaN,\ntrue,\n{\n            'v': NaN,\n            'f': \"NaN\",\n        }],\n [{\n            'v': 651,\n            'f': \"651\",\n        },\n\"JS\",\n\"https://launchpadbemidji.com/launchpad-staff/\",\n\"https://launchpadbemidji.com/wp-content/plugins/youtube-embed-plus/scripts/ytprefs.min.js?ver=13.4\",\nNaN,\nNaN,\ntrue,\n{\n            'v': NaN,\n            'f': \"NaN\",\n        }],\n [{\n            'v': 652,\n            'f': \"652\",\n        },\n\"JS\",\n\"https://launchpadbemidji.com/videos/\",\n\"https://launchpadbemidji.com/wp-content/plugins/youtube-embed-plus/scripts/ytprefs.min.js?ver=13.4\",\nNaN,\nNaN,\ntrue,\n{\n            'v': NaN,\n            'f': \"NaN\",\n        }],\n [{\n            'v': 653,\n            'f': \"653\",\n        },\n\"JS\",\n\"https://launchpadbemidji.com/membership/\",\n\"https://launchpadbemidji.com/wp-content/plugins/youtube-embed-plus/scripts/ytprefs.min.js?ver=13.4\",\nNaN,\nNaN,\ntrue,\n{\n            'v': NaN,\n            'f': \"NaN\",\n        }],\n [{\n            'v': 654,\n            'f': \"654\",\n        },\n\"JS\",\n\"https://launchpadbemidji.com/current-launchpad-members/\",\n\"https://launchpadbemidji.com/wp-content/plugins/youtube-embed-plus/scripts/ytprefs.min.js?ver=13.4\",\nNaN,\nNaN,\ntrue,\n{\n            'v': NaN,\n            'f': \"NaN\",\n        }],\n [{\n            'v': 655,\n            'f': \"655\",\n        },\n\"JS\",\n\"https://launchpadbemidji.com/contact/\",\n\"https://launchpadbemidji.com/wp-content/plugins/youtube-embed-plus/scripts/ytprefs.min.js?ver=13.4\",\nNaN,\nNaN,\ntrue,\n{\n            'v': NaN,\n            'f': \"NaN\",\n        }],\n [{\n            'v': 656,\n            'f': \"656\",\n        },\n\"JS\",\n\"https://launchpadbemidji.com/covid-19-updates/\",\n\"https://launchpadbemidji.com/wp-content/plugins/youtube-embed-plus/scripts/ytprefs.min.js?ver=13.4\",\nNaN,\nNaN,\ntrue,\n{\n            'v': NaN,\n            'f': \"NaN\",\n        }],\n [{\n            'v': 657,\n            'f': \"657\",\n        },\n\"JS\",\n\"https://launchpadbemidji.com/resources/\",\n\"https://launchpadbemidji.com/wp-content/plugins/youtube-embed-plus/scripts/ytprefs.min.js?ver=13.4\",\nNaN,\nNaN,\ntrue,\n{\n            'v': NaN,\n            'f': \"NaN\",\n        }],\n [{\n            'v': 658,\n            'f': \"658\",\n        },\n\"JS\",\n\"https://launchpadbemidji.com/about-us/\",\n\"https://launchpadbemidji.com/wp-content/plugins/youtube-embed-plus/scripts/ytprefs.min.js?ver=13.4\",\nNaN,\nNaN,\ntrue,\n{\n            'v': NaN,\n            'f': \"NaN\",\n        }],\n [{\n            'v': 659,\n            'f': \"659\",\n        },\n\"JS\",\n\"https://launchpadbemidji.com/\",\n\"https://launchpadbemidji.com/wp-content/plugins/revslider/public/assets/js/jquery.themepunch.tools.min.js?ver=5.4.6.1\",\nNaN,\nNaN,\ntrue,\n{\n            'v': NaN,\n            'f': \"NaN\",\n        }],\n [{\n            'v': 660,\n            'f': \"660\",\n        },\n\"JS\",\n\"https://launchpadbemidji.com/photo-galleries/\",\n\"https://launchpadbemidji.com/wp-content/plugins/revslider/public/assets/js/jquery.themepunch.tools.min.js?ver=5.4.6.1\",\nNaN,\nNaN,\ntrue,\n{\n            'v': NaN,\n            'f': \"NaN\",\n        }],\n [{\n            'v': 661,\n            'f': \"661\",\n        },\n\"JS\",\n\"https://launchpadbemidji.com/events/\",\n\"https://launchpadbemidji.com/wp-content/plugins/revslider/public/assets/js/jquery.themepunch.tools.min.js?ver=5.4.6.1\",\nNaN,\nNaN,\ntrue,\n{\n            'v': NaN,\n            'f': \"NaN\",\n        }],\n [{\n            'v': 662,\n            'f': \"662\",\n        },\n\"JS\",\n\"https://launchpadbemidji.com/entrepreneur-meet-up/\",\n\"https://launchpadbemidji.com/wp-content/plugins/revslider/public/assets/js/jquery.themepunch.tools.min.js?ver=5.4.6.1\",\nNaN,\nNaN,\ntrue,\n{\n            'v': NaN,\n            'f': \"NaN\",\n        }],\n [{\n            'v': 663,\n            'f': \"663\",\n        },\n\"JS\",\n\"https://launchpadbemidji.com/launchpad-staff/\",\n\"https://launchpadbemidji.com/wp-content/plugins/revslider/public/assets/js/jquery.themepunch.tools.min.js?ver=5.4.6.1\",\nNaN,\nNaN,\ntrue,\n{\n            'v': NaN,\n            'f': \"NaN\",\n        }],\n [{\n            'v': 664,\n            'f': \"664\",\n        },\n\"JS\",\n\"https://launchpadbemidji.com/videos/\",\n\"https://launchpadbemidji.com/wp-content/plugins/revslider/public/assets/js/jquery.themepunch.tools.min.js?ver=5.4.6.1\",\nNaN,\nNaN,\ntrue,\n{\n            'v': NaN,\n            'f': \"NaN\",\n        }],\n [{\n            'v': 665,\n            'f': \"665\",\n        },\n\"JS\",\n\"https://launchpadbemidji.com/membership/\",\n\"https://launchpadbemidji.com/wp-content/plugins/revslider/public/assets/js/jquery.themepunch.tools.min.js?ver=5.4.6.1\",\nNaN,\nNaN,\ntrue,\n{\n            'v': NaN,\n            'f': \"NaN\",\n        }],\n [{\n            'v': 666,\n            'f': \"666\",\n        },\n\"JS\",\n\"https://launchpadbemidji.com/current-launchpad-members/\",\n\"https://launchpadbemidji.com/wp-content/plugins/revslider/public/assets/js/jquery.themepunch.tools.min.js?ver=5.4.6.1\",\nNaN,\nNaN,\ntrue,\n{\n            'v': NaN,\n            'f': \"NaN\",\n        }],\n [{\n            'v': 667,\n            'f': \"667\",\n        },\n\"JS\",\n\"https://launchpadbemidji.com/contact/\",\n\"https://launchpadbemidji.com/wp-content/plugins/revslider/public/assets/js/jquery.themepunch.tools.min.js?ver=5.4.6.1\",\nNaN,\nNaN,\ntrue,\n{\n            'v': NaN,\n            'f': \"NaN\",\n        }],\n [{\n            'v': 668,\n            'f': \"668\",\n        },\n\"JS\",\n\"https://launchpadbemidji.com/covid-19-updates/\",\n\"https://launchpadbemidji.com/wp-content/plugins/revslider/public/assets/js/jquery.themepunch.tools.min.js?ver=5.4.6.1\",\nNaN,\nNaN,\ntrue,\n{\n            'v': NaN,\n            'f': \"NaN\",\n        }],\n [{\n            'v': 669,\n            'f': \"669\",\n        },\n\"JS\",\n\"https://launchpadbemidji.com/resources/\",\n\"https://launchpadbemidji.com/wp-content/plugins/revslider/public/assets/js/jquery.themepunch.tools.min.js?ver=5.4.6.1\",\nNaN,\nNaN,\ntrue,\n{\n            'v': NaN,\n            'f': \"NaN\",\n        }],\n [{\n            'v': 670,\n            'f': \"670\",\n        },\n\"JS\",\n\"https://launchpadbemidji.com/about-us/\",\n\"https://launchpadbemidji.com/wp-content/plugins/revslider/public/assets/js/jquery.themepunch.tools.min.js?ver=5.4.6.1\",\nNaN,\nNaN,\ntrue,\n{\n            'v': NaN,\n            'f': \"NaN\",\n        }],\n [{\n            'v': 671,\n            'f': \"671\",\n        },\n\"CSS\",\n\"https://launchpadbemidji.com/\",\n\"https://launchpadbemidji.com/wp-includes/css/dist/block-library/style.min.css?ver=5.4.2\",\nNaN,\nNaN,\ntrue,\n{\n            'v': NaN,\n            'f': \"NaN\",\n        }],\n [{\n            'v': 672,\n            'f': \"672\",\n        },\n\"CSS\",\n\"https://launchpadbemidji.com/photo-galleries/\",\n\"https://launchpadbemidji.com/wp-includes/css/dist/block-library/style.min.css?ver=5.4.2\",\nNaN,\nNaN,\ntrue,\n{\n            'v': NaN,\n            'f': \"NaN\",\n        }],\n [{\n            'v': 673,\n            'f': \"673\",\n        },\n\"CSS\",\n\"https://launchpadbemidji.com/events/\",\n\"https://launchpadbemidji.com/wp-includes/css/dist/block-library/style.min.css?ver=5.4.2\",\nNaN,\nNaN,\ntrue,\n{\n            'v': NaN,\n            'f': \"NaN\",\n        }],\n [{\n            'v': 674,\n            'f': \"674\",\n        },\n\"CSS\",\n\"https://launchpadbemidji.com/entrepreneur-meet-up/\",\n\"https://launchpadbemidji.com/wp-includes/css/dist/block-library/style.min.css?ver=5.4.2\",\nNaN,\nNaN,\ntrue,\n{\n            'v': NaN,\n            'f': \"NaN\",\n        }],\n [{\n            'v': 675,\n            'f': \"675\",\n        },\n\"CSS\",\n\"https://launchpadbemidji.com/launchpad-staff/\",\n\"https://launchpadbemidji.com/wp-includes/css/dist/block-library/style.min.css?ver=5.4.2\",\nNaN,\nNaN,\ntrue,\n{\n            'v': NaN,\n            'f': \"NaN\",\n        }],\n [{\n            'v': 676,\n            'f': \"676\",\n        },\n\"CSS\",\n\"https://launchpadbemidji.com/videos/\",\n\"https://launchpadbemidji.com/wp-includes/css/dist/block-library/style.min.css?ver=5.4.2\",\nNaN,\nNaN,\ntrue,\n{\n            'v': NaN,\n            'f': \"NaN\",\n        }],\n [{\n            'v': 677,\n            'f': \"677\",\n        },\n\"CSS\",\n\"https://launchpadbemidji.com/membership/\",\n\"https://launchpadbemidji.com/wp-includes/css/dist/block-library/style.min.css?ver=5.4.2\",\nNaN,\nNaN,\ntrue,\n{\n            'v': NaN,\n            'f': \"NaN\",\n        }],\n [{\n            'v': 678,\n            'f': \"678\",\n        },\n\"CSS\",\n\"https://launchpadbemidji.com/current-launchpad-members/\",\n\"https://launchpadbemidji.com/wp-includes/css/dist/block-library/style.min.css?ver=5.4.2\",\nNaN,\nNaN,\ntrue,\n{\n            'v': NaN,\n            'f': \"NaN\",\n        }],\n [{\n            'v': 679,\n            'f': \"679\",\n        },\n\"CSS\",\n\"https://launchpadbemidji.com/contact/\",\n\"https://launchpadbemidji.com/wp-includes/css/dist/block-library/style.min.css?ver=5.4.2\",\nNaN,\nNaN,\ntrue,\n{\n            'v': NaN,\n            'f': \"NaN\",\n        }],\n [{\n            'v': 680,\n            'f': \"680\",\n        },\n\"CSS\",\n\"https://launchpadbemidji.com/covid-19-updates/\",\n\"https://launchpadbemidji.com/wp-includes/css/dist/block-library/style.min.css?ver=5.4.2\",\nNaN,\nNaN,\ntrue,\n{\n            'v': NaN,\n            'f': \"NaN\",\n        }],\n [{\n            'v': 681,\n            'f': \"681\",\n        },\n\"CSS\",\n\"https://launchpadbemidji.com/resources/\",\n\"https://launchpadbemidji.com/wp-includes/css/dist/block-library/style.min.css?ver=5.4.2\",\nNaN,\nNaN,\ntrue,\n{\n            'v': NaN,\n            'f': \"NaN\",\n        }],\n [{\n            'v': 682,\n            'f': \"682\",\n        },\n\"CSS\",\n\"https://launchpadbemidji.com/about-us/\",\n\"https://launchpadbemidji.com/wp-includes/css/dist/block-library/style.min.css?ver=5.4.2\",\nNaN,\nNaN,\ntrue,\n{\n            'v': NaN,\n            'f': \"NaN\",\n        }],\n [{\n            'v': 683,\n            'f': \"683\",\n        },\n\"JS\",\n\"https://launchpadbemidji.com/\",\n\"https://launchpadbemidji.com/wp-content/themes/amax/js/custom.js?ver=1.1.5\",\nNaN,\nNaN,\ntrue,\n{\n            'v': NaN,\n            'f': \"NaN\",\n        }],\n [{\n            'v': 684,\n            'f': \"684\",\n        },\n\"JS\",\n\"https://launchpadbemidji.com/photo-galleries/\",\n\"https://launchpadbemidji.com/wp-content/themes/amax/js/custom.js?ver=1.1.5\",\nNaN,\nNaN,\ntrue,\n{\n            'v': NaN,\n            'f': \"NaN\",\n        }],\n [{\n            'v': 685,\n            'f': \"685\",\n        },\n\"JS\",\n\"https://launchpadbemidji.com/events/\",\n\"https://launchpadbemidji.com/wp-content/themes/amax/js/custom.js?ver=1.1.5\",\nNaN,\nNaN,\ntrue,\n{\n            'v': NaN,\n            'f': \"NaN\",\n        }],\n [{\n            'v': 686,\n            'f': \"686\",\n        },\n\"JS\",\n\"https://launchpadbemidji.com/entrepreneur-meet-up/\",\n\"https://launchpadbemidji.com/wp-content/themes/amax/js/custom.js?ver=1.1.5\",\nNaN,\nNaN,\ntrue,\n{\n            'v': NaN,\n            'f': \"NaN\",\n        }],\n [{\n            'v': 687,\n            'f': \"687\",\n        },\n\"JS\",\n\"https://launchpadbemidji.com/launchpad-staff/\",\n\"https://launchpadbemidji.com/wp-content/themes/amax/js/custom.js?ver=1.1.5\",\nNaN,\nNaN,\ntrue,\n{\n            'v': NaN,\n            'f': \"NaN\",\n        }],\n [{\n            'v': 688,\n            'f': \"688\",\n        },\n\"JS\",\n\"https://launchpadbemidji.com/videos/\",\n\"https://launchpadbemidji.com/wp-content/themes/amax/js/custom.js?ver=1.1.5\",\nNaN,\nNaN,\ntrue,\n{\n            'v': NaN,\n            'f': \"NaN\",\n        }],\n [{\n            'v': 689,\n            'f': \"689\",\n        },\n\"JS\",\n\"https://launchpadbemidji.com/membership/\",\n\"https://launchpadbemidji.com/wp-content/themes/amax/js/custom.js?ver=1.1.5\",\nNaN,\nNaN,\ntrue,\n{\n            'v': NaN,\n            'f': \"NaN\",\n        }],\n [{\n            'v': 690,\n            'f': \"690\",\n        },\n\"JS\",\n\"https://launchpadbemidji.com/current-launchpad-members/\",\n\"https://launchpadbemidji.com/wp-content/themes/amax/js/custom.js?ver=1.1.5\",\nNaN,\nNaN,\ntrue,\n{\n            'v': NaN,\n            'f': \"NaN\",\n        }],\n [{\n            'v': 691,\n            'f': \"691\",\n        },\n\"JS\",\n\"https://launchpadbemidji.com/contact/\",\n\"https://launchpadbemidji.com/wp-content/themes/amax/js/custom.js?ver=1.1.5\",\nNaN,\nNaN,\ntrue,\n{\n            'v': NaN,\n            'f': \"NaN\",\n        }],\n [{\n            'v': 692,\n            'f': \"692\",\n        },\n\"JS\",\n\"https://launchpadbemidji.com/covid-19-updates/\",\n\"https://launchpadbemidji.com/wp-content/themes/amax/js/custom.js?ver=1.1.5\",\nNaN,\nNaN,\ntrue,\n{\n            'v': NaN,\n            'f': \"NaN\",\n        }],\n [{\n            'v': 693,\n            'f': \"693\",\n        },\n\"JS\",\n\"https://launchpadbemidji.com/resources/\",\n\"https://launchpadbemidji.com/wp-content/themes/amax/js/custom.js?ver=1.1.5\",\nNaN,\nNaN,\ntrue,\n{\n            'v': NaN,\n            'f': \"NaN\",\n        }],\n [{\n            'v': 694,\n            'f': \"694\",\n        },\n\"JS\",\n\"https://launchpadbemidji.com/about-us/\",\n\"https://launchpadbemidji.com/wp-content/themes/amax/js/custom.js?ver=1.1.5\",\nNaN,\nNaN,\ntrue,\n{\n            'v': NaN,\n            'f': \"NaN\",\n        }],\n [{\n            'v': 695,\n            'f': \"695\",\n        },\n\"IMG\",\n\"https://launchpadbemidji.com/\",\n\"https://launchpadbemidji.com/wp-content/uploads/2015/05/IMG_0344.jpg\",\nNaN,\nNaN,\ntrue,\n{\n            'v': NaN,\n            'f': \"NaN\",\n        }],\n [{\n            'v': 696,\n            'f': \"696\",\n        },\n\"IMG\",\n\"https://launchpadbemidji.com/entrepreneur-meet-up/\",\n\"https://launchpadbemidji.com/wp-content/uploads/2015/05/IMG_0344.jpg\",\nNaN,\nNaN,\ntrue,\n{\n            'v': NaN,\n            'f': \"NaN\",\n        }],\n [{\n            'v': 697,\n            'f': \"697\",\n        },\n\"CSS\",\n\"https://launchpadbemidji.com/\",\n\"https://launchpadbemidji.com/wp-content/themes/launchpadbemidji/style.css?ver=5.4.2\",\nNaN,\nNaN,\ntrue,\n{\n            'v': NaN,\n            'f': \"NaN\",\n        }],\n [{\n            'v': 698,\n            'f': \"698\",\n        },\n\"CSS\",\n\"https://launchpadbemidji.com/photo-galleries/\",\n\"https://launchpadbemidji.com/wp-content/themes/launchpadbemidji/style.css?ver=5.4.2\",\nNaN,\nNaN,\ntrue,\n{\n            'v': NaN,\n            'f': \"NaN\",\n        }],\n [{\n            'v': 699,\n            'f': \"699\",\n        },\n\"CSS\",\n\"https://launchpadbemidji.com/events/\",\n\"https://launchpadbemidji.com/wp-content/themes/launchpadbemidji/style.css?ver=5.4.2\",\nNaN,\nNaN,\ntrue,\n{\n            'v': NaN,\n            'f': \"NaN\",\n        }],\n [{\n            'v': 700,\n            'f': \"700\",\n        },\n\"CSS\",\n\"https://launchpadbemidji.com/entrepreneur-meet-up/\",\n\"https://launchpadbemidji.com/wp-content/themes/launchpadbemidji/style.css?ver=5.4.2\",\nNaN,\nNaN,\ntrue,\n{\n            'v': NaN,\n            'f': \"NaN\",\n        }],\n [{\n            'v': 701,\n            'f': \"701\",\n        },\n\"CSS\",\n\"https://launchpadbemidji.com/launchpad-staff/\",\n\"https://launchpadbemidji.com/wp-content/themes/launchpadbemidji/style.css?ver=5.4.2\",\nNaN,\nNaN,\ntrue,\n{\n            'v': NaN,\n            'f': \"NaN\",\n        }],\n [{\n            'v': 702,\n            'f': \"702\",\n        },\n\"CSS\",\n\"https://launchpadbemidji.com/videos/\",\n\"https://launchpadbemidji.com/wp-content/themes/launchpadbemidji/style.css?ver=5.4.2\",\nNaN,\nNaN,\ntrue,\n{\n            'v': NaN,\n            'f': \"NaN\",\n        }],\n [{\n            'v': 703,\n            'f': \"703\",\n        },\n\"CSS\",\n\"https://launchpadbemidji.com/membership/\",\n\"https://launchpadbemidji.com/wp-content/themes/launchpadbemidji/style.css?ver=5.4.2\",\nNaN,\nNaN,\ntrue,\n{\n            'v': NaN,\n            'f': \"NaN\",\n        }],\n [{\n            'v': 704,\n            'f': \"704\",\n        },\n\"CSS\",\n\"https://launchpadbemidji.com/current-launchpad-members/\",\n\"https://launchpadbemidji.com/wp-content/themes/launchpadbemidji/style.css?ver=5.4.2\",\nNaN,\nNaN,\ntrue,\n{\n            'v': NaN,\n            'f': \"NaN\",\n        }],\n [{\n            'v': 705,\n            'f': \"705\",\n        },\n\"CSS\",\n\"https://launchpadbemidji.com/contact/\",\n\"https://launchpadbemidji.com/wp-content/themes/launchpadbemidji/style.css?ver=5.4.2\",\nNaN,\nNaN,\ntrue,\n{\n            'v': NaN,\n            'f': \"NaN\",\n        }],\n [{\n            'v': 706,\n            'f': \"706\",\n        },\n\"CSS\",\n\"https://launchpadbemidji.com/covid-19-updates/\",\n\"https://launchpadbemidji.com/wp-content/themes/launchpadbemidji/style.css?ver=5.4.2\",\nNaN,\nNaN,\ntrue,\n{\n            'v': NaN,\n            'f': \"NaN\",\n        }],\n [{\n            'v': 707,\n            'f': \"707\",\n        },\n\"CSS\",\n\"https://launchpadbemidji.com/resources/\",\n\"https://launchpadbemidji.com/wp-content/themes/launchpadbemidji/style.css?ver=5.4.2\",\nNaN,\nNaN,\ntrue,\n{\n            'v': NaN,\n            'f': \"NaN\",\n        }],\n [{\n            'v': 708,\n            'f': \"708\",\n        },\n\"CSS\",\n\"https://launchpadbemidji.com/about-us/\",\n\"https://launchpadbemidji.com/wp-content/themes/launchpadbemidji/style.css?ver=5.4.2\",\nNaN,\nNaN,\ntrue,\n{\n            'v': NaN,\n            'f': \"NaN\",\n        }],\n [{\n            'v': 709,\n            'f': \"709\",\n        },\n\"CSS\",\n\"https://launchpadbemidji.com/\",\n\"https://launchpadbemidji.com/wp-content/themes/amax/libraries/prettyphoto/css/prettyPhoto.custom.css?ver=5.4.2\",\nNaN,\nNaN,\ntrue,\n{\n            'v': NaN,\n            'f': \"NaN\",\n        }],\n [{\n            'v': 710,\n            'f': \"710\",\n        },\n\"CSS\",\n\"https://launchpadbemidji.com/photo-galleries/\",\n\"https://launchpadbemidji.com/wp-content/themes/amax/libraries/prettyphoto/css/prettyPhoto.custom.css?ver=5.4.2\",\nNaN,\nNaN,\ntrue,\n{\n            'v': NaN,\n            'f': \"NaN\",\n        }],\n [{\n            'v': 711,\n            'f': \"711\",\n        },\n\"CSS\",\n\"https://launchpadbemidji.com/events/\",\n\"https://launchpadbemidji.com/wp-content/themes/amax/libraries/prettyphoto/css/prettyPhoto.custom.css?ver=5.4.2\",\nNaN,\nNaN,\ntrue,\n{\n            'v': NaN,\n            'f': \"NaN\",\n        }],\n [{\n            'v': 712,\n            'f': \"712\",\n        },\n\"CSS\",\n\"https://launchpadbemidji.com/entrepreneur-meet-up/\",\n\"https://launchpadbemidji.com/wp-content/themes/amax/libraries/prettyphoto/css/prettyPhoto.custom.css?ver=5.4.2\",\nNaN,\nNaN,\ntrue,\n{\n            'v': NaN,\n            'f': \"NaN\",\n        }],\n [{\n            'v': 713,\n            'f': \"713\",\n        },\n\"CSS\",\n\"https://launchpadbemidji.com/launchpad-staff/\",\n\"https://launchpadbemidji.com/wp-content/themes/amax/libraries/prettyphoto/css/prettyPhoto.custom.css?ver=5.4.2\",\nNaN,\nNaN,\ntrue,\n{\n            'v': NaN,\n            'f': \"NaN\",\n        }],\n [{\n            'v': 714,\n            'f': \"714\",\n        },\n\"CSS\",\n\"https://launchpadbemidji.com/videos/\",\n\"https://launchpadbemidji.com/wp-content/themes/amax/libraries/prettyphoto/css/prettyPhoto.custom.css?ver=5.4.2\",\nNaN,\nNaN,\ntrue,\n{\n            'v': NaN,\n            'f': \"NaN\",\n        }],\n [{\n            'v': 715,\n            'f': \"715\",\n        },\n\"CSS\",\n\"https://launchpadbemidji.com/membership/\",\n\"https://launchpadbemidji.com/wp-content/themes/amax/libraries/prettyphoto/css/prettyPhoto.custom.css?ver=5.4.2\",\nNaN,\nNaN,\ntrue,\n{\n            'v': NaN,\n            'f': \"NaN\",\n        }],\n [{\n            'v': 716,\n            'f': \"716\",\n        },\n\"CSS\",\n\"https://launchpadbemidji.com/current-launchpad-members/\",\n\"https://launchpadbemidji.com/wp-content/themes/amax/libraries/prettyphoto/css/prettyPhoto.custom.css?ver=5.4.2\",\nNaN,\nNaN,\ntrue,\n{\n            'v': NaN,\n            'f': \"NaN\",\n        }],\n [{\n            'v': 717,\n            'f': \"717\",\n        },\n\"CSS\",\n\"https://launchpadbemidji.com/contact/\",\n\"https://launchpadbemidji.com/wp-content/themes/amax/libraries/prettyphoto/css/prettyPhoto.custom.css?ver=5.4.2\",\nNaN,\nNaN,\ntrue,\n{\n            'v': NaN,\n            'f': \"NaN\",\n        }],\n [{\n            'v': 718,\n            'f': \"718\",\n        },\n\"CSS\",\n\"https://launchpadbemidji.com/covid-19-updates/\",\n\"https://launchpadbemidji.com/wp-content/themes/amax/libraries/prettyphoto/css/prettyPhoto.custom.css?ver=5.4.2\",\nNaN,\nNaN,\ntrue,\n{\n            'v': NaN,\n            'f': \"NaN\",\n        }],\n [{\n            'v': 719,\n            'f': \"719\",\n        },\n\"CSS\",\n\"https://launchpadbemidji.com/resources/\",\n\"https://launchpadbemidji.com/wp-content/themes/amax/libraries/prettyphoto/css/prettyPhoto.custom.css?ver=5.4.2\",\nNaN,\nNaN,\ntrue,\n{\n            'v': NaN,\n            'f': \"NaN\",\n        }],\n [{\n            'v': 720,\n            'f': \"720\",\n        },\n\"CSS\",\n\"https://launchpadbemidji.com/about-us/\",\n\"https://launchpadbemidji.com/wp-content/themes/amax/libraries/prettyphoto/css/prettyPhoto.custom.css?ver=5.4.2\",\nNaN,\nNaN,\ntrue,\n{\n            'v': NaN,\n            'f': \"NaN\",\n        }],\n [{\n            'v': 721,\n            'f': \"721\",\n        },\n\"JS\",\n\"https://launchpadbemidji.com/\",\n\"https://launchpadbemidji.com/wp-content/themes/amax/js/jquery.superfish.min.js?ver=5.4.2\",\nNaN,\nNaN,\ntrue,\n{\n            'v': NaN,\n            'f': \"NaN\",\n        }],\n [{\n            'v': 722,\n            'f': \"722\",\n        },\n\"JS\",\n\"https://launchpadbemidji.com/photo-galleries/\",\n\"https://launchpadbemidji.com/wp-content/themes/amax/js/jquery.superfish.min.js?ver=5.4.2\",\nNaN,\nNaN,\ntrue,\n{\n            'v': NaN,\n            'f': \"NaN\",\n        }],\n [{\n            'v': 723,\n            'f': \"723\",\n        },\n\"JS\",\n\"https://launchpadbemidji.com/events/\",\n\"https://launchpadbemidji.com/wp-content/themes/amax/js/jquery.superfish.min.js?ver=5.4.2\",\nNaN,\nNaN,\ntrue,\n{\n            'v': NaN,\n            'f': \"NaN\",\n        }],\n [{\n            'v': 724,\n            'f': \"724\",\n        },\n\"JS\",\n\"https://launchpadbemidji.com/entrepreneur-meet-up/\",\n\"https://launchpadbemidji.com/wp-content/themes/amax/js/jquery.superfish.min.js?ver=5.4.2\",\nNaN,\nNaN,\ntrue,\n{\n            'v': NaN,\n            'f': \"NaN\",\n        }],\n [{\n            'v': 725,\n            'f': \"725\",\n        },\n\"JS\",\n\"https://launchpadbemidji.com/launchpad-staff/\",\n\"https://launchpadbemidji.com/wp-content/themes/amax/js/jquery.superfish.min.js?ver=5.4.2\",\nNaN,\nNaN,\ntrue,\n{\n            'v': NaN,\n            'f': \"NaN\",\n        }],\n [{\n            'v': 726,\n            'f': \"726\",\n        },\n\"JS\",\n\"https://launchpadbemidji.com/videos/\",\n\"https://launchpadbemidji.com/wp-content/themes/amax/js/jquery.superfish.min.js?ver=5.4.2\",\nNaN,\nNaN,\ntrue,\n{\n            'v': NaN,\n            'f': \"NaN\",\n        }],\n [{\n            'v': 727,\n            'f': \"727\",\n        },\n\"JS\",\n\"https://launchpadbemidji.com/membership/\",\n\"https://launchpadbemidji.com/wp-content/themes/amax/js/jquery.superfish.min.js?ver=5.4.2\",\nNaN,\nNaN,\ntrue,\n{\n            'v': NaN,\n            'f': \"NaN\",\n        }],\n [{\n            'v': 728,\n            'f': \"728\",\n        },\n\"JS\",\n\"https://launchpadbemidji.com/current-launchpad-members/\",\n\"https://launchpadbemidji.com/wp-content/themes/amax/js/jquery.superfish.min.js?ver=5.4.2\",\nNaN,\nNaN,\ntrue,\n{\n            'v': NaN,\n            'f': \"NaN\",\n        }],\n [{\n            'v': 729,\n            'f': \"729\",\n        },\n\"JS\",\n\"https://launchpadbemidji.com/contact/\",\n\"https://launchpadbemidji.com/wp-content/themes/amax/js/jquery.superfish.min.js?ver=5.4.2\",\nNaN,\nNaN,\ntrue,\n{\n            'v': NaN,\n            'f': \"NaN\",\n        }],\n [{\n            'v': 730,\n            'f': \"730\",\n        },\n\"JS\",\n\"https://launchpadbemidji.com/covid-19-updates/\",\n\"https://launchpadbemidji.com/wp-content/themes/amax/js/jquery.superfish.min.js?ver=5.4.2\",\nNaN,\nNaN,\ntrue,\n{\n            'v': NaN,\n            'f': \"NaN\",\n        }],\n [{\n            'v': 731,\n            'f': \"731\",\n        },\n\"JS\",\n\"https://launchpadbemidji.com/resources/\",\n\"https://launchpadbemidji.com/wp-content/themes/amax/js/jquery.superfish.min.js?ver=5.4.2\",\nNaN,\nNaN,\ntrue,\n{\n            'v': NaN,\n            'f': \"NaN\",\n        }],\n [{\n            'v': 732,\n            'f': \"732\",\n        },\n\"JS\",\n\"https://launchpadbemidji.com/about-us/\",\n\"https://launchpadbemidji.com/wp-content/themes/amax/js/jquery.superfish.min.js?ver=5.4.2\",\nNaN,\nNaN,\ntrue,\n{\n            'v': NaN,\n            'f': \"NaN\",\n        }],\n [{\n            'v': 733,\n            'f': \"733\",\n        },\n\"IMG\",\n\"https://launchpadbemidji.com/membership/\",\n\"https://launchpadbemidji.com/wp-content/uploads/2015/06/LaunchPad-2.jpg\",\nNaN,\nNaN,\ntrue,\n{\n            'v': NaN,\n            'f': \"NaN\",\n        }],\n [{\n            'v': 734,\n            'f': \"734\",\n        },\n\"AHREF\",\n\"https://launchpadbemidji.com/\",\n\"https://launchpadbemidji.com/contact/\",\n\"Contact Us\",\nNaN,\ntrue,\n{\n            'v': NaN,\n            'f': \"NaN\",\n        }],\n [{\n            'v': 735,\n            'f': \"735\",\n        },\n\"AHREF\",\n\"https://launchpadbemidji.com/\",\n\"https://launchpadbemidji.com/contact/\",\n\"Contact Us\",\nNaN,\ntrue,\n{\n            'v': NaN,\n            'f': \"NaN\",\n        }],\n [{\n            'v': 736,\n            'f': \"736\",\n        },\n\"AHREF\",\n\"https://launchpadbemidji.com/\",\n\"https://launchpadbemidji.com/contact/\",\n\"Contact Us\",\nNaN,\ntrue,\n{\n            'v': NaN,\n            'f': \"NaN\",\n        }],\n [{\n            'v': 737,\n            'f': \"737\",\n        },\n\"AHREF\",\n\"https://launchpadbemidji.com/photo-galleries/\",\n\"https://launchpadbemidji.com/contact/\",\n\"Contact Us\",\nNaN,\ntrue,\n{\n            'v': NaN,\n            'f': \"NaN\",\n        }],\n [{\n            'v': 738,\n            'f': \"738\",\n        },\n\"AHREF\",\n\"https://launchpadbemidji.com/photo-galleries/\",\n\"https://launchpadbemidji.com/contact/\",\n\"Contact Us\",\nNaN,\ntrue,\n{\n            'v': NaN,\n            'f': \"NaN\",\n        }],\n [{\n            'v': 739,\n            'f': \"739\",\n        },\n\"AHREF\",\n\"https://launchpadbemidji.com/photo-galleries/\",\n\"https://launchpadbemidji.com/contact/\",\n\"Contact Us\",\nNaN,\ntrue,\n{\n            'v': NaN,\n            'f': \"NaN\",\n        }],\n [{\n            'v': 740,\n            'f': \"740\",\n        },\n\"AHREF\",\n\"https://launchpadbemidji.com/entrepreneur-meet-up/\",\n\"https://launchpadbemidji.com/contact/\",\n\"Contact Us\",\nNaN,\ntrue,\n{\n            'v': NaN,\n            'f': \"NaN\",\n        }],\n [{\n            'v': 741,\n            'f': \"741\",\n        },\n\"AHREF\",\n\"https://launchpadbemidji.com/entrepreneur-meet-up/\",\n\"https://launchpadbemidji.com/contact/\",\n\"Contact Us\",\nNaN,\ntrue,\n{\n            'v': NaN,\n            'f': \"NaN\",\n        }],\n [{\n            'v': 742,\n            'f': \"742\",\n        },\n\"AHREF\",\n\"https://launchpadbemidji.com/entrepreneur-meet-up/\",\n\"https://launchpadbemidji.com/contact/\",\n\"Contact Us\",\nNaN,\ntrue,\n{\n            'v': NaN,\n            'f': \"NaN\",\n        }],\n [{\n            'v': 743,\n            'f': \"743\",\n        },\n\"AHREF\",\n\"https://launchpadbemidji.com/launchpad-staff/\",\n\"https://launchpadbemidji.com/contact/\",\n\"Contact Us\",\nNaN,\ntrue,\n{\n            'v': NaN,\n            'f': \"NaN\",\n        }],\n [{\n            'v': 744,\n            'f': \"744\",\n        },\n\"AHREF\",\n\"https://launchpadbemidji.com/launchpad-staff/\",\n\"https://launchpadbemidji.com/contact/\",\n\"Contact Us\",\nNaN,\ntrue,\n{\n            'v': NaN,\n            'f': \"NaN\",\n        }],\n [{\n            'v': 745,\n            'f': \"745\",\n        },\n\"AHREF\",\n\"https://launchpadbemidji.com/launchpad-staff/\",\n\"https://launchpadbemidji.com/contact/\",\n\"Contact Us\",\nNaN,\ntrue,\n{\n            'v': NaN,\n            'f': \"NaN\",\n        }],\n [{\n            'v': 746,\n            'f': \"746\",\n        },\n\"AHREF\",\n\"https://launchpadbemidji.com/videos/\",\n\"https://launchpadbemidji.com/contact/\",\n\"Contact Us\",\nNaN,\ntrue,\n{\n            'v': NaN,\n            'f': \"NaN\",\n        }],\n [{\n            'v': 747,\n            'f': \"747\",\n        },\n\"AHREF\",\n\"https://launchpadbemidji.com/videos/\",\n\"https://launchpadbemidji.com/contact/\",\n\"Contact Us\",\nNaN,\ntrue,\n{\n            'v': NaN,\n            'f': \"NaN\",\n        }],\n [{\n            'v': 748,\n            'f': \"748\",\n        },\n\"AHREF\",\n\"https://launchpadbemidji.com/videos/\",\n\"https://launchpadbemidji.com/contact/\",\n\"Contact Us\",\nNaN,\ntrue,\n{\n            'v': NaN,\n            'f': \"NaN\",\n        }],\n [{\n            'v': 749,\n            'f': \"749\",\n        },\n\"AHREF\",\n\"https://launchpadbemidji.com/membership/\",\n\"https://launchpadbemidji.com/contact/\",\n\"Contact Us\",\nNaN,\ntrue,\n{\n            'v': NaN,\n            'f': \"NaN\",\n        }],\n [{\n            'v': 750,\n            'f': \"750\",\n        },\n\"AHREF\",\n\"https://launchpadbemidji.com/membership/\",\n\"https://launchpadbemidji.com/contact/\",\n\"Contact Us\",\nNaN,\ntrue,\n{\n            'v': NaN,\n            'f': \"NaN\",\n        }],\n [{\n            'v': 751,\n            'f': \"751\",\n        },\n\"AHREF\",\n\"https://launchpadbemidji.com/membership/\",\n\"https://launchpadbemidji.com/contact/\",\n\"Contact Us\",\nNaN,\ntrue,\n{\n            'v': NaN,\n            'f': \"NaN\",\n        }],\n [{\n            'v': 752,\n            'f': \"752\",\n        },\n\"AHREF\",\n\"https://launchpadbemidji.com/current-launchpad-members/\",\n\"https://launchpadbemidji.com/contact/\",\n\"Contact Us\",\nNaN,\ntrue,\n{\n            'v': NaN,\n            'f': \"NaN\",\n        }],\n [{\n            'v': 753,\n            'f': \"753\",\n        },\n\"AHREF\",\n\"https://launchpadbemidji.com/current-launchpad-members/\",\n\"https://launchpadbemidji.com/contact/\",\n\"Contact Us\",\nNaN,\ntrue,\n{\n            'v': NaN,\n            'f': \"NaN\",\n        }],\n [{\n            'v': 754,\n            'f': \"754\",\n        },\n\"AHREF\",\n\"https://launchpadbemidji.com/current-launchpad-members/\",\n\"https://launchpadbemidji.com/contact/\",\n\"Contact Us\",\nNaN,\ntrue,\n{\n            'v': NaN,\n            'f': \"NaN\",\n        }],\n [{\n            'v': 755,\n            'f': \"755\",\n        },\n\"AHREF\",\n\"https://launchpadbemidji.com/contact/\",\n\"https://launchpadbemidji.com/contact/\",\n\"Contact Us\",\nNaN,\ntrue,\n{\n            'v': NaN,\n            'f': \"NaN\",\n        }],\n [{\n            'v': 756,\n            'f': \"756\",\n        },\n\"AHREF\",\n\"https://launchpadbemidji.com/contact/\",\n\"https://launchpadbemidji.com/contact/\",\n\"Contact Us\",\nNaN,\ntrue,\n{\n            'v': NaN,\n            'f': \"NaN\",\n        }],\n [{\n            'v': 757,\n            'f': \"757\",\n        },\n\"AHREF\",\n\"https://launchpadbemidji.com/contact/\",\n\"https://launchpadbemidji.com/contact/\",\n\"Contact Us\",\nNaN,\ntrue,\n{\n            'v': NaN,\n            'f': \"NaN\",\n        }],\n [{\n            'v': 758,\n            'f': \"758\",\n        },\n\"HTML Canonical\",\n\"https://launchpadbemidji.com/contact/\",\n\"https://launchpadbemidji.com/contact/\",\nNaN,\nNaN,\ntrue,\n{\n            'v': NaN,\n            'f': \"NaN\",\n        }],\n [{\n            'v': 759,\n            'f': \"759\",\n        },\n\"AHREF\",\n\"https://launchpadbemidji.com/covid-19-updates/\",\n\"https://launchpadbemidji.com/contact/\",\n\"Contact Us\",\nNaN,\ntrue,\n{\n            'v': NaN,\n            'f': \"NaN\",\n        }],\n [{\n            'v': 760,\n            'f': \"760\",\n        },\n\"AHREF\",\n\"https://launchpadbemidji.com/covid-19-updates/\",\n\"https://launchpadbemidji.com/contact/\",\n\"Contact Us\",\nNaN,\ntrue,\n{\n            'v': NaN,\n            'f': \"NaN\",\n        }],\n [{\n            'v': 761,\n            'f': \"761\",\n        },\n\"AHREF\",\n\"https://launchpadbemidji.com/covid-19-updates/\",\n\"https://launchpadbemidji.com/contact/\",\n\"Contact Us\",\nNaN,\ntrue,\n{\n            'v': NaN,\n            'f': \"NaN\",\n        }],\n [{\n            'v': 762,\n            'f': \"762\",\n        },\n\"AHREF\",\n\"https://launchpadbemidji.com/resources/\",\n\"https://launchpadbemidji.com/contact/\",\n\"Contact Us\",\nNaN,\ntrue,\n{\n            'v': NaN,\n            'f': \"NaN\",\n        }],\n [{\n            'v': 763,\n            'f': \"763\",\n        },\n\"AHREF\",\n\"https://launchpadbemidji.com/resources/\",\n\"https://launchpadbemidji.com/contact/\",\n\"Contact Us\",\nNaN,\ntrue,\n{\n            'v': NaN,\n            'f': \"NaN\",\n        }],\n [{\n            'v': 764,\n            'f': \"764\",\n        },\n\"AHREF\",\n\"https://launchpadbemidji.com/resources/\",\n\"https://launchpadbemidji.com/contact/\",\n\"Contact Us\",\nNaN,\ntrue,\n{\n            'v': NaN,\n            'f': \"NaN\",\n        }],\n [{\n            'v': 765,\n            'f': \"765\",\n        },\n\"AHREF\",\n\"https://launchpadbemidji.com/about-us/\",\n\"https://launchpadbemidji.com/contact/\",\n\"Contact Us\",\nNaN,\ntrue,\n{\n            'v': NaN,\n            'f': \"NaN\",\n        }],\n [{\n            'v': 766,\n            'f': \"766\",\n        },\n\"AHREF\",\n\"https://launchpadbemidji.com/about-us/\",\n\"https://launchpadbemidji.com/contact/\",\n\"Contact Us\",\nNaN,\ntrue,\n{\n            'v': NaN,\n            'f': \"NaN\",\n        }],\n [{\n            'v': 767,\n            'f': \"767\",\n        },\n\"AHREF\",\n\"https://launchpadbemidji.com/about-us/\",\n\"https://launchpadbemidji.com/contact/\",\n\"Contact Us\",\nNaN,\ntrue,\n{\n            'v': NaN,\n            'f': \"NaN\",\n        }],\n [{\n            'v': 768,\n            'f': \"768\",\n        },\n\"AHREF\",\n\"https://launchpadbemidji.com/photo-galleries/\",\n\"https://launchpadbemidji.com/wp-content/uploads/2017/04/IMG_1174.jpg\",\nNaN,\nNaN,\ntrue,\n{\n            'v': NaN,\n            'f': \"NaN\",\n        }],\n [{\n            'v': 769,\n            'f': \"769\",\n        },\n\"AHREF\",\n\"https://launchpadbemidji.com/photo-galleries/\",\n\"https://launchpadbemidji.com/wp-content/uploads/2017/02/6.jpg\",\nNaN,\nNaN,\ntrue,\n{\n            'v': NaN,\n            'f': \"NaN\",\n        }],\n [{\n            'v': 770,\n            'f': \"770\",\n        },\n\"AHREF\",\n\"https://launchpadbemidji.com/photo-galleries/\",\n\"https://launchpadbemidji.com/wp-content/uploads/2017/04/IMG_0962.jpg\",\nNaN,\nNaN,\ntrue,\n{\n            'v': NaN,\n            'f': \"NaN\",\n        }],\n [{\n            'v': 771,\n            'f': \"771\",\n        },\n\"AHREF\",\n\"https://launchpadbemidji.com/photo-galleries/\",\n\"https://launchpadbemidji.com/wp-content/uploads/2017/04/IMG_1176.jpg\",\nNaN,\nNaN,\ntrue,\n{\n            'v': NaN,\n            'f': \"NaN\",\n        }],\n [{\n            'v': 772,\n            'f': \"772\",\n        },\n\"AHREF\",\n\"https://launchpadbemidji.com/photo-galleries/\",\n\"https://launchpadbemidji.com/wp-content/uploads/2017/04/IMG_1310.jpg\",\nNaN,\nNaN,\ntrue,\n{\n            'v': NaN,\n            'f': \"NaN\",\n        }],\n [{\n            'v': 773,\n            'f': \"773\",\n        },\n\"AHREF\",\n\"https://launchpadbemidji.com/photo-galleries/\",\n\"https://launchpadbemidji.com/wp-content/uploads/2017/04/IMG_1309.jpg\",\nNaN,\nNaN,\ntrue,\n{\n            'v': NaN,\n            'f': \"NaN\",\n        }],\n [{\n            'v': 774,\n            'f': \"774\",\n        },\n\"AHREF\",\n\"https://launchpadbemidji.com/photo-galleries/\",\n\"https://launchpadbemidji.com/wp-content/uploads/2017/04/IMG_1175.jpg\",\nNaN,\nNaN,\ntrue,\n{\n            'v': NaN,\n            'f': \"NaN\",\n        }],\n [{\n            'v': 775,\n            'f': \"775\",\n        },\n\"AHREF\",\n\"https://launchpadbemidji.com/photo-galleries/\",\n\"https://launchpadbemidji.com/wp-content/uploads/2017/02/15.jpg\",\nNaN,\nNaN,\ntrue,\n{\n            'v': NaN,\n            'f': \"NaN\",\n        }],\n [{\n            'v': 776,\n            'f': \"776\",\n        },\n\"AHREF\",\n\"https://launchpadbemidji.com/\",\n\"https://launchpadbemidji.com/covid-19-updates/\",\n\"COVID-19 Updates\",\nNaN,\ntrue,\n{\n            'v': NaN,\n            'f': \"NaN\",\n        }],\n [{\n            'v': 777,\n            'f': \"777\",\n        },\n\"AHREF\",\n\"https://launchpadbemidji.com/\",\n\"https://launchpadbemidji.com/covid-19-updates/\",\n\"COVID-19 Updates\",\nNaN,\ntrue,\n{\n            'v': NaN,\n            'f': \"NaN\",\n        }],\n [{\n            'v': 778,\n            'f': \"778\",\n        },\n\"AHREF\",\n\"https://launchpadbemidji.com/\",\n\"https://launchpadbemidji.com/covid-19-updates/\",\n\"COVID-19 Updates\",\nNaN,\ntrue,\n{\n            'v': NaN,\n            'f': \"NaN\",\n        }],\n [{\n            'v': 779,\n            'f': \"779\",\n        },\n\"AHREF\",\n\"https://launchpadbemidji.com/photo-galleries/\",\n\"https://launchpadbemidji.com/covid-19-updates/\",\n\"COVID-19 Updates\",\nNaN,\ntrue,\n{\n            'v': NaN,\n            'f': \"NaN\",\n        }],\n [{\n            'v': 780,\n            'f': \"780\",\n        },\n\"AHREF\",\n\"https://launchpadbemidji.com/photo-galleries/\",\n\"https://launchpadbemidji.com/covid-19-updates/\",\n\"COVID-19 Updates\",\nNaN,\ntrue,\n{\n            'v': NaN,\n            'f': \"NaN\",\n        }],\n [{\n            'v': 781,\n            'f': \"781\",\n        },\n\"AHREF\",\n\"https://launchpadbemidji.com/photo-galleries/\",\n\"https://launchpadbemidji.com/covid-19-updates/\",\n\"COVID-19 Updates\",\nNaN,\ntrue,\n{\n            'v': NaN,\n            'f': \"NaN\",\n        }],\n [{\n            'v': 782,\n            'f': \"782\",\n        },\n\"AHREF\",\n\"https://launchpadbemidji.com/entrepreneur-meet-up/\",\n\"https://launchpadbemidji.com/covid-19-updates/\",\n\"COVID-19 Updates\",\nNaN,\ntrue,\n{\n            'v': NaN,\n            'f': \"NaN\",\n        }],\n [{\n            'v': 783,\n            'f': \"783\",\n        },\n\"AHREF\",\n\"https://launchpadbemidji.com/entrepreneur-meet-up/\",\n\"https://launchpadbemidji.com/covid-19-updates/\",\n\"COVID-19 Updates\",\nNaN,\ntrue,\n{\n            'v': NaN,\n            'f': \"NaN\",\n        }],\n [{\n            'v': 784,\n            'f': \"784\",\n        },\n\"AHREF\",\n\"https://launchpadbemidji.com/entrepreneur-meet-up/\",\n\"https://launchpadbemidji.com/covid-19-updates/\",\n\"COVID-19 Updates\",\nNaN,\ntrue,\n{\n            'v': NaN,\n            'f': \"NaN\",\n        }],\n [{\n            'v': 785,\n            'f': \"785\",\n        },\n\"AHREF\",\n\"https://launchpadbemidji.com/launchpad-staff/\",\n\"https://launchpadbemidji.com/covid-19-updates/\",\n\"COVID-19 Updates\",\nNaN,\ntrue,\n{\n            'v': NaN,\n            'f': \"NaN\",\n        }],\n [{\n            'v': 786,\n            'f': \"786\",\n        },\n\"AHREF\",\n\"https://launchpadbemidji.com/launchpad-staff/\",\n\"https://launchpadbemidji.com/covid-19-updates/\",\n\"COVID-19 Updates\",\nNaN,\ntrue,\n{\n            'v': NaN,\n            'f': \"NaN\",\n        }],\n [{\n            'v': 787,\n            'f': \"787\",\n        },\n\"AHREF\",\n\"https://launchpadbemidji.com/launchpad-staff/\",\n\"https://launchpadbemidji.com/covid-19-updates/\",\n\"COVID-19 Updates\",\nNaN,\ntrue,\n{\n            'v': NaN,\n            'f': \"NaN\",\n        }],\n [{\n            'v': 788,\n            'f': \"788\",\n        },\n\"AHREF\",\n\"https://launchpadbemidji.com/videos/\",\n\"https://launchpadbemidji.com/covid-19-updates/\",\n\"COVID-19 Updates\",\nNaN,\ntrue,\n{\n            'v': NaN,\n            'f': \"NaN\",\n        }],\n [{\n            'v': 789,\n            'f': \"789\",\n        },\n\"AHREF\",\n\"https://launchpadbemidji.com/videos/\",\n\"https://launchpadbemidji.com/covid-19-updates/\",\n\"COVID-19 Updates\",\nNaN,\ntrue,\n{\n            'v': NaN,\n            'f': \"NaN\",\n        }],\n [{\n            'v': 790,\n            'f': \"790\",\n        },\n\"AHREF\",\n\"https://launchpadbemidji.com/videos/\",\n\"https://launchpadbemidji.com/covid-19-updates/\",\n\"COVID-19 Updates\",\nNaN,\ntrue,\n{\n            'v': NaN,\n            'f': \"NaN\",\n        }],\n [{\n            'v': 791,\n            'f': \"791\",\n        },\n\"AHREF\",\n\"https://launchpadbemidji.com/membership/\",\n\"https://launchpadbemidji.com/covid-19-updates/\",\n\"COVID-19 Updates\",\nNaN,\ntrue,\n{\n            'v': NaN,\n            'f': \"NaN\",\n        }],\n [{\n            'v': 792,\n            'f': \"792\",\n        },\n\"AHREF\",\n\"https://launchpadbemidji.com/membership/\",\n\"https://launchpadbemidji.com/covid-19-updates/\",\n\"COVID-19 Updates\",\nNaN,\ntrue,\n{\n            'v': NaN,\n            'f': \"NaN\",\n        }],\n [{\n            'v': 793,\n            'f': \"793\",\n        },\n\"AHREF\",\n\"https://launchpadbemidji.com/membership/\",\n\"https://launchpadbemidji.com/covid-19-updates/\",\n\"COVID-19 Updates\",\nNaN,\ntrue,\n{\n            'v': NaN,\n            'f': \"NaN\",\n        }],\n [{\n            'v': 794,\n            'f': \"794\",\n        },\n\"AHREF\",\n\"https://launchpadbemidji.com/current-launchpad-members/\",\n\"https://launchpadbemidji.com/covid-19-updates/\",\n\"COVID-19 Updates\",\nNaN,\ntrue,\n{\n            'v': NaN,\n            'f': \"NaN\",\n        }],\n [{\n            'v': 795,\n            'f': \"795\",\n        },\n\"AHREF\",\n\"https://launchpadbemidji.com/current-launchpad-members/\",\n\"https://launchpadbemidji.com/covid-19-updates/\",\n\"COVID-19 Updates\",\nNaN,\ntrue,\n{\n            'v': NaN,\n            'f': \"NaN\",\n        }],\n [{\n            'v': 796,\n            'f': \"796\",\n        },\n\"AHREF\",\n\"https://launchpadbemidji.com/current-launchpad-members/\",\n\"https://launchpadbemidji.com/covid-19-updates/\",\n\"COVID-19 Updates\",\nNaN,\ntrue,\n{\n            'v': NaN,\n            'f': \"NaN\",\n        }],\n [{\n            'v': 797,\n            'f': \"797\",\n        },\n\"AHREF\",\n\"https://launchpadbemidji.com/contact/\",\n\"https://launchpadbemidji.com/covid-19-updates/\",\n\"COVID-19 Updates\",\nNaN,\ntrue,\n{\n            'v': NaN,\n            'f': \"NaN\",\n        }],\n [{\n            'v': 798,\n            'f': \"798\",\n        },\n\"AHREF\",\n\"https://launchpadbemidji.com/contact/\",\n\"https://launchpadbemidji.com/covid-19-updates/\",\n\"COVID-19 Updates\",\nNaN,\ntrue,\n{\n            'v': NaN,\n            'f': \"NaN\",\n        }],\n [{\n            'v': 799,\n            'f': \"799\",\n        },\n\"AHREF\",\n\"https://launchpadbemidji.com/contact/\",\n\"https://launchpadbemidji.com/covid-19-updates/\",\n\"COVID-19 Updates\",\nNaN,\ntrue,\n{\n            'v': NaN,\n            'f': \"NaN\",\n        }],\n [{\n            'v': 800,\n            'f': \"800\",\n        },\n\"AHREF\",\n\"https://launchpadbemidji.com/covid-19-updates/\",\n\"https://launchpadbemidji.com/covid-19-updates/\",\n\"COVID-19 Updates\",\nNaN,\ntrue,\n{\n            'v': NaN,\n            'f': \"NaN\",\n        }],\n [{\n            'v': 801,\n            'f': \"801\",\n        },\n\"AHREF\",\n\"https://launchpadbemidji.com/covid-19-updates/\",\n\"https://launchpadbemidji.com/covid-19-updates/\",\n\"COVID-19 Updates\",\nNaN,\ntrue,\n{\n            'v': NaN,\n            'f': \"NaN\",\n        }],\n [{\n            'v': 802,\n            'f': \"802\",\n        },\n\"AHREF\",\n\"https://launchpadbemidji.com/covid-19-updates/\",\n\"https://launchpadbemidji.com/covid-19-updates/\",\n\"COVID-19 Updates\",\nNaN,\ntrue,\n{\n            'v': NaN,\n            'f': \"NaN\",\n        }],\n [{\n            'v': 803,\n            'f': \"803\",\n        },\n\"HTML Canonical\",\n\"https://launchpadbemidji.com/covid-19-updates/\",\n\"https://launchpadbemidji.com/covid-19-updates/\",\nNaN,\nNaN,\ntrue,\n{\n            'v': NaN,\n            'f': \"NaN\",\n        }],\n [{\n            'v': 804,\n            'f': \"804\",\n        },\n\"AHREF\",\n\"https://launchpadbemidji.com/resources/\",\n\"https://launchpadbemidji.com/covid-19-updates/\",\n\"COVID-19 Updates\",\nNaN,\ntrue,\n{\n            'v': NaN,\n            'f': \"NaN\",\n        }],\n [{\n            'v': 805,\n            'f': \"805\",\n        },\n\"AHREF\",\n\"https://launchpadbemidji.com/resources/\",\n\"https://launchpadbemidji.com/covid-19-updates/\",\n\"COVID-19 Updates\",\nNaN,\ntrue,\n{\n            'v': NaN,\n            'f': \"NaN\",\n        }],\n [{\n            'v': 806,\n            'f': \"806\",\n        },\n\"AHREF\",\n\"https://launchpadbemidji.com/resources/\",\n\"https://launchpadbemidji.com/covid-19-updates/\",\n\"COVID-19 Updates\",\nNaN,\ntrue,\n{\n            'v': NaN,\n            'f': \"NaN\",\n        }],\n [{\n            'v': 807,\n            'f': \"807\",\n        },\n\"AHREF\",\n\"https://launchpadbemidji.com/about-us/\",\n\"https://launchpadbemidji.com/covid-19-updates/\",\n\"COVID-19 Updates\",\nNaN,\ntrue,\n{\n            'v': NaN,\n            'f': \"NaN\",\n        }],\n [{\n            'v': 808,\n            'f': \"808\",\n        },\n\"AHREF\",\n\"https://launchpadbemidji.com/about-us/\",\n\"https://launchpadbemidji.com/covid-19-updates/\",\n\"COVID-19 Updates\",\nNaN,\ntrue,\n{\n            'v': NaN,\n            'f': \"NaN\",\n        }],\n [{\n            'v': 809,\n            'f': \"809\",\n        },\n\"AHREF\",\n\"https://launchpadbemidji.com/about-us/\",\n\"https://launchpadbemidji.com/covid-19-updates/\",\n\"COVID-19 Updates\",\nNaN,\ntrue,\n{\n            'v': NaN,\n            'f': \"NaN\",\n        }],\n [{\n            'v': 810,\n            'f': \"810\",\n        },\n\"AHREF\",\n\"https://launchpadbemidji.com/photo-galleries/\",\n\"https://launchpadbemidji.com/wp-content/uploads/2017/02/7.jpg\",\nNaN,\nNaN,\ntrue,\n{\n            'v': NaN,\n            'f': \"NaN\",\n        }],\n [{\n            'v': 811,\n            'f': \"811\",\n        },\n\"AHREF\",\n\"https://launchpadbemidji.com/\",\n\"https://launchpadbemidji.com/resources/\",\n\"Resources\",\nNaN,\ntrue,\n{\n            'v': NaN,\n            'f': \"NaN\",\n        }],\n [{\n            'v': 812,\n            'f': \"812\",\n        },\n\"AHREF\",\n\"https://launchpadbemidji.com/\",\n\"https://launchpadbemidji.com/resources/\",\n\"Resources\",\nNaN,\ntrue,\n{\n            'v': NaN,\n            'f': \"NaN\",\n        }],\n [{\n            'v': 813,\n            'f': \"813\",\n        },\n\"AHREF\",\n\"https://launchpadbemidji.com/\",\n\"https://launchpadbemidji.com/resources/\",\n\"Resources\",\nNaN,\ntrue,\n{\n            'v': NaN,\n            'f': \"NaN\",\n        }],\n [{\n            'v': 814,\n            'f': \"814\",\n        },\n\"AHREF\",\n\"https://launchpadbemidji.com/photo-galleries/\",\n\"https://launchpadbemidji.com/resources/\",\n\"Resources\",\nNaN,\ntrue,\n{\n            'v': NaN,\n            'f': \"NaN\",\n        }],\n [{\n            'v': 815,\n            'f': \"815\",\n        },\n\"AHREF\",\n\"https://launchpadbemidji.com/photo-galleries/\",\n\"https://launchpadbemidji.com/resources/\",\n\"Resources\",\nNaN,\ntrue,\n{\n            'v': NaN,\n            'f': \"NaN\",\n        }],\n [{\n            'v': 816,\n            'f': \"816\",\n        },\n\"AHREF\",\n\"https://launchpadbemidji.com/photo-galleries/\",\n\"https://launchpadbemidji.com/resources/\",\n\"Resources\",\nNaN,\ntrue,\n{\n            'v': NaN,\n            'f': \"NaN\",\n        }],\n [{\n            'v': 817,\n            'f': \"817\",\n        },\n\"AHREF\",\n\"https://launchpadbemidji.com/entrepreneur-meet-up/\",\n\"https://launchpadbemidji.com/resources/\",\n\"Resources\",\nNaN,\ntrue,\n{\n            'v': NaN,\n            'f': \"NaN\",\n        }],\n [{\n            'v': 818,\n            'f': \"818\",\n        },\n\"AHREF\",\n\"https://launchpadbemidji.com/entrepreneur-meet-up/\",\n\"https://launchpadbemidji.com/resources/\",\n\"Resources\",\nNaN,\ntrue,\n{\n            'v': NaN,\n            'f': \"NaN\",\n        }],\n [{\n            'v': 819,\n            'f': \"819\",\n        },\n\"AHREF\",\n\"https://launchpadbemidji.com/entrepreneur-meet-up/\",\n\"https://launchpadbemidji.com/resources/\",\n\"Resources\",\nNaN,\ntrue,\n{\n            'v': NaN,\n            'f': \"NaN\",\n        }],\n [{\n            'v': 820,\n            'f': \"820\",\n        },\n\"AHREF\",\n\"https://launchpadbemidji.com/launchpad-staff/\",\n\"https://launchpadbemidji.com/resources/\",\n\"Resources\",\nNaN,\ntrue,\n{\n            'v': NaN,\n            'f': \"NaN\",\n        }],\n [{\n            'v': 821,\n            'f': \"821\",\n        },\n\"AHREF\",\n\"https://launchpadbemidji.com/launchpad-staff/\",\n\"https://launchpadbemidji.com/resources/\",\n\"Resources\",\nNaN,\ntrue,\n{\n            'v': NaN,\n            'f': \"NaN\",\n        }],\n [{\n            'v': 822,\n            'f': \"822\",\n        },\n\"AHREF\",\n\"https://launchpadbemidji.com/launchpad-staff/\",\n\"https://launchpadbemidji.com/resources/\",\n\"Resources\",\nNaN,\ntrue,\n{\n            'v': NaN,\n            'f': \"NaN\",\n        }],\n [{\n            'v': 823,\n            'f': \"823\",\n        },\n\"AHREF\",\n\"https://launchpadbemidji.com/videos/\",\n\"https://launchpadbemidji.com/resources/\",\n\"Resources\",\nNaN,\ntrue,\n{\n            'v': NaN,\n            'f': \"NaN\",\n        }],\n [{\n            'v': 824,\n            'f': \"824\",\n        },\n\"AHREF\",\n\"https://launchpadbemidji.com/videos/\",\n\"https://launchpadbemidji.com/resources/\",\n\"Resources\",\nNaN,\ntrue,\n{\n            'v': NaN,\n            'f': \"NaN\",\n        }],\n [{\n            'v': 825,\n            'f': \"825\",\n        },\n\"AHREF\",\n\"https://launchpadbemidji.com/videos/\",\n\"https://launchpadbemidji.com/resources/\",\n\"Resources\",\nNaN,\ntrue,\n{\n            'v': NaN,\n            'f': \"NaN\",\n        }],\n [{\n            'v': 826,\n            'f': \"826\",\n        },\n\"AHREF\",\n\"https://launchpadbemidji.com/membership/\",\n\"https://launchpadbemidji.com/resources/\",\n\"Resources\",\nNaN,\ntrue,\n{\n            'v': NaN,\n            'f': \"NaN\",\n        }],\n [{\n            'v': 827,\n            'f': \"827\",\n        },\n\"AHREF\",\n\"https://launchpadbemidji.com/membership/\",\n\"https://launchpadbemidji.com/resources/\",\n\"Resources\",\nNaN,\ntrue,\n{\n            'v': NaN,\n            'f': \"NaN\",\n        }],\n [{\n            'v': 828,\n            'f': \"828\",\n        },\n\"AHREF\",\n\"https://launchpadbemidji.com/membership/\",\n\"https://launchpadbemidji.com/resources/\",\n\"Resources\",\nNaN,\ntrue,\n{\n            'v': NaN,\n            'f': \"NaN\",\n        }],\n [{\n            'v': 829,\n            'f': \"829\",\n        },\n\"AHREF\",\n\"https://launchpadbemidji.com/current-launchpad-members/\",\n\"https://launchpadbemidji.com/resources/\",\n\"Resources\",\nNaN,\ntrue,\n{\n            'v': NaN,\n            'f': \"NaN\",\n        }],\n [{\n            'v': 830,\n            'f': \"830\",\n        },\n\"AHREF\",\n\"https://launchpadbemidji.com/current-launchpad-members/\",\n\"https://launchpadbemidji.com/resources/\",\n\"Resources\",\nNaN,\ntrue,\n{\n            'v': NaN,\n            'f': \"NaN\",\n        }],\n [{\n            'v': 831,\n            'f': \"831\",\n        },\n\"AHREF\",\n\"https://launchpadbemidji.com/current-launchpad-members/\",\n\"https://launchpadbemidji.com/resources/\",\n\"Resources\",\nNaN,\ntrue,\n{\n            'v': NaN,\n            'f': \"NaN\",\n        }],\n [{\n            'v': 832,\n            'f': \"832\",\n        },\n\"AHREF\",\n\"https://launchpadbemidji.com/contact/\",\n\"https://launchpadbemidji.com/resources/\",\n\"Resources\",\nNaN,\ntrue,\n{\n            'v': NaN,\n            'f': \"NaN\",\n        }],\n [{\n            'v': 833,\n            'f': \"833\",\n        },\n\"AHREF\",\n\"https://launchpadbemidji.com/contact/\",\n\"https://launchpadbemidji.com/resources/\",\n\"Resources\",\nNaN,\ntrue,\n{\n            'v': NaN,\n            'f': \"NaN\",\n        }],\n [{\n            'v': 834,\n            'f': \"834\",\n        },\n\"AHREF\",\n\"https://launchpadbemidji.com/contact/\",\n\"https://launchpadbemidji.com/resources/\",\n\"Resources\",\nNaN,\ntrue,\n{\n            'v': NaN,\n            'f': \"NaN\",\n        }],\n [{\n            'v': 835,\n            'f': \"835\",\n        },\n\"AHREF\",\n\"https://launchpadbemidji.com/covid-19-updates/\",\n\"https://launchpadbemidji.com/resources/\",\n\"Resources\",\nNaN,\ntrue,\n{\n            'v': NaN,\n            'f': \"NaN\",\n        }],\n [{\n            'v': 836,\n            'f': \"836\",\n        },\n\"AHREF\",\n\"https://launchpadbemidji.com/covid-19-updates/\",\n\"https://launchpadbemidji.com/resources/\",\n\"Resources\",\nNaN,\ntrue,\n{\n            'v': NaN,\n            'f': \"NaN\",\n        }],\n [{\n            'v': 837,\n            'f': \"837\",\n        },\n\"AHREF\",\n\"https://launchpadbemidji.com/covid-19-updates/\",\n\"https://launchpadbemidji.com/resources/\",\n\"Resources\",\nNaN,\ntrue,\n{\n            'v': NaN,\n            'f': \"NaN\",\n        }],\n [{\n            'v': 838,\n            'f': \"838\",\n        },\n\"AHREF\",\n\"https://launchpadbemidji.com/resources/\",\n\"https://launchpadbemidji.com/resources/\",\n\"Resources\",\nNaN,\ntrue,\n{\n            'v': NaN,\n            'f': \"NaN\",\n        }],\n [{\n            'v': 839,\n            'f': \"839\",\n        },\n\"AHREF\",\n\"https://launchpadbemidji.com/resources/\",\n\"https://launchpadbemidji.com/resources/\",\n\"Resources\",\nNaN,\ntrue,\n{\n            'v': NaN,\n            'f': \"NaN\",\n        }],\n [{\n            'v': 840,\n            'f': \"840\",\n        },\n\"AHREF\",\n\"https://launchpadbemidji.com/resources/\",\n\"https://launchpadbemidji.com/resources/\",\n\"Resources\",\nNaN,\ntrue,\n{\n            'v': NaN,\n            'f': \"NaN\",\n        }],\n [{\n            'v': 841,\n            'f': \"841\",\n        },\n\"HTML Canonical\",\n\"https://launchpadbemidji.com/resources/\",\n\"https://launchpadbemidji.com/resources/\",\nNaN,\nNaN,\ntrue,\n{\n            'v': NaN,\n            'f': \"NaN\",\n        }],\n [{\n            'v': 842,\n            'f': \"842\",\n        },\n\"AHREF\",\n\"https://launchpadbemidji.com/about-us/\",\n\"https://launchpadbemidji.com/resources/\",\n\"Resources\",\nNaN,\ntrue,\n{\n            'v': NaN,\n            'f': \"NaN\",\n        }],\n [{\n            'v': 843,\n            'f': \"843\",\n        },\n\"AHREF\",\n\"https://launchpadbemidji.com/about-us/\",\n\"https://launchpadbemidji.com/resources/\",\n\"Resources\",\nNaN,\ntrue,\n{\n            'v': NaN,\n            'f': \"NaN\",\n        }],\n [{\n            'v': 844,\n            'f': \"844\",\n        },\n\"AHREF\",\n\"https://launchpadbemidji.com/about-us/\",\n\"https://launchpadbemidji.com/resources/\",\n\"Resources\",\nNaN,\ntrue,\n{\n            'v': NaN,\n            'f': \"NaN\",\n        }],\n [{\n            'v': 845,\n            'f': \"845\",\n        },\n\"IMG\",\n\"https://launchpadbemidji.com/resources/\",\n\"https://launchpadbemidji.com/wp-content/uploads/2019/04/den.jpg\",\nNaN,\nNaN,\ntrue,\n{\n            'v': NaN,\n            'f': \"NaN\",\n        }],\n [{\n            'v': 846,\n            'f': \"846\",\n        },\n\"AHREF\",\n\"https://launchpadbemidji.com/\",\n\"https://launchpadbemidji.com/about-us/\",\n\"About Us\",\nNaN,\ntrue,\n{\n            'v': NaN,\n            'f': \"NaN\",\n        }],\n [{\n            'v': 847,\n            'f': \"847\",\n        },\n\"AHREF\",\n\"https://launchpadbemidji.com/\",\n\"https://launchpadbemidji.com/about-us/\",\n\"About Us\",\nNaN,\ntrue,\n{\n            'v': NaN,\n            'f': \"NaN\",\n        }],\n [{\n            'v': 848,\n            'f': \"848\",\n        },\n\"AHREF\",\n\"https://launchpadbemidji.com/\",\n\"https://launchpadbemidji.com/about-us/\",\n\"ABOUT US\",\nNaN,\ntrue,\n{\n            'v': NaN,\n            'f': \"NaN\",\n        }],\n [{\n            'v': 849,\n            'f': \"849\",\n        },\n\"AHREF\",\n\"https://launchpadbemidji.com/\",\n\"https://launchpadbemidji.com/about-us/\",\n\"About Us\",\nNaN,\ntrue,\n{\n            'v': NaN,\n            'f': \"NaN\",\n        }],\n [{\n            'v': 850,\n            'f': \"850\",\n        },\n\"AHREF\",\n\"https://launchpadbemidji.com/photo-galleries/\",\n\"https://launchpadbemidji.com/about-us/\",\n\"About Us\",\nNaN,\ntrue,\n{\n            'v': NaN,\n            'f': \"NaN\",\n        }],\n [{\n            'v': 851,\n            'f': \"851\",\n        },\n\"AHREF\",\n\"https://launchpadbemidji.com/photo-galleries/\",\n\"https://launchpadbemidji.com/about-us/\",\n\"About Us\",\nNaN,\ntrue,\n{\n            'v': NaN,\n            'f': \"NaN\",\n        }],\n [{\n            'v': 852,\n            'f': \"852\",\n        },\n\"AHREF\",\n\"https://launchpadbemidji.com/photo-galleries/\",\n\"https://launchpadbemidji.com/about-us/\",\n\"About Us\",\nNaN,\ntrue,\n{\n            'v': NaN,\n            'f': \"NaN\",\n        }],\n [{\n            'v': 853,\n            'f': \"853\",\n        },\n\"AHREF\",\n\"https://launchpadbemidji.com/entrepreneur-meet-up/\",\n\"https://launchpadbemidji.com/about-us/\",\n\"About Us\",\nNaN,\ntrue,\n{\n            'v': NaN,\n            'f': \"NaN\",\n        }],\n [{\n            'v': 854,\n            'f': \"854\",\n        },\n\"AHREF\",\n\"https://launchpadbemidji.com/entrepreneur-meet-up/\",\n\"https://launchpadbemidji.com/about-us/\",\n\"About Us\",\nNaN,\ntrue,\n{\n            'v': NaN,\n            'f': \"NaN\",\n        }],\n [{\n            'v': 855,\n            'f': \"855\",\n        },\n\"AHREF\",\n\"https://launchpadbemidji.com/entrepreneur-meet-up/\",\n\"https://launchpadbemidji.com/about-us/\",\n\"About Us\",\nNaN,\ntrue,\n{\n            'v': NaN,\n            'f': \"NaN\",\n        }],\n [{\n            'v': 856,\n            'f': \"856\",\n        },\n\"AHREF\",\n\"https://launchpadbemidji.com/launchpad-staff/\",\n\"https://launchpadbemidji.com/about-us/\",\n\"About Us\",\nNaN,\ntrue,\n{\n            'v': NaN,\n            'f': \"NaN\",\n        }],\n [{\n            'v': 857,\n            'f': \"857\",\n        },\n\"AHREF\",\n\"https://launchpadbemidji.com/launchpad-staff/\",\n\"https://launchpadbemidji.com/about-us/\",\n\"About Us\",\nNaN,\ntrue,\n{\n            'v': NaN,\n            'f': \"NaN\",\n        }],\n [{\n            'v': 858,\n            'f': \"858\",\n        },\n\"AHREF\",\n\"https://launchpadbemidji.com/launchpad-staff/\",\n\"https://launchpadbemidji.com/about-us/\",\n\"About Us\",\nNaN,\ntrue,\n{\n            'v': NaN,\n            'f': \"NaN\",\n        }],\n [{\n            'v': 859,\n            'f': \"859\",\n        },\n\"AHREF\",\n\"https://launchpadbemidji.com/videos/\",\n\"https://launchpadbemidji.com/about-us/\",\n\"About Us\",\nNaN,\ntrue,\n{\n            'v': NaN,\n            'f': \"NaN\",\n        }],\n [{\n            'v': 860,\n            'f': \"860\",\n        },\n\"AHREF\",\n\"https://launchpadbemidji.com/videos/\",\n\"https://launchpadbemidji.com/about-us/\",\n\"About Us\",\nNaN,\ntrue,\n{\n            'v': NaN,\n            'f': \"NaN\",\n        }],\n [{\n            'v': 861,\n            'f': \"861\",\n        },\n\"AHREF\",\n\"https://launchpadbemidji.com/videos/\",\n\"https://launchpadbemidji.com/about-us/\",\n\"About Us\",\nNaN,\ntrue,\n{\n            'v': NaN,\n            'f': \"NaN\",\n        }],\n [{\n            'v': 862,\n            'f': \"862\",\n        },\n\"AHREF\",\n\"https://launchpadbemidji.com/membership/\",\n\"https://launchpadbemidji.com/about-us/\",\n\"About Us\",\nNaN,\ntrue,\n{\n            'v': NaN,\n            'f': \"NaN\",\n        }],\n [{\n            'v': 863,\n            'f': \"863\",\n        },\n\"AHREF\",\n\"https://launchpadbemidji.com/membership/\",\n\"https://launchpadbemidji.com/about-us/\",\n\"About Us\",\nNaN,\ntrue,\n{\n            'v': NaN,\n            'f': \"NaN\",\n        }],\n [{\n            'v': 864,\n            'f': \"864\",\n        },\n\"AHREF\",\n\"https://launchpadbemidji.com/membership/\",\n\"https://launchpadbemidji.com/about-us/\",\n\"About Us\",\nNaN,\ntrue,\n{\n            'v': NaN,\n            'f': \"NaN\",\n        }],\n [{\n            'v': 865,\n            'f': \"865\",\n        },\n\"AHREF\",\n\"https://launchpadbemidji.com/current-launchpad-members/\",\n\"https://launchpadbemidji.com/about-us/\",\n\"About Us\",\nNaN,\ntrue,\n{\n            'v': NaN,\n            'f': \"NaN\",\n        }],\n [{\n            'v': 866,\n            'f': \"866\",\n        },\n\"AHREF\",\n\"https://launchpadbemidji.com/current-launchpad-members/\",\n\"https://launchpadbemidji.com/about-us/\",\n\"About Us\",\nNaN,\ntrue,\n{\n            'v': NaN,\n            'f': \"NaN\",\n        }],\n [{\n            'v': 867,\n            'f': \"867\",\n        },\n\"AHREF\",\n\"https://launchpadbemidji.com/current-launchpad-members/\",\n\"https://launchpadbemidji.com/about-us/\",\n\"About Us\",\nNaN,\ntrue,\n{\n            'v': NaN,\n            'f': \"NaN\",\n        }],\n [{\n            'v': 868,\n            'f': \"868\",\n        },\n\"AHREF\",\n\"https://launchpadbemidji.com/contact/\",\n\"https://launchpadbemidji.com/about-us/\",\n\"About Us\",\nNaN,\ntrue,\n{\n            'v': NaN,\n            'f': \"NaN\",\n        }],\n [{\n            'v': 869,\n            'f': \"869\",\n        },\n\"AHREF\",\n\"https://launchpadbemidji.com/contact/\",\n\"https://launchpadbemidji.com/about-us/\",\n\"About Us\",\nNaN,\ntrue,\n{\n            'v': NaN,\n            'f': \"NaN\",\n        }],\n [{\n            'v': 870,\n            'f': \"870\",\n        },\n\"AHREF\",\n\"https://launchpadbemidji.com/contact/\",\n\"https://launchpadbemidji.com/about-us/\",\n\"About Us\",\nNaN,\ntrue,\n{\n            'v': NaN,\n            'f': \"NaN\",\n        }],\n [{\n            'v': 871,\n            'f': \"871\",\n        },\n\"AHREF\",\n\"https://launchpadbemidji.com/covid-19-updates/\",\n\"https://launchpadbemidji.com/about-us/\",\n\"About Us\",\nNaN,\ntrue,\n{\n            'v': NaN,\n            'f': \"NaN\",\n        }],\n [{\n            'v': 872,\n            'f': \"872\",\n        },\n\"AHREF\",\n\"https://launchpadbemidji.com/covid-19-updates/\",\n\"https://launchpadbemidji.com/about-us/\",\n\"About Us\",\nNaN,\ntrue,\n{\n            'v': NaN,\n            'f': \"NaN\",\n        }],\n [{\n            'v': 873,\n            'f': \"873\",\n        },\n\"AHREF\",\n\"https://launchpadbemidji.com/covid-19-updates/\",\n\"https://launchpadbemidji.com/about-us/\",\n\"About Us\",\nNaN,\ntrue,\n{\n            'v': NaN,\n            'f': \"NaN\",\n        }],\n [{\n            'v': 874,\n            'f': \"874\",\n        },\n\"AHREF\",\n\"https://launchpadbemidji.com/resources/\",\n\"https://launchpadbemidji.com/about-us/\",\n\"About Us\",\nNaN,\ntrue,\n{\n            'v': NaN,\n            'f': \"NaN\",\n        }],\n [{\n            'v': 875,\n            'f': \"875\",\n        },\n\"AHREF\",\n\"https://launchpadbemidji.com/resources/\",\n\"https://launchpadbemidji.com/about-us/\",\n\"About Us\",\nNaN,\ntrue,\n{\n            'v': NaN,\n            'f': \"NaN\",\n        }],\n [{\n            'v': 876,\n            'f': \"876\",\n        },\n\"AHREF\",\n\"https://launchpadbemidji.com/resources/\",\n\"https://launchpadbemidji.com/about-us/\",\n\"About Us\",\nNaN,\ntrue,\n{\n            'v': NaN,\n            'f': \"NaN\",\n        }],\n [{\n            'v': 877,\n            'f': \"877\",\n        },\n\"AHREF\",\n\"https://launchpadbemidji.com/about-us/\",\n\"https://launchpadbemidji.com/about-us/\",\n\"About Us\",\nNaN,\ntrue,\n{\n            'v': NaN,\n            'f': \"NaN\",\n        }],\n [{\n            'v': 878,\n            'f': \"878\",\n        },\n\"AHREF\",\n\"https://launchpadbemidji.com/about-us/\",\n\"https://launchpadbemidji.com/about-us/\",\n\"About Us\",\nNaN,\ntrue,\n{\n            'v': NaN,\n            'f': \"NaN\",\n        }],\n [{\n            'v': 879,\n            'f': \"879\",\n        },\n\"AHREF\",\n\"https://launchpadbemidji.com/about-us/\",\n\"https://launchpadbemidji.com/about-us/\",\n\"About Us\",\nNaN,\ntrue,\n{\n            'v': NaN,\n            'f': \"NaN\",\n        }],\n [{\n            'v': 880,\n            'f': \"880\",\n        },\n\"HTML Canonical\",\n\"https://launchpadbemidji.com/about-us/\",\n\"https://launchpadbemidji.com/about-us/\",\nNaN,\nNaN,\ntrue,\n{\n            'v': NaN,\n            'f': \"NaN\",\n        }],\n [{\n            'v': 881,\n            'f': \"881\",\n        },\n\"IMG\",\n\"https://launchpadbemidji.com/resources/\",\n\"https://launchpadbemidji.com/wp-content/uploads/2015/05/IMG_0205.jpg\",\nNaN,\nNaN,\ntrue,\n{\n            'v': NaN,\n            'f': \"NaN\",\n        }],\n [{\n            'v': 882,\n            'f': \"882\",\n        },\n\"AHREF\",\n\"https://launchpadbemidji.com/photo-galleries/\",\n\"https://launchpadbemidji.com/wp-content/uploads/2016/03/4.jpg\",\nNaN,\nNaN,\ntrue,\n{\n            'v': NaN,\n            'f': \"NaN\",\n        }],\n [{\n            'v': 883,\n            'f': \"883\",\n        },\n\"IMG\",\n\"https://launchpadbemidji.com/videos/\",\n\"https://launchpadbemidji.com/wp-content/plugins/youtube-embed-plus/images/playhover.png\",\nNaN,\n\"play\",\ntrue,\n{\n            'v': NaN,\n            'f': \"NaN\",\n        }],\n [{\n            'v': 884,\n            'f': \"884\",\n        },\n\"IMG\",\n\"https://launchpadbemidji.com/videos/\",\n\"https://launchpadbemidji.com/wp-content/plugins/youtube-embed-plus/images/playhover.png\",\nNaN,\n\"play\",\ntrue,\n{\n            'v': NaN,\n            'f': \"NaN\",\n        }],\n [{\n            'v': 885,\n            'f': \"885\",\n        },\n\"IMG\",\n\"https://launchpadbemidji.com/videos/\",\n\"https://launchpadbemidji.com/wp-content/plugins/youtube-embed-plus/images/playhover.png\",\nNaN,\n\"play\",\ntrue,\n{\n            'v': NaN,\n            'f': \"NaN\",\n        }],\n [{\n            'v': 886,\n            'f': \"886\",\n        },\n\"IMG\",\n\"https://launchpadbemidji.com/videos/\",\n\"https://launchpadbemidji.com/wp-content/plugins/youtube-embed-plus/images/playhover.png\",\nNaN,\n\"play\",\ntrue,\n{\n            'v': NaN,\n            'f': \"NaN\",\n        }],\n [{\n            'v': 887,\n            'f': \"887\",\n        },\n\"IMG\",\n\"https://launchpadbemidji.com/videos/\",\n\"https://launchpadbemidji.com/wp-content/plugins/youtube-embed-plus/images/playhover.png\",\nNaN,\n\"play\",\ntrue,\n{\n            'v': NaN,\n            'f': \"NaN\",\n        }],\n [{\n            'v': 888,\n            'f': \"888\",\n        },\n\"IMG\",\n\"https://launchpadbemidji.com/videos/\",\n\"https://launchpadbemidji.com/wp-content/plugins/youtube-embed-plus/images/playhover.png\",\nNaN,\n\"play\",\ntrue,\n{\n            'v': NaN,\n            'f': \"NaN\",\n        }],\n [{\n            'v': 889,\n            'f': \"889\",\n        },\n\"IMG\",\n\"https://launchpadbemidji.com/videos/\",\n\"https://launchpadbemidji.com/wp-content/plugins/youtube-embed-plus/images/playhover.png\",\nNaN,\n\"play\",\ntrue,\n{\n            'v': NaN,\n            'f': \"NaN\",\n        }],\n [{\n            'v': 890,\n            'f': \"890\",\n        },\n\"IMG\",\n\"https://launchpadbemidji.com/videos/\",\n\"https://launchpadbemidji.com/wp-content/plugins/youtube-embed-plus/images/playhover.png\",\nNaN,\n\"play\",\ntrue,\n{\n            'v': NaN,\n            'f': \"NaN\",\n        }],\n [{\n            'v': 891,\n            'f': \"891\",\n        },\n\"IMG\",\n\"https://launchpadbemidji.com/videos/\",\n\"https://launchpadbemidji.com/wp-content/plugins/youtube-embed-plus/images/playhover.png\",\nNaN,\n\"play\",\ntrue,\n{\n            'v': NaN,\n            'f': \"NaN\",\n        }],\n [{\n            'v': 892,\n            'f': \"892\",\n        },\n\"IMG\",\n\"https://launchpadbemidji.com/videos/\",\n\"https://launchpadbemidji.com/wp-content/plugins/youtube-embed-plus/images/playhover.png\",\nNaN,\n\"play\",\ntrue,\n{\n            'v': NaN,\n            'f': \"NaN\",\n        }],\n [{\n            'v': 893,\n            'f': \"893\",\n        },\n\"IMG\",\n\"https://launchpadbemidji.com/videos/\",\n\"https://launchpadbemidji.com/wp-content/plugins/youtube-embed-plus/images/playhover.png\",\nNaN,\n\"play\",\ntrue,\n{\n            'v': NaN,\n            'f': \"NaN\",\n        }],\n [{\n            'v': 894,\n            'f': \"894\",\n        },\n\"IMG\",\n\"https://launchpadbemidji.com/videos/\",\n\"https://launchpadbemidji.com/wp-content/plugins/youtube-embed-plus/images/playhover.png\",\nNaN,\n\"play\",\ntrue,\n{\n            'v': NaN,\n            'f': \"NaN\",\n        }],\n [{\n            'v': 895,\n            'f': \"895\",\n        },\n\"IMG\",\n\"https://launchpadbemidji.com/videos/\",\n\"https://launchpadbemidji.com/wp-content/plugins/youtube-embed-plus/images/playhover.png\",\nNaN,\n\"play\",\ntrue,\n{\n            'v': NaN,\n            'f': \"NaN\",\n        }],\n [{\n            'v': 896,\n            'f': \"896\",\n        },\n\"IMG\",\n\"https://launchpadbemidji.com/videos/\",\n\"https://launchpadbemidji.com/wp-content/plugins/youtube-embed-plus/images/playhover.png\",\nNaN,\n\"play\",\ntrue,\n{\n            'v': NaN,\n            'f': \"NaN\",\n        }],\n [{\n            'v': 897,\n            'f': \"897\",\n        },\n\"IMG\",\n\"https://launchpadbemidji.com/videos/\",\n\"https://launchpadbemidji.com/wp-content/plugins/youtube-embed-plus/images/playhover.png\",\nNaN,\n\"play\",\ntrue,\n{\n            'v': NaN,\n            'f': \"NaN\",\n        }],\n [{\n            'v': 898,\n            'f': \"898\",\n        },\n\"AHREF\",\n\"https://launchpadbemidji.com/photo-galleries/\",\n\"https://launchpadbemidji.com/wp-content/uploads/2017/04/IMG_1304.jpg\",\nNaN,\nNaN,\ntrue,\n{\n            'v': NaN,\n            'f': \"NaN\",\n        }],\n [{\n            'v': 899,\n            'f': \"899\",\n        },\n\"AHREF\",\n\"https://launchpadbemidji.com/photo-galleries/\",\n\"https://launchpadbemidji.com/wp-content/uploads/2017/04/IMG_1315.jpg\",\nNaN,\nNaN,\ntrue,\n{\n            'v': NaN,\n            'f': \"NaN\",\n        }],\n [{\n            'v': 900,\n            'f': \"900\",\n        },\n\"IMG\",\n\"https://launchpadbemidji.com/resources/\",\n\"https://launchpadbemidji.com/wp-content/uploads/2019/04/IMG_20190409_152040-386x286.jpg\",\nNaN,\n\"IMG_20190409_152040\",\ntrue,\n{\n            'v': NaN,\n            'f': \"NaN\",\n        }],\n [{\n            'v': 901,\n            'f': \"901\",\n        },\n\"AHREF\",\n\"https://launchpadbemidji.com/photo-galleries/\",\n\"https://launchpadbemidji.com/wp-content/uploads/2017/02/9.jpg\",\nNaN,\nNaN,\ntrue,\n{\n            'v': NaN,\n            'f': \"NaN\",\n        }],\n [{\n            'v': 902,\n            'f': \"902\",\n        },\n\"AHREF\",\n\"https://launchpadbemidji.com/photo-galleries/\",\n\"https://launchpadbemidji.com/wp-content/uploads/2015/06/IMG_3785.jpg\",\nNaN,\nNaN,\ntrue,\n{\n            'v': NaN,\n            'f': \"NaN\",\n        }],\n [{\n            'v': 903,\n            'f': \"903\",\n        },\n\"AHREF\",\n\"https://launchpadbemidji.com/photo-galleries/\",\n\"https://launchpadbemidji.com/wp-content/uploads/2017/02/1.jpg\",\nNaN,\nNaN,\ntrue,\n{\n            'v': NaN,\n            'f': \"NaN\",\n        }],\n [{\n            'v': 904,\n            'f': \"904\",\n        },\n\"AHREF\",\n\"https://launchpadbemidji.com/photo-galleries/\",\n\"https://launchpadbemidji.com/wp-content/uploads/2017/04/IMG_1179.jpg\",\nNaN,\nNaN,\ntrue,\n{\n            'v': NaN,\n            'f': \"NaN\",\n        }],\n [{\n            'v': 905,\n            'f': \"905\",\n        },\n\"IMG\",\n\"https://launchpadbemidji.com/photo-galleries/\",\n\"https://launchpadbemidji.com/wp-content/themes/amax/img/e.gif\",\nNaN,\n\"IMG_1316\",\ntrue,\n{\n            'v': NaN,\n            'f': \"NaN\",\n        }],\n [{\n            'v': 906,\n            'f': \"906\",\n        },\n\"IMG\",\n\"https://launchpadbemidji.com/photo-galleries/\",\n\"https://launchpadbemidji.com/wp-content/themes/amax/img/e.gif\",\nNaN,\n\"IMG_1315\",\ntrue,\n{\n            'v': NaN,\n            'f': \"NaN\",\n        }],\n [{\n            'v': 907,\n            'f': \"907\",\n        },\n\"IMG\",\n\"https://launchpadbemidji.com/photo-galleries/\",\n\"https://launchpadbemidji.com/wp-content/themes/amax/img/e.gif\",\nNaN,\n\"IMG_1314\",\ntrue,\n{\n            'v': NaN,\n            'f': \"NaN\",\n        }],\n [{\n            'v': 908,\n            'f': \"908\",\n        },\n\"IMG\",\n\"https://launchpadbemidji.com/photo-galleries/\",\n\"https://launchpadbemidji.com/wp-content/themes/amax/img/e.gif\",\nNaN,\n\"IMG_1313\",\ntrue,\n{\n            'v': NaN,\n            'f': \"NaN\",\n        }],\n [{\n            'v': 909,\n            'f': \"909\",\n        },\n\"IMG\",\n\"https://launchpadbemidji.com/photo-galleries/\",\n\"https://launchpadbemidji.com/wp-content/themes/amax/img/e.gif\",\nNaN,\n\"IMG_1312\",\ntrue,\n{\n            'v': NaN,\n            'f': \"NaN\",\n        }],\n [{\n            'v': 910,\n            'f': \"910\",\n        },\n\"IMG\",\n\"https://launchpadbemidji.com/photo-galleries/\",\n\"https://launchpadbemidji.com/wp-content/themes/amax/img/e.gif\",\nNaN,\n\"IMG_1311\",\ntrue,\n{\n            'v': NaN,\n            'f': \"NaN\",\n        }],\n [{\n            'v': 911,\n            'f': \"911\",\n        },\n\"IMG\",\n\"https://launchpadbemidji.com/photo-galleries/\",\n\"https://launchpadbemidji.com/wp-content/themes/amax/img/e.gif\",\nNaN,\n\"IMG_1310\",\ntrue,\n{\n            'v': NaN,\n            'f': \"NaN\",\n        }],\n [{\n            'v': 912,\n            'f': \"912\",\n        },\n\"IMG\",\n\"https://launchpadbemidji.com/photo-galleries/\",\n\"https://launchpadbemidji.com/wp-content/themes/amax/img/e.gif\",\nNaN,\n\"IMG_1309\",\ntrue,\n{\n            'v': NaN,\n            'f': \"NaN\",\n        }],\n [{\n            'v': 913,\n            'f': \"913\",\n        },\n\"IMG\",\n\"https://launchpadbemidji.com/photo-galleries/\",\n\"https://launchpadbemidji.com/wp-content/themes/amax/img/e.gif\",\nNaN,\n\"IMG_1308\",\ntrue,\n{\n            'v': NaN,\n            'f': \"NaN\",\n        }],\n [{\n            'v': 914,\n            'f': \"914\",\n        },\n\"IMG\",\n\"https://launchpadbemidji.com/photo-galleries/\",\n\"https://launchpadbemidji.com/wp-content/themes/amax/img/e.gif\",\nNaN,\n\"IMG_1307\",\ntrue,\n{\n            'v': NaN,\n            'f': \"NaN\",\n        }],\n [{\n            'v': 915,\n            'f': \"915\",\n        },\n\"IMG\",\n\"https://launchpadbemidji.com/photo-galleries/\",\n\"https://launchpadbemidji.com/wp-content/themes/amax/img/e.gif\",\nNaN,\n\"IMG_1178\",\ntrue,\n{\n            'v': NaN,\n            'f': \"NaN\",\n        }],\n [{\n            'v': 916,\n            'f': \"916\",\n        },\n\"IMG\",\n\"https://launchpadbemidji.com/photo-galleries/\",\n\"https://launchpadbemidji.com/wp-content/themes/amax/img/e.gif\",\nNaN,\n\"IMG_1179\",\ntrue,\n{\n            'v': NaN,\n            'f': \"NaN\",\n        }],\n [{\n            'v': 917,\n            'f': \"917\",\n        },\n\"IMG\",\n\"https://launchpadbemidji.com/photo-galleries/\",\n\"https://launchpadbemidji.com/wp-content/themes/amax/img/e.gif\",\nNaN,\n\"IMG_1180\",\ntrue,\n{\n            'v': NaN,\n            'f': \"NaN\",\n        }],\n [{\n            'v': 918,\n            'f': \"918\",\n        },\n\"IMG\",\n\"https://launchpadbemidji.com/photo-galleries/\",\n\"https://launchpadbemidji.com/wp-content/themes/amax/img/e.gif\",\nNaN,\n\"IMG_1303\",\ntrue,\n{\n            'v': NaN,\n            'f': \"NaN\",\n        }],\n [{\n            'v': 919,\n            'f': \"919\",\n        },\n\"IMG\",\n\"https://launchpadbemidji.com/photo-galleries/\",\n\"https://launchpadbemidji.com/wp-content/themes/amax/img/e.gif\",\nNaN,\n\"IMG_1304\",\ntrue,\n{\n            'v': NaN,\n            'f': \"NaN\",\n        }],\n [{\n            'v': 920,\n            'f': \"920\",\n        },\n\"IMG\",\n\"https://launchpadbemidji.com/photo-galleries/\",\n\"https://launchpadbemidji.com/wp-content/themes/amax/img/e.gif\",\nNaN,\n\"IMG_1305\",\ntrue,\n{\n            'v': NaN,\n            'f': \"NaN\",\n        }],\n [{\n            'v': 921,\n            'f': \"921\",\n        },\n\"IMG\",\n\"https://launchpadbemidji.com/photo-galleries/\",\n\"https://launchpadbemidji.com/wp-content/themes/amax/img/e.gif\",\nNaN,\n\"IMG_1306\",\ntrue,\n{\n            'v': NaN,\n            'f': \"NaN\",\n        }],\n [{\n            'v': 922,\n            'f': \"922\",\n        },\n\"IMG\",\n\"https://launchpadbemidji.com/photo-galleries/\",\n\"https://launchpadbemidji.com/wp-content/themes/amax/img/e.gif\",\nNaN,\n\"IMG_1177\",\ntrue,\n{\n            'v': NaN,\n            'f': \"NaN\",\n        }],\n [{\n            'v': 923,\n            'f': \"923\",\n        },\n\"IMG\",\n\"https://launchpadbemidji.com/photo-galleries/\",\n\"https://launchpadbemidji.com/wp-content/themes/amax/img/e.gif\",\nNaN,\n\"IMG_1176\",\ntrue,\n{\n            'v': NaN,\n            'f': \"NaN\",\n        }],\n [{\n            'v': 924,\n            'f': \"924\",\n        },\n\"IMG\",\n\"https://launchpadbemidji.com/photo-galleries/\",\n\"https://launchpadbemidji.com/wp-content/themes/amax/img/e.gif\",\nNaN,\n\"IMG_1175\",\ntrue,\n{\n            'v': NaN,\n            'f': \"NaN\",\n        }],\n [{\n            'v': 925,\n            'f': \"925\",\n        },\n\"IMG\",\n\"https://launchpadbemidji.com/photo-galleries/\",\n\"https://launchpadbemidji.com/wp-content/themes/amax/img/e.gif\",\nNaN,\n\"IMG_1174\",\ntrue,\n{\n            'v': NaN,\n            'f': \"NaN\",\n        }],\n [{\n            'v': 926,\n            'f': \"926\",\n        },\n\"IMG\",\n\"https://launchpadbemidji.com/photo-galleries/\",\n\"https://launchpadbemidji.com/wp-content/themes/amax/img/e.gif\",\nNaN,\n\"IMG_0965\",\ntrue,\n{\n            'v': NaN,\n            'f': \"NaN\",\n        }],\n [{\n            'v': 927,\n            'f': \"927\",\n        },\n\"IMG\",\n\"https://launchpadbemidji.com/photo-galleries/\",\n\"https://launchpadbemidji.com/wp-content/themes/amax/img/e.gif\",\nNaN,\n\"IMG_0962\",\ntrue,\n{\n            'v': NaN,\n            'f': \"NaN\",\n        }],\n [{\n            'v': 928,\n            'f': \"928\",\n        },\n\"IMG\",\n\"https://launchpadbemidji.com/photo-galleries/\",\n\"https://launchpadbemidji.com/wp-content/themes/amax/img/e.gif\",\nNaN,\n\"1\",\ntrue,\n{\n            'v': NaN,\n            'f': \"NaN\",\n        }],\n [{\n            'v': 929,\n            'f': \"929\",\n        },\n\"IMG\",\n\"https://launchpadbemidji.com/photo-galleries/\",\n\"https://launchpadbemidji.com/wp-content/themes/amax/img/e.gif\",\nNaN,\n\"2\",\ntrue,\n{\n            'v': NaN,\n            'f': \"NaN\",\n        }],\n [{\n            'v': 930,\n            'f': \"930\",\n        },\n\"IMG\",\n\"https://launchpadbemidji.com/photo-galleries/\",\n\"https://launchpadbemidji.com/wp-content/themes/amax/img/e.gif\",\nNaN,\n\"3\",\ntrue,\n{\n            'v': NaN,\n            'f': \"NaN\",\n        }],\n [{\n            'v': 931,\n            'f': \"931\",\n        },\n\"IMG\",\n\"https://launchpadbemidji.com/photo-galleries/\",\n\"https://launchpadbemidji.com/wp-content/themes/amax/img/e.gif\",\nNaN,\n\"4\",\ntrue,\n{\n            'v': NaN,\n            'f': \"NaN\",\n        }],\n [{\n            'v': 932,\n            'f': \"932\",\n        },\n\"IMG\",\n\"https://launchpadbemidji.com/photo-galleries/\",\n\"https://launchpadbemidji.com/wp-content/themes/amax/img/e.gif\",\nNaN,\n\"5\",\ntrue,\n{\n            'v': NaN,\n            'f': \"NaN\",\n        }],\n [{\n            'v': 933,\n            'f': \"933\",\n        },\n\"IMG\",\n\"https://launchpadbemidji.com/photo-galleries/\",\n\"https://launchpadbemidji.com/wp-content/themes/amax/img/e.gif\",\nNaN,\n\"6\",\ntrue,\n{\n            'v': NaN,\n            'f': \"NaN\",\n        }],\n [{\n            'v': 934,\n            'f': \"934\",\n        },\n\"IMG\",\n\"https://launchpadbemidji.com/photo-galleries/\",\n\"https://launchpadbemidji.com/wp-content/themes/amax/img/e.gif\",\nNaN,\n\"7\",\ntrue,\n{\n            'v': NaN,\n            'f': \"NaN\",\n        }],\n [{\n            'v': 935,\n            'f': \"935\",\n        },\n\"IMG\",\n\"https://launchpadbemidji.com/photo-galleries/\",\n\"https://launchpadbemidji.com/wp-content/themes/amax/img/e.gif\",\nNaN,\n\"8\",\ntrue,\n{\n            'v': NaN,\n            'f': \"NaN\",\n        }],\n [{\n            'v': 936,\n            'f': \"936\",\n        },\n\"IMG\",\n\"https://launchpadbemidji.com/photo-galleries/\",\n\"https://launchpadbemidji.com/wp-content/themes/amax/img/e.gif\",\nNaN,\n\"15\",\ntrue,\n{\n            'v': NaN,\n            'f': \"NaN\",\n        }],\n [{\n            'v': 937,\n            'f': \"937\",\n        },\n\"IMG\",\n\"https://launchpadbemidji.com/photo-galleries/\",\n\"https://launchpadbemidji.com/wp-content/themes/amax/img/e.gif\",\nNaN,\n\"12\",\ntrue,\n{\n            'v': NaN,\n            'f': \"NaN\",\n        }],\n [{\n            'v': 938,\n            'f': \"938\",\n        },\n\"IMG\",\n\"https://launchpadbemidji.com/photo-galleries/\",\n\"https://launchpadbemidji.com/wp-content/themes/amax/img/e.gif\",\nNaN,\n\"9\",\ntrue,\n{\n            'v': NaN,\n            'f': \"NaN\",\n        }],\n [{\n            'v': 939,\n            'f': \"939\",\n        },\n\"IMG\",\n\"https://launchpadbemidji.com/photo-galleries/\",\n\"https://launchpadbemidji.com/wp-content/themes/amax/img/e.gif\",\nNaN,\n\"10\",\ntrue,\n{\n            'v': NaN,\n            'f': \"NaN\",\n        }],\n [{\n            'v': 940,\n            'f': \"940\",\n        },\n\"IMG\",\n\"https://launchpadbemidji.com/photo-galleries/\",\n\"https://launchpadbemidji.com/wp-content/themes/amax/img/e.gif\",\nNaN,\n\"9\",\ntrue,\n{\n            'v': NaN,\n            'f': \"NaN\",\n        }],\n [{\n            'v': 941,\n            'f': \"941\",\n        },\n\"IMG\",\n\"https://launchpadbemidji.com/photo-galleries/\",\n\"https://launchpadbemidji.com/wp-content/themes/amax/img/e.gif\",\nNaN,\n\"8\",\ntrue,\n{\n            'v': NaN,\n            'f': \"NaN\",\n        }],\n [{\n            'v': 942,\n            'f': \"942\",\n        },\n\"IMG\",\n\"https://launchpadbemidji.com/photo-galleries/\",\n\"https://launchpadbemidji.com/wp-content/themes/amax/img/e.gif\",\nNaN,\n\"3\",\ntrue,\n{\n            'v': NaN,\n            'f': \"NaN\",\n        }],\n [{\n            'v': 943,\n            'f': \"943\",\n        },\n\"IMG\",\n\"https://launchpadbemidji.com/photo-galleries/\",\n\"https://launchpadbemidji.com/wp-content/themes/amax/img/e.gif\",\nNaN,\n\"4\",\ntrue,\n{\n            'v': NaN,\n            'f': \"NaN\",\n        }],\n [{\n            'v': 944,\n            'f': \"944\",\n        },\n\"IMG\",\n\"https://launchpadbemidji.com/photo-galleries/\",\n\"https://launchpadbemidji.com/wp-content/themes/amax/img/e.gif\",\nNaN,\n\"1\",\ntrue,\n{\n            'v': NaN,\n            'f': \"NaN\",\n        }],\n [{\n            'v': 945,\n            'f': \"945\",\n        },\n\"IMG\",\n\"https://launchpadbemidji.com/photo-galleries/\",\n\"https://launchpadbemidji.com/wp-content/themes/amax/img/e.gif\",\nNaN,\n\"IMG_3442\",\ntrue,\n{\n            'v': NaN,\n            'f': \"NaN\",\n        }],\n [{\n            'v': 946,\n            'f': \"946\",\n        },\n\"IMG\",\n\"https://launchpadbemidji.com/photo-galleries/\",\n\"https://launchpadbemidji.com/wp-content/themes/amax/img/e.gif\",\nNaN,\n\"IMG_4002\",\ntrue,\n{\n            'v': NaN,\n            'f': \"NaN\",\n        }],\n [{\n            'v': 947,\n            'f': \"947\",\n        },\n\"IMG\",\n\"https://launchpadbemidji.com/photo-galleries/\",\n\"https://launchpadbemidji.com/wp-content/themes/amax/img/e.gif\",\nNaN,\n\"IMG_3785\",\ntrue,\n{\n            'v': NaN,\n            'f': \"NaN\",\n        }],\n [{\n            'v': 948,\n            'f': \"948\",\n        },\n\"AHREF\",\n\"https://launchpadbemidji.com/photo-galleries/\",\n\"https://launchpadbemidji.com/wp-content/uploads/2015/06/IMG_3442.jpg\",\nNaN,\nNaN,\ntrue,\n{\n            'v': NaN,\n            'f': \"NaN\",\n        }],\n [{\n            'v': 949,\n            'f': \"949\",\n        },\n\"AHREF\",\n\"https://launchpadbemidji.com/photo-galleries/\",\n\"https://launchpadbemidji.com/wp-content/uploads/2017/04/IMG_1313.jpg\",\nNaN,\nNaN,\ntrue,\n{\n            'v': NaN,\n            'f': \"NaN\",\n        }],\n [{\n            'v': 950,\n            'f': \"950\",\n        },\n\"AHREF\",\n\"https://launchpadbemidji.com/membership/\",\n\"https://launchpadbemidji.com/wp-content/uploads/2019/04/LaunchPad-Membership-Agreement.pdf\",\nNaN,\n\"membership-agreement-button\",\ntrue,\n{\n            'v': NaN,\n            'f': \"NaN\",\n        }],\n [{\n            'v': 951,\n            'f': \"951\",\n        },\n\"AHREF\",\n\"https://launchpadbemidji.com/membership/\",\n\"https://launchpadbemidji.com/wp-content/uploads/2019/04/LaunchPad-Membership-Agreement.pdf\",\nNaN,\n\"membership-agreement-button\",\ntrue,\n{\n            'v': NaN,\n            'f': \"NaN\",\n        }],\n [{\n            'v': 952,\n            'f': \"952\",\n        },\n\"AHREF\",\n\"https://launchpadbemidji.com/photo-galleries/\",\n\"https://launchpadbemidji.com/wp-content/uploads/2017/02/3.jpg\",\nNaN,\nNaN,\ntrue,\n{\n            'v': NaN,\n            'f': \"NaN\",\n        }],\n [{\n            'v': 953,\n            'f': \"953\",\n        },\n\"AHREF\",\n\"https://launchpadbemidji.com/photo-galleries/\",\n\"https://launchpadbemidji.com/wp-content/uploads/2017/04/IMG_1305.jpg\",\nNaN,\nNaN,\ntrue,\n{\n            'v': NaN,\n            'f': \"NaN\",\n        }],\n [{\n            'v': 954,\n            'f': \"954\",\n        },\n\"AHREF\",\n\"https://launchpadbemidji.com/photo-galleries/\",\n\"https://launchpadbemidji.com/wp-content/uploads/2017/04/IMG_1177.jpg\",\nNaN,\nNaN,\ntrue,\n{\n            'v': NaN,\n            'f': \"NaN\",\n        }],\n [{\n            'v': 955,\n            'f': \"955\",\n        },\n\"AHREF\",\n\"https://launchpadbemidji.com/photo-galleries/\",\n\"https://launchpadbemidji.com/wp-content/uploads/2016/03/9.jpg\",\nNaN,\nNaN,\ntrue,\n{\n            'v': NaN,\n            'f': \"NaN\",\n        }],\n [{\n            'v': 956,\n            'f': \"956\",\n        },\n\"IMG\",\n\"https://launchpadbemidji.com/about-us/\",\n\"https://launchpadbemidji.com/wp-content/uploads/2015/05/Mayflower-.jpg\",\nNaN,\nNaN,\ntrue,\n{\n            'v': NaN,\n            'f': \"NaN\",\n        }],\n [{\n            'v': 957,\n            'f': \"957\",\n        },\n\"AHREF\",\n\"https://launchpadbemidji.com/photo-galleries/\",\n\"https://launchpadbemidji.com/wp-content/uploads/2017/04/IMG_1311.jpg\",\nNaN,\nNaN,\ntrue,\n{\n            'v': NaN,\n            'f': \"NaN\",\n        }],\n [{\n            'v': 958,\n            'f': \"958\",\n        },\n\"IMG\",\n\"https://launchpadbemidji.com/launchpad-staff/\",\n\"https://launchpadbemidji.com/wp-content/uploads/2015/05/bemidji-coworking-space-launchpad.png\",\nNaN,\nNaN,\ntrue,\n{\n            'v': NaN,\n            'f': \"NaN\",\n        }],\n [{\n            'v': 959,\n            'f': \"959\",\n        },\n\"AHREF\",\n\"https://launchpadbemidji.com/photo-galleries/\",\n\"https://launchpadbemidji.com/wp-content/uploads/2017/04/IMG_1307.jpg\",\nNaN,\nNaN,\ntrue,\n{\n            'v': NaN,\n            'f': \"NaN\",\n        }],\n [{\n            'v': 960,\n            'f': \"960\",\n        },\n\"AHREF\",\n\"https://launchpadbemidji.com/photo-galleries/\",\n\"https://launchpadbemidji.com/wp-content/uploads/2017/02/5.jpg\",\nNaN,\nNaN,\ntrue,\n{\n            'v': NaN,\n            'f': \"NaN\",\n        }],\n [{\n            'v': 961,\n            'f': \"961\",\n        },\n\"AHREF\",\n\"https://launchpadbemidji.com/photo-galleries/\",\n\"https://launchpadbemidji.com/wp-content/uploads/2017/04/IMG_0965.jpg\",\nNaN,\nNaN,\ntrue,\n{\n            'v': NaN,\n            'f': \"NaN\",\n        }],\n [{\n            'v': 962,\n            'f': \"962\",\n        },\n\"IMG\",\n\"https://launchpadbemidji.com/resources/\",\n\"https://launchpadbemidji.com/wp-content/uploads/2019/04/small1.jpg\",\nNaN,\nNaN,\ntrue,\n{\n            'v': NaN,\n            'f': \"NaN\",\n        }],\n [{\n            'v': 963,\n            'f': \"963\",\n        },\n\"AHREF\",\n\"https://launchpadbemidji.com/about-us/\",\n\"https://launchpadbemidji.com/wp-content/uploads/2015/05/NorthwestMN.png\",\nNaN,\nNaN,\ntrue,\n{\n            'v': NaN,\n            'f': \"NaN\",\n        }],\n [{\n            'v': 964,\n            'f': \"964\",\n        },\n\"AHREF\",\n\"https://launchpadbemidji.com/photo-galleries/\",\n\"https://launchpadbemidji.com/wp-content/uploads/2017/02/8.jpg\",\nNaN,\nNaN,\ntrue,\n{\n            'v': NaN,\n            'f': \"NaN\",\n        }],\n [{\n            'v': 965,\n            'f': \"965\",\n        },\n\"IMG\",\n\"https://launchpadbemidji.com/videos/\",\n\"https://launchpadbemidji.com/wp-content/plugins/youtube-embed-plus/images/gallery-page-loader.gif\",\nNaN,\n\"loading\",\ntrue,\n{\n            'v': NaN,\n            'f': \"NaN\",\n        }],\n [{\n            'v': 966,\n            'f': \"966\",\n        },\n\"IMG\",\n\"https://launchpadbemidji.com/videos/\",\n\"https://launchpadbemidji.com/wp-content/plugins/youtube-embed-plus/images/gallery-page-loader.gif\",\nNaN,\n\"loading\",\ntrue,\n{\n            'v': NaN,\n            'f': \"NaN\",\n        }],\n [{\n            'v': 967,\n            'f': \"967\",\n        },\n\"IMG\",\n\"https://launchpadbemidji.com/resources/\",\n\"https://launchpadbemidji.com/wp-content/uploads/2019/04/boardroom.jpg\",\nNaN,\nNaN,\ntrue,\n{\n            'v': NaN,\n            'f': \"NaN\",\n        }],\n [{\n            'v': 968,\n            'f': \"968\",\n        },\n\"AHREF\",\n\"https://launchpadbemidji.com/photo-galleries/\",\n\"https://launchpadbemidji.com/wp-content/uploads/2017/04/IMG_1316.jpg\",\nNaN,\nNaN,\ntrue,\n{\n            'v': NaN,\n            'f': \"NaN\",\n        }],\n [{\n            'v': 969,\n            'f': \"969\",\n        },\n\"AHREF\",\n\"https://launchpadbemidji.com/launchpad-staff/\",\n\"https://launchpadbemidji.com/wp-content/uploads/2020/04/Erin-Echternach-Headshot-679x1024-1.png\",\nNaN,\nNaN,\ntrue,\n{\n            'v': NaN,\n            'f': \"NaN\",\n        }],\n [{\n            'v': 970,\n            'f': \"970\",\n        },\n\"AHREF\",\n\"https://launchpadbemidji.com/photo-galleries/\",\n\"https://launchpadbemidji.com/wp-content/uploads/2017/04/IMG_1303.jpg\",\nNaN,\nNaN,\ntrue,\n{\n            'v': NaN,\n            'f': \"NaN\",\n        }],\n [{\n            'v': 971,\n            'f': \"971\",\n        },\n\"AHREF\",\n\"https://launchpadbemidji.com/photo-galleries/\",\n\"https://launchpadbemidji.com/wp-content/uploads/2017/04/IMG_1314.jpg\",\nNaN,\nNaN,\ntrue,\n{\n            'v': NaN,\n            'f': \"NaN\",\n        }],\n [{\n            'v': 972,\n            'f': \"972\",\n        },\n\"AHREF\",\n\"https://launchpadbemidji.com/membership/\",\n\"https://launchpadbemidji.com/wp-content/uploads/2019/04/LaunchPad-Membership-Application-revised.pdf\",\nNaN,\n\"membership-application-button\",\ntrue,\n{\n            'v': NaN,\n            'f': \"NaN\",\n        }],\n [{\n            'v': 973,\n            'f': \"973\",\n        },\n\"AHREF\",\n\"https://launchpadbemidji.com/membership/\",\n\"https://launchpadbemidji.com/wp-content/uploads/2019/04/LaunchPad-Membership-Application-revised.pdf\",\nNaN,\n\"membership-application-button\",\ntrue,\n{\n            'v': NaN,\n            'f': \"NaN\",\n        }],\n [{\n            'v': 974,\n            'f': \"974\",\n        },\n\"AHREF\",\n\"https://launchpadbemidji.com/photo-galleries/\",\n\"https://launchpadbemidji.com/wp-content/uploads/2017/02/2.jpg\",\nNaN,\nNaN,\ntrue,\n{\n            'v': NaN,\n            'f': \"NaN\",\n        }],\n [{\n            'v': 975,\n            'f': \"975\",\n        },\n\"AHREF\",\n\"https://launchpadbemidji.com/photo-galleries/\",\n\"https://launchpadbemidji.com/wp-content/uploads/2017/02/12.jpg\",\nNaN,\nNaN,\ntrue,\n{\n            'v': NaN,\n            'f': \"NaN\",\n        }],\n [{\n            'v': 976,\n            'f': \"976\",\n        },\n\"AHREF\",\n\"https://launchpadbemidji.com/photo-galleries/\",\n\"https://launchpadbemidji.com/wp-content/uploads/2017/04/IMG_1306.jpg\",\nNaN,\nNaN,\ntrue,\n{\n            'v': NaN,\n            'f': \"NaN\",\n        }],\n [{\n            'v': 977,\n            'f': \"977\",\n        },\n\"IMG\",\n\"https://launchpadbemidji.com/current-launchpad-members/\",\n\"https://launchpadbemidji.com/wp-content/uploads/2015/05/IMG_8943.jpg\",\nNaN,\nNaN,\ntrue,\n{\n            'v': NaN,\n            'f': \"NaN\",\n        }],\n [{\n            'v': 978,\n            'f': \"978\",\n        },\n\"AHREF\",\n\"https://launchpadbemidji.com/photo-galleries/\",\n\"https://launchpadbemidji.com/wp-content/uploads/2017/02/10.jpg\",\nNaN,\nNaN,\ntrue,\n{\n            'v': NaN,\n            'f': \"NaN\",\n        }],\n [{\n            'v': 979,\n            'f': \"979\",\n        },\n\"AHREF\",\n\"https://launchpadbemidji.com/photo-galleries/\",\n\"https://launchpadbemidji.com/wp-content/uploads/2016/03/3.jpg\",\nNaN,\nNaN,\ntrue,\n{\n            'v': NaN,\n            'f': \"NaN\",\n        }],\n [{\n            'v': 980,\n            'f': \"980\",\n        },\n\"AHREF\",\n\"https://launchpadbemidji.com/photo-galleries/\",\n\"https://launchpadbemidji.com/wp-content/uploads/2017/04/IMG_1180.jpg\",\nNaN,\nNaN,\ntrue,\n{\n            'v': NaN,\n            'f': \"NaN\",\n        }],\n [{\n            'v': 981,\n            'f': \"981\",\n        },\n\"AHREF\",\n\"https://launchpadbemidji.com/photo-galleries/\",\n\"https://launchpadbemidji.com/wp-content/uploads/2015/06/IMG_4002.jpg\",\nNaN,\nNaN,\ntrue,\n{\n            'v': NaN,\n            'f': \"NaN\",\n        }],\n [{\n            'v': 982,\n            'f': \"982\",\n        },\n\"AHREF\",\n\"https://launchpadbemidji.com/launchpad-staff/\",\n\"https://launchpadbemidji.com/wp-content/uploads/2015/07/DSC2549.jpg\",\nNaN,\nNaN,\ntrue,\n{\n            'v': NaN,\n            'f': \"NaN\",\n        }],\n [{\n            'v': 983,\n            'f': \"983\",\n        },\n\"AHREF\",\n\"https://launchpadbemidji.com/photo-galleries/\",\n\"https://launchpadbemidji.com/wp-content/uploads/2017/04/IMG_1308.jpg\",\nNaN,\nNaN,\ntrue,\n{\n            'v': NaN,\n            'f': \"NaN\",\n        }],\n [{\n            'v': 984,\n            'f': \"984\",\n        },\n\"IMG\",\n\"https://launchpadbemidji.com/entrepreneur-meet-up/\",\n\"https://launchpadbemidji.com/wp-includes/images/rss.png\",\nNaN,\n\"RSS\",\ntrue,\n{\n            'v': NaN,\n            'f': \"NaN\",\n        }],\n [{\n            'v': 985,\n            'f': \"985\",\n        },\n\"IMG\",\n\"https://launchpadbemidji.com/launchpad-staff/\",\n\"https://launchpadbemidji.com/wp-includes/images/rss.png\",\nNaN,\n\"RSS\",\ntrue,\n{\n            'v': NaN,\n            'f': \"NaN\",\n        }],\n [{\n            'v': 986,\n            'f': \"986\",\n        },\n\"IMG\",\n\"https://launchpadbemidji.com/membership/\",\n\"https://launchpadbemidji.com/wp-includes/images/rss.png\",\nNaN,\n\"RSS\",\ntrue,\n{\n            'v': NaN,\n            'f': \"NaN\",\n        }],\n [{\n            'v': 987,\n            'f': \"987\",\n        },\n\"IMG\",\n\"https://launchpadbemidji.com/current-launchpad-members/\",\n\"https://launchpadbemidji.com/wp-includes/images/rss.png\",\nNaN,\n\"RSS\",\ntrue,\n{\n            'v': NaN,\n            'f': \"NaN\",\n        }],\n [{\n            'v': 988,\n            'f': \"988\",\n        },\n\"IMG\",\n\"https://launchpadbemidji.com/contact/\",\n\"https://launchpadbemidji.com/wp-includes/images/rss.png\",\nNaN,\n\"RSS\",\ntrue,\n{\n            'v': NaN,\n            'f': \"NaN\",\n        }],\n [{\n            'v': 989,\n            'f': \"989\",\n        },\n\"IMG\",\n\"https://launchpadbemidji.com/covid-19-updates/\",\n\"https://launchpadbemidji.com/wp-includes/images/rss.png\",\nNaN,\n\"RSS\",\ntrue,\n{\n            'v': NaN,\n            'f': \"NaN\",\n        }],\n [{\n            'v': 990,\n            'f': \"990\",\n        },\n\"IMG\",\n\"https://launchpadbemidji.com/resources/\",\n\"https://launchpadbemidji.com/wp-includes/images/rss.png\",\nNaN,\n\"RSS\",\ntrue,\n{\n            'v': NaN,\n            'f': \"NaN\",\n        }],\n [{\n            'v': 991,\n            'f': \"991\",\n        },\n\"IMG\",\n\"https://launchpadbemidji.com/about-us/\",\n\"https://launchpadbemidji.com/wp-includes/images/rss.png\",\nNaN,\n\"RSS\",\ntrue,\n{\n            'v': NaN,\n            'f': \"NaN\",\n        }],\n [{\n            'v': 992,\n            'f': \"992\",\n        },\n\"AHREF\",\n\"https://launchpadbemidji.com/photo-galleries/\",\n\"https://launchpadbemidji.com/wp-content/uploads/2017/04/IMG_1312.jpg\",\nNaN,\nNaN,\ntrue,\n{\n            'v': NaN,\n            'f': \"NaN\",\n        }],\n [{\n            'v': 993,\n            'f': \"993\",\n        },\n\"AHREF\",\n\"https://launchpadbemidji.com/photo-galleries/\",\n\"https://launchpadbemidji.com/wp-content/uploads/2017/02/4.jpg\",\nNaN,\nNaN,\ntrue,\n{\n            'v': NaN,\n            'f': \"NaN\",\n        }],\n [{\n            'v': 994,\n            'f': \"994\",\n        },\n\"AHREF\",\n\"https://launchpadbemidji.com/photo-galleries/\",\n\"https://launchpadbemidji.com/wp-content/uploads/2016/03/8.jpg\",\nNaN,\nNaN,\ntrue,\n{\n            'v': NaN,\n            'f': \"NaN\",\n        }],\n [{\n            'v': 995,\n            'f': \"995\",\n        },\n\"AHREF\",\n\"https://launchpadbemidji.com/photo-galleries/\",\n\"https://launchpadbemidji.com/wp-content/uploads/2017/04/IMG_1178.jpg\",\nNaN,\nNaN,\ntrue,\n{\n            'v': NaN,\n            'f': \"NaN\",\n        }],\n [{\n            'v': 996,\n            'f': \"996\",\n        },\n\"AHREF\",\n\"https://launchpadbemidji.com/photo-galleries/\",\n\"https://launchpadbemidji.com/wp-content/uploads/2016/03/1.jpg\",\nNaN,\nNaN,\ntrue,\n{\n            'v': NaN,\n            'f': \"NaN\",\n        }]],\n        columns: [[\"number\", \"index\"], [\"string\", \"Type\"], [\"string\", \"From\"], [\"string\", \"To\"], [\"string\", \"Anchor Text\"], [\"string\", \"Alt Text\"], [\"string\", \"Follow\"], [\"number\", \"Link Attributes\"]],\n        columnOptions: [{\"width\": \"1px\", \"className\": \"index_column\"}],\n        rowsPerPage: 25,\n        helpUrl: \"https://colab.research.google.com/notebooks/data_table.ipynb\",\n        suppressOutputScrolling: true,\n        minimumWidth: undefined,\n      });\n    ",
            "text/html": [
              "<div>\n",
              "<style scoped>\n",
              "    .dataframe tbody tr th:only-of-type {\n",
              "        vertical-align: middle;\n",
              "    }\n",
              "\n",
              "    .dataframe tbody tr th {\n",
              "        vertical-align: top;\n",
              "    }\n",
              "\n",
              "    .dataframe thead th {\n",
              "        text-align: right;\n",
              "    }\n",
              "</style>\n",
              "<table border=\"1\" class=\"dataframe\">\n",
              "  <thead>\n",
              "    <tr style=\"text-align: right;\">\n",
              "      <th></th>\n",
              "      <th>Type</th>\n",
              "      <th>From</th>\n",
              "      <th>To</th>\n",
              "      <th>Anchor Text</th>\n",
              "      <th>Alt Text</th>\n",
              "      <th>Follow</th>\n",
              "      <th>Link Attributes</th>\n",
              "    </tr>\n",
              "  </thead>\n",
              "  <tbody>\n",
              "    <tr>\n",
              "      <th>0</th>\n",
              "      <td>HTTP Redirect</td>\n",
              "      <td>http://launchpadbemidji.com/</td>\n",
              "      <td>https://launchpadbemidji.com/</td>\n",
              "      <td>NaN</td>\n",
              "      <td>NaN</td>\n",
              "      <td>True</td>\n",
              "      <td>NaN</td>\n",
              "    </tr>\n",
              "    <tr>\n",
              "      <th>1</th>\n",
              "      <td>AHREF</td>\n",
              "      <td>https://launchpadbemidji.com/</td>\n",
              "      <td>https://launchpadbemidji.com/</td>\n",
              "      <td>NaN</td>\n",
              "      <td>LaunchPad</td>\n",
              "      <td>True</td>\n",
              "      <td>NaN</td>\n",
              "    </tr>\n",
              "    <tr>\n",
              "      <th>2</th>\n",
              "      <td>AHREF</td>\n",
              "      <td>https://launchpadbemidji.com/</td>\n",
              "      <td>https://launchpadbemidji.com/</td>\n",
              "      <td>Home</td>\n",
              "      <td>NaN</td>\n",
              "      <td>True</td>\n",
              "      <td>NaN</td>\n",
              "    </tr>\n",
              "    <tr>\n",
              "      <th>3</th>\n",
              "      <td>AHREF</td>\n",
              "      <td>https://launchpadbemidji.com/</td>\n",
              "      <td>https://launchpadbemidji.com/</td>\n",
              "      <td>Home</td>\n",
              "      <td>NaN</td>\n",
              "      <td>True</td>\n",
              "      <td>NaN</td>\n",
              "    </tr>\n",
              "    <tr>\n",
              "      <th>4</th>\n",
              "      <td>AHREF</td>\n",
              "      <td>https://launchpadbemidji.com/</td>\n",
              "      <td>https://launchpadbemidji.com/</td>\n",
              "      <td>Home</td>\n",
              "      <td>NaN</td>\n",
              "      <td>True</td>\n",
              "      <td>NaN</td>\n",
              "    </tr>\n",
              "    <tr>\n",
              "      <th>...</th>\n",
              "      <td>...</td>\n",
              "      <td>...</td>\n",
              "      <td>...</td>\n",
              "      <td>...</td>\n",
              "      <td>...</td>\n",
              "      <td>...</td>\n",
              "      <td>...</td>\n",
              "    </tr>\n",
              "    <tr>\n",
              "      <th>992</th>\n",
              "      <td>AHREF</td>\n",
              "      <td>https://launchpadbemidji.com/photo-galleries/</td>\n",
              "      <td>https://launchpadbemidji.com/wp-content/upload...</td>\n",
              "      <td>NaN</td>\n",
              "      <td>NaN</td>\n",
              "      <td>True</td>\n",
              "      <td>NaN</td>\n",
              "    </tr>\n",
              "    <tr>\n",
              "      <th>993</th>\n",
              "      <td>AHREF</td>\n",
              "      <td>https://launchpadbemidji.com/photo-galleries/</td>\n",
              "      <td>https://launchpadbemidji.com/wp-content/upload...</td>\n",
              "      <td>NaN</td>\n",
              "      <td>NaN</td>\n",
              "      <td>True</td>\n",
              "      <td>NaN</td>\n",
              "    </tr>\n",
              "    <tr>\n",
              "      <th>994</th>\n",
              "      <td>AHREF</td>\n",
              "      <td>https://launchpadbemidji.com/photo-galleries/</td>\n",
              "      <td>https://launchpadbemidji.com/wp-content/upload...</td>\n",
              "      <td>NaN</td>\n",
              "      <td>NaN</td>\n",
              "      <td>True</td>\n",
              "      <td>NaN</td>\n",
              "    </tr>\n",
              "    <tr>\n",
              "      <th>995</th>\n",
              "      <td>AHREF</td>\n",
              "      <td>https://launchpadbemidji.com/photo-galleries/</td>\n",
              "      <td>https://launchpadbemidji.com/wp-content/upload...</td>\n",
              "      <td>NaN</td>\n",
              "      <td>NaN</td>\n",
              "      <td>True</td>\n",
              "      <td>NaN</td>\n",
              "    </tr>\n",
              "    <tr>\n",
              "      <th>996</th>\n",
              "      <td>AHREF</td>\n",
              "      <td>https://launchpadbemidji.com/photo-galleries/</td>\n",
              "      <td>https://launchpadbemidji.com/wp-content/upload...</td>\n",
              "      <td>NaN</td>\n",
              "      <td>NaN</td>\n",
              "      <td>True</td>\n",
              "      <td>NaN</td>\n",
              "    </tr>\n",
              "  </tbody>\n",
              "</table>\n",
              "<p>997 rows × 7 columns</p>\n",
              "</div>"
            ],
            "text/plain": [
              "              Type  ... Link Attributes\n",
              "0    HTTP Redirect  ...             NaN\n",
              "1            AHREF  ...             NaN\n",
              "2            AHREF  ...             NaN\n",
              "3            AHREF  ...             NaN\n",
              "4            AHREF  ...             NaN\n",
              "..             ...  ...             ...\n",
              "992          AHREF  ...             NaN\n",
              "993          AHREF  ...             NaN\n",
              "994          AHREF  ...             NaN\n",
              "995          AHREF  ...             NaN\n",
              "996          AHREF  ...             NaN\n",
              "\n",
              "[997 rows x 7 columns]"
            ]
          },
          "metadata": {
            "tags": []
          },
          "execution_count": 9
        }
      ]
    },
    {
      "cell_type": "code",
      "metadata": {
        "id": "ijoUyaUyalEb",
        "outputId": "65e31fd7-63f5-4a6f-f450-fc80ad2e9d74",
        "colab": {
          "base_uri": "https://localhost:8080/",
          "height": 190
        }
      },
      "source": [
        "df.head()"
      ],
      "execution_count": 10,
      "outputs": [
        {
          "output_type": "execute_result",
          "data": {
            "application/vnd.google.colaboratory.module+javascript": "\n      import \"https://ssl.gstatic.com/colaboratory/data_table/a6224c040fa35dcf/data_table.js\";\n\n      window.createDataTable({\n        data: [[{\n            'v': 0,\n            'f': \"0\",\n        },\n\"HTTP Redirect\",\n\"http://launchpadbemidji.com/\",\n\"https://launchpadbemidji.com/\",\nNaN,\nNaN,\ntrue,\n{\n            'v': NaN,\n            'f': \"NaN\",\n        }],\n [{\n            'v': 1,\n            'f': \"1\",\n        },\n\"AHREF\",\n\"https://launchpadbemidji.com/\",\n\"https://launchpadbemidji.com/\",\nNaN,\n\"LaunchPad\",\ntrue,\n{\n            'v': NaN,\n            'f': \"NaN\",\n        }],\n [{\n            'v': 2,\n            'f': \"2\",\n        },\n\"AHREF\",\n\"https://launchpadbemidji.com/\",\n\"https://launchpadbemidji.com/\",\n\"Home\",\nNaN,\ntrue,\n{\n            'v': NaN,\n            'f': \"NaN\",\n        }],\n [{\n            'v': 3,\n            'f': \"3\",\n        },\n\"AHREF\",\n\"https://launchpadbemidji.com/\",\n\"https://launchpadbemidji.com/\",\n\"Home\",\nNaN,\ntrue,\n{\n            'v': NaN,\n            'f': \"NaN\",\n        }],\n [{\n            'v': 4,\n            'f': \"4\",\n        },\n\"AHREF\",\n\"https://launchpadbemidji.com/\",\n\"https://launchpadbemidji.com/\",\n\"Home\",\nNaN,\ntrue,\n{\n            'v': NaN,\n            'f': \"NaN\",\n        }]],\n        columns: [[\"number\", \"index\"], [\"string\", \"Type\"], [\"string\", \"From\"], [\"string\", \"To\"], [\"string\", \"Anchor Text\"], [\"string\", \"Alt Text\"], [\"string\", \"Follow\"], [\"number\", \"Link Attributes\"]],\n        columnOptions: [{\"width\": \"1px\", \"className\": \"index_column\"}],\n        rowsPerPage: 25,\n        helpUrl: \"https://colab.research.google.com/notebooks/data_table.ipynb\",\n        suppressOutputScrolling: true,\n        minimumWidth: undefined,\n      });\n    ",
            "text/html": [
              "<div>\n",
              "<style scoped>\n",
              "    .dataframe tbody tr th:only-of-type {\n",
              "        vertical-align: middle;\n",
              "    }\n",
              "\n",
              "    .dataframe tbody tr th {\n",
              "        vertical-align: top;\n",
              "    }\n",
              "\n",
              "    .dataframe thead th {\n",
              "        text-align: right;\n",
              "    }\n",
              "</style>\n",
              "<table border=\"1\" class=\"dataframe\">\n",
              "  <thead>\n",
              "    <tr style=\"text-align: right;\">\n",
              "      <th></th>\n",
              "      <th>Type</th>\n",
              "      <th>From</th>\n",
              "      <th>To</th>\n",
              "      <th>Anchor Text</th>\n",
              "      <th>Alt Text</th>\n",
              "      <th>Follow</th>\n",
              "      <th>Link Attributes</th>\n",
              "    </tr>\n",
              "  </thead>\n",
              "  <tbody>\n",
              "    <tr>\n",
              "      <th>0</th>\n",
              "      <td>HTTP Redirect</td>\n",
              "      <td>http://launchpadbemidji.com/</td>\n",
              "      <td>https://launchpadbemidji.com/</td>\n",
              "      <td>NaN</td>\n",
              "      <td>NaN</td>\n",
              "      <td>True</td>\n",
              "      <td>NaN</td>\n",
              "    </tr>\n",
              "    <tr>\n",
              "      <th>1</th>\n",
              "      <td>AHREF</td>\n",
              "      <td>https://launchpadbemidji.com/</td>\n",
              "      <td>https://launchpadbemidji.com/</td>\n",
              "      <td>NaN</td>\n",
              "      <td>LaunchPad</td>\n",
              "      <td>True</td>\n",
              "      <td>NaN</td>\n",
              "    </tr>\n",
              "    <tr>\n",
              "      <th>2</th>\n",
              "      <td>AHREF</td>\n",
              "      <td>https://launchpadbemidji.com/</td>\n",
              "      <td>https://launchpadbemidji.com/</td>\n",
              "      <td>Home</td>\n",
              "      <td>NaN</td>\n",
              "      <td>True</td>\n",
              "      <td>NaN</td>\n",
              "    </tr>\n",
              "    <tr>\n",
              "      <th>3</th>\n",
              "      <td>AHREF</td>\n",
              "      <td>https://launchpadbemidji.com/</td>\n",
              "      <td>https://launchpadbemidji.com/</td>\n",
              "      <td>Home</td>\n",
              "      <td>NaN</td>\n",
              "      <td>True</td>\n",
              "      <td>NaN</td>\n",
              "    </tr>\n",
              "    <tr>\n",
              "      <th>4</th>\n",
              "      <td>AHREF</td>\n",
              "      <td>https://launchpadbemidji.com/</td>\n",
              "      <td>https://launchpadbemidji.com/</td>\n",
              "      <td>Home</td>\n",
              "      <td>NaN</td>\n",
              "      <td>True</td>\n",
              "      <td>NaN</td>\n",
              "    </tr>\n",
              "  </tbody>\n",
              "</table>\n",
              "</div>"
            ],
            "text/plain": [
              "            Type                           From  ... Follow Link Attributes\n",
              "0  HTTP Redirect   http://launchpadbemidji.com/  ...   True             NaN\n",
              "1          AHREF  https://launchpadbemidji.com/  ...   True             NaN\n",
              "2          AHREF  https://launchpadbemidji.com/  ...   True             NaN\n",
              "3          AHREF  https://launchpadbemidji.com/  ...   True             NaN\n",
              "4          AHREF  https://launchpadbemidji.com/  ...   True             NaN\n",
              "\n",
              "[5 rows x 7 columns]"
            ]
          },
          "metadata": {
            "tags": []
          },
          "execution_count": 10
        }
      ]
    },
    {
      "cell_type": "markdown",
      "metadata": {
        "id": "2--TmFWIdaJ3"
      },
      "source": [
        "#Disable Filterable Table"
      ]
    },
    {
      "cell_type": "code",
      "metadata": {
        "id": "f2MVUcC1ao6n"
      },
      "source": [
        "#Disable Table\n",
        "%unload_ext google.colab.data_table\n",
        "df"
      ],
      "execution_count": 11,
      "outputs": []
    },
    {
      "cell_type": "markdown",
      "metadata": {
        "id": "KWyV-HErdeDR"
      },
      "source": [
        "#Optional Next Steps\n"
      ]
    },
    {
      "cell_type": "markdown",
      "metadata": {
        "id": "_bDte04yt7kh"
      },
      "source": [
        "#Now that we have your internal links cleaned and organized within a dataframe, let's bring in your keyword data!\n",
        "\n",
        "The following example uses Moz's Ranking Keywords for Domain (berkeyfilters.com) export. \n",
        "\n",
        "You could also use or pull in GSC data (additional db cleanup might be required) "
      ]
    },
    {
      "cell_type": "code",
      "metadata": {
        "id": "K4w4wVl5uFFT",
        "colab": {
          "resources": {
            "http://localhost:8080/nbextensions/google.colab/files.js": {
              "data": "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",
              "ok": true,
              "headers": [
                [
                  "content-type",
                  "application/javascript"
                ]
              ],
              "status": 200,
              "status_text": ""
            }
          },
          "base_uri": "https://localhost:8080/",
          "height": 72
        },
        "outputId": "12e1e8de-710c-4827-e500-a62449094b94"
      },
      "source": [
        "from google.colab import files\n",
        "uploaded = files.upload()"
      ],
      "execution_count": null,
      "outputs": [
        {
          "output_type": "display_data",
          "data": {
            "text/html": [
              "\n",
              "     <input type=\"file\" id=\"files-928f2837-5d86-4345-b45b-8a99bb935641\" name=\"files[]\" multiple disabled />\n",
              "     <output id=\"result-928f2837-5d86-4345-b45b-8a99bb935641\">\n",
              "      Upload widget is only available when the cell has been executed in the\n",
              "      current browser session. Please rerun this cell to enable.\n",
              "      </output>\n",
              "      <script src=\"/nbextensions/google.colab/files.js\"></script> "
            ],
            "text/plain": [
              "<IPython.core.display.HTML object>"
            ]
          },
          "metadata": {
            "tags": []
          }
        },
        {
          "output_type": "stream",
          "text": [
            "Saving berkey-cannibalization.csv to berkey-cannibalization.csv\n"
          ],
          "name": "stdout"
        }
      ]
    },
    {
      "cell_type": "code",
      "metadata": {
        "id": "ZMHZMbARu-Tk"
      },
      "source": [
        "df2 = pd.read_csv(\"berkey-cannibalization.csv\")"
      ],
      "execution_count": null,
      "outputs": []
    },
    {
      "cell_type": "code",
      "metadata": {
        "id": "AhbF0bR8vL5x",
        "colab": {
          "base_uri": "https://localhost:8080/",
          "height": 204
        },
        "outputId": "df0a3e87-53db-4309-9094-00b23a0a1636"
      },
      "source": [
        "df2.head()"
      ],
      "execution_count": null,
      "outputs": [
        {
          "output_type": "execute_result",
          "data": {
            "text/html": [
              "<div>\n",
              "<style scoped>\n",
              "    .dataframe tbody tr th:only-of-type {\n",
              "        vertical-align: middle;\n",
              "    }\n",
              "\n",
              "    .dataframe tbody tr th {\n",
              "        vertical-align: top;\n",
              "    }\n",
              "\n",
              "    .dataframe thead th {\n",
              "        text-align: right;\n",
              "    }\n",
              "</style>\n",
              "<table border=\"1\" class=\"dataframe\">\n",
              "  <thead>\n",
              "    <tr style=\"text-align: right;\">\n",
              "      <th></th>\n",
              "      <th>Keyword</th>\n",
              "      <th>Position</th>\n",
              "      <th>Volume</th>\n",
              "      <th>URL</th>\n",
              "      <th>Cannibalization</th>\n",
              "    </tr>\n",
              "  </thead>\n",
              "  <tbody>\n",
              "    <tr>\n",
              "      <th>0</th>\n",
              "      <td>alexapure vs berkey</td>\n",
              "      <td>12</td>\n",
              "      <td>250</td>\n",
              "      <td>https://www.berkeyfilters.com/pages/berkey-vs-...</td>\n",
              "      <td>na</td>\n",
              "    </tr>\n",
              "    <tr>\n",
              "      <th>1</th>\n",
              "      <td>aquatru vs berkey</td>\n",
              "      <td>2</td>\n",
              "      <td>90</td>\n",
              "      <td>https://www.berkeyfilters.com/pages/berkey-vs-...</td>\n",
              "      <td>na</td>\n",
              "    </tr>\n",
              "    <tr>\n",
              "      <th>2</th>\n",
              "      <td>barkley water filter</td>\n",
              "      <td>9</td>\n",
              "      <td>10</td>\n",
              "      <td>https://www.berkeyfilters.com/</td>\n",
              "      <td>na</td>\n",
              "    </tr>\n",
              "    <tr>\n",
              "      <th>3</th>\n",
              "      <td>berke water filter</td>\n",
              "      <td>1</td>\n",
              "      <td>80</td>\n",
              "      <td>https://www.berkeyfilters.com/</td>\n",
              "      <td>na</td>\n",
              "    </tr>\n",
              "    <tr>\n",
              "      <th>4</th>\n",
              "      <td>berke water filter</td>\n",
              "      <td>1</td>\n",
              "      <td>80</td>\n",
              "      <td>https://www.berkeyfilters.com/collections/berk...</td>\n",
              "      <td>na</td>\n",
              "    </tr>\n",
              "  </tbody>\n",
              "</table>\n",
              "</div>"
            ],
            "text/plain": [
              "                Keyword  ...  Cannibalization\n",
              "0   alexapure vs berkey  ...               na\n",
              "1     aquatru vs berkey  ...               na\n",
              "2  barkley water filter  ...               na\n",
              "3    berke water filter  ...               na\n",
              "4    berke water filter  ...               na\n",
              "\n",
              "[5 rows x 5 columns]"
            ]
          },
          "metadata": {
            "tags": []
          },
          "execution_count": 30
        }
      ]
    },
    {
      "cell_type": "code",
      "metadata": {
        "id": "j8DPUeWMvbf9"
      },
      "source": [
        "#data cleanup\n",
        "#drop extra columns\n",
        "df2 = df2[['Keyword', 'Position', 'Volume', 'URL']]"
      ],
      "execution_count": null,
      "outputs": []
    },
    {
      "cell_type": "code",
      "metadata": {
        "id": "xWPDMb8Xvlos",
        "colab": {
          "base_uri": "https://localhost:8080/",
          "height": 287
        },
        "outputId": "102a25c3-e9a4-4a34-a12f-c40eb879fc66"
      },
      "source": [
        "# Select all duplicate rows based on one column\n",
        "duplicateRowsDF = df2[df2.duplicated(['Keyword'])]\n",
        " \n",
        "print(\"Duplicate Keywords based on a single column are:\", duplicateRowsDF, sep='\\n')"
      ],
      "execution_count": null,
      "outputs": [
        {
          "output_type": "stream",
          "text": [
            "Duplicate Keywords based on a single column are:\n",
            "                               Keyword  ...                                                URL\n",
            "4                   berke water filter  ...  https://www.berkeyfilters.com/collections/berk...\n",
            "5                   berke water filter  ...  https://www.berkeyfilters.com/products/big-berkey\n",
            "7                  berkee water filter  ...  https://www.berkeyfilters.com/pages/bundle-and...\n",
            "8                  berkee water filter  ...  https://www.berkeyfilters.com/berkey-water-fil...\n",
            "9                  berkee water filter  ...  https://www.berkeyfilters.com/collections/berk...\n",
            "...                                ...  ...                                                ...\n",
            "1074  what is in a berkey water filter  ...  https://www.berkeyfilters.com/collections/berk...\n",
            "1075  what is in a berkey water filter  ...  https://www.berkeyfilters.com/products/big-berkey\n",
            "1077     when to replace berkey filter  ...  https://www.berkeyfilters.com/pages/black-berk...\n",
            "1078     when to replace berkey filter  ...  https://www.berkeyfilters.com/pages/sport-berk...\n",
            "1079     when to replace berkey filter  ...  https://www.berkeyfilters.com/pages/berkey-flu...\n",
            "\n",
            "[704 rows x 4 columns]\n"
          ],
          "name": "stdout"
        }
      ]
    },
    {
      "cell_type": "markdown",
      "metadata": {
        "id": "3b1IgQ4_1YLI"
      },
      "source": [
        "#All Cannibiliazion Keywords HERE:\n",
        "\n",
        "---\n",
        "\n"
      ]
    },
    {
      "cell_type": "code",
      "metadata": {
        "id": "paBo_3WjyJe6",
        "colab": {
          "base_uri": "https://localhost:8080/",
          "height": 979
        },
        "outputId": "276f4adf-b11b-4507-eed6-1be10c010bf2"
      },
      "source": [
        "duplicateRowsDF.head(30)"
      ],
      "execution_count": null,
      "outputs": [
        {
          "output_type": "execute_result",
          "data": {
            "text/html": [
              "<div>\n",
              "<style scoped>\n",
              "    .dataframe tbody tr th:only-of-type {\n",
              "        vertical-align: middle;\n",
              "    }\n",
              "\n",
              "    .dataframe tbody tr th {\n",
              "        vertical-align: top;\n",
              "    }\n",
              "\n",
              "    .dataframe thead th {\n",
              "        text-align: right;\n",
              "    }\n",
              "</style>\n",
              "<table border=\"1\" class=\"dataframe\">\n",
              "  <thead>\n",
              "    <tr style=\"text-align: right;\">\n",
              "      <th></th>\n",
              "      <th>Keyword</th>\n",
              "      <th>Position</th>\n",
              "      <th>Volume</th>\n",
              "      <th>URL</th>\n",
              "    </tr>\n",
              "  </thead>\n",
              "  <tbody>\n",
              "    <tr>\n",
              "      <th>4</th>\n",
              "      <td>berke water filter</td>\n",
              "      <td>1</td>\n",
              "      <td>80</td>\n",
              "      <td>https://www.berkeyfilters.com/collections/berk...</td>\n",
              "    </tr>\n",
              "    <tr>\n",
              "      <th>5</th>\n",
              "      <td>berke water filter</td>\n",
              "      <td>1</td>\n",
              "      <td>80</td>\n",
              "      <td>https://www.berkeyfilters.com/products/big-berkey</td>\n",
              "    </tr>\n",
              "    <tr>\n",
              "      <th>7</th>\n",
              "      <td>berkee water filter</td>\n",
              "      <td>1</td>\n",
              "      <td>80</td>\n",
              "      <td>https://www.berkeyfilters.com/pages/bundle-and...</td>\n",
              "    </tr>\n",
              "    <tr>\n",
              "      <th>8</th>\n",
              "      <td>berkee water filter</td>\n",
              "      <td>1</td>\n",
              "      <td>80</td>\n",
              "      <td>https://www.berkeyfilters.com/berkey-water-fil...</td>\n",
              "    </tr>\n",
              "    <tr>\n",
              "      <th>9</th>\n",
              "      <td>berkee water filter</td>\n",
              "      <td>1</td>\n",
              "      <td>80</td>\n",
              "      <td>https://www.berkeyfilters.com/collections/berk...</td>\n",
              "    </tr>\n",
              "    <tr>\n",
              "      <th>10</th>\n",
              "      <td>berkee water filter</td>\n",
              "      <td>1</td>\n",
              "      <td>80</td>\n",
              "      <td>https://www.berkeyfilters.com/products/big-berkey</td>\n",
              "    </tr>\n",
              "    <tr>\n",
              "      <th>11</th>\n",
              "      <td>berkee water filter</td>\n",
              "      <td>1</td>\n",
              "      <td>80</td>\n",
              "      <td>https://www.berkeyfilters.com/products/royal-b...</td>\n",
              "    </tr>\n",
              "    <tr>\n",
              "      <th>12</th>\n",
              "      <td>berkee water filter</td>\n",
              "      <td>1</td>\n",
              "      <td>80</td>\n",
              "      <td>https://www.berkeyfilters.com/products/travel-...</td>\n",
              "    </tr>\n",
              "    <tr>\n",
              "      <th>14</th>\n",
              "      <td>berkeley filter</td>\n",
              "      <td>1</td>\n",
              "      <td>80</td>\n",
              "      <td>https://www.berkeyfilters.com/products/big-berkey</td>\n",
              "    </tr>\n",
              "    <tr>\n",
              "      <th>15</th>\n",
              "      <td>berkeley filter</td>\n",
              "      <td>1</td>\n",
              "      <td>80</td>\n",
              "      <td>https://www.berkeyfilters.com/berkey-water-fil...</td>\n",
              "    </tr>\n",
              "    <tr>\n",
              "      <th>16</th>\n",
              "      <td>berkeley filter</td>\n",
              "      <td>1</td>\n",
              "      <td>80</td>\n",
              "      <td>https://www.berkeyfilters.com/collections/berk...</td>\n",
              "    </tr>\n",
              "    <tr>\n",
              "      <th>17</th>\n",
              "      <td>berkeley filter</td>\n",
              "      <td>1</td>\n",
              "      <td>80</td>\n",
              "      <td>https://www.berkeyfilters.com/pages/bundle-and...</td>\n",
              "    </tr>\n",
              "    <tr>\n",
              "      <th>19</th>\n",
              "      <td>berkeley water filter</td>\n",
              "      <td>1</td>\n",
              "      <td>150</td>\n",
              "      <td>https://www.berkeyfilters.com/products/travel-...</td>\n",
              "    </tr>\n",
              "    <tr>\n",
              "      <th>20</th>\n",
              "      <td>berkeley water filter</td>\n",
              "      <td>1</td>\n",
              "      <td>150</td>\n",
              "      <td>https://www.berkeyfilters.com/collections/berk...</td>\n",
              "    </tr>\n",
              "    <tr>\n",
              "      <th>21</th>\n",
              "      <td>berkeley water filter</td>\n",
              "      <td>1</td>\n",
              "      <td>150</td>\n",
              "      <td>https://www.berkeyfilters.com/products/royal-b...</td>\n",
              "    </tr>\n",
              "    <tr>\n",
              "      <th>22</th>\n",
              "      <td>berkeley water filter</td>\n",
              "      <td>1</td>\n",
              "      <td>150</td>\n",
              "      <td>https://www.berkeyfilters.com/products/big-berkey</td>\n",
              "    </tr>\n",
              "    <tr>\n",
              "      <th>24</th>\n",
              "      <td>berkeley water filters</td>\n",
              "      <td>3</td>\n",
              "      <td>50</td>\n",
              "      <td>https://www.berkeyfilters.com/collections/berk...</td>\n",
              "    </tr>\n",
              "    <tr>\n",
              "      <th>25</th>\n",
              "      <td>berkeley water filters</td>\n",
              "      <td>1</td>\n",
              "      <td>50</td>\n",
              "      <td>https://www.berkeyfilters.com/collections/berk...</td>\n",
              "    </tr>\n",
              "    <tr>\n",
              "      <th>26</th>\n",
              "      <td>berkeley water filters</td>\n",
              "      <td>1</td>\n",
              "      <td>50</td>\n",
              "      <td>https://www.berkeyfilters.com/collections/berk...</td>\n",
              "    </tr>\n",
              "    <tr>\n",
              "      <th>27</th>\n",
              "      <td>berkeley water filters</td>\n",
              "      <td>1</td>\n",
              "      <td>50</td>\n",
              "      <td>https://www.berkeyfilters.com/pages/berkey-vs-...</td>\n",
              "    </tr>\n",
              "    <tr>\n",
              "      <th>28</th>\n",
              "      <td>berkeley water filters</td>\n",
              "      <td>1</td>\n",
              "      <td>50</td>\n",
              "      <td>https://www.berkeyfilters.com/products/big-berkey</td>\n",
              "    </tr>\n",
              "    <tr>\n",
              "      <th>29</th>\n",
              "      <td>berkeley water filters</td>\n",
              "      <td>3</td>\n",
              "      <td>50</td>\n",
              "      <td>https://www.berkeyfilters.com/products/royal-b...</td>\n",
              "    </tr>\n",
              "    <tr>\n",
              "      <th>30</th>\n",
              "      <td>berkeley water filters</td>\n",
              "      <td>3</td>\n",
              "      <td>50</td>\n",
              "      <td>https://www.berkeyfilters.com/products/berkey-...</td>\n",
              "    </tr>\n",
              "    <tr>\n",
              "      <th>31</th>\n",
              "      <td>berkeley water filters</td>\n",
              "      <td>3</td>\n",
              "      <td>50</td>\n",
              "      <td>https://www.berkeyfilters.com/products/travel-...</td>\n",
              "    </tr>\n",
              "    <tr>\n",
              "      <th>33</th>\n",
              "      <td>berkeley water filtration system</td>\n",
              "      <td>3</td>\n",
              "      <td>50</td>\n",
              "      <td>https://www.berkeyfilters.com/collections/berk...</td>\n",
              "    </tr>\n",
              "    <tr>\n",
              "      <th>34</th>\n",
              "      <td>berkeley water filtration system</td>\n",
              "      <td>5</td>\n",
              "      <td>50</td>\n",
              "      <td>https://www.berkeyfilters.com/berkey-water-fil...</td>\n",
              "    </tr>\n",
              "    <tr>\n",
              "      <th>35</th>\n",
              "      <td>berkeley water filtration system</td>\n",
              "      <td>6</td>\n",
              "      <td>50</td>\n",
              "      <td>https://www.berkeyfilters.com/products/big-berkey</td>\n",
              "    </tr>\n",
              "    <tr>\n",
              "      <th>36</th>\n",
              "      <td>berkeley water filtration system</td>\n",
              "      <td>1</td>\n",
              "      <td>50</td>\n",
              "      <td>https://www.berkeyfilters.com/collections/berk...</td>\n",
              "    </tr>\n",
              "    <tr>\n",
              "      <th>37</th>\n",
              "      <td>berkeley water filtration system</td>\n",
              "      <td>1</td>\n",
              "      <td>50</td>\n",
              "      <td>https://www.berkeyfilters.com/collections/berk...</td>\n",
              "    </tr>\n",
              "    <tr>\n",
              "      <th>38</th>\n",
              "      <td>berkeley water filtration system</td>\n",
              "      <td>1</td>\n",
              "      <td>50</td>\n",
              "      <td>https://www.berkeyfilters.com/products/travel-...</td>\n",
              "    </tr>\n",
              "  </tbody>\n",
              "</table>\n",
              "</div>"
            ],
            "text/plain": [
              "                             Keyword  ...                                                URL\n",
              "4                 berke water filter  ...  https://www.berkeyfilters.com/collections/berk...\n",
              "5                 berke water filter  ...  https://www.berkeyfilters.com/products/big-berkey\n",
              "7                berkee water filter  ...  https://www.berkeyfilters.com/pages/bundle-and...\n",
              "8                berkee water filter  ...  https://www.berkeyfilters.com/berkey-water-fil...\n",
              "9                berkee water filter  ...  https://www.berkeyfilters.com/collections/berk...\n",
              "10               berkee water filter  ...  https://www.berkeyfilters.com/products/big-berkey\n",
              "11               berkee water filter  ...  https://www.berkeyfilters.com/products/royal-b...\n",
              "12               berkee water filter  ...  https://www.berkeyfilters.com/products/travel-...\n",
              "14                   berkeley filter  ...  https://www.berkeyfilters.com/products/big-berkey\n",
              "15                   berkeley filter  ...  https://www.berkeyfilters.com/berkey-water-fil...\n",
              "16                   berkeley filter  ...  https://www.berkeyfilters.com/collections/berk...\n",
              "17                   berkeley filter  ...  https://www.berkeyfilters.com/pages/bundle-and...\n",
              "19             berkeley water filter  ...  https://www.berkeyfilters.com/products/travel-...\n",
              "20             berkeley water filter  ...  https://www.berkeyfilters.com/collections/berk...\n",
              "21             berkeley water filter  ...  https://www.berkeyfilters.com/products/royal-b...\n",
              "22             berkeley water filter  ...  https://www.berkeyfilters.com/products/big-berkey\n",
              "24            berkeley water filters  ...  https://www.berkeyfilters.com/collections/berk...\n",
              "25            berkeley water filters  ...  https://www.berkeyfilters.com/collections/berk...\n",
              "26            berkeley water filters  ...  https://www.berkeyfilters.com/collections/berk...\n",
              "27            berkeley water filters  ...  https://www.berkeyfilters.com/pages/berkey-vs-...\n",
              "28            berkeley water filters  ...  https://www.berkeyfilters.com/products/big-berkey\n",
              "29            berkeley water filters  ...  https://www.berkeyfilters.com/products/royal-b...\n",
              "30            berkeley water filters  ...  https://www.berkeyfilters.com/products/berkey-...\n",
              "31            berkeley water filters  ...  https://www.berkeyfilters.com/products/travel-...\n",
              "33  berkeley water filtration system  ...  https://www.berkeyfilters.com/collections/berk...\n",
              "34  berkeley water filtration system  ...  https://www.berkeyfilters.com/berkey-water-fil...\n",
              "35  berkeley water filtration system  ...  https://www.berkeyfilters.com/products/big-berkey\n",
              "36  berkeley water filtration system  ...  https://www.berkeyfilters.com/collections/berk...\n",
              "37  berkeley water filtration system  ...  https://www.berkeyfilters.com/collections/berk...\n",
              "38  berkeley water filtration system  ...  https://www.berkeyfilters.com/products/travel-...\n",
              "\n",
              "[30 rows x 4 columns]"
            ]
          },
          "metadata": {
            "tags": []
          },
          "execution_count": 34
        }
      ]
    },
    {
      "cell_type": "code",
      "metadata": {
        "id": "Rqklas0x3QWw",
        "colab": {
          "base_uri": "https://localhost:8080/",
          "height": 107
        },
        "outputId": "aaf05429-626c-4a28-e255-4ccbd9d2d808"
      },
      "source": [
        "duplicateRowsDF.count()"
      ],
      "execution_count": null,
      "outputs": [
        {
          "output_type": "execute_result",
          "data": {
            "text/plain": [
              "Keyword     704\n",
              "Position    704\n",
              "Volume      704\n",
              "URL         704\n",
              "dtype: int64"
            ]
          },
          "metadata": {
            "tags": []
          },
          "execution_count": 40
        }
      ]
    },
    {
      "cell_type": "markdown",
      "metadata": {
        "id": "B0knzLyZEQex"
      },
      "source": [
        "# Download Dataframe to CSV:\n"
      ]
    },
    {
      "cell_type": "code",
      "metadata": {
        "id": "DOayoVD6aR02"
      },
      "source": [
        "df.to_csv('data-output/my-data.csv')"
      ],
      "execution_count": null,
      "outputs": []
    },
    {
      "cell_type": "markdown",
      "metadata": {
        "id": "XHShzVsP1mpU"
      },
      "source": [
        "Join internal link data"
      ]
    },
    {
      "cell_type": "code",
      "metadata": {
        "id": "CZV84gAB3kX9"
      },
      "source": [
        "#working on how to do this. Hamlet Batista, where you at? :) Can't get any fancy melts or joins to do this + asked a dozen people about this. {shrug}"
      ],
      "execution_count": null,
      "outputs": []
    }
  ]
}
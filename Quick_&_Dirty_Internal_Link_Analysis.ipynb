{
  "nbformat": 4,
  "nbformat_minor": 0,
  "metadata": {
    "colab": {
      "name": "Quick & Dirty Internal Link Analysis.ipynb",
      "provenance": [],
      "collapsed_sections": [],
      "toc_visible": true,
      "authorship_tag": "ABX9TyO7ecOPNoJ0LuiGlZc9hbAe",
      "include_colab_link": true
    },
    "kernelspec": {
      "name": "python3",
      "display_name": "Python 3"
    },
    "accelerator": "GPU"
  },
  "cells": [
    {
      "cell_type": "markdown",
      "metadata": {
        "id": "view-in-github",
        "colab_type": "text"
      },
      "source": [
        "<a href=\"https://colab.research.google.com/github/BritneyMuller/colab-notebooks/blob/master/Quick_%26_Dirty_Internal_Link_Analysis.ipynb\" target=\"_parent\"><img src=\"https://colab.research.google.com/assets/colab-badge.svg\" alt=\"Open In Colab\"/></a>"
      ]
    },
    {
      "cell_type": "markdown",
      "metadata": {
        "id": "G7y0mSAmOKrV",
        "colab_type": "text"
      },
      "source": [
        "# Internal Link Analysis\n",
        "\n",
        "Made by [![Follow](https://img.shields.io/twitter/follow/BritneyMuller?style=social)](https://twitter.com/BritneyMuller)\n",
        "\n",
        "Please contact britneymuller@gmail.com with Subject [Colab Link Analysis] with any questions.\n",
        "\n",
        "Explore: [github.com/BritneyMuller/colab-notebooks ](github.com/BritneyMuller/colab-notebooks)for more Notebook examples"
      ]
    },
    {
      "cell_type": "markdown",
      "metadata": {
        "id": "Y59nEdqJO7Wg",
        "colab_type": "text"
      },
      "source": [
        "# Upload internal link data via Screaming Frog 🐸\n",
        "\n",
        "\n",
        "![Export internal link csv to your local computer](https://i.ibb.co/5W2crVy/Screen-Shot-2020-02-26-at-12-14-13-AM.png)\n",
        "\n",
        "---\n",
        "Before you start click: \n",
        "\n",
        "> 'Edit' -> 'Notebook Settings' and change 'Hardware Accelerator' to GPU.\n",
        "\n",
        "---\n",
        "\n",
        "\n",
        "\n",
        "Note: [Shift + Return] is the shortcut to run a single cell. \n",
        "\n",
        "Try running the code below by clicking into the cell and doing [Shift + Return].\n"
      ]
    },
    {
      "cell_type": "code",
      "metadata": {
        "id": "dOGPtWU6fAKR",
        "colab_type": "code",
        "colab": {}
      },
      "source": [
        "import csv\n",
        "import json\n",
        "import requests\n",
        "import pandas as pd\n",
        "import numpy as np\n",
        "import re\n",
        "from IPython.display import display"
      ],
      "execution_count": null,
      "outputs": []
    },
    {
      "cell_type": "code",
      "metadata": {
        "id": "TSOQ1M2kO1F_",
        "colab_type": "code",
        "colab": {
          "resources": {
            "http://localhost:8080/nbextensions/google.colab/files.js": {
              "data": "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",
              "ok": true,
              "headers": [
                [
                  "content-type",
                  "application/javascript"
                ]
              ],
              "status": 200,
              "status_text": ""
            }
          },
          "base_uri": "https://localhost:8080/",
          "height": 72
        },
        "outputId": "188af5ac-9f59-4ec3-edc3-39af09377408"
      },
      "source": [
        "from google.colab import files\n",
        "uploaded = files.upload()"
      ],
      "execution_count": null,
      "outputs": [
        {
          "output_type": "display_data",
          "data": {
            "text/html": [
              "\n",
              "     <input type=\"file\" id=\"files-4cd72e8c-212b-4751-baf7-b82a9c4e90bb\" name=\"files[]\" multiple disabled />\n",
              "     <output id=\"result-4cd72e8c-212b-4751-baf7-b82a9c4e90bb\">\n",
              "      Upload widget is only available when the cell has been executed in the\n",
              "      current browser session. Please rerun this cell to enable.\n",
              "      </output>\n",
              "      <script src=\"/nbextensions/google.colab/files.js\"></script> "
            ],
            "text/plain": [
              "<IPython.core.display.HTML object>"
            ]
          },
          "metadata": {
            "tags": []
          }
        },
        {
          "output_type": "stream",
          "text": [
            "Saving berkey-inlinks.csv to berkey-inlinks.csv\n"
          ],
          "name": "stdout"
        }
      ]
    },
    {
      "cell_type": "markdown",
      "metadata": {
        "id": "DvhbitJsgn3A",
        "colab_type": "text"
      },
      "source": [
        "Upload data as \"df\" (dataframe)"
      ]
    },
    {
      "cell_type": "code",
      "metadata": {
        "id": "5bwFFew5O4_y",
        "colab_type": "code",
        "colab": {}
      },
      "source": [
        "df = pd.read_csv(\"lp-inlinks.csv\")"
      ],
      "execution_count": null,
      "outputs": []
    },
    {
      "cell_type": "markdown",
      "metadata": {
        "id": "B1d2HJG0gt4P",
        "colab_type": "text"
      },
      "source": [
        "Look at the first 5 lines (this includes the header)\n"
      ]
    },
    {
      "cell_type": "code",
      "metadata": {
        "id": "PAuO2kzLe5QU",
        "colab_type": "code",
        "colab": {
          "base_uri": "https://localhost:8080/",
          "height": 204
        },
        "outputId": "2efb4615-9a14-4cd1-e26a-60f52d38dfdb"
      },
      "source": [
        "df.head()"
      ],
      "execution_count": null,
      "outputs": [
        {
          "output_type": "execute_result",
          "data": {
            "text/html": [
              "<div>\n",
              "<style scoped>\n",
              "    .dataframe tbody tr th:only-of-type {\n",
              "        vertical-align: middle;\n",
              "    }\n",
              "\n",
              "    .dataframe tbody tr th {\n",
              "        vertical-align: top;\n",
              "    }\n",
              "\n",
              "    .dataframe thead th {\n",
              "        text-align: right;\n",
              "    }\n",
              "</style>\n",
              "<table border=\"1\" class=\"dataframe\">\n",
              "  <thead>\n",
              "    <tr style=\"text-align: right;\">\n",
              "      <th></th>\n",
              "      <th>Type</th>\n",
              "      <th>From</th>\n",
              "      <th>To</th>\n",
              "      <th>Anchor Text</th>\n",
              "      <th>Alt Text</th>\n",
              "      <th>Follow</th>\n",
              "      <th>Link Attributes</th>\n",
              "    </tr>\n",
              "  </thead>\n",
              "  <tbody>\n",
              "    <tr>\n",
              "      <th>0</th>\n",
              "      <td>AHREF</td>\n",
              "      <td>https://www.berkeyfilters.com/</td>\n",
              "      <td>https://www.berkeyfilters.com/</td>\n",
              "      <td>Skip to content</td>\n",
              "      <td>NaN</td>\n",
              "      <td>True</td>\n",
              "      <td>NaN</td>\n",
              "    </tr>\n",
              "    <tr>\n",
              "      <th>1</th>\n",
              "      <td>AHREF</td>\n",
              "      <td>https://www.berkeyfilters.com/</td>\n",
              "      <td>https://www.berkeyfilters.com/</td>\n",
              "      <td>NaN</td>\n",
              "      <td>Berkey Filters Logo</td>\n",
              "      <td>True</td>\n",
              "      <td>NaN</td>\n",
              "    </tr>\n",
              "    <tr>\n",
              "      <th>2</th>\n",
              "      <td>AHREF</td>\n",
              "      <td>https://www.berkeyfilters.com/</td>\n",
              "      <td>https://www.berkeyfilters.com/</td>\n",
              "      <td>NaN</td>\n",
              "      <td>NaN</td>\n",
              "      <td>True</td>\n",
              "      <td>NaN</td>\n",
              "    </tr>\n",
              "    <tr>\n",
              "      <th>3</th>\n",
              "      <td>AHREF</td>\n",
              "      <td>https://www.berkeyfilters.com/</td>\n",
              "      <td>https://www.berkeyfilters.com/</td>\n",
              "      <td>Become a Dealer</td>\n",
              "      <td>NaN</td>\n",
              "      <td>True</td>\n",
              "      <td>NaN</td>\n",
              "    </tr>\n",
              "    <tr>\n",
              "      <th>4</th>\n",
              "      <td>AHREF</td>\n",
              "      <td>https://www.berkeyfilters.com/</td>\n",
              "      <td>https://www.berkeyfilters.com/</td>\n",
              "      <td>Created with Sketch. Watch Our Water Story</td>\n",
              "      <td>NaN</td>\n",
              "      <td>True</td>\n",
              "      <td>NaN</td>\n",
              "    </tr>\n",
              "  </tbody>\n",
              "</table>\n",
              "</div>"
            ],
            "text/plain": [
              "    Type                            From  ... Follow Link Attributes\n",
              "0  AHREF  https://www.berkeyfilters.com/  ...   True             NaN\n",
              "1  AHREF  https://www.berkeyfilters.com/  ...   True             NaN\n",
              "2  AHREF  https://www.berkeyfilters.com/  ...   True             NaN\n",
              "3  AHREF  https://www.berkeyfilters.com/  ...   True             NaN\n",
              "4  AHREF  https://www.berkeyfilters.com/  ...   True             NaN\n",
              "\n",
              "[5 rows x 7 columns]"
            ]
          },
          "metadata": {
            "tags": []
          },
          "execution_count": 4
        }
      ]
    },
    {
      "cell_type": "code",
      "metadata": {
        "id": "sum4dPoukwW4",
        "colab_type": "code",
        "colab": {
          "base_uri": "https://localhost:8080/",
          "height": 204
        },
        "outputId": "256de410-6ccb-4ced-ecda-8061e6f45d61"
      },
      "source": [
        "df.tail()"
      ],
      "execution_count": null,
      "outputs": [
        {
          "output_type": "execute_result",
          "data": {
            "text/html": [
              "<div>\n",
              "<style scoped>\n",
              "    .dataframe tbody tr th:only-of-type {\n",
              "        vertical-align: middle;\n",
              "    }\n",
              "\n",
              "    .dataframe tbody tr th {\n",
              "        vertical-align: top;\n",
              "    }\n",
              "\n",
              "    .dataframe thead th {\n",
              "        text-align: right;\n",
              "    }\n",
              "</style>\n",
              "<table border=\"1\" class=\"dataframe\">\n",
              "  <thead>\n",
              "    <tr style=\"text-align: right;\">\n",
              "      <th></th>\n",
              "      <th>Type</th>\n",
              "      <th>From</th>\n",
              "      <th>To</th>\n",
              "      <th>Anchor Text</th>\n",
              "      <th>Alt Text</th>\n",
              "      <th>Follow</th>\n",
              "      <th>Link Attributes</th>\n",
              "    </tr>\n",
              "  </thead>\n",
              "  <tbody>\n",
              "    <tr>\n",
              "      <th>45604</th>\n",
              "      <td>AHREF</td>\n",
              "      <td>https://www.berkeyfilters.com/blogs/berkey-lif...</td>\n",
              "      <td>https://www.berkeyfilters.com/blogs/berkey-lif...</td>\n",
              "      <td>9</td>\n",
              "      <td>NaN</td>\n",
              "      <td>True</td>\n",
              "      <td>NaN</td>\n",
              "    </tr>\n",
              "    <tr>\n",
              "      <th>45605</th>\n",
              "      <td>AHREF</td>\n",
              "      <td>https://www.berkeyfilters.com/blogs/berkey-lif...</td>\n",
              "      <td>https://www.berkeyfilters.com/blogs/berkey-lif...</td>\n",
              "      <td>Next</td>\n",
              "      <td>NaN</td>\n",
              "      <td>True</td>\n",
              "      <td>NaN</td>\n",
              "    </tr>\n",
              "    <tr>\n",
              "      <th>45606</th>\n",
              "      <td>AHREF</td>\n",
              "      <td>https://www.berkeyfilters.com/blogs/berkey-lif...</td>\n",
              "      <td>https://www.berkeyfilters.com/blogs/berkey-lif...</td>\n",
              "      <td>Previous</td>\n",
              "      <td>NaN</td>\n",
              "      <td>True</td>\n",
              "      <td>NaN</td>\n",
              "    </tr>\n",
              "    <tr>\n",
              "      <th>45607</th>\n",
              "      <td>AHREF</td>\n",
              "      <td>https://www.berkeyfilters.com/blogs/berkey-lif...</td>\n",
              "      <td>https://www.berkeyfilters.com/blogs/berkey-lif...</td>\n",
              "      <td>9</td>\n",
              "      <td>NaN</td>\n",
              "      <td>True</td>\n",
              "      <td>NaN</td>\n",
              "    </tr>\n",
              "    <tr>\n",
              "      <th>45608</th>\n",
              "      <td>AHREF</td>\n",
              "      <td>https://www.berkeyfilters.com/blogs/berkey-lif...</td>\n",
              "      <td>https://www.berkeyfilters.com/blogs/berkey-lif...</td>\n",
              "      <td>Skip to content</td>\n",
              "      <td>NaN</td>\n",
              "      <td>True</td>\n",
              "      <td>NaN</td>\n",
              "    </tr>\n",
              "  </tbody>\n",
              "</table>\n",
              "</div>"
            ],
            "text/plain": [
              "        Type  ... Link Attributes\n",
              "45604  AHREF  ...             NaN\n",
              "45605  AHREF  ...             NaN\n",
              "45606  AHREF  ...             NaN\n",
              "45607  AHREF  ...             NaN\n",
              "45608  AHREF  ...             NaN\n",
              "\n",
              "[5 rows x 7 columns]"
            ]
          },
          "metadata": {
            "tags": []
          },
          "execution_count": 5
        }
      ]
    },
    {
      "cell_type": "markdown",
      "metadata": {
        "id": "ZnAbsqarhROu",
        "colab_type": "text"
      },
      "source": [
        "## Evaluate internal link counts"
      ]
    },
    {
      "cell_type": "code",
      "metadata": {
        "id": "6iJm3AJOi0SH",
        "colab_type": "code",
        "colab": {
          "base_uri": "https://localhost:8080/",
          "height": 233
        },
        "outputId": "60ba0f5b-80a4-4f9a-9ee4-b78bd260e118"
      },
      "source": [
        "df['To'].value_counts()"
      ],
      "execution_count": null,
      "outputs": [
        {
          "output_type": "execute_result",
          "data": {
            "text/plain": [
              "https://www.berkeyfilters.com/products/sport-berkey                                                                           1158\n",
              "https://www.berkeyfilters.com/pages/berkey-water-filter-policies                                                              1143\n",
              "https://www.berkeyfilters.com/collections/berkey-water-filter-systems                                                         1104\n",
              "https://www.berkeyfilters.com/                                                                                                 867\n",
              "https://www.berkeyfilters.com/pages/berkey-answers                                                                             833\n",
              "                                                                                                                              ... \n",
              "https://www.berkeyfilters.com/blogs/berkey-life/www.iheartcats.com/could-tap-water-be-causing-health-issues-in-pets/%20          1\n",
              "https://www.berkeyfilters.com/berkey-water-filters/go-berkey.html                                                                1\n",
              "https://www.berkeyfilters.com/blogs/berkey-life/www.petmd.com/dog/general-health/tap-water-safe-dogs                             1\n",
              "https://www.berkeyfilters.com/pages/berkey-filters-scratch-and-dent                                                              1\n",
              "https://www.berkeyfilters.com/blogs/berkey-life/www.waterforlifeonline.com/blog/pets-love-drinking-water-more-than-humans/       1\n",
              "Name: To, Length: 196, dtype: int64"
            ]
          },
          "metadata": {
            "tags": []
          },
          "execution_count": 6
        }
      ]
    },
    {
      "cell_type": "markdown",
      "metadata": {
        "id": "12BjiBNThlnq",
        "colab_type": "text"
      },
      "source": [
        "# Evaluate internal anchor text count"
      ]
    },
    {
      "cell_type": "code",
      "metadata": {
        "id": "tSVQR2q3hPWo",
        "colab_type": "code",
        "colab": {
          "base_uri": "https://localhost:8080/",
          "height": 233
        },
        "outputId": "29027de6-9444-41d9-8a43-604bb3bc5d1e"
      },
      "source": [
        "df['Anchor Text'].value_counts()"
      ],
      "execution_count": null,
      "outputs": [
        {
          "output_type": "execute_result",
          "data": {
            "text/plain": [
              "Are Your Children Drinking Safe Water?                          588\n",
              "Why Filtered Water Matters                                      588\n",
              "20+ Ways To Use Berkey Water                                    588\n",
              "What is Berkey Livin'?                                          588\n",
              "Pets Need Filtered Water Too!                                   588\n",
              "                                                               ... \n",
              "BUNDLE SALE : Travel Berkey® with Fluoride Filters : 1.5 Gal      1\n",
              "Black Berkey element                                              1\n",
              "Berkey Purification Process                                       1\n",
              "compare the competition                                           1\n",
              "the filtration process                                            1\n",
              "Name: Anchor Text, Length: 578, dtype: int64"
            ]
          },
          "metadata": {
            "tags": []
          },
          "execution_count": 7
        }
      ]
    },
    {
      "cell_type": "markdown",
      "metadata": {
        "id": "z9GaE8SJi89u",
        "colab_type": "text"
      },
      "source": [
        "## Find all links to 'X' Page"
      ]
    },
    {
      "cell_type": "code",
      "metadata": {
        "id": "LbuhQAbvhk_P",
        "colab_type": "code",
        "colab": {
          "base_uri": "https://localhost:8080/",
          "height": 419
        },
        "outputId": "0d97bed8-9c96-4cae-eecf-0f143427519b"
      },
      "source": [
        "df_filtered = df[(df['To'].str.contains(\"/collections/berkey-water-filter-systems\", regex=True)==True)]\n",
        "df_filtered.head(100)\n",
        "#\"From\" URLs use targeted Anchor Text"
      ],
      "execution_count": null,
      "outputs": [
        {
          "output_type": "execute_result",
          "data": {
            "text/html": [
              "<div>\n",
              "<style scoped>\n",
              "    .dataframe tbody tr th:only-of-type {\n",
              "        vertical-align: middle;\n",
              "    }\n",
              "\n",
              "    .dataframe tbody tr th {\n",
              "        vertical-align: top;\n",
              "    }\n",
              "\n",
              "    .dataframe thead th {\n",
              "        text-align: right;\n",
              "    }\n",
              "</style>\n",
              "<table border=\"1\" class=\"dataframe\">\n",
              "  <thead>\n",
              "    <tr style=\"text-align: right;\">\n",
              "      <th></th>\n",
              "      <th>From</th>\n",
              "      <th>To</th>\n",
              "      <th>Anchor Text</th>\n",
              "    </tr>\n",
              "  </thead>\n",
              "  <tbody>\n",
              "    <tr>\n",
              "      <th>16502</th>\n",
              "      <td>https://www.berkeyfilters.com/</td>\n",
              "      <td>https://www.berkeyfilters.com/collections/berk...</td>\n",
              "      <td>Water Filter Systems</td>\n",
              "    </tr>\n",
              "    <tr>\n",
              "      <th>16503</th>\n",
              "      <td>https://www.berkeyfilters.com/</td>\n",
              "      <td>https://www.berkeyfilters.com/collections/berk...</td>\n",
              "      <td>Shop All</td>\n",
              "    </tr>\n",
              "    <tr>\n",
              "      <th>16504</th>\n",
              "      <td>https://www.berkeyfilters.com/</td>\n",
              "      <td>https://www.berkeyfilters.com/collections/berk...</td>\n",
              "      <td>Shop All</td>\n",
              "    </tr>\n",
              "    <tr>\n",
              "      <th>16505</th>\n",
              "      <td>https://www.berkeyfilters.com/</td>\n",
              "      <td>https://www.berkeyfilters.com/collections/berk...</td>\n",
              "      <td>NaN</td>\n",
              "    </tr>\n",
              "    <tr>\n",
              "      <th>16506</th>\n",
              "      <td>https://www.berkeyfilters.com/</td>\n",
              "      <td>https://www.berkeyfilters.com/collections/berk...</td>\n",
              "      <td>Choose your Berkey</td>\n",
              "    </tr>\n",
              "    <tr>\n",
              "      <th>...</th>\n",
              "      <td>...</td>\n",
              "      <td>...</td>\n",
              "      <td>...</td>\n",
              "    </tr>\n",
              "    <tr>\n",
              "      <th>16597</th>\n",
              "      <td>https://www.berkeyfilters.com/products/crown-b...</td>\n",
              "      <td>https://www.berkeyfilters.com/collections/berk...</td>\n",
              "      <td>Water Filter Systems</td>\n",
              "    </tr>\n",
              "    <tr>\n",
              "      <th>16598</th>\n",
              "      <td>https://www.berkeyfilters.com/products/crown-b...</td>\n",
              "      <td>https://www.berkeyfilters.com/collections/berk...</td>\n",
              "      <td>Shop Water Filters</td>\n",
              "    </tr>\n",
              "    <tr>\n",
              "      <th>16599</th>\n",
              "      <td>https://www.berkeyfilters.com/products/crown-b...</td>\n",
              "      <td>https://www.berkeyfilters.com/collections/berk...</td>\n",
              "      <td>Water Filter Systems</td>\n",
              "    </tr>\n",
              "    <tr>\n",
              "      <th>16600</th>\n",
              "      <td>https://www.berkeyfilters.com/products/berkey-...</td>\n",
              "      <td>https://www.berkeyfilters.com/collections/berk...</td>\n",
              "      <td>Water Filter Systems</td>\n",
              "    </tr>\n",
              "    <tr>\n",
              "      <th>16601</th>\n",
              "      <td>https://www.berkeyfilters.com/products/berkey-...</td>\n",
              "      <td>https://www.berkeyfilters.com/collections/berk...</td>\n",
              "      <td>Shop All</td>\n",
              "    </tr>\n",
              "  </tbody>\n",
              "</table>\n",
              "<p>100 rows × 3 columns</p>\n",
              "</div>"
            ],
            "text/plain": [
              "                                                    From                                                 To           Anchor Text\n",
              "16502                     https://www.berkeyfilters.com/  https://www.berkeyfilters.com/collections/berk...  Water Filter Systems\n",
              "16503                     https://www.berkeyfilters.com/  https://www.berkeyfilters.com/collections/berk...              Shop All\n",
              "16504                     https://www.berkeyfilters.com/  https://www.berkeyfilters.com/collections/berk...              Shop All\n",
              "16505                     https://www.berkeyfilters.com/  https://www.berkeyfilters.com/collections/berk...                   NaN\n",
              "16506                     https://www.berkeyfilters.com/  https://www.berkeyfilters.com/collections/berk...    Choose your Berkey\n",
              "...                                                  ...                                                ...                   ...\n",
              "16597  https://www.berkeyfilters.com/products/crown-b...  https://www.berkeyfilters.com/collections/berk...  Water Filter Systems\n",
              "16598  https://www.berkeyfilters.com/products/crown-b...  https://www.berkeyfilters.com/collections/berk...    Shop Water Filters\n",
              "16599  https://www.berkeyfilters.com/products/crown-b...  https://www.berkeyfilters.com/collections/berk...  Water Filter Systems\n",
              "16600  https://www.berkeyfilters.com/products/berkey-...  https://www.berkeyfilters.com/collections/berk...  Water Filter Systems\n",
              "16601  https://www.berkeyfilters.com/products/berkey-...  https://www.berkeyfilters.com/collections/berk...              Shop All\n",
              "\n",
              "[100 rows x 3 columns]"
            ]
          },
          "metadata": {
            "tags": []
          },
          "execution_count": 42
        }
      ]
    },
    {
      "cell_type": "code",
      "metadata": {
        "id": "i-9_xrdIDBOB",
        "colab_type": "code",
        "colab": {}
      },
      "source": [
        "df_filtered = df[df[\"To\"]=='https://www.berkeyfilters.com/collections/berkey-water-filter-systems']"
      ],
      "execution_count": null,
      "outputs": []
    },
    {
      "cell_type": "code",
      "metadata": {
        "id": "1FZfkiZsDKAV",
        "colab_type": "code",
        "colab": {
          "base_uri": "https://localhost:8080/",
          "height": 979
        },
        "outputId": "b833cd84-9ada-44ec-a874-f92a1931dbad"
      },
      "source": [
        "df_filtered.head()"
      ],
      "execution_count": null,
      "outputs": [
        {
          "output_type": "execute_result",
          "data": {
            "text/html": [
              "<div>\n",
              "<style scoped>\n",
              "    .dataframe tbody tr th:only-of-type {\n",
              "        vertical-align: middle;\n",
              "    }\n",
              "\n",
              "    .dataframe tbody tr th {\n",
              "        vertical-align: top;\n",
              "    }\n",
              "\n",
              "    .dataframe thead th {\n",
              "        text-align: right;\n",
              "    }\n",
              "</style>\n",
              "<table border=\"1\" class=\"dataframe\">\n",
              "  <thead>\n",
              "    <tr style=\"text-align: right;\">\n",
              "      <th></th>\n",
              "      <th>From</th>\n",
              "      <th>To</th>\n",
              "      <th>Anchor Text</th>\n",
              "    </tr>\n",
              "  </thead>\n",
              "  <tbody>\n",
              "    <tr>\n",
              "      <th>16502</th>\n",
              "      <td>https://www.berkeyfilters.com/</td>\n",
              "      <td>https://www.berkeyfilters.com/collections/berk...</td>\n",
              "      <td>Water Filter Systems</td>\n",
              "    </tr>\n",
              "    <tr>\n",
              "      <th>16503</th>\n",
              "      <td>https://www.berkeyfilters.com/</td>\n",
              "      <td>https://www.berkeyfilters.com/collections/berk...</td>\n",
              "      <td>Shop All</td>\n",
              "    </tr>\n",
              "    <tr>\n",
              "      <th>16504</th>\n",
              "      <td>https://www.berkeyfilters.com/</td>\n",
              "      <td>https://www.berkeyfilters.com/collections/berk...</td>\n",
              "      <td>Shop All</td>\n",
              "    </tr>\n",
              "    <tr>\n",
              "      <th>16505</th>\n",
              "      <td>https://www.berkeyfilters.com/</td>\n",
              "      <td>https://www.berkeyfilters.com/collections/berk...</td>\n",
              "      <td>NaN</td>\n",
              "    </tr>\n",
              "    <tr>\n",
              "      <th>16506</th>\n",
              "      <td>https://www.berkeyfilters.com/</td>\n",
              "      <td>https://www.berkeyfilters.com/collections/berk...</td>\n",
              "      <td>Choose your Berkey</td>\n",
              "    </tr>\n",
              "    <tr>\n",
              "      <th>16507</th>\n",
              "      <td>https://www.berkeyfilters.com/</td>\n",
              "      <td>https://www.berkeyfilters.com/collections/berk...</td>\n",
              "      <td>The Berkey water filter system</td>\n",
              "    </tr>\n",
              "    <tr>\n",
              "      <th>16508</th>\n",
              "      <td>https://www.berkeyfilters.com/</td>\n",
              "      <td>https://www.berkeyfilters.com/collections/berk...</td>\n",
              "      <td>Berkey water filters</td>\n",
              "    </tr>\n",
              "    <tr>\n",
              "      <th>16509</th>\n",
              "      <td>https://www.berkeyfilters.com/</td>\n",
              "      <td>https://www.berkeyfilters.com/collections/berk...</td>\n",
              "      <td>Shop Water Filters</td>\n",
              "    </tr>\n",
              "    <tr>\n",
              "      <th>16510</th>\n",
              "      <td>https://www.berkeyfilters.com/</td>\n",
              "      <td>https://www.berkeyfilters.com/collections/berk...</td>\n",
              "      <td>Water Filter Systems</td>\n",
              "    </tr>\n",
              "    <tr>\n",
              "      <th>16511</th>\n",
              "      <td>https://www.berkeyfilters.com/pages/reverse-os...</td>\n",
              "      <td>https://www.berkeyfilters.com/collections/berk...</td>\n",
              "      <td>Water Filter Systems</td>\n",
              "    </tr>\n",
              "    <tr>\n",
              "      <th>16512</th>\n",
              "      <td>https://www.berkeyfilters.com/pages/reverse-os...</td>\n",
              "      <td>https://www.berkeyfilters.com/collections/berk...</td>\n",
              "      <td>Shop All</td>\n",
              "    </tr>\n",
              "    <tr>\n",
              "      <th>16513</th>\n",
              "      <td>https://www.berkeyfilters.com/pages/reverse-os...</td>\n",
              "      <td>https://www.berkeyfilters.com/collections/berk...</td>\n",
              "      <td>Shop All</td>\n",
              "    </tr>\n",
              "    <tr>\n",
              "      <th>16514</th>\n",
              "      <td>https://www.berkeyfilters.com/pages/reverse-os...</td>\n",
              "      <td>https://www.berkeyfilters.com/collections/berk...</td>\n",
              "      <td>FIND YOUR BERKEY</td>\n",
              "    </tr>\n",
              "    <tr>\n",
              "      <th>16515</th>\n",
              "      <td>https://www.berkeyfilters.com/pages/reverse-os...</td>\n",
              "      <td>https://www.berkeyfilters.com/collections/berk...</td>\n",
              "      <td>NaN</td>\n",
              "    </tr>\n",
              "    <tr>\n",
              "      <th>16516</th>\n",
              "      <td>https://www.berkeyfilters.com/pages/reverse-os...</td>\n",
              "      <td>https://www.berkeyfilters.com/collections/berk...</td>\n",
              "      <td>Shop Water Filters</td>\n",
              "    </tr>\n",
              "    <tr>\n",
              "      <th>16517</th>\n",
              "      <td>https://www.berkeyfilters.com/pages/reverse-os...</td>\n",
              "      <td>https://www.berkeyfilters.com/collections/berk...</td>\n",
              "      <td>Water Filter Systems</td>\n",
              "    </tr>\n",
              "    <tr>\n",
              "      <th>16518</th>\n",
              "      <td>https://www.berkeyfilters.com/products/thinksp...</td>\n",
              "      <td>https://www.berkeyfilters.com/collections/berk...</td>\n",
              "      <td>Water Filter Systems</td>\n",
              "    </tr>\n",
              "    <tr>\n",
              "      <th>16519</th>\n",
              "      <td>https://www.berkeyfilters.com/products/thinksp...</td>\n",
              "      <td>https://www.berkeyfilters.com/collections/berk...</td>\n",
              "      <td>Shop All</td>\n",
              "    </tr>\n",
              "    <tr>\n",
              "      <th>16520</th>\n",
              "      <td>https://www.berkeyfilters.com/products/thinksp...</td>\n",
              "      <td>https://www.berkeyfilters.com/collections/berk...</td>\n",
              "      <td>Shop All</td>\n",
              "    </tr>\n",
              "    <tr>\n",
              "      <th>16521</th>\n",
              "      <td>https://www.berkeyfilters.com/products/thinksp...</td>\n",
              "      <td>https://www.berkeyfilters.com/collections/berk...</td>\n",
              "      <td>Water Filter Systems</td>\n",
              "    </tr>\n",
              "    <tr>\n",
              "      <th>16522</th>\n",
              "      <td>https://www.berkeyfilters.com/products/thinksp...</td>\n",
              "      <td>https://www.berkeyfilters.com/collections/berk...</td>\n",
              "      <td>Shop Water Filters</td>\n",
              "    </tr>\n",
              "    <tr>\n",
              "      <th>16523</th>\n",
              "      <td>https://www.berkeyfilters.com/products/thinksp...</td>\n",
              "      <td>https://www.berkeyfilters.com/collections/berk...</td>\n",
              "      <td>Water Filter Systems</td>\n",
              "    </tr>\n",
              "    <tr>\n",
              "      <th>16524</th>\n",
              "      <td>https://www.berkeyfilters.com/blogs/berkey-lif...</td>\n",
              "      <td>https://www.berkeyfilters.com/collections/berk...</td>\n",
              "      <td>Water Filter Systems</td>\n",
              "    </tr>\n",
              "    <tr>\n",
              "      <th>16525</th>\n",
              "      <td>https://www.berkeyfilters.com/blogs/berkey-lif...</td>\n",
              "      <td>https://www.berkeyfilters.com/collections/berk...</td>\n",
              "      <td>Shop All</td>\n",
              "    </tr>\n",
              "    <tr>\n",
              "      <th>16526</th>\n",
              "      <td>https://www.berkeyfilters.com/blogs/berkey-lif...</td>\n",
              "      <td>https://www.berkeyfilters.com/collections/berk...</td>\n",
              "      <td>Shop All</td>\n",
              "    </tr>\n",
              "    <tr>\n",
              "      <th>16527</th>\n",
              "      <td>https://www.berkeyfilters.com/blogs/berkey-lif...</td>\n",
              "      <td>https://www.berkeyfilters.com/collections/berk...</td>\n",
              "      <td>Shop Water Filters</td>\n",
              "    </tr>\n",
              "    <tr>\n",
              "      <th>16528</th>\n",
              "      <td>https://www.berkeyfilters.com/blogs/berkey-lif...</td>\n",
              "      <td>https://www.berkeyfilters.com/collections/berk...</td>\n",
              "      <td>Water Filter Systems</td>\n",
              "    </tr>\n",
              "    <tr>\n",
              "      <th>16529</th>\n",
              "      <td>https://www.berkeyfilters.com/pages/prime-fluo...</td>\n",
              "      <td>https://www.berkeyfilters.com/collections/berk...</td>\n",
              "      <td>Water Filter Systems</td>\n",
              "    </tr>\n",
              "    <tr>\n",
              "      <th>16530</th>\n",
              "      <td>https://www.berkeyfilters.com/pages/prime-fluo...</td>\n",
              "      <td>https://www.berkeyfilters.com/collections/berk...</td>\n",
              "      <td>Shop All</td>\n",
              "    </tr>\n",
              "    <tr>\n",
              "      <th>16531</th>\n",
              "      <td>https://www.berkeyfilters.com/pages/prime-fluo...</td>\n",
              "      <td>https://www.berkeyfilters.com/collections/berk...</td>\n",
              "      <td>Shop All</td>\n",
              "    </tr>\n",
              "  </tbody>\n",
              "</table>\n",
              "</div>"
            ],
            "text/plain": [
              "                                                    From                                                 To                     Anchor Text\n",
              "16502                     https://www.berkeyfilters.com/  https://www.berkeyfilters.com/collections/berk...            Water Filter Systems\n",
              "16503                     https://www.berkeyfilters.com/  https://www.berkeyfilters.com/collections/berk...                        Shop All\n",
              "16504                     https://www.berkeyfilters.com/  https://www.berkeyfilters.com/collections/berk...                        Shop All\n",
              "16505                     https://www.berkeyfilters.com/  https://www.berkeyfilters.com/collections/berk...                             NaN\n",
              "16506                     https://www.berkeyfilters.com/  https://www.berkeyfilters.com/collections/berk...              Choose your Berkey\n",
              "16507                     https://www.berkeyfilters.com/  https://www.berkeyfilters.com/collections/berk...  The Berkey water filter system\n",
              "16508                     https://www.berkeyfilters.com/  https://www.berkeyfilters.com/collections/berk...            Berkey water filters\n",
              "16509                     https://www.berkeyfilters.com/  https://www.berkeyfilters.com/collections/berk...              Shop Water Filters\n",
              "16510                     https://www.berkeyfilters.com/  https://www.berkeyfilters.com/collections/berk...            Water Filter Systems\n",
              "16511  https://www.berkeyfilters.com/pages/reverse-os...  https://www.berkeyfilters.com/collections/berk...            Water Filter Systems\n",
              "16512  https://www.berkeyfilters.com/pages/reverse-os...  https://www.berkeyfilters.com/collections/berk...                        Shop All\n",
              "16513  https://www.berkeyfilters.com/pages/reverse-os...  https://www.berkeyfilters.com/collections/berk...                        Shop All\n",
              "16514  https://www.berkeyfilters.com/pages/reverse-os...  https://www.berkeyfilters.com/collections/berk...                FIND YOUR BERKEY\n",
              "16515  https://www.berkeyfilters.com/pages/reverse-os...  https://www.berkeyfilters.com/collections/berk...                             NaN\n",
              "16516  https://www.berkeyfilters.com/pages/reverse-os...  https://www.berkeyfilters.com/collections/berk...              Shop Water Filters\n",
              "16517  https://www.berkeyfilters.com/pages/reverse-os...  https://www.berkeyfilters.com/collections/berk...            Water Filter Systems\n",
              "16518  https://www.berkeyfilters.com/products/thinksp...  https://www.berkeyfilters.com/collections/berk...            Water Filter Systems\n",
              "16519  https://www.berkeyfilters.com/products/thinksp...  https://www.berkeyfilters.com/collections/berk...                        Shop All\n",
              "16520  https://www.berkeyfilters.com/products/thinksp...  https://www.berkeyfilters.com/collections/berk...                        Shop All\n",
              "16521  https://www.berkeyfilters.com/products/thinksp...  https://www.berkeyfilters.com/collections/berk...            Water Filter Systems\n",
              "16522  https://www.berkeyfilters.com/products/thinksp...  https://www.berkeyfilters.com/collections/berk...              Shop Water Filters\n",
              "16523  https://www.berkeyfilters.com/products/thinksp...  https://www.berkeyfilters.com/collections/berk...            Water Filter Systems\n",
              "16524  https://www.berkeyfilters.com/blogs/berkey-lif...  https://www.berkeyfilters.com/collections/berk...            Water Filter Systems\n",
              "16525  https://www.berkeyfilters.com/blogs/berkey-lif...  https://www.berkeyfilters.com/collections/berk...                        Shop All\n",
              "16526  https://www.berkeyfilters.com/blogs/berkey-lif...  https://www.berkeyfilters.com/collections/berk...                        Shop All\n",
              "16527  https://www.berkeyfilters.com/blogs/berkey-lif...  https://www.berkeyfilters.com/collections/berk...              Shop Water Filters\n",
              "16528  https://www.berkeyfilters.com/blogs/berkey-lif...  https://www.berkeyfilters.com/collections/berk...            Water Filter Systems\n",
              "16529  https://www.berkeyfilters.com/pages/prime-fluo...  https://www.berkeyfilters.com/collections/berk...            Water Filter Systems\n",
              "16530  https://www.berkeyfilters.com/pages/prime-fluo...  https://www.berkeyfilters.com/collections/berk...                        Shop All\n",
              "16531  https://www.berkeyfilters.com/pages/prime-fluo...  https://www.berkeyfilters.com/collections/berk...                        Shop All"
            ]
          },
          "metadata": {
            "tags": []
          },
          "execution_count": 46
        }
      ]
    },
    {
      "cell_type": "code",
      "metadata": {
        "id": "2Otqyb6UqW6I",
        "colab_type": "code",
        "colab": {
          "base_uri": "https://localhost:8080/",
          "height": 161
        },
        "outputId": "1d2c8615-06f7-43eb-aeec-e33356bb5703"
      },
      "source": [
        "print(df.dtypes)"
      ],
      "execution_count": null,
      "outputs": [
        {
          "output_type": "stream",
          "text": [
            "Type                object\n",
            "From                object\n",
            "To                  object\n",
            "Anchor Text         object\n",
            "Alt Text            object\n",
            "Follow                bool\n",
            "Link Attributes    float64\n",
            "dtype: object\n"
          ],
          "name": "stdout"
        }
      ]
    },
    {
      "cell_type": "code",
      "metadata": {
        "id": "nLABz36ktsGf",
        "colab_type": "code",
        "colab": {}
      },
      "source": [
        "#data cleanup\n",
        "#drop extra columns\n",
        "df = df[['From', 'To', 'Anchor Text']]"
      ],
      "execution_count": null,
      "outputs": []
    },
    {
      "cell_type": "code",
      "metadata": {
        "id": "kDnPRxwyt3y8",
        "colab_type": "code",
        "colab": {
          "base_uri": "https://localhost:8080/",
          "height": 204
        },
        "outputId": "55474565-bb76-4174-e379-06e74387690c"
      },
      "source": [
        "df.head()"
      ],
      "execution_count": null,
      "outputs": [
        {
          "output_type": "execute_result",
          "data": {
            "text/html": [
              "<div>\n",
              "<style scoped>\n",
              "    .dataframe tbody tr th:only-of-type {\n",
              "        vertical-align: middle;\n",
              "    }\n",
              "\n",
              "    .dataframe tbody tr th {\n",
              "        vertical-align: top;\n",
              "    }\n",
              "\n",
              "    .dataframe thead th {\n",
              "        text-align: right;\n",
              "    }\n",
              "</style>\n",
              "<table border=\"1\" class=\"dataframe\">\n",
              "  <thead>\n",
              "    <tr style=\"text-align: right;\">\n",
              "      <th></th>\n",
              "      <th>From</th>\n",
              "      <th>To</th>\n",
              "      <th>Anchor Text</th>\n",
              "    </tr>\n",
              "  </thead>\n",
              "  <tbody>\n",
              "    <tr>\n",
              "      <th>0</th>\n",
              "      <td>https://www.berkeyfilters.com/</td>\n",
              "      <td>https://www.berkeyfilters.com/</td>\n",
              "      <td>Skip to content</td>\n",
              "    </tr>\n",
              "    <tr>\n",
              "      <th>1</th>\n",
              "      <td>https://www.berkeyfilters.com/</td>\n",
              "      <td>https://www.berkeyfilters.com/</td>\n",
              "      <td>NaN</td>\n",
              "    </tr>\n",
              "    <tr>\n",
              "      <th>2</th>\n",
              "      <td>https://www.berkeyfilters.com/</td>\n",
              "      <td>https://www.berkeyfilters.com/</td>\n",
              "      <td>NaN</td>\n",
              "    </tr>\n",
              "    <tr>\n",
              "      <th>3</th>\n",
              "      <td>https://www.berkeyfilters.com/</td>\n",
              "      <td>https://www.berkeyfilters.com/</td>\n",
              "      <td>Become a Dealer</td>\n",
              "    </tr>\n",
              "    <tr>\n",
              "      <th>4</th>\n",
              "      <td>https://www.berkeyfilters.com/</td>\n",
              "      <td>https://www.berkeyfilters.com/</td>\n",
              "      <td>Created with Sketch. Watch Our Water Story</td>\n",
              "    </tr>\n",
              "  </tbody>\n",
              "</table>\n",
              "</div>"
            ],
            "text/plain": [
              "                             From  ...                                 Anchor Text\n",
              "0  https://www.berkeyfilters.com/  ...                             Skip to content\n",
              "1  https://www.berkeyfilters.com/  ...                                         NaN\n",
              "2  https://www.berkeyfilters.com/  ...                                         NaN\n",
              "3  https://www.berkeyfilters.com/  ...                             Become a Dealer\n",
              "4  https://www.berkeyfilters.com/  ...  Created with Sketch. Watch Our Water Story\n",
              "\n",
              "[5 rows x 3 columns]"
            ]
          },
          "metadata": {
            "tags": []
          },
          "execution_count": 11
        }
      ]
    },
    {
      "cell_type": "markdown",
      "metadata": {
        "id": "_bDte04yt7kh",
        "colab_type": "text"
      },
      "source": [
        "#Now that we have your internal links cleaned and organized within a dataframe, let's bring in your keyword data!\n",
        "\n",
        "The following example uses Moz's Ranking Keywords for Domain (berkeyfilters.com) export. \n",
        "\n",
        "You could also use or pull in GSC data (additional db cleanup might be required) "
      ]
    },
    {
      "cell_type": "code",
      "metadata": {
        "id": "K4w4wVl5uFFT",
        "colab_type": "code",
        "colab": {
          "resources": {
            "http://localhost:8080/nbextensions/google.colab/files.js": {
              "data": "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",
              "ok": true,
              "headers": [
                [
                  "content-type",
                  "application/javascript"
                ]
              ],
              "status": 200,
              "status_text": ""
            }
          },
          "base_uri": "https://localhost:8080/",
          "height": 72
        },
        "outputId": "12e1e8de-710c-4827-e500-a62449094b94"
      },
      "source": [
        "from google.colab import files\n",
        "uploaded = files.upload()"
      ],
      "execution_count": null,
      "outputs": [
        {
          "output_type": "display_data",
          "data": {
            "text/html": [
              "\n",
              "     <input type=\"file\" id=\"files-928f2837-5d86-4345-b45b-8a99bb935641\" name=\"files[]\" multiple disabled />\n",
              "     <output id=\"result-928f2837-5d86-4345-b45b-8a99bb935641\">\n",
              "      Upload widget is only available when the cell has been executed in the\n",
              "      current browser session. Please rerun this cell to enable.\n",
              "      </output>\n",
              "      <script src=\"/nbextensions/google.colab/files.js\"></script> "
            ],
            "text/plain": [
              "<IPython.core.display.HTML object>"
            ]
          },
          "metadata": {
            "tags": []
          }
        },
        {
          "output_type": "stream",
          "text": [
            "Saving berkey-cannibalization.csv to berkey-cannibalization.csv\n"
          ],
          "name": "stdout"
        }
      ]
    },
    {
      "cell_type": "code",
      "metadata": {
        "id": "ZMHZMbARu-Tk",
        "colab_type": "code",
        "colab": {}
      },
      "source": [
        "df2 = pd.read_csv(\"berkey-cannibalization.csv\")"
      ],
      "execution_count": null,
      "outputs": []
    },
    {
      "cell_type": "code",
      "metadata": {
        "id": "AhbF0bR8vL5x",
        "colab_type": "code",
        "colab": {
          "base_uri": "https://localhost:8080/",
          "height": 204
        },
        "outputId": "df0a3e87-53db-4309-9094-00b23a0a1636"
      },
      "source": [
        "df2.head()"
      ],
      "execution_count": null,
      "outputs": [
        {
          "output_type": "execute_result",
          "data": {
            "text/html": [
              "<div>\n",
              "<style scoped>\n",
              "    .dataframe tbody tr th:only-of-type {\n",
              "        vertical-align: middle;\n",
              "    }\n",
              "\n",
              "    .dataframe tbody tr th {\n",
              "        vertical-align: top;\n",
              "    }\n",
              "\n",
              "    .dataframe thead th {\n",
              "        text-align: right;\n",
              "    }\n",
              "</style>\n",
              "<table border=\"1\" class=\"dataframe\">\n",
              "  <thead>\n",
              "    <tr style=\"text-align: right;\">\n",
              "      <th></th>\n",
              "      <th>Keyword</th>\n",
              "      <th>Position</th>\n",
              "      <th>Volume</th>\n",
              "      <th>URL</th>\n",
              "      <th>Cannibalization</th>\n",
              "    </tr>\n",
              "  </thead>\n",
              "  <tbody>\n",
              "    <tr>\n",
              "      <th>0</th>\n",
              "      <td>alexapure vs berkey</td>\n",
              "      <td>12</td>\n",
              "      <td>250</td>\n",
              "      <td>https://www.berkeyfilters.com/pages/berkey-vs-...</td>\n",
              "      <td>na</td>\n",
              "    </tr>\n",
              "    <tr>\n",
              "      <th>1</th>\n",
              "      <td>aquatru vs berkey</td>\n",
              "      <td>2</td>\n",
              "      <td>90</td>\n",
              "      <td>https://www.berkeyfilters.com/pages/berkey-vs-...</td>\n",
              "      <td>na</td>\n",
              "    </tr>\n",
              "    <tr>\n",
              "      <th>2</th>\n",
              "      <td>barkley water filter</td>\n",
              "      <td>9</td>\n",
              "      <td>10</td>\n",
              "      <td>https://www.berkeyfilters.com/</td>\n",
              "      <td>na</td>\n",
              "    </tr>\n",
              "    <tr>\n",
              "      <th>3</th>\n",
              "      <td>berke water filter</td>\n",
              "      <td>1</td>\n",
              "      <td>80</td>\n",
              "      <td>https://www.berkeyfilters.com/</td>\n",
              "      <td>na</td>\n",
              "    </tr>\n",
              "    <tr>\n",
              "      <th>4</th>\n",
              "      <td>berke water filter</td>\n",
              "      <td>1</td>\n",
              "      <td>80</td>\n",
              "      <td>https://www.berkeyfilters.com/collections/berk...</td>\n",
              "      <td>na</td>\n",
              "    </tr>\n",
              "  </tbody>\n",
              "</table>\n",
              "</div>"
            ],
            "text/plain": [
              "                Keyword  ...  Cannibalization\n",
              "0   alexapure vs berkey  ...               na\n",
              "1     aquatru vs berkey  ...               na\n",
              "2  barkley water filter  ...               na\n",
              "3    berke water filter  ...               na\n",
              "4    berke water filter  ...               na\n",
              "\n",
              "[5 rows x 5 columns]"
            ]
          },
          "metadata": {
            "tags": []
          },
          "execution_count": 30
        }
      ]
    },
    {
      "cell_type": "code",
      "metadata": {
        "id": "j8DPUeWMvbf9",
        "colab_type": "code",
        "colab": {}
      },
      "source": [
        "#data cleanup\n",
        "#drop extra columns\n",
        "df2 = df2[['Keyword', 'Position', 'Volume', 'URL']]"
      ],
      "execution_count": null,
      "outputs": []
    },
    {
      "cell_type": "code",
      "metadata": {
        "id": "xWPDMb8Xvlos",
        "colab_type": "code",
        "colab": {
          "base_uri": "https://localhost:8080/",
          "height": 287
        },
        "outputId": "102a25c3-e9a4-4a34-a12f-c40eb879fc66"
      },
      "source": [
        "# Select all duplicate rows based on one column\n",
        "duplicateRowsDF = df2[df2.duplicated(['Keyword'])]\n",
        " \n",
        "print(\"Duplicate Keywords based on a single column are:\", duplicateRowsDF, sep='\\n')"
      ],
      "execution_count": null,
      "outputs": [
        {
          "output_type": "stream",
          "text": [
            "Duplicate Keywords based on a single column are:\n",
            "                               Keyword  ...                                                URL\n",
            "4                   berke water filter  ...  https://www.berkeyfilters.com/collections/berk...\n",
            "5                   berke water filter  ...  https://www.berkeyfilters.com/products/big-berkey\n",
            "7                  berkee water filter  ...  https://www.berkeyfilters.com/pages/bundle-and...\n",
            "8                  berkee water filter  ...  https://www.berkeyfilters.com/berkey-water-fil...\n",
            "9                  berkee water filter  ...  https://www.berkeyfilters.com/collections/berk...\n",
            "...                                ...  ...                                                ...\n",
            "1074  what is in a berkey water filter  ...  https://www.berkeyfilters.com/collections/berk...\n",
            "1075  what is in a berkey water filter  ...  https://www.berkeyfilters.com/products/big-berkey\n",
            "1077     when to replace berkey filter  ...  https://www.berkeyfilters.com/pages/black-berk...\n",
            "1078     when to replace berkey filter  ...  https://www.berkeyfilters.com/pages/sport-berk...\n",
            "1079     when to replace berkey filter  ...  https://www.berkeyfilters.com/pages/berkey-flu...\n",
            "\n",
            "[704 rows x 4 columns]\n"
          ],
          "name": "stdout"
        }
      ]
    },
    {
      "cell_type": "markdown",
      "metadata": {
        "id": "3b1IgQ4_1YLI",
        "colab_type": "text"
      },
      "source": [
        "#All Cannibiliazion Keywords HERE:\n",
        "\n",
        "---\n",
        "\n"
      ]
    },
    {
      "cell_type": "code",
      "metadata": {
        "id": "paBo_3WjyJe6",
        "colab_type": "code",
        "colab": {
          "base_uri": "https://localhost:8080/",
          "height": 979
        },
        "outputId": "276f4adf-b11b-4507-eed6-1be10c010bf2"
      },
      "source": [
        "duplicateRowsDF.head(30)"
      ],
      "execution_count": null,
      "outputs": [
        {
          "output_type": "execute_result",
          "data": {
            "text/html": [
              "<div>\n",
              "<style scoped>\n",
              "    .dataframe tbody tr th:only-of-type {\n",
              "        vertical-align: middle;\n",
              "    }\n",
              "\n",
              "    .dataframe tbody tr th {\n",
              "        vertical-align: top;\n",
              "    }\n",
              "\n",
              "    .dataframe thead th {\n",
              "        text-align: right;\n",
              "    }\n",
              "</style>\n",
              "<table border=\"1\" class=\"dataframe\">\n",
              "  <thead>\n",
              "    <tr style=\"text-align: right;\">\n",
              "      <th></th>\n",
              "      <th>Keyword</th>\n",
              "      <th>Position</th>\n",
              "      <th>Volume</th>\n",
              "      <th>URL</th>\n",
              "    </tr>\n",
              "  </thead>\n",
              "  <tbody>\n",
              "    <tr>\n",
              "      <th>4</th>\n",
              "      <td>berke water filter</td>\n",
              "      <td>1</td>\n",
              "      <td>80</td>\n",
              "      <td>https://www.berkeyfilters.com/collections/berk...</td>\n",
              "    </tr>\n",
              "    <tr>\n",
              "      <th>5</th>\n",
              "      <td>berke water filter</td>\n",
              "      <td>1</td>\n",
              "      <td>80</td>\n",
              "      <td>https://www.berkeyfilters.com/products/big-berkey</td>\n",
              "    </tr>\n",
              "    <tr>\n",
              "      <th>7</th>\n",
              "      <td>berkee water filter</td>\n",
              "      <td>1</td>\n",
              "      <td>80</td>\n",
              "      <td>https://www.berkeyfilters.com/pages/bundle-and...</td>\n",
              "    </tr>\n",
              "    <tr>\n",
              "      <th>8</th>\n",
              "      <td>berkee water filter</td>\n",
              "      <td>1</td>\n",
              "      <td>80</td>\n",
              "      <td>https://www.berkeyfilters.com/berkey-water-fil...</td>\n",
              "    </tr>\n",
              "    <tr>\n",
              "      <th>9</th>\n",
              "      <td>berkee water filter</td>\n",
              "      <td>1</td>\n",
              "      <td>80</td>\n",
              "      <td>https://www.berkeyfilters.com/collections/berk...</td>\n",
              "    </tr>\n",
              "    <tr>\n",
              "      <th>10</th>\n",
              "      <td>berkee water filter</td>\n",
              "      <td>1</td>\n",
              "      <td>80</td>\n",
              "      <td>https://www.berkeyfilters.com/products/big-berkey</td>\n",
              "    </tr>\n",
              "    <tr>\n",
              "      <th>11</th>\n",
              "      <td>berkee water filter</td>\n",
              "      <td>1</td>\n",
              "      <td>80</td>\n",
              "      <td>https://www.berkeyfilters.com/products/royal-b...</td>\n",
              "    </tr>\n",
              "    <tr>\n",
              "      <th>12</th>\n",
              "      <td>berkee water filter</td>\n",
              "      <td>1</td>\n",
              "      <td>80</td>\n",
              "      <td>https://www.berkeyfilters.com/products/travel-...</td>\n",
              "    </tr>\n",
              "    <tr>\n",
              "      <th>14</th>\n",
              "      <td>berkeley filter</td>\n",
              "      <td>1</td>\n",
              "      <td>80</td>\n",
              "      <td>https://www.berkeyfilters.com/products/big-berkey</td>\n",
              "    </tr>\n",
              "    <tr>\n",
              "      <th>15</th>\n",
              "      <td>berkeley filter</td>\n",
              "      <td>1</td>\n",
              "      <td>80</td>\n",
              "      <td>https://www.berkeyfilters.com/berkey-water-fil...</td>\n",
              "    </tr>\n",
              "    <tr>\n",
              "      <th>16</th>\n",
              "      <td>berkeley filter</td>\n",
              "      <td>1</td>\n",
              "      <td>80</td>\n",
              "      <td>https://www.berkeyfilters.com/collections/berk...</td>\n",
              "    </tr>\n",
              "    <tr>\n",
              "      <th>17</th>\n",
              "      <td>berkeley filter</td>\n",
              "      <td>1</td>\n",
              "      <td>80</td>\n",
              "      <td>https://www.berkeyfilters.com/pages/bundle-and...</td>\n",
              "    </tr>\n",
              "    <tr>\n",
              "      <th>19</th>\n",
              "      <td>berkeley water filter</td>\n",
              "      <td>1</td>\n",
              "      <td>150</td>\n",
              "      <td>https://www.berkeyfilters.com/products/travel-...</td>\n",
              "    </tr>\n",
              "    <tr>\n",
              "      <th>20</th>\n",
              "      <td>berkeley water filter</td>\n",
              "      <td>1</td>\n",
              "      <td>150</td>\n",
              "      <td>https://www.berkeyfilters.com/collections/berk...</td>\n",
              "    </tr>\n",
              "    <tr>\n",
              "      <th>21</th>\n",
              "      <td>berkeley water filter</td>\n",
              "      <td>1</td>\n",
              "      <td>150</td>\n",
              "      <td>https://www.berkeyfilters.com/products/royal-b...</td>\n",
              "    </tr>\n",
              "    <tr>\n",
              "      <th>22</th>\n",
              "      <td>berkeley water filter</td>\n",
              "      <td>1</td>\n",
              "      <td>150</td>\n",
              "      <td>https://www.berkeyfilters.com/products/big-berkey</td>\n",
              "    </tr>\n",
              "    <tr>\n",
              "      <th>24</th>\n",
              "      <td>berkeley water filters</td>\n",
              "      <td>3</td>\n",
              "      <td>50</td>\n",
              "      <td>https://www.berkeyfilters.com/collections/berk...</td>\n",
              "    </tr>\n",
              "    <tr>\n",
              "      <th>25</th>\n",
              "      <td>berkeley water filters</td>\n",
              "      <td>1</td>\n",
              "      <td>50</td>\n",
              "      <td>https://www.berkeyfilters.com/collections/berk...</td>\n",
              "    </tr>\n",
              "    <tr>\n",
              "      <th>26</th>\n",
              "      <td>berkeley water filters</td>\n",
              "      <td>1</td>\n",
              "      <td>50</td>\n",
              "      <td>https://www.berkeyfilters.com/collections/berk...</td>\n",
              "    </tr>\n",
              "    <tr>\n",
              "      <th>27</th>\n",
              "      <td>berkeley water filters</td>\n",
              "      <td>1</td>\n",
              "      <td>50</td>\n",
              "      <td>https://www.berkeyfilters.com/pages/berkey-vs-...</td>\n",
              "    </tr>\n",
              "    <tr>\n",
              "      <th>28</th>\n",
              "      <td>berkeley water filters</td>\n",
              "      <td>1</td>\n",
              "      <td>50</td>\n",
              "      <td>https://www.berkeyfilters.com/products/big-berkey</td>\n",
              "    </tr>\n",
              "    <tr>\n",
              "      <th>29</th>\n",
              "      <td>berkeley water filters</td>\n",
              "      <td>3</td>\n",
              "      <td>50</td>\n",
              "      <td>https://www.berkeyfilters.com/products/royal-b...</td>\n",
              "    </tr>\n",
              "    <tr>\n",
              "      <th>30</th>\n",
              "      <td>berkeley water filters</td>\n",
              "      <td>3</td>\n",
              "      <td>50</td>\n",
              "      <td>https://www.berkeyfilters.com/products/berkey-...</td>\n",
              "    </tr>\n",
              "    <tr>\n",
              "      <th>31</th>\n",
              "      <td>berkeley water filters</td>\n",
              "      <td>3</td>\n",
              "      <td>50</td>\n",
              "      <td>https://www.berkeyfilters.com/products/travel-...</td>\n",
              "    </tr>\n",
              "    <tr>\n",
              "      <th>33</th>\n",
              "      <td>berkeley water filtration system</td>\n",
              "      <td>3</td>\n",
              "      <td>50</td>\n",
              "      <td>https://www.berkeyfilters.com/collections/berk...</td>\n",
              "    </tr>\n",
              "    <tr>\n",
              "      <th>34</th>\n",
              "      <td>berkeley water filtration system</td>\n",
              "      <td>5</td>\n",
              "      <td>50</td>\n",
              "      <td>https://www.berkeyfilters.com/berkey-water-fil...</td>\n",
              "    </tr>\n",
              "    <tr>\n",
              "      <th>35</th>\n",
              "      <td>berkeley water filtration system</td>\n",
              "      <td>6</td>\n",
              "      <td>50</td>\n",
              "      <td>https://www.berkeyfilters.com/products/big-berkey</td>\n",
              "    </tr>\n",
              "    <tr>\n",
              "      <th>36</th>\n",
              "      <td>berkeley water filtration system</td>\n",
              "      <td>1</td>\n",
              "      <td>50</td>\n",
              "      <td>https://www.berkeyfilters.com/collections/berk...</td>\n",
              "    </tr>\n",
              "    <tr>\n",
              "      <th>37</th>\n",
              "      <td>berkeley water filtration system</td>\n",
              "      <td>1</td>\n",
              "      <td>50</td>\n",
              "      <td>https://www.berkeyfilters.com/collections/berk...</td>\n",
              "    </tr>\n",
              "    <tr>\n",
              "      <th>38</th>\n",
              "      <td>berkeley water filtration system</td>\n",
              "      <td>1</td>\n",
              "      <td>50</td>\n",
              "      <td>https://www.berkeyfilters.com/products/travel-...</td>\n",
              "    </tr>\n",
              "  </tbody>\n",
              "</table>\n",
              "</div>"
            ],
            "text/plain": [
              "                             Keyword  ...                                                URL\n",
              "4                 berke water filter  ...  https://www.berkeyfilters.com/collections/berk...\n",
              "5                 berke water filter  ...  https://www.berkeyfilters.com/products/big-berkey\n",
              "7                berkee water filter  ...  https://www.berkeyfilters.com/pages/bundle-and...\n",
              "8                berkee water filter  ...  https://www.berkeyfilters.com/berkey-water-fil...\n",
              "9                berkee water filter  ...  https://www.berkeyfilters.com/collections/berk...\n",
              "10               berkee water filter  ...  https://www.berkeyfilters.com/products/big-berkey\n",
              "11               berkee water filter  ...  https://www.berkeyfilters.com/products/royal-b...\n",
              "12               berkee water filter  ...  https://www.berkeyfilters.com/products/travel-...\n",
              "14                   berkeley filter  ...  https://www.berkeyfilters.com/products/big-berkey\n",
              "15                   berkeley filter  ...  https://www.berkeyfilters.com/berkey-water-fil...\n",
              "16                   berkeley filter  ...  https://www.berkeyfilters.com/collections/berk...\n",
              "17                   berkeley filter  ...  https://www.berkeyfilters.com/pages/bundle-and...\n",
              "19             berkeley water filter  ...  https://www.berkeyfilters.com/products/travel-...\n",
              "20             berkeley water filter  ...  https://www.berkeyfilters.com/collections/berk...\n",
              "21             berkeley water filter  ...  https://www.berkeyfilters.com/products/royal-b...\n",
              "22             berkeley water filter  ...  https://www.berkeyfilters.com/products/big-berkey\n",
              "24            berkeley water filters  ...  https://www.berkeyfilters.com/collections/berk...\n",
              "25            berkeley water filters  ...  https://www.berkeyfilters.com/collections/berk...\n",
              "26            berkeley water filters  ...  https://www.berkeyfilters.com/collections/berk...\n",
              "27            berkeley water filters  ...  https://www.berkeyfilters.com/pages/berkey-vs-...\n",
              "28            berkeley water filters  ...  https://www.berkeyfilters.com/products/big-berkey\n",
              "29            berkeley water filters  ...  https://www.berkeyfilters.com/products/royal-b...\n",
              "30            berkeley water filters  ...  https://www.berkeyfilters.com/products/berkey-...\n",
              "31            berkeley water filters  ...  https://www.berkeyfilters.com/products/travel-...\n",
              "33  berkeley water filtration system  ...  https://www.berkeyfilters.com/collections/berk...\n",
              "34  berkeley water filtration system  ...  https://www.berkeyfilters.com/berkey-water-fil...\n",
              "35  berkeley water filtration system  ...  https://www.berkeyfilters.com/products/big-berkey\n",
              "36  berkeley water filtration system  ...  https://www.berkeyfilters.com/collections/berk...\n",
              "37  berkeley water filtration system  ...  https://www.berkeyfilters.com/collections/berk...\n",
              "38  berkeley water filtration system  ...  https://www.berkeyfilters.com/products/travel-...\n",
              "\n",
              "[30 rows x 4 columns]"
            ]
          },
          "metadata": {
            "tags": []
          },
          "execution_count": 34
        }
      ]
    },
    {
      "cell_type": "code",
      "metadata": {
        "id": "Rqklas0x3QWw",
        "colab_type": "code",
        "colab": {
          "base_uri": "https://localhost:8080/",
          "height": 107
        },
        "outputId": "aaf05429-626c-4a28-e255-4ccbd9d2d808"
      },
      "source": [
        "duplicateRowsDF.count()"
      ],
      "execution_count": null,
      "outputs": [
        {
          "output_type": "execute_result",
          "data": {
            "text/plain": [
              "Keyword     704\n",
              "Position    704\n",
              "Volume      704\n",
              "URL         704\n",
              "dtype: int64"
            ]
          },
          "metadata": {
            "tags": []
          },
          "execution_count": 40
        }
      ]
    },
    {
      "cell_type": "markdown",
      "metadata": {
        "id": "B0knzLyZEQex",
        "colab_type": "text"
      },
      "source": [
        "# Download Dataframe to CSV:\n"
      ]
    },
    {
      "cell_type": "code",
      "metadata": {
        "id": "DOayoVD6aR02",
        "colab_type": "code",
        "colab": {}
      },
      "source": [
        "df.to_csv('data-output/my-data.csv')"
      ],
      "execution_count": null,
      "outputs": []
    },
    {
      "cell_type": "markdown",
      "metadata": {
        "id": "XHShzVsP1mpU",
        "colab_type": "text"
      },
      "source": [
        "Join internal link data"
      ]
    },
    {
      "cell_type": "code",
      "metadata": {
        "id": "CZV84gAB3kX9",
        "colab_type": "code",
        "colab": {}
      },
      "source": [
        "#working on how to do this. Hamlet Batista, where you at? :) Can't get any fancy melts or joins to do this + asked a dozen people about this. {shrug}"
      ],
      "execution_count": null,
      "outputs": []
    }
  ]
}